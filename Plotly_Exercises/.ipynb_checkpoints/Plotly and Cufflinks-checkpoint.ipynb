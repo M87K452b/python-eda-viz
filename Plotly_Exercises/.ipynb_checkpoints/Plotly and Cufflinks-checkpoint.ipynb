{
 "cells": [
  {
   "cell_type": "markdown",
   "metadata": {},
   "source": [
    "# Plotly and Cufflinks"
   ]
  },
  {
   "cell_type": "markdown",
   "metadata": {},
   "source": [
    "Plotly is a library that allows you to create interactive plots that you can use in dashboards or websites (you can save them as html files or static images).\n",
    "\n",
    "## Installation\n",
    "\n",
    "In order for this all to work, you'll need to install plotly and cufflinks to call plots directly off of a pandas dataframe. These libraries are not currently available through **conda** but are available through **pip**. Install the libraries at your command line/terminal using:\n",
    "\n",
    "    pip install plotly\n",
    "    pip install cufflinks\n",
    "\n",
    "** NOTE: Make sure you only have one installation of Python on your computer when you do this, otherwise the installation may not work. **\n",
    "\n",
    "## Imports and Set-up"
   ]
  },
  {
   "cell_type": "code",
   "execution_count": 3,
   "metadata": {},
   "outputs": [],
   "source": [
    "import pandas as pd\n",
    "import numpy as np\n",
    "%matplotlib inline"
   ]
  },
  {
   "cell_type": "code",
   "execution_count": 4,
   "metadata": {},
   "outputs": [
    {
     "name": "stdout",
     "output_type": "stream",
     "text": [
      "4.14.3\n"
     ]
    }
   ],
   "source": [
    "from plotly import __version__\n",
    "from plotly.offline import download_plotlyjs, init_notebook_mode, plot, iplot\n",
    "\n",
    "print(__version__) # requires version >= 1.9.0"
   ]
  },
  {
   "cell_type": "code",
   "execution_count": 5,
   "metadata": {},
   "outputs": [],
   "source": [
    "import cufflinks as cf"
   ]
  },
  {
   "cell_type": "code",
   "execution_count": 6,
   "metadata": {},
   "outputs": [
    {
     "data": {
      "text/html": [
       "        <script type=\"text/javascript\">\n",
       "        window.PlotlyConfig = {MathJaxConfig: 'local'};\n",
       "        if (window.MathJax) {MathJax.Hub.Config({SVG: {font: \"STIX-Web\"}});}\n",
       "        if (typeof require !== 'undefined') {\n",
       "        require.undef(\"plotly\");\n",
       "        requirejs.config({\n",
       "            paths: {\n",
       "                'plotly': ['https://cdn.plot.ly/plotly-latest.min']\n",
       "            }\n",
       "        });\n",
       "        require(['plotly'], function(Plotly) {\n",
       "            window._Plotly = Plotly;\n",
       "        });\n",
       "        }\n",
       "        </script>\n",
       "        "
      ]
     },
     "metadata": {},
     "output_type": "display_data"
    }
   ],
   "source": [
    "# For Notebooks\n",
    "init_notebook_mode(connected=True)"
   ]
  },
  {
   "cell_type": "code",
   "execution_count": 7,
   "metadata": {},
   "outputs": [
    {
     "data": {
      "text/html": [
       "        <script type=\"text/javascript\">\n",
       "        window.PlotlyConfig = {MathJaxConfig: 'local'};\n",
       "        if (window.MathJax) {MathJax.Hub.Config({SVG: {font: \"STIX-Web\"}});}\n",
       "        if (typeof require !== 'undefined') {\n",
       "        require.undef(\"plotly\");\n",
       "        requirejs.config({\n",
       "            paths: {\n",
       "                'plotly': ['https://cdn.plot.ly/plotly-latest.min']\n",
       "            }\n",
       "        });\n",
       "        require(['plotly'], function(Plotly) {\n",
       "            window._Plotly = Plotly;\n",
       "        });\n",
       "        }\n",
       "        </script>\n",
       "        "
      ]
     },
     "metadata": {},
     "output_type": "display_data"
    }
   ],
   "source": [
    "# For offline use\n",
    "cf.go_offline()"
   ]
  },
  {
   "cell_type": "markdown",
   "metadata": {},
   "source": [
    "### Fake Data"
   ]
  },
  {
   "cell_type": "code",
   "execution_count": 8,
   "metadata": {},
   "outputs": [],
   "source": [
    "df = pd.DataFrame(np.random.randn(100,4),columns='A B C D'.split())"
   ]
  },
  {
   "cell_type": "code",
   "execution_count": 9,
   "metadata": {},
   "outputs": [
    {
     "data": {
      "text/html": [
       "<div>\n",
       "<style scoped>\n",
       "    .dataframe tbody tr th:only-of-type {\n",
       "        vertical-align: middle;\n",
       "    }\n",
       "\n",
       "    .dataframe tbody tr th {\n",
       "        vertical-align: top;\n",
       "    }\n",
       "\n",
       "    .dataframe thead th {\n",
       "        text-align: right;\n",
       "    }\n",
       "</style>\n",
       "<table border=\"1\" class=\"dataframe\">\n",
       "  <thead>\n",
       "    <tr style=\"text-align: right;\">\n",
       "      <th></th>\n",
       "      <th>A</th>\n",
       "      <th>B</th>\n",
       "      <th>C</th>\n",
       "      <th>D</th>\n",
       "    </tr>\n",
       "  </thead>\n",
       "  <tbody>\n",
       "    <tr>\n",
       "      <th>0</th>\n",
       "      <td>1.461894</td>\n",
       "      <td>0.034821</td>\n",
       "      <td>-1.300644</td>\n",
       "      <td>0.920800</td>\n",
       "    </tr>\n",
       "    <tr>\n",
       "      <th>1</th>\n",
       "      <td>-2.031160</td>\n",
       "      <td>-0.184650</td>\n",
       "      <td>-1.586943</td>\n",
       "      <td>-1.312733</td>\n",
       "    </tr>\n",
       "    <tr>\n",
       "      <th>2</th>\n",
       "      <td>0.938341</td>\n",
       "      <td>-0.145595</td>\n",
       "      <td>1.658416</td>\n",
       "      <td>-0.250689</td>\n",
       "    </tr>\n",
       "    <tr>\n",
       "      <th>3</th>\n",
       "      <td>-1.081353</td>\n",
       "      <td>0.518897</td>\n",
       "      <td>1.145490</td>\n",
       "      <td>-0.144723</td>\n",
       "    </tr>\n",
       "    <tr>\n",
       "      <th>4</th>\n",
       "      <td>0.064909</td>\n",
       "      <td>-0.135239</td>\n",
       "      <td>0.263059</td>\n",
       "      <td>-1.267164</td>\n",
       "    </tr>\n",
       "  </tbody>\n",
       "</table>\n",
       "</div>"
      ],
      "text/plain": [
       "          A         B         C         D\n",
       "0  1.461894  0.034821 -1.300644  0.920800\n",
       "1 -2.031160 -0.184650 -1.586943 -1.312733\n",
       "2  0.938341 -0.145595  1.658416 -0.250689\n",
       "3 -1.081353  0.518897  1.145490 -0.144723\n",
       "4  0.064909 -0.135239  0.263059 -1.267164"
      ]
     },
     "execution_count": 9,
     "metadata": {},
     "output_type": "execute_result"
    }
   ],
   "source": [
    "df.head()"
   ]
  },
  {
   "cell_type": "code",
   "execution_count": 10,
   "metadata": {},
   "outputs": [],
   "source": [
    "df2 = pd.DataFrame({'Category':['A','B','C'],'Values':[32,43,50]})"
   ]
  },
  {
   "cell_type": "code",
   "execution_count": 11,
   "metadata": {},
   "outputs": [
    {
     "data": {
      "text/html": [
       "<div>\n",
       "<style scoped>\n",
       "    .dataframe tbody tr th:only-of-type {\n",
       "        vertical-align: middle;\n",
       "    }\n",
       "\n",
       "    .dataframe tbody tr th {\n",
       "        vertical-align: top;\n",
       "    }\n",
       "\n",
       "    .dataframe thead th {\n",
       "        text-align: right;\n",
       "    }\n",
       "</style>\n",
       "<table border=\"1\" class=\"dataframe\">\n",
       "  <thead>\n",
       "    <tr style=\"text-align: right;\">\n",
       "      <th></th>\n",
       "      <th>Category</th>\n",
       "      <th>Values</th>\n",
       "    </tr>\n",
       "  </thead>\n",
       "  <tbody>\n",
       "    <tr>\n",
       "      <th>0</th>\n",
       "      <td>A</td>\n",
       "      <td>32</td>\n",
       "    </tr>\n",
       "    <tr>\n",
       "      <th>1</th>\n",
       "      <td>B</td>\n",
       "      <td>43</td>\n",
       "    </tr>\n",
       "    <tr>\n",
       "      <th>2</th>\n",
       "      <td>C</td>\n",
       "      <td>50</td>\n",
       "    </tr>\n",
       "  </tbody>\n",
       "</table>\n",
       "</div>"
      ],
      "text/plain": [
       "  Category  Values\n",
       "0        A      32\n",
       "1        B      43\n",
       "2        C      50"
      ]
     },
     "execution_count": 11,
     "metadata": {},
     "output_type": "execute_result"
    }
   ],
   "source": [
    "df2.head()"
   ]
  },
  {
   "cell_type": "markdown",
   "metadata": {},
   "source": [
    "## Using Cufflinks and iplot()\n",
    "\n",
    "* scatter\n",
    "* bar\n",
    "* box\n",
    "* spread\n",
    "* ratio\n",
    "* heatmap\n",
    "* surface\n",
    "* histogram\n",
    "* bubble"
   ]
  },
  {
   "cell_type": "markdown",
   "metadata": {},
   "source": [
    "## Scatter"
   ]
  },
  {
   "cell_type": "code",
   "execution_count": 12,
   "metadata": {},
   "outputs": [
    {
     "data": {
      "application/vnd.plotly.v1+json": {
       "config": {
        "linkText": "Export to plot.ly",
        "plotlyServerURL": "https://plot.ly",
        "showLink": true
       },
       "data": [
        {
         "line": {
          "color": "rgba(255, 153, 51, 1.0)",
          "dash": "solid",
          "shape": "linear",
          "width": 1.3
         },
         "marker": {
          "size": 10,
          "symbol": "circle"
         },
         "mode": "markers",
         "name": "B",
         "text": "",
         "type": "scatter",
         "x": [
          1.461893770697725,
          -2.031160136012203,
          0.9383409670828389,
          -1.0813533287292119,
          0.06490918815450783,
          1.8950072332017274,
          -0.8714365596373268,
          -0.13074620114977334,
          -1.0923246928318198,
          -0.3760998942311332,
          -0.5361900499629562,
          0.42029273811322426,
          0.879026444738448,
          0.17853057276926443,
          -1.4226047615565995,
          -0.38553936634836816,
          0.9254705828347399,
          0.8974413892643344,
          1.3593724162723089,
          0.41746771734852006,
          -0.1947229051061254,
          -0.4999893146137153,
          -0.4502113162411071,
          -1.1360014209107259,
          0.1844178473890677,
          1.5753255655453786,
          0.4753674301421128,
          1.635707798585372,
          -1.9187025770275,
          -0.19910344350673406,
          2.285995703848697,
          -0.18915231953896097,
          1.0665423877986695,
          -0.7269122934267687,
          0.36224915062873836,
          -1.5625689349152296,
          -1.1362220420755846,
          -0.529376570887139,
          -0.1934547257057624,
          -1.9720439485780432,
          -0.2710830596477481,
          -0.7385696963294917,
          -0.29410090049820914,
          -0.22419206878488449,
          0.1508245116866706,
          -0.6057299795009865,
          0.3191505714649677,
          -0.1976198986566658,
          1.093282680008958,
          -1.0799453836674373,
          -0.3616335539043888,
          1.6107952178764182,
          -0.5891018790468924,
          0.7666351833383529,
          0.32222045304544167,
          -1.6872013582758036,
          -0.3720711616276398,
          1.3420408631947918,
          0.4239471624717882,
          0.48424327553353297,
          -1.5961692749707352,
          0.5882171437466279,
          0.6566669461687532,
          -1.9603468546639706,
          0.42870138393368024,
          -0.1978041090111149,
          0.05723177511114498,
          0.4475509991023478,
          0.662730871880016,
          -1.796202287216889,
          0.7165184267275085,
          0.3326216988143618,
          -0.8140493568522115,
          -1.247832137911998,
          0.9859507943329427,
          1.1948398652848742,
          -2.145947615545814,
          0.5339270311517821,
          0.10249930114413236,
          -0.8916324021834575,
          0.41078863879970284,
          -0.49795290561896394,
          -1.155769242450663,
          0.781716927247144,
          1.6136963240432758,
          -0.7802444642438957,
          -1.492354210417422,
          0.2299947473973307,
          0.50259957066577,
          -0.16700157611497873,
          0.8226788892451177,
          2.982546810969779,
          3.0055258787254777,
          1.3661389107738293,
          0.5470135690673502,
          0.5968793086096759,
          -0.14023490153269502,
          -0.8605446276038548,
          -1.5963739249397044,
          -1.444803862861764
         ],
         "y": [
          0.034821286830913595,
          -0.18465032640783027,
          -0.14559546878046986,
          0.5188969049323175,
          -0.13523853126955251,
          0.4318092832469963,
          0.4325114508880798,
          0.8998324403091219,
          0.9869125426600849,
          -0.8835232633714301,
          -2.3386192321621593,
          -1.6118761339264471,
          0.10490498434779806,
          -0.11092067933578692,
          0.1497009282397037,
          0.21076101732022792,
          0.39342478099064543,
          0.09132770586791539,
          0.2235968602504518,
          0.5677210023540927,
          -1.0883412917672228,
          -1.8634393578585162,
          2.071587906399981,
          -0.2801596751511832,
          0.12974489483726634,
          -0.03866485905727695,
          -0.03705076808737536,
          0.266357287604477,
          -0.7895322783647806,
          -0.1313370074749674,
          0.29259171698821895,
          -0.9007171494773731,
          -0.44891096939266245,
          1.008360713707377,
          0.7022439971995453,
          -0.7388691932128125,
          -1.4161292923720754,
          0.6474949831892831,
          0.47941356849780564,
          -0.2226059661427326,
          0.7618380699786111,
          -0.4477183007832323,
          -1.631693115173997,
          -0.09544522195089203,
          0.38537878900500644,
          -1.6441145363155063,
          0.21192444622315587,
          0.4511506586037992,
          -0.48756326634889624,
          -0.21143097507909714,
          -0.5064990676682648,
          -1.0304321937806444,
          -0.019262704289807565,
          -1.604129921098689,
          -0.7383698476057221,
          1.3744145867047832,
          -0.6875300541608018,
          -1.432387014408365,
          -1.0911982035031977,
          -0.13054703854233995,
          1.1149311389889858,
          0.9001591157267788,
          -0.027854177862134483,
          1.2499369055465825,
          -1.2563150649919035,
          -1.090926431089866,
          -0.17154256161045614,
          0.40402861851447225,
          -0.4517637786378383,
          -0.5959254526808988,
          -0.22125715901868098,
          0.5929169086168804,
          -0.949141669608413,
          1.1757531398322179,
          -2.0803217164995567,
          1.4384986621172728,
          -2.855634131971656,
          2.50215174769151,
          -0.6929526624471934,
          -1.6328247656936599,
          0.2698539871691669,
          -0.07005116943214082,
          1.6175284729997843,
          0.320895211020274,
          1.1316523527374969,
          0.7552513179923331,
          -0.5942685588961929,
          -1.6287220322329163,
          -0.8798472555314089,
          -0.9907060380812681,
          1.9345505655688178,
          -2.332218944909156,
          -1.056372116065171,
          0.7409704824269928,
          -1.080315368386018,
          -0.8325915945468163,
          1.9969983133617488,
          -1.0556709675869194,
          -0.4863793541163955,
          1.0783741055559404
         ]
        }
       ],
       "layout": {
        "legend": {
         "bgcolor": "#F5F6F9",
         "font": {
          "color": "#4D5663"
         }
        },
        "paper_bgcolor": "#F5F6F9",
        "plot_bgcolor": "#F5F6F9",
        "template": {
         "data": {
          "bar": [
           {
            "error_x": {
             "color": "#2a3f5f"
            },
            "error_y": {
             "color": "#2a3f5f"
            },
            "marker": {
             "line": {
              "color": "#E5ECF6",
              "width": 0.5
             }
            },
            "type": "bar"
           }
          ],
          "barpolar": [
           {
            "marker": {
             "line": {
              "color": "#E5ECF6",
              "width": 0.5
             }
            },
            "type": "barpolar"
           }
          ],
          "carpet": [
           {
            "aaxis": {
             "endlinecolor": "#2a3f5f",
             "gridcolor": "white",
             "linecolor": "white",
             "minorgridcolor": "white",
             "startlinecolor": "#2a3f5f"
            },
            "baxis": {
             "endlinecolor": "#2a3f5f",
             "gridcolor": "white",
             "linecolor": "white",
             "minorgridcolor": "white",
             "startlinecolor": "#2a3f5f"
            },
            "type": "carpet"
           }
          ],
          "choropleth": [
           {
            "colorbar": {
             "outlinewidth": 0,
             "ticks": ""
            },
            "type": "choropleth"
           }
          ],
          "contour": [
           {
            "colorbar": {
             "outlinewidth": 0,
             "ticks": ""
            },
            "colorscale": [
             [
              0,
              "#0d0887"
             ],
             [
              0.1111111111111111,
              "#46039f"
             ],
             [
              0.2222222222222222,
              "#7201a8"
             ],
             [
              0.3333333333333333,
              "#9c179e"
             ],
             [
              0.4444444444444444,
              "#bd3786"
             ],
             [
              0.5555555555555556,
              "#d8576b"
             ],
             [
              0.6666666666666666,
              "#ed7953"
             ],
             [
              0.7777777777777778,
              "#fb9f3a"
             ],
             [
              0.8888888888888888,
              "#fdca26"
             ],
             [
              1,
              "#f0f921"
             ]
            ],
            "type": "contour"
           }
          ],
          "contourcarpet": [
           {
            "colorbar": {
             "outlinewidth": 0,
             "ticks": ""
            },
            "type": "contourcarpet"
           }
          ],
          "heatmap": [
           {
            "colorbar": {
             "outlinewidth": 0,
             "ticks": ""
            },
            "colorscale": [
             [
              0,
              "#0d0887"
             ],
             [
              0.1111111111111111,
              "#46039f"
             ],
             [
              0.2222222222222222,
              "#7201a8"
             ],
             [
              0.3333333333333333,
              "#9c179e"
             ],
             [
              0.4444444444444444,
              "#bd3786"
             ],
             [
              0.5555555555555556,
              "#d8576b"
             ],
             [
              0.6666666666666666,
              "#ed7953"
             ],
             [
              0.7777777777777778,
              "#fb9f3a"
             ],
             [
              0.8888888888888888,
              "#fdca26"
             ],
             [
              1,
              "#f0f921"
             ]
            ],
            "type": "heatmap"
           }
          ],
          "heatmapgl": [
           {
            "colorbar": {
             "outlinewidth": 0,
             "ticks": ""
            },
            "colorscale": [
             [
              0,
              "#0d0887"
             ],
             [
              0.1111111111111111,
              "#46039f"
             ],
             [
              0.2222222222222222,
              "#7201a8"
             ],
             [
              0.3333333333333333,
              "#9c179e"
             ],
             [
              0.4444444444444444,
              "#bd3786"
             ],
             [
              0.5555555555555556,
              "#d8576b"
             ],
             [
              0.6666666666666666,
              "#ed7953"
             ],
             [
              0.7777777777777778,
              "#fb9f3a"
             ],
             [
              0.8888888888888888,
              "#fdca26"
             ],
             [
              1,
              "#f0f921"
             ]
            ],
            "type": "heatmapgl"
           }
          ],
          "histogram": [
           {
            "marker": {
             "colorbar": {
              "outlinewidth": 0,
              "ticks": ""
             }
            },
            "type": "histogram"
           }
          ],
          "histogram2d": [
           {
            "colorbar": {
             "outlinewidth": 0,
             "ticks": ""
            },
            "colorscale": [
             [
              0,
              "#0d0887"
             ],
             [
              0.1111111111111111,
              "#46039f"
             ],
             [
              0.2222222222222222,
              "#7201a8"
             ],
             [
              0.3333333333333333,
              "#9c179e"
             ],
             [
              0.4444444444444444,
              "#bd3786"
             ],
             [
              0.5555555555555556,
              "#d8576b"
             ],
             [
              0.6666666666666666,
              "#ed7953"
             ],
             [
              0.7777777777777778,
              "#fb9f3a"
             ],
             [
              0.8888888888888888,
              "#fdca26"
             ],
             [
              1,
              "#f0f921"
             ]
            ],
            "type": "histogram2d"
           }
          ],
          "histogram2dcontour": [
           {
            "colorbar": {
             "outlinewidth": 0,
             "ticks": ""
            },
            "colorscale": [
             [
              0,
              "#0d0887"
             ],
             [
              0.1111111111111111,
              "#46039f"
             ],
             [
              0.2222222222222222,
              "#7201a8"
             ],
             [
              0.3333333333333333,
              "#9c179e"
             ],
             [
              0.4444444444444444,
              "#bd3786"
             ],
             [
              0.5555555555555556,
              "#d8576b"
             ],
             [
              0.6666666666666666,
              "#ed7953"
             ],
             [
              0.7777777777777778,
              "#fb9f3a"
             ],
             [
              0.8888888888888888,
              "#fdca26"
             ],
             [
              1,
              "#f0f921"
             ]
            ],
            "type": "histogram2dcontour"
           }
          ],
          "mesh3d": [
           {
            "colorbar": {
             "outlinewidth": 0,
             "ticks": ""
            },
            "type": "mesh3d"
           }
          ],
          "parcoords": [
           {
            "line": {
             "colorbar": {
              "outlinewidth": 0,
              "ticks": ""
             }
            },
            "type": "parcoords"
           }
          ],
          "pie": [
           {
            "automargin": true,
            "type": "pie"
           }
          ],
          "scatter": [
           {
            "marker": {
             "colorbar": {
              "outlinewidth": 0,
              "ticks": ""
             }
            },
            "type": "scatter"
           }
          ],
          "scatter3d": [
           {
            "line": {
             "colorbar": {
              "outlinewidth": 0,
              "ticks": ""
             }
            },
            "marker": {
             "colorbar": {
              "outlinewidth": 0,
              "ticks": ""
             }
            },
            "type": "scatter3d"
           }
          ],
          "scattercarpet": [
           {
            "marker": {
             "colorbar": {
              "outlinewidth": 0,
              "ticks": ""
             }
            },
            "type": "scattercarpet"
           }
          ],
          "scattergeo": [
           {
            "marker": {
             "colorbar": {
              "outlinewidth": 0,
              "ticks": ""
             }
            },
            "type": "scattergeo"
           }
          ],
          "scattergl": [
           {
            "marker": {
             "colorbar": {
              "outlinewidth": 0,
              "ticks": ""
             }
            },
            "type": "scattergl"
           }
          ],
          "scattermapbox": [
           {
            "marker": {
             "colorbar": {
              "outlinewidth": 0,
              "ticks": ""
             }
            },
            "type": "scattermapbox"
           }
          ],
          "scatterpolar": [
           {
            "marker": {
             "colorbar": {
              "outlinewidth": 0,
              "ticks": ""
             }
            },
            "type": "scatterpolar"
           }
          ],
          "scatterpolargl": [
           {
            "marker": {
             "colorbar": {
              "outlinewidth": 0,
              "ticks": ""
             }
            },
            "type": "scatterpolargl"
           }
          ],
          "scatterternary": [
           {
            "marker": {
             "colorbar": {
              "outlinewidth": 0,
              "ticks": ""
             }
            },
            "type": "scatterternary"
           }
          ],
          "surface": [
           {
            "colorbar": {
             "outlinewidth": 0,
             "ticks": ""
            },
            "colorscale": [
             [
              0,
              "#0d0887"
             ],
             [
              0.1111111111111111,
              "#46039f"
             ],
             [
              0.2222222222222222,
              "#7201a8"
             ],
             [
              0.3333333333333333,
              "#9c179e"
             ],
             [
              0.4444444444444444,
              "#bd3786"
             ],
             [
              0.5555555555555556,
              "#d8576b"
             ],
             [
              0.6666666666666666,
              "#ed7953"
             ],
             [
              0.7777777777777778,
              "#fb9f3a"
             ],
             [
              0.8888888888888888,
              "#fdca26"
             ],
             [
              1,
              "#f0f921"
             ]
            ],
            "type": "surface"
           }
          ],
          "table": [
           {
            "cells": {
             "fill": {
              "color": "#EBF0F8"
             },
             "line": {
              "color": "white"
             }
            },
            "header": {
             "fill": {
              "color": "#C8D4E3"
             },
             "line": {
              "color": "white"
             }
            },
            "type": "table"
           }
          ]
         },
         "layout": {
          "annotationdefaults": {
           "arrowcolor": "#2a3f5f",
           "arrowhead": 0,
           "arrowwidth": 1
          },
          "autotypenumbers": "strict",
          "coloraxis": {
           "colorbar": {
            "outlinewidth": 0,
            "ticks": ""
           }
          },
          "colorscale": {
           "diverging": [
            [
             0,
             "#8e0152"
            ],
            [
             0.1,
             "#c51b7d"
            ],
            [
             0.2,
             "#de77ae"
            ],
            [
             0.3,
             "#f1b6da"
            ],
            [
             0.4,
             "#fde0ef"
            ],
            [
             0.5,
             "#f7f7f7"
            ],
            [
             0.6,
             "#e6f5d0"
            ],
            [
             0.7,
             "#b8e186"
            ],
            [
             0.8,
             "#7fbc41"
            ],
            [
             0.9,
             "#4d9221"
            ],
            [
             1,
             "#276419"
            ]
           ],
           "sequential": [
            [
             0,
             "#0d0887"
            ],
            [
             0.1111111111111111,
             "#46039f"
            ],
            [
             0.2222222222222222,
             "#7201a8"
            ],
            [
             0.3333333333333333,
             "#9c179e"
            ],
            [
             0.4444444444444444,
             "#bd3786"
            ],
            [
             0.5555555555555556,
             "#d8576b"
            ],
            [
             0.6666666666666666,
             "#ed7953"
            ],
            [
             0.7777777777777778,
             "#fb9f3a"
            ],
            [
             0.8888888888888888,
             "#fdca26"
            ],
            [
             1,
             "#f0f921"
            ]
           ],
           "sequentialminus": [
            [
             0,
             "#0d0887"
            ],
            [
             0.1111111111111111,
             "#46039f"
            ],
            [
             0.2222222222222222,
             "#7201a8"
            ],
            [
             0.3333333333333333,
             "#9c179e"
            ],
            [
             0.4444444444444444,
             "#bd3786"
            ],
            [
             0.5555555555555556,
             "#d8576b"
            ],
            [
             0.6666666666666666,
             "#ed7953"
            ],
            [
             0.7777777777777778,
             "#fb9f3a"
            ],
            [
             0.8888888888888888,
             "#fdca26"
            ],
            [
             1,
             "#f0f921"
            ]
           ]
          },
          "colorway": [
           "#636efa",
           "#EF553B",
           "#00cc96",
           "#ab63fa",
           "#FFA15A",
           "#19d3f3",
           "#FF6692",
           "#B6E880",
           "#FF97FF",
           "#FECB52"
          ],
          "font": {
           "color": "#2a3f5f"
          },
          "geo": {
           "bgcolor": "white",
           "lakecolor": "white",
           "landcolor": "#E5ECF6",
           "showlakes": true,
           "showland": true,
           "subunitcolor": "white"
          },
          "hoverlabel": {
           "align": "left"
          },
          "hovermode": "closest",
          "mapbox": {
           "style": "light"
          },
          "paper_bgcolor": "white",
          "plot_bgcolor": "#E5ECF6",
          "polar": {
           "angularaxis": {
            "gridcolor": "white",
            "linecolor": "white",
            "ticks": ""
           },
           "bgcolor": "#E5ECF6",
           "radialaxis": {
            "gridcolor": "white",
            "linecolor": "white",
            "ticks": ""
           }
          },
          "scene": {
           "xaxis": {
            "backgroundcolor": "#E5ECF6",
            "gridcolor": "white",
            "gridwidth": 2,
            "linecolor": "white",
            "showbackground": true,
            "ticks": "",
            "zerolinecolor": "white"
           },
           "yaxis": {
            "backgroundcolor": "#E5ECF6",
            "gridcolor": "white",
            "gridwidth": 2,
            "linecolor": "white",
            "showbackground": true,
            "ticks": "",
            "zerolinecolor": "white"
           },
           "zaxis": {
            "backgroundcolor": "#E5ECF6",
            "gridcolor": "white",
            "gridwidth": 2,
            "linecolor": "white",
            "showbackground": true,
            "ticks": "",
            "zerolinecolor": "white"
           }
          },
          "shapedefaults": {
           "line": {
            "color": "#2a3f5f"
           }
          },
          "ternary": {
           "aaxis": {
            "gridcolor": "white",
            "linecolor": "white",
            "ticks": ""
           },
           "baxis": {
            "gridcolor": "white",
            "linecolor": "white",
            "ticks": ""
           },
           "bgcolor": "#E5ECF6",
           "caxis": {
            "gridcolor": "white",
            "linecolor": "white",
            "ticks": ""
           }
          },
          "title": {
           "x": 0.05
          },
          "xaxis": {
           "automargin": true,
           "gridcolor": "white",
           "linecolor": "white",
           "ticks": "",
           "title": {
            "standoff": 15
           },
           "zerolinecolor": "white",
           "zerolinewidth": 2
          },
          "yaxis": {
           "automargin": true,
           "gridcolor": "white",
           "linecolor": "white",
           "ticks": "",
           "title": {
            "standoff": 15
           },
           "zerolinecolor": "white",
           "zerolinewidth": 2
          }
         }
        },
        "title": {
         "font": {
          "color": "#4D5663"
         }
        },
        "xaxis": {
         "gridcolor": "#E1E5ED",
         "showgrid": true,
         "tickfont": {
          "color": "#4D5663"
         },
         "title": {
          "font": {
           "color": "#4D5663"
          },
          "text": ""
         },
         "zerolinecolor": "#E1E5ED"
        },
        "yaxis": {
         "gridcolor": "#E1E5ED",
         "showgrid": true,
         "tickfont": {
          "color": "#4D5663"
         },
         "title": {
          "font": {
           "color": "#4D5663"
          },
          "text": ""
         },
         "zerolinecolor": "#E1E5ED"
        }
       }
      },
      "text/html": [
       "<div>                            <div id=\"5240eb21-3309-4955-8144-414341eec66f\" class=\"plotly-graph-div\" style=\"height:525px; width:100%;\"></div>            <script type=\"text/javascript\">                require([\"plotly\"], function(Plotly) {                    window.PLOTLYENV=window.PLOTLYENV || {};\n",
       "                    window.PLOTLYENV.BASE_URL='https://plot.ly';                                    if (document.getElementById(\"5240eb21-3309-4955-8144-414341eec66f\")) {                    Plotly.newPlot(                        \"5240eb21-3309-4955-8144-414341eec66f\",                        [{\"line\": {\"color\": \"rgba(255, 153, 51, 1.0)\", \"dash\": \"solid\", \"shape\": \"linear\", \"width\": 1.3}, \"marker\": {\"size\": 10, \"symbol\": \"circle\"}, \"mode\": \"markers\", \"name\": \"B\", \"text\": \"\", \"type\": \"scatter\", \"x\": [1.461893770697725, -2.031160136012203, 0.9383409670828389, -1.0813533287292119, 0.06490918815450783, 1.8950072332017274, -0.8714365596373268, -0.13074620114977334, -1.0923246928318198, -0.3760998942311332, -0.5361900499629562, 0.42029273811322426, 0.879026444738448, 0.17853057276926443, -1.4226047615565995, -0.38553936634836816, 0.9254705828347399, 0.8974413892643344, 1.3593724162723089, 0.41746771734852006, -0.1947229051061254, -0.4999893146137153, -0.4502113162411071, -1.1360014209107259, 0.1844178473890677, 1.5753255655453786, 0.4753674301421128, 1.635707798585372, -1.9187025770275, -0.19910344350673406, 2.285995703848697, -0.18915231953896097, 1.0665423877986695, -0.7269122934267687, 0.36224915062873836, -1.5625689349152296, -1.1362220420755846, -0.529376570887139, -0.1934547257057624, -1.9720439485780432, -0.2710830596477481, -0.7385696963294917, -0.29410090049820914, -0.22419206878488449, 0.1508245116866706, -0.6057299795009865, 0.3191505714649677, -0.1976198986566658, 1.093282680008958, -1.0799453836674373, -0.3616335539043888, 1.6107952178764182, -0.5891018790468924, 0.7666351833383529, 0.32222045304544167, -1.6872013582758036, -0.3720711616276398, 1.3420408631947918, 0.4239471624717882, 0.48424327553353297, -1.5961692749707352, 0.5882171437466279, 0.6566669461687532, -1.9603468546639706, 0.42870138393368024, -0.1978041090111149, 0.05723177511114498, 0.4475509991023478, 0.662730871880016, -1.796202287216889, 0.7165184267275085, 0.3326216988143618, -0.8140493568522115, -1.247832137911998, 0.9859507943329427, 1.1948398652848742, -2.145947615545814, 0.5339270311517821, 0.10249930114413236, -0.8916324021834575, 0.41078863879970284, -0.49795290561896394, -1.155769242450663, 0.781716927247144, 1.6136963240432758, -0.7802444642438957, -1.492354210417422, 0.2299947473973307, 0.50259957066577, -0.16700157611497873, 0.8226788892451177, 2.982546810969779, 3.0055258787254777, 1.3661389107738293, 0.5470135690673502, 0.5968793086096759, -0.14023490153269502, -0.8605446276038548, -1.5963739249397044, -1.444803862861764], \"y\": [0.034821286830913595, -0.18465032640783027, -0.14559546878046986, 0.5188969049323175, -0.13523853126955251, 0.4318092832469963, 0.4325114508880798, 0.8998324403091219, 0.9869125426600849, -0.8835232633714301, -2.3386192321621593, -1.6118761339264471, 0.10490498434779806, -0.11092067933578692, 0.1497009282397037, 0.21076101732022792, 0.39342478099064543, 0.09132770586791539, 0.2235968602504518, 0.5677210023540927, -1.0883412917672228, -1.8634393578585162, 2.071587906399981, -0.2801596751511832, 0.12974489483726634, -0.03866485905727695, -0.03705076808737536, 0.266357287604477, -0.7895322783647806, -0.1313370074749674, 0.29259171698821895, -0.9007171494773731, -0.44891096939266245, 1.008360713707377, 0.7022439971995453, -0.7388691932128125, -1.4161292923720754, 0.6474949831892831, 0.47941356849780564, -0.2226059661427326, 0.7618380699786111, -0.4477183007832323, -1.631693115173997, -0.09544522195089203, 0.38537878900500644, -1.6441145363155063, 0.21192444622315587, 0.4511506586037992, -0.48756326634889624, -0.21143097507909714, -0.5064990676682648, -1.0304321937806444, -0.019262704289807565, -1.604129921098689, -0.7383698476057221, 1.3744145867047832, -0.6875300541608018, -1.432387014408365, -1.0911982035031977, -0.13054703854233995, 1.1149311389889858, 0.9001591157267788, -0.027854177862134483, 1.2499369055465825, -1.2563150649919035, -1.090926431089866, -0.17154256161045614, 0.40402861851447225, -0.4517637786378383, -0.5959254526808988, -0.22125715901868098, 0.5929169086168804, -0.949141669608413, 1.1757531398322179, -2.0803217164995567, 1.4384986621172728, -2.855634131971656, 2.50215174769151, -0.6929526624471934, -1.6328247656936599, 0.2698539871691669, -0.07005116943214082, 1.6175284729997843, 0.320895211020274, 1.1316523527374969, 0.7552513179923331, -0.5942685588961929, -1.6287220322329163, -0.8798472555314089, -0.9907060380812681, 1.9345505655688178, -2.332218944909156, -1.056372116065171, 0.7409704824269928, -1.080315368386018, -0.8325915945468163, 1.9969983133617488, -1.0556709675869194, -0.4863793541163955, 1.0783741055559404]}],                        {\"legend\": {\"bgcolor\": \"#F5F6F9\", \"font\": {\"color\": \"#4D5663\"}}, \"paper_bgcolor\": \"#F5F6F9\", \"plot_bgcolor\": \"#F5F6F9\", \"template\": {\"data\": {\"bar\": [{\"error_x\": {\"color\": \"#2a3f5f\"}, \"error_y\": {\"color\": \"#2a3f5f\"}, \"marker\": {\"line\": {\"color\": \"#E5ECF6\", \"width\": 0.5}}, \"type\": \"bar\"}], \"barpolar\": [{\"marker\": {\"line\": {\"color\": \"#E5ECF6\", \"width\": 0.5}}, \"type\": \"barpolar\"}], \"carpet\": [{\"aaxis\": {\"endlinecolor\": \"#2a3f5f\", \"gridcolor\": \"white\", \"linecolor\": \"white\", \"minorgridcolor\": \"white\", \"startlinecolor\": \"#2a3f5f\"}, \"baxis\": {\"endlinecolor\": \"#2a3f5f\", \"gridcolor\": \"white\", \"linecolor\": \"white\", \"minorgridcolor\": \"white\", \"startlinecolor\": \"#2a3f5f\"}, \"type\": \"carpet\"}], \"choropleth\": [{\"colorbar\": {\"outlinewidth\": 0, \"ticks\": \"\"}, \"type\": \"choropleth\"}], \"contour\": [{\"colorbar\": {\"outlinewidth\": 0, \"ticks\": \"\"}, \"colorscale\": [[0.0, \"#0d0887\"], [0.1111111111111111, \"#46039f\"], [0.2222222222222222, \"#7201a8\"], [0.3333333333333333, \"#9c179e\"], [0.4444444444444444, \"#bd3786\"], [0.5555555555555556, \"#d8576b\"], [0.6666666666666666, \"#ed7953\"], [0.7777777777777778, \"#fb9f3a\"], [0.8888888888888888, \"#fdca26\"], [1.0, \"#f0f921\"]], \"type\": \"contour\"}], \"contourcarpet\": [{\"colorbar\": {\"outlinewidth\": 0, \"ticks\": \"\"}, \"type\": \"contourcarpet\"}], \"heatmap\": [{\"colorbar\": {\"outlinewidth\": 0, \"ticks\": \"\"}, \"colorscale\": [[0.0, \"#0d0887\"], [0.1111111111111111, \"#46039f\"], [0.2222222222222222, \"#7201a8\"], [0.3333333333333333, \"#9c179e\"], [0.4444444444444444, \"#bd3786\"], [0.5555555555555556, \"#d8576b\"], [0.6666666666666666, \"#ed7953\"], [0.7777777777777778, \"#fb9f3a\"], [0.8888888888888888, \"#fdca26\"], [1.0, \"#f0f921\"]], \"type\": \"heatmap\"}], \"heatmapgl\": [{\"colorbar\": {\"outlinewidth\": 0, \"ticks\": \"\"}, \"colorscale\": [[0.0, \"#0d0887\"], [0.1111111111111111, \"#46039f\"], [0.2222222222222222, \"#7201a8\"], [0.3333333333333333, \"#9c179e\"], [0.4444444444444444, \"#bd3786\"], [0.5555555555555556, \"#d8576b\"], [0.6666666666666666, \"#ed7953\"], [0.7777777777777778, \"#fb9f3a\"], [0.8888888888888888, \"#fdca26\"], [1.0, \"#f0f921\"]], \"type\": \"heatmapgl\"}], \"histogram\": [{\"marker\": {\"colorbar\": {\"outlinewidth\": 0, \"ticks\": \"\"}}, \"type\": \"histogram\"}], \"histogram2d\": [{\"colorbar\": {\"outlinewidth\": 0, \"ticks\": \"\"}, \"colorscale\": [[0.0, \"#0d0887\"], [0.1111111111111111, \"#46039f\"], [0.2222222222222222, \"#7201a8\"], [0.3333333333333333, \"#9c179e\"], [0.4444444444444444, \"#bd3786\"], [0.5555555555555556, \"#d8576b\"], [0.6666666666666666, \"#ed7953\"], [0.7777777777777778, \"#fb9f3a\"], [0.8888888888888888, \"#fdca26\"], [1.0, \"#f0f921\"]], \"type\": \"histogram2d\"}], \"histogram2dcontour\": [{\"colorbar\": {\"outlinewidth\": 0, \"ticks\": \"\"}, \"colorscale\": [[0.0, \"#0d0887\"], [0.1111111111111111, \"#46039f\"], [0.2222222222222222, \"#7201a8\"], [0.3333333333333333, \"#9c179e\"], [0.4444444444444444, \"#bd3786\"], [0.5555555555555556, \"#d8576b\"], [0.6666666666666666, \"#ed7953\"], [0.7777777777777778, \"#fb9f3a\"], [0.8888888888888888, \"#fdca26\"], [1.0, \"#f0f921\"]], \"type\": \"histogram2dcontour\"}], \"mesh3d\": [{\"colorbar\": {\"outlinewidth\": 0, \"ticks\": \"\"}, \"type\": \"mesh3d\"}], \"parcoords\": [{\"line\": {\"colorbar\": {\"outlinewidth\": 0, \"ticks\": \"\"}}, \"type\": \"parcoords\"}], \"pie\": [{\"automargin\": true, \"type\": \"pie\"}], \"scatter\": [{\"marker\": {\"colorbar\": {\"outlinewidth\": 0, \"ticks\": \"\"}}, \"type\": \"scatter\"}], \"scatter3d\": [{\"line\": {\"colorbar\": {\"outlinewidth\": 0, \"ticks\": \"\"}}, \"marker\": {\"colorbar\": {\"outlinewidth\": 0, \"ticks\": \"\"}}, \"type\": \"scatter3d\"}], \"scattercarpet\": [{\"marker\": {\"colorbar\": {\"outlinewidth\": 0, \"ticks\": \"\"}}, \"type\": \"scattercarpet\"}], \"scattergeo\": [{\"marker\": {\"colorbar\": {\"outlinewidth\": 0, \"ticks\": \"\"}}, \"type\": \"scattergeo\"}], \"scattergl\": [{\"marker\": {\"colorbar\": {\"outlinewidth\": 0, \"ticks\": \"\"}}, \"type\": \"scattergl\"}], \"scattermapbox\": [{\"marker\": {\"colorbar\": {\"outlinewidth\": 0, \"ticks\": \"\"}}, \"type\": \"scattermapbox\"}], \"scatterpolar\": [{\"marker\": {\"colorbar\": {\"outlinewidth\": 0, \"ticks\": \"\"}}, \"type\": \"scatterpolar\"}], \"scatterpolargl\": [{\"marker\": {\"colorbar\": {\"outlinewidth\": 0, \"ticks\": \"\"}}, \"type\": \"scatterpolargl\"}], \"scatterternary\": [{\"marker\": {\"colorbar\": {\"outlinewidth\": 0, \"ticks\": \"\"}}, \"type\": \"scatterternary\"}], \"surface\": [{\"colorbar\": {\"outlinewidth\": 0, \"ticks\": \"\"}, \"colorscale\": [[0.0, \"#0d0887\"], [0.1111111111111111, \"#46039f\"], [0.2222222222222222, \"#7201a8\"], [0.3333333333333333, \"#9c179e\"], [0.4444444444444444, \"#bd3786\"], [0.5555555555555556, \"#d8576b\"], [0.6666666666666666, \"#ed7953\"], [0.7777777777777778, \"#fb9f3a\"], [0.8888888888888888, \"#fdca26\"], [1.0, \"#f0f921\"]], \"type\": \"surface\"}], \"table\": [{\"cells\": {\"fill\": {\"color\": \"#EBF0F8\"}, \"line\": {\"color\": \"white\"}}, \"header\": {\"fill\": {\"color\": \"#C8D4E3\"}, \"line\": {\"color\": \"white\"}}, \"type\": \"table\"}]}, \"layout\": {\"annotationdefaults\": {\"arrowcolor\": \"#2a3f5f\", \"arrowhead\": 0, \"arrowwidth\": 1}, \"autotypenumbers\": \"strict\", \"coloraxis\": {\"colorbar\": {\"outlinewidth\": 0, \"ticks\": \"\"}}, \"colorscale\": {\"diverging\": [[0, \"#8e0152\"], [0.1, \"#c51b7d\"], [0.2, \"#de77ae\"], [0.3, \"#f1b6da\"], [0.4, \"#fde0ef\"], [0.5, \"#f7f7f7\"], [0.6, \"#e6f5d0\"], [0.7, \"#b8e186\"], [0.8, \"#7fbc41\"], [0.9, \"#4d9221\"], [1, \"#276419\"]], \"sequential\": [[0.0, \"#0d0887\"], [0.1111111111111111, \"#46039f\"], [0.2222222222222222, \"#7201a8\"], [0.3333333333333333, \"#9c179e\"], [0.4444444444444444, \"#bd3786\"], [0.5555555555555556, \"#d8576b\"], [0.6666666666666666, \"#ed7953\"], [0.7777777777777778, \"#fb9f3a\"], [0.8888888888888888, \"#fdca26\"], [1.0, \"#f0f921\"]], \"sequentialminus\": [[0.0, \"#0d0887\"], [0.1111111111111111, \"#46039f\"], [0.2222222222222222, \"#7201a8\"], [0.3333333333333333, \"#9c179e\"], [0.4444444444444444, \"#bd3786\"], [0.5555555555555556, \"#d8576b\"], [0.6666666666666666, \"#ed7953\"], [0.7777777777777778, \"#fb9f3a\"], [0.8888888888888888, \"#fdca26\"], [1.0, \"#f0f921\"]]}, \"colorway\": [\"#636efa\", \"#EF553B\", \"#00cc96\", \"#ab63fa\", \"#FFA15A\", \"#19d3f3\", \"#FF6692\", \"#B6E880\", \"#FF97FF\", \"#FECB52\"], \"font\": {\"color\": \"#2a3f5f\"}, \"geo\": {\"bgcolor\": \"white\", \"lakecolor\": \"white\", \"landcolor\": \"#E5ECF6\", \"showlakes\": true, \"showland\": true, \"subunitcolor\": \"white\"}, \"hoverlabel\": {\"align\": \"left\"}, \"hovermode\": \"closest\", \"mapbox\": {\"style\": \"light\"}, \"paper_bgcolor\": \"white\", \"plot_bgcolor\": \"#E5ECF6\", \"polar\": {\"angularaxis\": {\"gridcolor\": \"white\", \"linecolor\": \"white\", \"ticks\": \"\"}, \"bgcolor\": \"#E5ECF6\", \"radialaxis\": {\"gridcolor\": \"white\", \"linecolor\": \"white\", \"ticks\": \"\"}}, \"scene\": {\"xaxis\": {\"backgroundcolor\": \"#E5ECF6\", \"gridcolor\": \"white\", \"gridwidth\": 2, \"linecolor\": \"white\", \"showbackground\": true, \"ticks\": \"\", \"zerolinecolor\": \"white\"}, \"yaxis\": {\"backgroundcolor\": \"#E5ECF6\", \"gridcolor\": \"white\", \"gridwidth\": 2, \"linecolor\": \"white\", \"showbackground\": true, \"ticks\": \"\", \"zerolinecolor\": \"white\"}, \"zaxis\": {\"backgroundcolor\": \"#E5ECF6\", \"gridcolor\": \"white\", \"gridwidth\": 2, \"linecolor\": \"white\", \"showbackground\": true, \"ticks\": \"\", \"zerolinecolor\": \"white\"}}, \"shapedefaults\": {\"line\": {\"color\": \"#2a3f5f\"}}, \"ternary\": {\"aaxis\": {\"gridcolor\": \"white\", \"linecolor\": \"white\", \"ticks\": \"\"}, \"baxis\": {\"gridcolor\": \"white\", \"linecolor\": \"white\", \"ticks\": \"\"}, \"bgcolor\": \"#E5ECF6\", \"caxis\": {\"gridcolor\": \"white\", \"linecolor\": \"white\", \"ticks\": \"\"}}, \"title\": {\"x\": 0.05}, \"xaxis\": {\"automargin\": true, \"gridcolor\": \"white\", \"linecolor\": \"white\", \"ticks\": \"\", \"title\": {\"standoff\": 15}, \"zerolinecolor\": \"white\", \"zerolinewidth\": 2}, \"yaxis\": {\"automargin\": true, \"gridcolor\": \"white\", \"linecolor\": \"white\", \"ticks\": \"\", \"title\": {\"standoff\": 15}, \"zerolinecolor\": \"white\", \"zerolinewidth\": 2}}}, \"title\": {\"font\": {\"color\": \"#4D5663\"}}, \"xaxis\": {\"gridcolor\": \"#E1E5ED\", \"showgrid\": true, \"tickfont\": {\"color\": \"#4D5663\"}, \"title\": {\"font\": {\"color\": \"#4D5663\"}, \"text\": \"\"}, \"zerolinecolor\": \"#E1E5ED\"}, \"yaxis\": {\"gridcolor\": \"#E1E5ED\", \"showgrid\": true, \"tickfont\": {\"color\": \"#4D5663\"}, \"title\": {\"font\": {\"color\": \"#4D5663\"}, \"text\": \"\"}, \"zerolinecolor\": \"#E1E5ED\"}},                        {\"showLink\": true, \"linkText\": \"Export to plot.ly\", \"plotlyServerURL\": \"https://plot.ly\", \"responsive\": true}                    ).then(function(){\n",
       "                            \n",
       "var gd = document.getElementById('5240eb21-3309-4955-8144-414341eec66f');\n",
       "var x = new MutationObserver(function (mutations, observer) {{\n",
       "        var display = window.getComputedStyle(gd).display;\n",
       "        if (!display || display === 'none') {{\n",
       "            console.log([gd, 'removed!']);\n",
       "            Plotly.purge(gd);\n",
       "            observer.disconnect();\n",
       "        }}\n",
       "}});\n",
       "\n",
       "// Listen for the removal of the full notebook cells\n",
       "var notebookContainer = gd.closest('#notebook-container');\n",
       "if (notebookContainer) {{\n",
       "    x.observe(notebookContainer, {childList: true});\n",
       "}}\n",
       "\n",
       "// Listen for the clearing of the current output cell\n",
       "var outputEl = gd.closest('.output');\n",
       "if (outputEl) {{\n",
       "    x.observe(outputEl, {childList: true});\n",
       "}}\n",
       "\n",
       "                        })                };                });            </script>        </div>"
      ]
     },
     "metadata": {},
     "output_type": "display_data"
    }
   ],
   "source": [
    "df.iplot(kind='scatter',x='A',y='B',mode='markers',size=10)"
   ]
  },
  {
   "cell_type": "markdown",
   "metadata": {},
   "source": [
    "## Bar Plots"
   ]
  },
  {
   "cell_type": "code",
   "execution_count": 13,
   "metadata": {},
   "outputs": [
    {
     "data": {
      "application/vnd.plotly.v1+json": {
       "config": {
        "linkText": "Export to plot.ly",
        "plotlyServerURL": "https://plot.ly",
        "showLink": true
       },
       "data": [
        {
         "marker": {
          "color": "rgba(255, 153, 51, 0.6)",
          "line": {
           "color": "rgba(255, 153, 51, 1.0)",
           "width": 1
          }
         },
         "name": "Values",
         "orientation": "v",
         "text": "",
         "type": "bar",
         "x": [
          "A",
          "B",
          "C"
         ],
         "y": [
          32,
          43,
          50
         ]
        }
       ],
       "layout": {
        "legend": {
         "bgcolor": "#F5F6F9",
         "font": {
          "color": "#4D5663"
         }
        },
        "paper_bgcolor": "#F5F6F9",
        "plot_bgcolor": "#F5F6F9",
        "template": {
         "data": {
          "bar": [
           {
            "error_x": {
             "color": "#2a3f5f"
            },
            "error_y": {
             "color": "#2a3f5f"
            },
            "marker": {
             "line": {
              "color": "#E5ECF6",
              "width": 0.5
             }
            },
            "type": "bar"
           }
          ],
          "barpolar": [
           {
            "marker": {
             "line": {
              "color": "#E5ECF6",
              "width": 0.5
             }
            },
            "type": "barpolar"
           }
          ],
          "carpet": [
           {
            "aaxis": {
             "endlinecolor": "#2a3f5f",
             "gridcolor": "white",
             "linecolor": "white",
             "minorgridcolor": "white",
             "startlinecolor": "#2a3f5f"
            },
            "baxis": {
             "endlinecolor": "#2a3f5f",
             "gridcolor": "white",
             "linecolor": "white",
             "minorgridcolor": "white",
             "startlinecolor": "#2a3f5f"
            },
            "type": "carpet"
           }
          ],
          "choropleth": [
           {
            "colorbar": {
             "outlinewidth": 0,
             "ticks": ""
            },
            "type": "choropleth"
           }
          ],
          "contour": [
           {
            "colorbar": {
             "outlinewidth": 0,
             "ticks": ""
            },
            "colorscale": [
             [
              0,
              "#0d0887"
             ],
             [
              0.1111111111111111,
              "#46039f"
             ],
             [
              0.2222222222222222,
              "#7201a8"
             ],
             [
              0.3333333333333333,
              "#9c179e"
             ],
             [
              0.4444444444444444,
              "#bd3786"
             ],
             [
              0.5555555555555556,
              "#d8576b"
             ],
             [
              0.6666666666666666,
              "#ed7953"
             ],
             [
              0.7777777777777778,
              "#fb9f3a"
             ],
             [
              0.8888888888888888,
              "#fdca26"
             ],
             [
              1,
              "#f0f921"
             ]
            ],
            "type": "contour"
           }
          ],
          "contourcarpet": [
           {
            "colorbar": {
             "outlinewidth": 0,
             "ticks": ""
            },
            "type": "contourcarpet"
           }
          ],
          "heatmap": [
           {
            "colorbar": {
             "outlinewidth": 0,
             "ticks": ""
            },
            "colorscale": [
             [
              0,
              "#0d0887"
             ],
             [
              0.1111111111111111,
              "#46039f"
             ],
             [
              0.2222222222222222,
              "#7201a8"
             ],
             [
              0.3333333333333333,
              "#9c179e"
             ],
             [
              0.4444444444444444,
              "#bd3786"
             ],
             [
              0.5555555555555556,
              "#d8576b"
             ],
             [
              0.6666666666666666,
              "#ed7953"
             ],
             [
              0.7777777777777778,
              "#fb9f3a"
             ],
             [
              0.8888888888888888,
              "#fdca26"
             ],
             [
              1,
              "#f0f921"
             ]
            ],
            "type": "heatmap"
           }
          ],
          "heatmapgl": [
           {
            "colorbar": {
             "outlinewidth": 0,
             "ticks": ""
            },
            "colorscale": [
             [
              0,
              "#0d0887"
             ],
             [
              0.1111111111111111,
              "#46039f"
             ],
             [
              0.2222222222222222,
              "#7201a8"
             ],
             [
              0.3333333333333333,
              "#9c179e"
             ],
             [
              0.4444444444444444,
              "#bd3786"
             ],
             [
              0.5555555555555556,
              "#d8576b"
             ],
             [
              0.6666666666666666,
              "#ed7953"
             ],
             [
              0.7777777777777778,
              "#fb9f3a"
             ],
             [
              0.8888888888888888,
              "#fdca26"
             ],
             [
              1,
              "#f0f921"
             ]
            ],
            "type": "heatmapgl"
           }
          ],
          "histogram": [
           {
            "marker": {
             "colorbar": {
              "outlinewidth": 0,
              "ticks": ""
             }
            },
            "type": "histogram"
           }
          ],
          "histogram2d": [
           {
            "colorbar": {
             "outlinewidth": 0,
             "ticks": ""
            },
            "colorscale": [
             [
              0,
              "#0d0887"
             ],
             [
              0.1111111111111111,
              "#46039f"
             ],
             [
              0.2222222222222222,
              "#7201a8"
             ],
             [
              0.3333333333333333,
              "#9c179e"
             ],
             [
              0.4444444444444444,
              "#bd3786"
             ],
             [
              0.5555555555555556,
              "#d8576b"
             ],
             [
              0.6666666666666666,
              "#ed7953"
             ],
             [
              0.7777777777777778,
              "#fb9f3a"
             ],
             [
              0.8888888888888888,
              "#fdca26"
             ],
             [
              1,
              "#f0f921"
             ]
            ],
            "type": "histogram2d"
           }
          ],
          "histogram2dcontour": [
           {
            "colorbar": {
             "outlinewidth": 0,
             "ticks": ""
            },
            "colorscale": [
             [
              0,
              "#0d0887"
             ],
             [
              0.1111111111111111,
              "#46039f"
             ],
             [
              0.2222222222222222,
              "#7201a8"
             ],
             [
              0.3333333333333333,
              "#9c179e"
             ],
             [
              0.4444444444444444,
              "#bd3786"
             ],
             [
              0.5555555555555556,
              "#d8576b"
             ],
             [
              0.6666666666666666,
              "#ed7953"
             ],
             [
              0.7777777777777778,
              "#fb9f3a"
             ],
             [
              0.8888888888888888,
              "#fdca26"
             ],
             [
              1,
              "#f0f921"
             ]
            ],
            "type": "histogram2dcontour"
           }
          ],
          "mesh3d": [
           {
            "colorbar": {
             "outlinewidth": 0,
             "ticks": ""
            },
            "type": "mesh3d"
           }
          ],
          "parcoords": [
           {
            "line": {
             "colorbar": {
              "outlinewidth": 0,
              "ticks": ""
             }
            },
            "type": "parcoords"
           }
          ],
          "pie": [
           {
            "automargin": true,
            "type": "pie"
           }
          ],
          "scatter": [
           {
            "marker": {
             "colorbar": {
              "outlinewidth": 0,
              "ticks": ""
             }
            },
            "type": "scatter"
           }
          ],
          "scatter3d": [
           {
            "line": {
             "colorbar": {
              "outlinewidth": 0,
              "ticks": ""
             }
            },
            "marker": {
             "colorbar": {
              "outlinewidth": 0,
              "ticks": ""
             }
            },
            "type": "scatter3d"
           }
          ],
          "scattercarpet": [
           {
            "marker": {
             "colorbar": {
              "outlinewidth": 0,
              "ticks": ""
             }
            },
            "type": "scattercarpet"
           }
          ],
          "scattergeo": [
           {
            "marker": {
             "colorbar": {
              "outlinewidth": 0,
              "ticks": ""
             }
            },
            "type": "scattergeo"
           }
          ],
          "scattergl": [
           {
            "marker": {
             "colorbar": {
              "outlinewidth": 0,
              "ticks": ""
             }
            },
            "type": "scattergl"
           }
          ],
          "scattermapbox": [
           {
            "marker": {
             "colorbar": {
              "outlinewidth": 0,
              "ticks": ""
             }
            },
            "type": "scattermapbox"
           }
          ],
          "scatterpolar": [
           {
            "marker": {
             "colorbar": {
              "outlinewidth": 0,
              "ticks": ""
             }
            },
            "type": "scatterpolar"
           }
          ],
          "scatterpolargl": [
           {
            "marker": {
             "colorbar": {
              "outlinewidth": 0,
              "ticks": ""
             }
            },
            "type": "scatterpolargl"
           }
          ],
          "scatterternary": [
           {
            "marker": {
             "colorbar": {
              "outlinewidth": 0,
              "ticks": ""
             }
            },
            "type": "scatterternary"
           }
          ],
          "surface": [
           {
            "colorbar": {
             "outlinewidth": 0,
             "ticks": ""
            },
            "colorscale": [
             [
              0,
              "#0d0887"
             ],
             [
              0.1111111111111111,
              "#46039f"
             ],
             [
              0.2222222222222222,
              "#7201a8"
             ],
             [
              0.3333333333333333,
              "#9c179e"
             ],
             [
              0.4444444444444444,
              "#bd3786"
             ],
             [
              0.5555555555555556,
              "#d8576b"
             ],
             [
              0.6666666666666666,
              "#ed7953"
             ],
             [
              0.7777777777777778,
              "#fb9f3a"
             ],
             [
              0.8888888888888888,
              "#fdca26"
             ],
             [
              1,
              "#f0f921"
             ]
            ],
            "type": "surface"
           }
          ],
          "table": [
           {
            "cells": {
             "fill": {
              "color": "#EBF0F8"
             },
             "line": {
              "color": "white"
             }
            },
            "header": {
             "fill": {
              "color": "#C8D4E3"
             },
             "line": {
              "color": "white"
             }
            },
            "type": "table"
           }
          ]
         },
         "layout": {
          "annotationdefaults": {
           "arrowcolor": "#2a3f5f",
           "arrowhead": 0,
           "arrowwidth": 1
          },
          "autotypenumbers": "strict",
          "coloraxis": {
           "colorbar": {
            "outlinewidth": 0,
            "ticks": ""
           }
          },
          "colorscale": {
           "diverging": [
            [
             0,
             "#8e0152"
            ],
            [
             0.1,
             "#c51b7d"
            ],
            [
             0.2,
             "#de77ae"
            ],
            [
             0.3,
             "#f1b6da"
            ],
            [
             0.4,
             "#fde0ef"
            ],
            [
             0.5,
             "#f7f7f7"
            ],
            [
             0.6,
             "#e6f5d0"
            ],
            [
             0.7,
             "#b8e186"
            ],
            [
             0.8,
             "#7fbc41"
            ],
            [
             0.9,
             "#4d9221"
            ],
            [
             1,
             "#276419"
            ]
           ],
           "sequential": [
            [
             0,
             "#0d0887"
            ],
            [
             0.1111111111111111,
             "#46039f"
            ],
            [
             0.2222222222222222,
             "#7201a8"
            ],
            [
             0.3333333333333333,
             "#9c179e"
            ],
            [
             0.4444444444444444,
             "#bd3786"
            ],
            [
             0.5555555555555556,
             "#d8576b"
            ],
            [
             0.6666666666666666,
             "#ed7953"
            ],
            [
             0.7777777777777778,
             "#fb9f3a"
            ],
            [
             0.8888888888888888,
             "#fdca26"
            ],
            [
             1,
             "#f0f921"
            ]
           ],
           "sequentialminus": [
            [
             0,
             "#0d0887"
            ],
            [
             0.1111111111111111,
             "#46039f"
            ],
            [
             0.2222222222222222,
             "#7201a8"
            ],
            [
             0.3333333333333333,
             "#9c179e"
            ],
            [
             0.4444444444444444,
             "#bd3786"
            ],
            [
             0.5555555555555556,
             "#d8576b"
            ],
            [
             0.6666666666666666,
             "#ed7953"
            ],
            [
             0.7777777777777778,
             "#fb9f3a"
            ],
            [
             0.8888888888888888,
             "#fdca26"
            ],
            [
             1,
             "#f0f921"
            ]
           ]
          },
          "colorway": [
           "#636efa",
           "#EF553B",
           "#00cc96",
           "#ab63fa",
           "#FFA15A",
           "#19d3f3",
           "#FF6692",
           "#B6E880",
           "#FF97FF",
           "#FECB52"
          ],
          "font": {
           "color": "#2a3f5f"
          },
          "geo": {
           "bgcolor": "white",
           "lakecolor": "white",
           "landcolor": "#E5ECF6",
           "showlakes": true,
           "showland": true,
           "subunitcolor": "white"
          },
          "hoverlabel": {
           "align": "left"
          },
          "hovermode": "closest",
          "mapbox": {
           "style": "light"
          },
          "paper_bgcolor": "white",
          "plot_bgcolor": "#E5ECF6",
          "polar": {
           "angularaxis": {
            "gridcolor": "white",
            "linecolor": "white",
            "ticks": ""
           },
           "bgcolor": "#E5ECF6",
           "radialaxis": {
            "gridcolor": "white",
            "linecolor": "white",
            "ticks": ""
           }
          },
          "scene": {
           "xaxis": {
            "backgroundcolor": "#E5ECF6",
            "gridcolor": "white",
            "gridwidth": 2,
            "linecolor": "white",
            "showbackground": true,
            "ticks": "",
            "zerolinecolor": "white"
           },
           "yaxis": {
            "backgroundcolor": "#E5ECF6",
            "gridcolor": "white",
            "gridwidth": 2,
            "linecolor": "white",
            "showbackground": true,
            "ticks": "",
            "zerolinecolor": "white"
           },
           "zaxis": {
            "backgroundcolor": "#E5ECF6",
            "gridcolor": "white",
            "gridwidth": 2,
            "linecolor": "white",
            "showbackground": true,
            "ticks": "",
            "zerolinecolor": "white"
           }
          },
          "shapedefaults": {
           "line": {
            "color": "#2a3f5f"
           }
          },
          "ternary": {
           "aaxis": {
            "gridcolor": "white",
            "linecolor": "white",
            "ticks": ""
           },
           "baxis": {
            "gridcolor": "white",
            "linecolor": "white",
            "ticks": ""
           },
           "bgcolor": "#E5ECF6",
           "caxis": {
            "gridcolor": "white",
            "linecolor": "white",
            "ticks": ""
           }
          },
          "title": {
           "x": 0.05
          },
          "xaxis": {
           "automargin": true,
           "gridcolor": "white",
           "linecolor": "white",
           "ticks": "",
           "title": {
            "standoff": 15
           },
           "zerolinecolor": "white",
           "zerolinewidth": 2
          },
          "yaxis": {
           "automargin": true,
           "gridcolor": "white",
           "linecolor": "white",
           "ticks": "",
           "title": {
            "standoff": 15
           },
           "zerolinecolor": "white",
           "zerolinewidth": 2
          }
         }
        },
        "title": {
         "font": {
          "color": "#4D5663"
         }
        },
        "xaxis": {
         "gridcolor": "#E1E5ED",
         "showgrid": true,
         "tickfont": {
          "color": "#4D5663"
         },
         "title": {
          "font": {
           "color": "#4D5663"
          },
          "text": ""
         },
         "zerolinecolor": "#E1E5ED"
        },
        "yaxis": {
         "gridcolor": "#E1E5ED",
         "showgrid": true,
         "tickfont": {
          "color": "#4D5663"
         },
         "title": {
          "font": {
           "color": "#4D5663"
          },
          "text": ""
         },
         "zerolinecolor": "#E1E5ED"
        }
       }
      },
      "text/html": [
       "<div>                            <div id=\"f67dc2e7-f63d-47b3-894d-f55c007da644\" class=\"plotly-graph-div\" style=\"height:525px; width:100%;\"></div>            <script type=\"text/javascript\">                require([\"plotly\"], function(Plotly) {                    window.PLOTLYENV=window.PLOTLYENV || {};\n",
       "                    window.PLOTLYENV.BASE_URL='https://plot.ly';                                    if (document.getElementById(\"f67dc2e7-f63d-47b3-894d-f55c007da644\")) {                    Plotly.newPlot(                        \"f67dc2e7-f63d-47b3-894d-f55c007da644\",                        [{\"marker\": {\"color\": \"rgba(255, 153, 51, 0.6)\", \"line\": {\"color\": \"rgba(255, 153, 51, 1.0)\", \"width\": 1}}, \"name\": \"Values\", \"orientation\": \"v\", \"text\": \"\", \"type\": \"bar\", \"x\": [\"A\", \"B\", \"C\"], \"y\": [32, 43, 50]}],                        {\"legend\": {\"bgcolor\": \"#F5F6F9\", \"font\": {\"color\": \"#4D5663\"}}, \"paper_bgcolor\": \"#F5F6F9\", \"plot_bgcolor\": \"#F5F6F9\", \"template\": {\"data\": {\"bar\": [{\"error_x\": {\"color\": \"#2a3f5f\"}, \"error_y\": {\"color\": \"#2a3f5f\"}, \"marker\": {\"line\": {\"color\": \"#E5ECF6\", \"width\": 0.5}}, \"type\": \"bar\"}], \"barpolar\": [{\"marker\": {\"line\": {\"color\": \"#E5ECF6\", \"width\": 0.5}}, \"type\": \"barpolar\"}], \"carpet\": [{\"aaxis\": {\"endlinecolor\": \"#2a3f5f\", \"gridcolor\": \"white\", \"linecolor\": \"white\", \"minorgridcolor\": \"white\", \"startlinecolor\": \"#2a3f5f\"}, \"baxis\": {\"endlinecolor\": \"#2a3f5f\", \"gridcolor\": \"white\", \"linecolor\": \"white\", \"minorgridcolor\": \"white\", \"startlinecolor\": \"#2a3f5f\"}, \"type\": \"carpet\"}], \"choropleth\": [{\"colorbar\": {\"outlinewidth\": 0, \"ticks\": \"\"}, \"type\": \"choropleth\"}], \"contour\": [{\"colorbar\": {\"outlinewidth\": 0, \"ticks\": \"\"}, \"colorscale\": [[0.0, \"#0d0887\"], [0.1111111111111111, \"#46039f\"], [0.2222222222222222, \"#7201a8\"], [0.3333333333333333, \"#9c179e\"], [0.4444444444444444, \"#bd3786\"], [0.5555555555555556, \"#d8576b\"], [0.6666666666666666, \"#ed7953\"], [0.7777777777777778, \"#fb9f3a\"], [0.8888888888888888, \"#fdca26\"], [1.0, \"#f0f921\"]], \"type\": \"contour\"}], \"contourcarpet\": [{\"colorbar\": {\"outlinewidth\": 0, \"ticks\": \"\"}, \"type\": \"contourcarpet\"}], \"heatmap\": [{\"colorbar\": {\"outlinewidth\": 0, \"ticks\": \"\"}, \"colorscale\": [[0.0, \"#0d0887\"], [0.1111111111111111, \"#46039f\"], [0.2222222222222222, \"#7201a8\"], [0.3333333333333333, \"#9c179e\"], [0.4444444444444444, \"#bd3786\"], [0.5555555555555556, \"#d8576b\"], [0.6666666666666666, \"#ed7953\"], [0.7777777777777778, \"#fb9f3a\"], [0.8888888888888888, \"#fdca26\"], [1.0, \"#f0f921\"]], \"type\": \"heatmap\"}], \"heatmapgl\": [{\"colorbar\": {\"outlinewidth\": 0, \"ticks\": \"\"}, \"colorscale\": [[0.0, \"#0d0887\"], [0.1111111111111111, \"#46039f\"], [0.2222222222222222, \"#7201a8\"], [0.3333333333333333, \"#9c179e\"], [0.4444444444444444, \"#bd3786\"], [0.5555555555555556, \"#d8576b\"], [0.6666666666666666, \"#ed7953\"], [0.7777777777777778, \"#fb9f3a\"], [0.8888888888888888, \"#fdca26\"], [1.0, \"#f0f921\"]], \"type\": \"heatmapgl\"}], \"histogram\": [{\"marker\": {\"colorbar\": {\"outlinewidth\": 0, \"ticks\": \"\"}}, \"type\": \"histogram\"}], \"histogram2d\": [{\"colorbar\": {\"outlinewidth\": 0, \"ticks\": \"\"}, \"colorscale\": [[0.0, \"#0d0887\"], [0.1111111111111111, \"#46039f\"], [0.2222222222222222, \"#7201a8\"], [0.3333333333333333, \"#9c179e\"], [0.4444444444444444, \"#bd3786\"], [0.5555555555555556, \"#d8576b\"], [0.6666666666666666, \"#ed7953\"], [0.7777777777777778, \"#fb9f3a\"], [0.8888888888888888, \"#fdca26\"], [1.0, \"#f0f921\"]], \"type\": \"histogram2d\"}], \"histogram2dcontour\": [{\"colorbar\": {\"outlinewidth\": 0, \"ticks\": \"\"}, \"colorscale\": [[0.0, \"#0d0887\"], [0.1111111111111111, \"#46039f\"], [0.2222222222222222, \"#7201a8\"], [0.3333333333333333, \"#9c179e\"], [0.4444444444444444, \"#bd3786\"], [0.5555555555555556, \"#d8576b\"], [0.6666666666666666, \"#ed7953\"], [0.7777777777777778, \"#fb9f3a\"], [0.8888888888888888, \"#fdca26\"], [1.0, \"#f0f921\"]], \"type\": \"histogram2dcontour\"}], \"mesh3d\": [{\"colorbar\": {\"outlinewidth\": 0, \"ticks\": \"\"}, \"type\": \"mesh3d\"}], \"parcoords\": [{\"line\": {\"colorbar\": {\"outlinewidth\": 0, \"ticks\": \"\"}}, \"type\": \"parcoords\"}], \"pie\": [{\"automargin\": true, \"type\": \"pie\"}], \"scatter\": [{\"marker\": {\"colorbar\": {\"outlinewidth\": 0, \"ticks\": \"\"}}, \"type\": \"scatter\"}], \"scatter3d\": [{\"line\": {\"colorbar\": {\"outlinewidth\": 0, \"ticks\": \"\"}}, \"marker\": {\"colorbar\": {\"outlinewidth\": 0, \"ticks\": \"\"}}, \"type\": \"scatter3d\"}], \"scattercarpet\": [{\"marker\": {\"colorbar\": {\"outlinewidth\": 0, \"ticks\": \"\"}}, \"type\": \"scattercarpet\"}], \"scattergeo\": [{\"marker\": {\"colorbar\": {\"outlinewidth\": 0, \"ticks\": \"\"}}, \"type\": \"scattergeo\"}], \"scattergl\": [{\"marker\": {\"colorbar\": {\"outlinewidth\": 0, \"ticks\": \"\"}}, \"type\": \"scattergl\"}], \"scattermapbox\": [{\"marker\": {\"colorbar\": {\"outlinewidth\": 0, \"ticks\": \"\"}}, \"type\": \"scattermapbox\"}], \"scatterpolar\": [{\"marker\": {\"colorbar\": {\"outlinewidth\": 0, \"ticks\": \"\"}}, \"type\": \"scatterpolar\"}], \"scatterpolargl\": [{\"marker\": {\"colorbar\": {\"outlinewidth\": 0, \"ticks\": \"\"}}, \"type\": \"scatterpolargl\"}], \"scatterternary\": [{\"marker\": {\"colorbar\": {\"outlinewidth\": 0, \"ticks\": \"\"}}, \"type\": \"scatterternary\"}], \"surface\": [{\"colorbar\": {\"outlinewidth\": 0, \"ticks\": \"\"}, \"colorscale\": [[0.0, \"#0d0887\"], [0.1111111111111111, \"#46039f\"], [0.2222222222222222, \"#7201a8\"], [0.3333333333333333, \"#9c179e\"], [0.4444444444444444, \"#bd3786\"], [0.5555555555555556, \"#d8576b\"], [0.6666666666666666, \"#ed7953\"], [0.7777777777777778, \"#fb9f3a\"], [0.8888888888888888, \"#fdca26\"], [1.0, \"#f0f921\"]], \"type\": \"surface\"}], \"table\": [{\"cells\": {\"fill\": {\"color\": \"#EBF0F8\"}, \"line\": {\"color\": \"white\"}}, \"header\": {\"fill\": {\"color\": \"#C8D4E3\"}, \"line\": {\"color\": \"white\"}}, \"type\": \"table\"}]}, \"layout\": {\"annotationdefaults\": {\"arrowcolor\": \"#2a3f5f\", \"arrowhead\": 0, \"arrowwidth\": 1}, \"autotypenumbers\": \"strict\", \"coloraxis\": {\"colorbar\": {\"outlinewidth\": 0, \"ticks\": \"\"}}, \"colorscale\": {\"diverging\": [[0, \"#8e0152\"], [0.1, \"#c51b7d\"], [0.2, \"#de77ae\"], [0.3, \"#f1b6da\"], [0.4, \"#fde0ef\"], [0.5, \"#f7f7f7\"], [0.6, \"#e6f5d0\"], [0.7, \"#b8e186\"], [0.8, \"#7fbc41\"], [0.9, \"#4d9221\"], [1, \"#276419\"]], \"sequential\": [[0.0, \"#0d0887\"], [0.1111111111111111, \"#46039f\"], [0.2222222222222222, \"#7201a8\"], [0.3333333333333333, \"#9c179e\"], [0.4444444444444444, \"#bd3786\"], [0.5555555555555556, \"#d8576b\"], [0.6666666666666666, \"#ed7953\"], [0.7777777777777778, \"#fb9f3a\"], [0.8888888888888888, \"#fdca26\"], [1.0, \"#f0f921\"]], \"sequentialminus\": [[0.0, \"#0d0887\"], [0.1111111111111111, \"#46039f\"], [0.2222222222222222, \"#7201a8\"], [0.3333333333333333, \"#9c179e\"], [0.4444444444444444, \"#bd3786\"], [0.5555555555555556, \"#d8576b\"], [0.6666666666666666, \"#ed7953\"], [0.7777777777777778, \"#fb9f3a\"], [0.8888888888888888, \"#fdca26\"], [1.0, \"#f0f921\"]]}, \"colorway\": [\"#636efa\", \"#EF553B\", \"#00cc96\", \"#ab63fa\", \"#FFA15A\", \"#19d3f3\", \"#FF6692\", \"#B6E880\", \"#FF97FF\", \"#FECB52\"], \"font\": {\"color\": \"#2a3f5f\"}, \"geo\": {\"bgcolor\": \"white\", \"lakecolor\": \"white\", \"landcolor\": \"#E5ECF6\", \"showlakes\": true, \"showland\": true, \"subunitcolor\": \"white\"}, \"hoverlabel\": {\"align\": \"left\"}, \"hovermode\": \"closest\", \"mapbox\": {\"style\": \"light\"}, \"paper_bgcolor\": \"white\", \"plot_bgcolor\": \"#E5ECF6\", \"polar\": {\"angularaxis\": {\"gridcolor\": \"white\", \"linecolor\": \"white\", \"ticks\": \"\"}, \"bgcolor\": \"#E5ECF6\", \"radialaxis\": {\"gridcolor\": \"white\", \"linecolor\": \"white\", \"ticks\": \"\"}}, \"scene\": {\"xaxis\": {\"backgroundcolor\": \"#E5ECF6\", \"gridcolor\": \"white\", \"gridwidth\": 2, \"linecolor\": \"white\", \"showbackground\": true, \"ticks\": \"\", \"zerolinecolor\": \"white\"}, \"yaxis\": {\"backgroundcolor\": \"#E5ECF6\", \"gridcolor\": \"white\", \"gridwidth\": 2, \"linecolor\": \"white\", \"showbackground\": true, \"ticks\": \"\", \"zerolinecolor\": \"white\"}, \"zaxis\": {\"backgroundcolor\": \"#E5ECF6\", \"gridcolor\": \"white\", \"gridwidth\": 2, \"linecolor\": \"white\", \"showbackground\": true, \"ticks\": \"\", \"zerolinecolor\": \"white\"}}, \"shapedefaults\": {\"line\": {\"color\": \"#2a3f5f\"}}, \"ternary\": {\"aaxis\": {\"gridcolor\": \"white\", \"linecolor\": \"white\", \"ticks\": \"\"}, \"baxis\": {\"gridcolor\": \"white\", \"linecolor\": \"white\", \"ticks\": \"\"}, \"bgcolor\": \"#E5ECF6\", \"caxis\": {\"gridcolor\": \"white\", \"linecolor\": \"white\", \"ticks\": \"\"}}, \"title\": {\"x\": 0.05}, \"xaxis\": {\"automargin\": true, \"gridcolor\": \"white\", \"linecolor\": \"white\", \"ticks\": \"\", \"title\": {\"standoff\": 15}, \"zerolinecolor\": \"white\", \"zerolinewidth\": 2}, \"yaxis\": {\"automargin\": true, \"gridcolor\": \"white\", \"linecolor\": \"white\", \"ticks\": \"\", \"title\": {\"standoff\": 15}, \"zerolinecolor\": \"white\", \"zerolinewidth\": 2}}}, \"title\": {\"font\": {\"color\": \"#4D5663\"}}, \"xaxis\": {\"gridcolor\": \"#E1E5ED\", \"showgrid\": true, \"tickfont\": {\"color\": \"#4D5663\"}, \"title\": {\"font\": {\"color\": \"#4D5663\"}, \"text\": \"\"}, \"zerolinecolor\": \"#E1E5ED\"}, \"yaxis\": {\"gridcolor\": \"#E1E5ED\", \"showgrid\": true, \"tickfont\": {\"color\": \"#4D5663\"}, \"title\": {\"font\": {\"color\": \"#4D5663\"}, \"text\": \"\"}, \"zerolinecolor\": \"#E1E5ED\"}},                        {\"showLink\": true, \"linkText\": \"Export to plot.ly\", \"plotlyServerURL\": \"https://plot.ly\", \"responsive\": true}                    ).then(function(){\n",
       "                            \n",
       "var gd = document.getElementById('f67dc2e7-f63d-47b3-894d-f55c007da644');\n",
       "var x = new MutationObserver(function (mutations, observer) {{\n",
       "        var display = window.getComputedStyle(gd).display;\n",
       "        if (!display || display === 'none') {{\n",
       "            console.log([gd, 'removed!']);\n",
       "            Plotly.purge(gd);\n",
       "            observer.disconnect();\n",
       "        }}\n",
       "}});\n",
       "\n",
       "// Listen for the removal of the full notebook cells\n",
       "var notebookContainer = gd.closest('#notebook-container');\n",
       "if (notebookContainer) {{\n",
       "    x.observe(notebookContainer, {childList: true});\n",
       "}}\n",
       "\n",
       "// Listen for the clearing of the current output cell\n",
       "var outputEl = gd.closest('.output');\n",
       "if (outputEl) {{\n",
       "    x.observe(outputEl, {childList: true});\n",
       "}}\n",
       "\n",
       "                        })                };                });            </script>        </div>"
      ]
     },
     "metadata": {},
     "output_type": "display_data"
    }
   ],
   "source": [
    "df2.iplot(kind='bar',x='Category',y='Values')"
   ]
  },
  {
   "cell_type": "code",
   "execution_count": 14,
   "metadata": {},
   "outputs": [
    {
     "data": {
      "application/vnd.plotly.v1+json": {
       "config": {
        "linkText": "Export to plot.ly",
        "plotlyServerURL": "https://plot.ly",
        "showLink": true
       },
       "data": [
        {
         "marker": {
          "color": "rgba(255, 153, 51, 0.6)",
          "line": {
           "color": "rgba(255, 153, 51, 1.0)",
           "width": 1
          }
         },
         "name": "None",
         "orientation": "v",
         "text": "",
         "type": "bar",
         "x": [
          "A",
          "B",
          "C",
          "D"
         ],
         "y": [
          100,
          100,
          100,
          100
         ]
        }
       ],
       "layout": {
        "legend": {
         "bgcolor": "#F5F6F9",
         "font": {
          "color": "#4D5663"
         }
        },
        "paper_bgcolor": "#F5F6F9",
        "plot_bgcolor": "#F5F6F9",
        "template": {
         "data": {
          "bar": [
           {
            "error_x": {
             "color": "#2a3f5f"
            },
            "error_y": {
             "color": "#2a3f5f"
            },
            "marker": {
             "line": {
              "color": "#E5ECF6",
              "width": 0.5
             }
            },
            "type": "bar"
           }
          ],
          "barpolar": [
           {
            "marker": {
             "line": {
              "color": "#E5ECF6",
              "width": 0.5
             }
            },
            "type": "barpolar"
           }
          ],
          "carpet": [
           {
            "aaxis": {
             "endlinecolor": "#2a3f5f",
             "gridcolor": "white",
             "linecolor": "white",
             "minorgridcolor": "white",
             "startlinecolor": "#2a3f5f"
            },
            "baxis": {
             "endlinecolor": "#2a3f5f",
             "gridcolor": "white",
             "linecolor": "white",
             "minorgridcolor": "white",
             "startlinecolor": "#2a3f5f"
            },
            "type": "carpet"
           }
          ],
          "choropleth": [
           {
            "colorbar": {
             "outlinewidth": 0,
             "ticks": ""
            },
            "type": "choropleth"
           }
          ],
          "contour": [
           {
            "colorbar": {
             "outlinewidth": 0,
             "ticks": ""
            },
            "colorscale": [
             [
              0,
              "#0d0887"
             ],
             [
              0.1111111111111111,
              "#46039f"
             ],
             [
              0.2222222222222222,
              "#7201a8"
             ],
             [
              0.3333333333333333,
              "#9c179e"
             ],
             [
              0.4444444444444444,
              "#bd3786"
             ],
             [
              0.5555555555555556,
              "#d8576b"
             ],
             [
              0.6666666666666666,
              "#ed7953"
             ],
             [
              0.7777777777777778,
              "#fb9f3a"
             ],
             [
              0.8888888888888888,
              "#fdca26"
             ],
             [
              1,
              "#f0f921"
             ]
            ],
            "type": "contour"
           }
          ],
          "contourcarpet": [
           {
            "colorbar": {
             "outlinewidth": 0,
             "ticks": ""
            },
            "type": "contourcarpet"
           }
          ],
          "heatmap": [
           {
            "colorbar": {
             "outlinewidth": 0,
             "ticks": ""
            },
            "colorscale": [
             [
              0,
              "#0d0887"
             ],
             [
              0.1111111111111111,
              "#46039f"
             ],
             [
              0.2222222222222222,
              "#7201a8"
             ],
             [
              0.3333333333333333,
              "#9c179e"
             ],
             [
              0.4444444444444444,
              "#bd3786"
             ],
             [
              0.5555555555555556,
              "#d8576b"
             ],
             [
              0.6666666666666666,
              "#ed7953"
             ],
             [
              0.7777777777777778,
              "#fb9f3a"
             ],
             [
              0.8888888888888888,
              "#fdca26"
             ],
             [
              1,
              "#f0f921"
             ]
            ],
            "type": "heatmap"
           }
          ],
          "heatmapgl": [
           {
            "colorbar": {
             "outlinewidth": 0,
             "ticks": ""
            },
            "colorscale": [
             [
              0,
              "#0d0887"
             ],
             [
              0.1111111111111111,
              "#46039f"
             ],
             [
              0.2222222222222222,
              "#7201a8"
             ],
             [
              0.3333333333333333,
              "#9c179e"
             ],
             [
              0.4444444444444444,
              "#bd3786"
             ],
             [
              0.5555555555555556,
              "#d8576b"
             ],
             [
              0.6666666666666666,
              "#ed7953"
             ],
             [
              0.7777777777777778,
              "#fb9f3a"
             ],
             [
              0.8888888888888888,
              "#fdca26"
             ],
             [
              1,
              "#f0f921"
             ]
            ],
            "type": "heatmapgl"
           }
          ],
          "histogram": [
           {
            "marker": {
             "colorbar": {
              "outlinewidth": 0,
              "ticks": ""
             }
            },
            "type": "histogram"
           }
          ],
          "histogram2d": [
           {
            "colorbar": {
             "outlinewidth": 0,
             "ticks": ""
            },
            "colorscale": [
             [
              0,
              "#0d0887"
             ],
             [
              0.1111111111111111,
              "#46039f"
             ],
             [
              0.2222222222222222,
              "#7201a8"
             ],
             [
              0.3333333333333333,
              "#9c179e"
             ],
             [
              0.4444444444444444,
              "#bd3786"
             ],
             [
              0.5555555555555556,
              "#d8576b"
             ],
             [
              0.6666666666666666,
              "#ed7953"
             ],
             [
              0.7777777777777778,
              "#fb9f3a"
             ],
             [
              0.8888888888888888,
              "#fdca26"
             ],
             [
              1,
              "#f0f921"
             ]
            ],
            "type": "histogram2d"
           }
          ],
          "histogram2dcontour": [
           {
            "colorbar": {
             "outlinewidth": 0,
             "ticks": ""
            },
            "colorscale": [
             [
              0,
              "#0d0887"
             ],
             [
              0.1111111111111111,
              "#46039f"
             ],
             [
              0.2222222222222222,
              "#7201a8"
             ],
             [
              0.3333333333333333,
              "#9c179e"
             ],
             [
              0.4444444444444444,
              "#bd3786"
             ],
             [
              0.5555555555555556,
              "#d8576b"
             ],
             [
              0.6666666666666666,
              "#ed7953"
             ],
             [
              0.7777777777777778,
              "#fb9f3a"
             ],
             [
              0.8888888888888888,
              "#fdca26"
             ],
             [
              1,
              "#f0f921"
             ]
            ],
            "type": "histogram2dcontour"
           }
          ],
          "mesh3d": [
           {
            "colorbar": {
             "outlinewidth": 0,
             "ticks": ""
            },
            "type": "mesh3d"
           }
          ],
          "parcoords": [
           {
            "line": {
             "colorbar": {
              "outlinewidth": 0,
              "ticks": ""
             }
            },
            "type": "parcoords"
           }
          ],
          "pie": [
           {
            "automargin": true,
            "type": "pie"
           }
          ],
          "scatter": [
           {
            "marker": {
             "colorbar": {
              "outlinewidth": 0,
              "ticks": ""
             }
            },
            "type": "scatter"
           }
          ],
          "scatter3d": [
           {
            "line": {
             "colorbar": {
              "outlinewidth": 0,
              "ticks": ""
             }
            },
            "marker": {
             "colorbar": {
              "outlinewidth": 0,
              "ticks": ""
             }
            },
            "type": "scatter3d"
           }
          ],
          "scattercarpet": [
           {
            "marker": {
             "colorbar": {
              "outlinewidth": 0,
              "ticks": ""
             }
            },
            "type": "scattercarpet"
           }
          ],
          "scattergeo": [
           {
            "marker": {
             "colorbar": {
              "outlinewidth": 0,
              "ticks": ""
             }
            },
            "type": "scattergeo"
           }
          ],
          "scattergl": [
           {
            "marker": {
             "colorbar": {
              "outlinewidth": 0,
              "ticks": ""
             }
            },
            "type": "scattergl"
           }
          ],
          "scattermapbox": [
           {
            "marker": {
             "colorbar": {
              "outlinewidth": 0,
              "ticks": ""
             }
            },
            "type": "scattermapbox"
           }
          ],
          "scatterpolar": [
           {
            "marker": {
             "colorbar": {
              "outlinewidth": 0,
              "ticks": ""
             }
            },
            "type": "scatterpolar"
           }
          ],
          "scatterpolargl": [
           {
            "marker": {
             "colorbar": {
              "outlinewidth": 0,
              "ticks": ""
             }
            },
            "type": "scatterpolargl"
           }
          ],
          "scatterternary": [
           {
            "marker": {
             "colorbar": {
              "outlinewidth": 0,
              "ticks": ""
             }
            },
            "type": "scatterternary"
           }
          ],
          "surface": [
           {
            "colorbar": {
             "outlinewidth": 0,
             "ticks": ""
            },
            "colorscale": [
             [
              0,
              "#0d0887"
             ],
             [
              0.1111111111111111,
              "#46039f"
             ],
             [
              0.2222222222222222,
              "#7201a8"
             ],
             [
              0.3333333333333333,
              "#9c179e"
             ],
             [
              0.4444444444444444,
              "#bd3786"
             ],
             [
              0.5555555555555556,
              "#d8576b"
             ],
             [
              0.6666666666666666,
              "#ed7953"
             ],
             [
              0.7777777777777778,
              "#fb9f3a"
             ],
             [
              0.8888888888888888,
              "#fdca26"
             ],
             [
              1,
              "#f0f921"
             ]
            ],
            "type": "surface"
           }
          ],
          "table": [
           {
            "cells": {
             "fill": {
              "color": "#EBF0F8"
             },
             "line": {
              "color": "white"
             }
            },
            "header": {
             "fill": {
              "color": "#C8D4E3"
             },
             "line": {
              "color": "white"
             }
            },
            "type": "table"
           }
          ]
         },
         "layout": {
          "annotationdefaults": {
           "arrowcolor": "#2a3f5f",
           "arrowhead": 0,
           "arrowwidth": 1
          },
          "autotypenumbers": "strict",
          "coloraxis": {
           "colorbar": {
            "outlinewidth": 0,
            "ticks": ""
           }
          },
          "colorscale": {
           "diverging": [
            [
             0,
             "#8e0152"
            ],
            [
             0.1,
             "#c51b7d"
            ],
            [
             0.2,
             "#de77ae"
            ],
            [
             0.3,
             "#f1b6da"
            ],
            [
             0.4,
             "#fde0ef"
            ],
            [
             0.5,
             "#f7f7f7"
            ],
            [
             0.6,
             "#e6f5d0"
            ],
            [
             0.7,
             "#b8e186"
            ],
            [
             0.8,
             "#7fbc41"
            ],
            [
             0.9,
             "#4d9221"
            ],
            [
             1,
             "#276419"
            ]
           ],
           "sequential": [
            [
             0,
             "#0d0887"
            ],
            [
             0.1111111111111111,
             "#46039f"
            ],
            [
             0.2222222222222222,
             "#7201a8"
            ],
            [
             0.3333333333333333,
             "#9c179e"
            ],
            [
             0.4444444444444444,
             "#bd3786"
            ],
            [
             0.5555555555555556,
             "#d8576b"
            ],
            [
             0.6666666666666666,
             "#ed7953"
            ],
            [
             0.7777777777777778,
             "#fb9f3a"
            ],
            [
             0.8888888888888888,
             "#fdca26"
            ],
            [
             1,
             "#f0f921"
            ]
           ],
           "sequentialminus": [
            [
             0,
             "#0d0887"
            ],
            [
             0.1111111111111111,
             "#46039f"
            ],
            [
             0.2222222222222222,
             "#7201a8"
            ],
            [
             0.3333333333333333,
             "#9c179e"
            ],
            [
             0.4444444444444444,
             "#bd3786"
            ],
            [
             0.5555555555555556,
             "#d8576b"
            ],
            [
             0.6666666666666666,
             "#ed7953"
            ],
            [
             0.7777777777777778,
             "#fb9f3a"
            ],
            [
             0.8888888888888888,
             "#fdca26"
            ],
            [
             1,
             "#f0f921"
            ]
           ]
          },
          "colorway": [
           "#636efa",
           "#EF553B",
           "#00cc96",
           "#ab63fa",
           "#FFA15A",
           "#19d3f3",
           "#FF6692",
           "#B6E880",
           "#FF97FF",
           "#FECB52"
          ],
          "font": {
           "color": "#2a3f5f"
          },
          "geo": {
           "bgcolor": "white",
           "lakecolor": "white",
           "landcolor": "#E5ECF6",
           "showlakes": true,
           "showland": true,
           "subunitcolor": "white"
          },
          "hoverlabel": {
           "align": "left"
          },
          "hovermode": "closest",
          "mapbox": {
           "style": "light"
          },
          "paper_bgcolor": "white",
          "plot_bgcolor": "#E5ECF6",
          "polar": {
           "angularaxis": {
            "gridcolor": "white",
            "linecolor": "white",
            "ticks": ""
           },
           "bgcolor": "#E5ECF6",
           "radialaxis": {
            "gridcolor": "white",
            "linecolor": "white",
            "ticks": ""
           }
          },
          "scene": {
           "xaxis": {
            "backgroundcolor": "#E5ECF6",
            "gridcolor": "white",
            "gridwidth": 2,
            "linecolor": "white",
            "showbackground": true,
            "ticks": "",
            "zerolinecolor": "white"
           },
           "yaxis": {
            "backgroundcolor": "#E5ECF6",
            "gridcolor": "white",
            "gridwidth": 2,
            "linecolor": "white",
            "showbackground": true,
            "ticks": "",
            "zerolinecolor": "white"
           },
           "zaxis": {
            "backgroundcolor": "#E5ECF6",
            "gridcolor": "white",
            "gridwidth": 2,
            "linecolor": "white",
            "showbackground": true,
            "ticks": "",
            "zerolinecolor": "white"
           }
          },
          "shapedefaults": {
           "line": {
            "color": "#2a3f5f"
           }
          },
          "ternary": {
           "aaxis": {
            "gridcolor": "white",
            "linecolor": "white",
            "ticks": ""
           },
           "baxis": {
            "gridcolor": "white",
            "linecolor": "white",
            "ticks": ""
           },
           "bgcolor": "#E5ECF6",
           "caxis": {
            "gridcolor": "white",
            "linecolor": "white",
            "ticks": ""
           }
          },
          "title": {
           "x": 0.05
          },
          "xaxis": {
           "automargin": true,
           "gridcolor": "white",
           "linecolor": "white",
           "ticks": "",
           "title": {
            "standoff": 15
           },
           "zerolinecolor": "white",
           "zerolinewidth": 2
          },
          "yaxis": {
           "automargin": true,
           "gridcolor": "white",
           "linecolor": "white",
           "ticks": "",
           "title": {
            "standoff": 15
           },
           "zerolinecolor": "white",
           "zerolinewidth": 2
          }
         }
        },
        "title": {
         "font": {
          "color": "#4D5663"
         }
        },
        "xaxis": {
         "gridcolor": "#E1E5ED",
         "showgrid": true,
         "tickfont": {
          "color": "#4D5663"
         },
         "title": {
          "font": {
           "color": "#4D5663"
          },
          "text": ""
         },
         "zerolinecolor": "#E1E5ED"
        },
        "yaxis": {
         "gridcolor": "#E1E5ED",
         "showgrid": true,
         "tickfont": {
          "color": "#4D5663"
         },
         "title": {
          "font": {
           "color": "#4D5663"
          },
          "text": ""
         },
         "zerolinecolor": "#E1E5ED"
        }
       }
      },
      "text/html": [
       "<div>                            <div id=\"4e3b9b8d-e211-4c9e-a0fe-bbb022663133\" class=\"plotly-graph-div\" style=\"height:525px; width:100%;\"></div>            <script type=\"text/javascript\">                require([\"plotly\"], function(Plotly) {                    window.PLOTLYENV=window.PLOTLYENV || {};\n",
       "                    window.PLOTLYENV.BASE_URL='https://plot.ly';                                    if (document.getElementById(\"4e3b9b8d-e211-4c9e-a0fe-bbb022663133\")) {                    Plotly.newPlot(                        \"4e3b9b8d-e211-4c9e-a0fe-bbb022663133\",                        [{\"marker\": {\"color\": \"rgba(255, 153, 51, 0.6)\", \"line\": {\"color\": \"rgba(255, 153, 51, 1.0)\", \"width\": 1}}, \"name\": \"None\", \"orientation\": \"v\", \"text\": \"\", \"type\": \"bar\", \"x\": [\"A\", \"B\", \"C\", \"D\"], \"y\": [100, 100, 100, 100]}],                        {\"legend\": {\"bgcolor\": \"#F5F6F9\", \"font\": {\"color\": \"#4D5663\"}}, \"paper_bgcolor\": \"#F5F6F9\", \"plot_bgcolor\": \"#F5F6F9\", \"template\": {\"data\": {\"bar\": [{\"error_x\": {\"color\": \"#2a3f5f\"}, \"error_y\": {\"color\": \"#2a3f5f\"}, \"marker\": {\"line\": {\"color\": \"#E5ECF6\", \"width\": 0.5}}, \"type\": \"bar\"}], \"barpolar\": [{\"marker\": {\"line\": {\"color\": \"#E5ECF6\", \"width\": 0.5}}, \"type\": \"barpolar\"}], \"carpet\": [{\"aaxis\": {\"endlinecolor\": \"#2a3f5f\", \"gridcolor\": \"white\", \"linecolor\": \"white\", \"minorgridcolor\": \"white\", \"startlinecolor\": \"#2a3f5f\"}, \"baxis\": {\"endlinecolor\": \"#2a3f5f\", \"gridcolor\": \"white\", \"linecolor\": \"white\", \"minorgridcolor\": \"white\", \"startlinecolor\": \"#2a3f5f\"}, \"type\": \"carpet\"}], \"choropleth\": [{\"colorbar\": {\"outlinewidth\": 0, \"ticks\": \"\"}, \"type\": \"choropleth\"}], \"contour\": [{\"colorbar\": {\"outlinewidth\": 0, \"ticks\": \"\"}, \"colorscale\": [[0.0, \"#0d0887\"], [0.1111111111111111, \"#46039f\"], [0.2222222222222222, \"#7201a8\"], [0.3333333333333333, \"#9c179e\"], [0.4444444444444444, \"#bd3786\"], [0.5555555555555556, \"#d8576b\"], [0.6666666666666666, \"#ed7953\"], [0.7777777777777778, \"#fb9f3a\"], [0.8888888888888888, \"#fdca26\"], [1.0, \"#f0f921\"]], \"type\": \"contour\"}], \"contourcarpet\": [{\"colorbar\": {\"outlinewidth\": 0, \"ticks\": \"\"}, \"type\": \"contourcarpet\"}], \"heatmap\": [{\"colorbar\": {\"outlinewidth\": 0, \"ticks\": \"\"}, \"colorscale\": [[0.0, \"#0d0887\"], [0.1111111111111111, \"#46039f\"], [0.2222222222222222, \"#7201a8\"], [0.3333333333333333, \"#9c179e\"], [0.4444444444444444, \"#bd3786\"], [0.5555555555555556, \"#d8576b\"], [0.6666666666666666, \"#ed7953\"], [0.7777777777777778, \"#fb9f3a\"], [0.8888888888888888, \"#fdca26\"], [1.0, \"#f0f921\"]], \"type\": \"heatmap\"}], \"heatmapgl\": [{\"colorbar\": {\"outlinewidth\": 0, \"ticks\": \"\"}, \"colorscale\": [[0.0, \"#0d0887\"], [0.1111111111111111, \"#46039f\"], [0.2222222222222222, \"#7201a8\"], [0.3333333333333333, \"#9c179e\"], [0.4444444444444444, \"#bd3786\"], [0.5555555555555556, \"#d8576b\"], [0.6666666666666666, \"#ed7953\"], [0.7777777777777778, \"#fb9f3a\"], [0.8888888888888888, \"#fdca26\"], [1.0, \"#f0f921\"]], \"type\": \"heatmapgl\"}], \"histogram\": [{\"marker\": {\"colorbar\": {\"outlinewidth\": 0, \"ticks\": \"\"}}, \"type\": \"histogram\"}], \"histogram2d\": [{\"colorbar\": {\"outlinewidth\": 0, \"ticks\": \"\"}, \"colorscale\": [[0.0, \"#0d0887\"], [0.1111111111111111, \"#46039f\"], [0.2222222222222222, \"#7201a8\"], [0.3333333333333333, \"#9c179e\"], [0.4444444444444444, \"#bd3786\"], [0.5555555555555556, \"#d8576b\"], [0.6666666666666666, \"#ed7953\"], [0.7777777777777778, \"#fb9f3a\"], [0.8888888888888888, \"#fdca26\"], [1.0, \"#f0f921\"]], \"type\": \"histogram2d\"}], \"histogram2dcontour\": [{\"colorbar\": {\"outlinewidth\": 0, \"ticks\": \"\"}, \"colorscale\": [[0.0, \"#0d0887\"], [0.1111111111111111, \"#46039f\"], [0.2222222222222222, \"#7201a8\"], [0.3333333333333333, \"#9c179e\"], [0.4444444444444444, \"#bd3786\"], [0.5555555555555556, \"#d8576b\"], [0.6666666666666666, \"#ed7953\"], [0.7777777777777778, \"#fb9f3a\"], [0.8888888888888888, \"#fdca26\"], [1.0, \"#f0f921\"]], \"type\": \"histogram2dcontour\"}], \"mesh3d\": [{\"colorbar\": {\"outlinewidth\": 0, \"ticks\": \"\"}, \"type\": \"mesh3d\"}], \"parcoords\": [{\"line\": {\"colorbar\": {\"outlinewidth\": 0, \"ticks\": \"\"}}, \"type\": \"parcoords\"}], \"pie\": [{\"automargin\": true, \"type\": \"pie\"}], \"scatter\": [{\"marker\": {\"colorbar\": {\"outlinewidth\": 0, \"ticks\": \"\"}}, \"type\": \"scatter\"}], \"scatter3d\": [{\"line\": {\"colorbar\": {\"outlinewidth\": 0, \"ticks\": \"\"}}, \"marker\": {\"colorbar\": {\"outlinewidth\": 0, \"ticks\": \"\"}}, \"type\": \"scatter3d\"}], \"scattercarpet\": [{\"marker\": {\"colorbar\": {\"outlinewidth\": 0, \"ticks\": \"\"}}, \"type\": \"scattercarpet\"}], \"scattergeo\": [{\"marker\": {\"colorbar\": {\"outlinewidth\": 0, \"ticks\": \"\"}}, \"type\": \"scattergeo\"}], \"scattergl\": [{\"marker\": {\"colorbar\": {\"outlinewidth\": 0, \"ticks\": \"\"}}, \"type\": \"scattergl\"}], \"scattermapbox\": [{\"marker\": {\"colorbar\": {\"outlinewidth\": 0, \"ticks\": \"\"}}, \"type\": \"scattermapbox\"}], \"scatterpolar\": [{\"marker\": {\"colorbar\": {\"outlinewidth\": 0, \"ticks\": \"\"}}, \"type\": \"scatterpolar\"}], \"scatterpolargl\": [{\"marker\": {\"colorbar\": {\"outlinewidth\": 0, \"ticks\": \"\"}}, \"type\": \"scatterpolargl\"}], \"scatterternary\": [{\"marker\": {\"colorbar\": {\"outlinewidth\": 0, \"ticks\": \"\"}}, \"type\": \"scatterternary\"}], \"surface\": [{\"colorbar\": {\"outlinewidth\": 0, \"ticks\": \"\"}, \"colorscale\": [[0.0, \"#0d0887\"], [0.1111111111111111, \"#46039f\"], [0.2222222222222222, \"#7201a8\"], [0.3333333333333333, \"#9c179e\"], [0.4444444444444444, \"#bd3786\"], [0.5555555555555556, \"#d8576b\"], [0.6666666666666666, \"#ed7953\"], [0.7777777777777778, \"#fb9f3a\"], [0.8888888888888888, \"#fdca26\"], [1.0, \"#f0f921\"]], \"type\": \"surface\"}], \"table\": [{\"cells\": {\"fill\": {\"color\": \"#EBF0F8\"}, \"line\": {\"color\": \"white\"}}, \"header\": {\"fill\": {\"color\": \"#C8D4E3\"}, \"line\": {\"color\": \"white\"}}, \"type\": \"table\"}]}, \"layout\": {\"annotationdefaults\": {\"arrowcolor\": \"#2a3f5f\", \"arrowhead\": 0, \"arrowwidth\": 1}, \"autotypenumbers\": \"strict\", \"coloraxis\": {\"colorbar\": {\"outlinewidth\": 0, \"ticks\": \"\"}}, \"colorscale\": {\"diverging\": [[0, \"#8e0152\"], [0.1, \"#c51b7d\"], [0.2, \"#de77ae\"], [0.3, \"#f1b6da\"], [0.4, \"#fde0ef\"], [0.5, \"#f7f7f7\"], [0.6, \"#e6f5d0\"], [0.7, \"#b8e186\"], [0.8, \"#7fbc41\"], [0.9, \"#4d9221\"], [1, \"#276419\"]], \"sequential\": [[0.0, \"#0d0887\"], [0.1111111111111111, \"#46039f\"], [0.2222222222222222, \"#7201a8\"], [0.3333333333333333, \"#9c179e\"], [0.4444444444444444, \"#bd3786\"], [0.5555555555555556, \"#d8576b\"], [0.6666666666666666, \"#ed7953\"], [0.7777777777777778, \"#fb9f3a\"], [0.8888888888888888, \"#fdca26\"], [1.0, \"#f0f921\"]], \"sequentialminus\": [[0.0, \"#0d0887\"], [0.1111111111111111, \"#46039f\"], [0.2222222222222222, \"#7201a8\"], [0.3333333333333333, \"#9c179e\"], [0.4444444444444444, \"#bd3786\"], [0.5555555555555556, \"#d8576b\"], [0.6666666666666666, \"#ed7953\"], [0.7777777777777778, \"#fb9f3a\"], [0.8888888888888888, \"#fdca26\"], [1.0, \"#f0f921\"]]}, \"colorway\": [\"#636efa\", \"#EF553B\", \"#00cc96\", \"#ab63fa\", \"#FFA15A\", \"#19d3f3\", \"#FF6692\", \"#B6E880\", \"#FF97FF\", \"#FECB52\"], \"font\": {\"color\": \"#2a3f5f\"}, \"geo\": {\"bgcolor\": \"white\", \"lakecolor\": \"white\", \"landcolor\": \"#E5ECF6\", \"showlakes\": true, \"showland\": true, \"subunitcolor\": \"white\"}, \"hoverlabel\": {\"align\": \"left\"}, \"hovermode\": \"closest\", \"mapbox\": {\"style\": \"light\"}, \"paper_bgcolor\": \"white\", \"plot_bgcolor\": \"#E5ECF6\", \"polar\": {\"angularaxis\": {\"gridcolor\": \"white\", \"linecolor\": \"white\", \"ticks\": \"\"}, \"bgcolor\": \"#E5ECF6\", \"radialaxis\": {\"gridcolor\": \"white\", \"linecolor\": \"white\", \"ticks\": \"\"}}, \"scene\": {\"xaxis\": {\"backgroundcolor\": \"#E5ECF6\", \"gridcolor\": \"white\", \"gridwidth\": 2, \"linecolor\": \"white\", \"showbackground\": true, \"ticks\": \"\", \"zerolinecolor\": \"white\"}, \"yaxis\": {\"backgroundcolor\": \"#E5ECF6\", \"gridcolor\": \"white\", \"gridwidth\": 2, \"linecolor\": \"white\", \"showbackground\": true, \"ticks\": \"\", \"zerolinecolor\": \"white\"}, \"zaxis\": {\"backgroundcolor\": \"#E5ECF6\", \"gridcolor\": \"white\", \"gridwidth\": 2, \"linecolor\": \"white\", \"showbackground\": true, \"ticks\": \"\", \"zerolinecolor\": \"white\"}}, \"shapedefaults\": {\"line\": {\"color\": \"#2a3f5f\"}}, \"ternary\": {\"aaxis\": {\"gridcolor\": \"white\", \"linecolor\": \"white\", \"ticks\": \"\"}, \"baxis\": {\"gridcolor\": \"white\", \"linecolor\": \"white\", \"ticks\": \"\"}, \"bgcolor\": \"#E5ECF6\", \"caxis\": {\"gridcolor\": \"white\", \"linecolor\": \"white\", \"ticks\": \"\"}}, \"title\": {\"x\": 0.05}, \"xaxis\": {\"automargin\": true, \"gridcolor\": \"white\", \"linecolor\": \"white\", \"ticks\": \"\", \"title\": {\"standoff\": 15}, \"zerolinecolor\": \"white\", \"zerolinewidth\": 2}, \"yaxis\": {\"automargin\": true, \"gridcolor\": \"white\", \"linecolor\": \"white\", \"ticks\": \"\", \"title\": {\"standoff\": 15}, \"zerolinecolor\": \"white\", \"zerolinewidth\": 2}}}, \"title\": {\"font\": {\"color\": \"#4D5663\"}}, \"xaxis\": {\"gridcolor\": \"#E1E5ED\", \"showgrid\": true, \"tickfont\": {\"color\": \"#4D5663\"}, \"title\": {\"font\": {\"color\": \"#4D5663\"}, \"text\": \"\"}, \"zerolinecolor\": \"#E1E5ED\"}, \"yaxis\": {\"gridcolor\": \"#E1E5ED\", \"showgrid\": true, \"tickfont\": {\"color\": \"#4D5663\"}, \"title\": {\"font\": {\"color\": \"#4D5663\"}, \"text\": \"\"}, \"zerolinecolor\": \"#E1E5ED\"}},                        {\"showLink\": true, \"linkText\": \"Export to plot.ly\", \"plotlyServerURL\": \"https://plot.ly\", \"responsive\": true}                    ).then(function(){\n",
       "                            \n",
       "var gd = document.getElementById('4e3b9b8d-e211-4c9e-a0fe-bbb022663133');\n",
       "var x = new MutationObserver(function (mutations, observer) {{\n",
       "        var display = window.getComputedStyle(gd).display;\n",
       "        if (!display || display === 'none') {{\n",
       "            console.log([gd, 'removed!']);\n",
       "            Plotly.purge(gd);\n",
       "            observer.disconnect();\n",
       "        }}\n",
       "}});\n",
       "\n",
       "// Listen for the removal of the full notebook cells\n",
       "var notebookContainer = gd.closest('#notebook-container');\n",
       "if (notebookContainer) {{\n",
       "    x.observe(notebookContainer, {childList: true});\n",
       "}}\n",
       "\n",
       "// Listen for the clearing of the current output cell\n",
       "var outputEl = gd.closest('.output');\n",
       "if (outputEl) {{\n",
       "    x.observe(outputEl, {childList: true});\n",
       "}}\n",
       "\n",
       "                        })                };                });            </script>        </div>"
      ]
     },
     "metadata": {},
     "output_type": "display_data"
    }
   ],
   "source": [
    "df.count().iplot(kind='bar')"
   ]
  },
  {
   "cell_type": "markdown",
   "metadata": {},
   "source": [
    "## Boxplots"
   ]
  },
  {
   "cell_type": "code",
   "execution_count": 15,
   "metadata": {},
   "outputs": [
    {
     "data": {
      "application/vnd.plotly.v1+json": {
       "config": {
        "linkText": "Export to plot.ly",
        "plotlyServerURL": "https://plot.ly",
        "showLink": true
       },
       "data": [
        {
         "boxpoints": false,
         "line": {
          "width": 1.3
         },
         "marker": {
          "color": "rgba(255, 153, 51, 1.0)"
         },
         "name": "A",
         "orientation": "v",
         "type": "box",
         "y": [
          1.461893770697725,
          -2.031160136012203,
          0.9383409670828389,
          -1.0813533287292119,
          0.06490918815450783,
          1.8950072332017274,
          -0.8714365596373268,
          -0.13074620114977334,
          -1.0923246928318198,
          -0.3760998942311332,
          -0.5361900499629562,
          0.42029273811322426,
          0.879026444738448,
          0.17853057276926443,
          -1.4226047615565995,
          -0.38553936634836816,
          0.9254705828347399,
          0.8974413892643344,
          1.3593724162723089,
          0.41746771734852006,
          -0.1947229051061254,
          -0.4999893146137153,
          -0.4502113162411071,
          -1.1360014209107259,
          0.1844178473890677,
          1.5753255655453786,
          0.4753674301421128,
          1.635707798585372,
          -1.9187025770275,
          -0.19910344350673406,
          2.285995703848697,
          -0.18915231953896097,
          1.0665423877986695,
          -0.7269122934267687,
          0.36224915062873836,
          -1.5625689349152296,
          -1.1362220420755846,
          -0.529376570887139,
          -0.1934547257057624,
          -1.9720439485780432,
          -0.2710830596477481,
          -0.7385696963294917,
          -0.29410090049820914,
          -0.22419206878488449,
          0.1508245116866706,
          -0.6057299795009865,
          0.3191505714649677,
          -0.1976198986566658,
          1.093282680008958,
          -1.0799453836674373,
          -0.3616335539043888,
          1.6107952178764182,
          -0.5891018790468924,
          0.7666351833383529,
          0.32222045304544167,
          -1.6872013582758036,
          -0.3720711616276398,
          1.3420408631947918,
          0.4239471624717882,
          0.48424327553353297,
          -1.5961692749707352,
          0.5882171437466279,
          0.6566669461687532,
          -1.9603468546639706,
          0.42870138393368024,
          -0.1978041090111149,
          0.05723177511114498,
          0.4475509991023478,
          0.662730871880016,
          -1.796202287216889,
          0.7165184267275085,
          0.3326216988143618,
          -0.8140493568522115,
          -1.247832137911998,
          0.9859507943329427,
          1.1948398652848742,
          -2.145947615545814,
          0.5339270311517821,
          0.10249930114413236,
          -0.8916324021834575,
          0.41078863879970284,
          -0.49795290561896394,
          -1.155769242450663,
          0.781716927247144,
          1.6136963240432758,
          -0.7802444642438957,
          -1.492354210417422,
          0.2299947473973307,
          0.50259957066577,
          -0.16700157611497873,
          0.8226788892451177,
          2.982546810969779,
          3.0055258787254777,
          1.3661389107738293,
          0.5470135690673502,
          0.5968793086096759,
          -0.14023490153269502,
          -0.8605446276038548,
          -1.5963739249397044,
          -1.444803862861764
         ]
        },
        {
         "boxpoints": false,
         "line": {
          "width": 1.3
         },
         "marker": {
          "color": "rgba(55, 128, 191, 1.0)"
         },
         "name": "B",
         "orientation": "v",
         "type": "box",
         "y": [
          0.034821286830913595,
          -0.18465032640783027,
          -0.14559546878046986,
          0.5188969049323175,
          -0.13523853126955251,
          0.4318092832469963,
          0.4325114508880798,
          0.8998324403091219,
          0.9869125426600849,
          -0.8835232633714301,
          -2.3386192321621593,
          -1.6118761339264471,
          0.10490498434779806,
          -0.11092067933578692,
          0.1497009282397037,
          0.21076101732022792,
          0.39342478099064543,
          0.09132770586791539,
          0.2235968602504518,
          0.5677210023540927,
          -1.0883412917672228,
          -1.8634393578585162,
          2.071587906399981,
          -0.2801596751511832,
          0.12974489483726634,
          -0.03866485905727695,
          -0.03705076808737536,
          0.266357287604477,
          -0.7895322783647806,
          -0.1313370074749674,
          0.29259171698821895,
          -0.9007171494773731,
          -0.44891096939266245,
          1.008360713707377,
          0.7022439971995453,
          -0.7388691932128125,
          -1.4161292923720754,
          0.6474949831892831,
          0.47941356849780564,
          -0.2226059661427326,
          0.7618380699786111,
          -0.4477183007832323,
          -1.631693115173997,
          -0.09544522195089203,
          0.38537878900500644,
          -1.6441145363155063,
          0.21192444622315587,
          0.4511506586037992,
          -0.48756326634889624,
          -0.21143097507909714,
          -0.5064990676682648,
          -1.0304321937806444,
          -0.019262704289807565,
          -1.604129921098689,
          -0.7383698476057221,
          1.3744145867047832,
          -0.6875300541608018,
          -1.432387014408365,
          -1.0911982035031977,
          -0.13054703854233995,
          1.1149311389889858,
          0.9001591157267788,
          -0.027854177862134483,
          1.2499369055465825,
          -1.2563150649919035,
          -1.090926431089866,
          -0.17154256161045614,
          0.40402861851447225,
          -0.4517637786378383,
          -0.5959254526808988,
          -0.22125715901868098,
          0.5929169086168804,
          -0.949141669608413,
          1.1757531398322179,
          -2.0803217164995567,
          1.4384986621172728,
          -2.855634131971656,
          2.50215174769151,
          -0.6929526624471934,
          -1.6328247656936599,
          0.2698539871691669,
          -0.07005116943214082,
          1.6175284729997843,
          0.320895211020274,
          1.1316523527374969,
          0.7552513179923331,
          -0.5942685588961929,
          -1.6287220322329163,
          -0.8798472555314089,
          -0.9907060380812681,
          1.9345505655688178,
          -2.332218944909156,
          -1.056372116065171,
          0.7409704824269928,
          -1.080315368386018,
          -0.8325915945468163,
          1.9969983133617488,
          -1.0556709675869194,
          -0.4863793541163955,
          1.0783741055559404
         ]
        },
        {
         "boxpoints": false,
         "line": {
          "width": 1.3
         },
         "marker": {
          "color": "rgba(50, 171, 96, 1.0)"
         },
         "name": "C",
         "orientation": "v",
         "type": "box",
         "y": [
          -1.3006439390419213,
          -1.5869428894916857,
          1.6584156322277297,
          1.1454895984758002,
          0.26305874170738214,
          0.18169075545795593,
          2.049882895147626,
          0.9751021242023927,
          0.49763035924651966,
          -0.2699429415928433,
          -0.12043157616536791,
          1.4374498713562214,
          0.20900235766331843,
          0.6556675674759445,
          1.8973297280603958,
          0.8427255482081416,
          1.7082547812460323,
          0.017750429306643205,
          0.4500499325582488,
          -0.8538785358257017,
          0.06917465193911768,
          -0.8457428228603481,
          -0.39300748236144395,
          -0.049818025916309176,
          0.3420255676571834,
          0.6466404435436525,
          -0.20063447291984013,
          -1.508460519468425,
          -1.0609201044304024,
          -0.12145840112153206,
          -0.20405058682302613,
          -1.881772150723473,
          2.3835496250831536,
          0.17966391898446107,
          -0.617124798099804,
          -1.6380122871760459,
          -0.4579325651942999,
          -0.8902809656395981,
          -1.225913121433058,
          0.3381736947527816,
          -0.35181278122228776,
          1.1708823544188276,
          0.06242773220790924,
          0.605154909058938,
          1.194665184679022,
          1.799703514124367,
          1.0415031625574367,
          0.5172321467735154,
          1.2326986939789457,
          0.5767693425208671,
          -0.0810318735326804,
          -1.181117253724347,
          0.591798697179144,
          0.023927778208549265,
          1.3308313195178632,
          1.7876580854721933,
          0.2451964611789251,
          1.2118584926223146,
          0.9248978298938114,
          0.6288037532284884,
          -0.9100452231862963,
          1.220958319165513,
          -1.6651481255255152,
          -0.5539365894845161,
          0.476772125380621,
          -0.29208337178506877,
          -0.19850216763491732,
          -0.3700241457675619,
          0.06157123485305369,
          -0.4050632037003498,
          0.21639500673184853,
          -0.46978851354341283,
          0.40580983625952316,
          0.1764522083787632,
          0.38955028416042864,
          0.9408047258772444,
          -0.18997999970519125,
          -1.9449951189881642,
          -1.1208996812792928,
          -0.08301743154608002,
          0.7046389281930101,
          0.6288921709972379,
          0.6154250225584101,
          0.6081757181318705,
          0.11518836746403047,
          -0.07670629986561184,
          0.9372166992044042,
          0.15515784635335986,
          -0.5456248795256357,
          1.5648090855472,
          0.25847007703544206,
          0.15517839738747133,
          0.7837265744617542,
          -0.8105920661399413,
          -0.5514826145921592,
          -1.2759353061903793,
          2.141008033228579,
          -0.34105574668218674,
          1.2630246771691185,
          0.5154608994903594
         ]
        },
        {
         "boxpoints": false,
         "line": {
          "width": 1.3
         },
         "marker": {
          "color": "rgba(128, 0, 128, 1.0)"
         },
         "name": "D",
         "orientation": "v",
         "type": "box",
         "y": [
          0.920800150226663,
          -1.31273310100431,
          -0.2506892666572051,
          -0.14472307540744628,
          -1.2671642900969546,
          -0.7208061556399158,
          -1.0978180728006743,
          1.7102122683250764,
          0.04282512146048713,
          -0.9056334644821414,
          -0.050215363787716745,
          0.2284892428698987,
          -0.3414428231936035,
          0.005451354144702166,
          -0.12508070732114435,
          -0.8798089672156296,
          0.7449764381376779,
          1.5493563424845054,
          0.03306304488813176,
          0.2146737740544726,
          0.8651591037433622,
          0.8125359794252041,
          -0.14569911963245671,
          -1.2458812204011198,
          0.5834898622859467,
          0.3100124177206263,
          0.6272890177863465,
          -0.29748883022681855,
          -0.5612135998486016,
          -1.9551407722741936,
          0.8886050149854016,
          -0.17185888595459797,
          1.4666887549456646,
          1.0881281001401026,
          -0.43424006988001335,
          0.8057521728223583,
          -0.6940338012932591,
          -1.2896955806292065,
          -0.3596415442686988,
          0.5149363316465175,
          -0.5301961460413503,
          -0.20401316513175657,
          -0.5396877882312896,
          0.02562575012816123,
          0.7618331667986569,
          1.5094278940479409,
          0.1545270842243974,
          0.31791293745335153,
          -1.1215459801368062,
          -0.7317589899206769,
          0.9081389449079212,
          0.2637652289834318,
          0.4683325836298606,
          -0.7138212114938386,
          0.17289276195379755,
          -0.5633287591229841,
          0.40064279577768613,
          -0.4251129861233925,
          0.7413545596064026,
          -0.16076512298317275,
          0.794455744262156,
          -1.6701165173213774,
          0.7879498653508518,
          1.0848592821401286,
          1.524091492332574,
          -0.3462545381815603,
          -1.3096185877625999,
          -0.21566138689762632,
          -0.08197268678068677,
          0.07742914487239234,
          -0.025368265087929606,
          -1.3432087948898332,
          -0.49084669754529275,
          -1.0072800160286641,
          -1.5470280154425398,
          1.0161098110676825,
          0.0643882130791756,
          -0.18467387945435096,
          1.0371198404394766,
          0.887929312910137,
          -0.3055252760885695,
          0.8115488749915565,
          1.5485055022421659,
          -1.1159776392689102,
          1.0733571335849768,
          1.672702413665626,
          0.1932863446240364,
          -0.3836004921065508,
          0.6620887056422244,
          0.386748415432396,
          0.12411791182120754,
          1.119767331714733,
          -0.9831014734559389,
          0.40407160429411626,
          -0.030106735843152228,
          0.16912959026382893,
          0.8779644568785554,
          -1.4129792359828843,
          0.6302328966401511,
          -0.1536331124963864
         ]
        }
       ],
       "layout": {
        "legend": {
         "bgcolor": "#F5F6F9",
         "font": {
          "color": "#4D5663"
         }
        },
        "paper_bgcolor": "#F5F6F9",
        "plot_bgcolor": "#F5F6F9",
        "template": {
         "data": {
          "bar": [
           {
            "error_x": {
             "color": "#2a3f5f"
            },
            "error_y": {
             "color": "#2a3f5f"
            },
            "marker": {
             "line": {
              "color": "#E5ECF6",
              "width": 0.5
             }
            },
            "type": "bar"
           }
          ],
          "barpolar": [
           {
            "marker": {
             "line": {
              "color": "#E5ECF6",
              "width": 0.5
             }
            },
            "type": "barpolar"
           }
          ],
          "carpet": [
           {
            "aaxis": {
             "endlinecolor": "#2a3f5f",
             "gridcolor": "white",
             "linecolor": "white",
             "minorgridcolor": "white",
             "startlinecolor": "#2a3f5f"
            },
            "baxis": {
             "endlinecolor": "#2a3f5f",
             "gridcolor": "white",
             "linecolor": "white",
             "minorgridcolor": "white",
             "startlinecolor": "#2a3f5f"
            },
            "type": "carpet"
           }
          ],
          "choropleth": [
           {
            "colorbar": {
             "outlinewidth": 0,
             "ticks": ""
            },
            "type": "choropleth"
           }
          ],
          "contour": [
           {
            "colorbar": {
             "outlinewidth": 0,
             "ticks": ""
            },
            "colorscale": [
             [
              0,
              "#0d0887"
             ],
             [
              0.1111111111111111,
              "#46039f"
             ],
             [
              0.2222222222222222,
              "#7201a8"
             ],
             [
              0.3333333333333333,
              "#9c179e"
             ],
             [
              0.4444444444444444,
              "#bd3786"
             ],
             [
              0.5555555555555556,
              "#d8576b"
             ],
             [
              0.6666666666666666,
              "#ed7953"
             ],
             [
              0.7777777777777778,
              "#fb9f3a"
             ],
             [
              0.8888888888888888,
              "#fdca26"
             ],
             [
              1,
              "#f0f921"
             ]
            ],
            "type": "contour"
           }
          ],
          "contourcarpet": [
           {
            "colorbar": {
             "outlinewidth": 0,
             "ticks": ""
            },
            "type": "contourcarpet"
           }
          ],
          "heatmap": [
           {
            "colorbar": {
             "outlinewidth": 0,
             "ticks": ""
            },
            "colorscale": [
             [
              0,
              "#0d0887"
             ],
             [
              0.1111111111111111,
              "#46039f"
             ],
             [
              0.2222222222222222,
              "#7201a8"
             ],
             [
              0.3333333333333333,
              "#9c179e"
             ],
             [
              0.4444444444444444,
              "#bd3786"
             ],
             [
              0.5555555555555556,
              "#d8576b"
             ],
             [
              0.6666666666666666,
              "#ed7953"
             ],
             [
              0.7777777777777778,
              "#fb9f3a"
             ],
             [
              0.8888888888888888,
              "#fdca26"
             ],
             [
              1,
              "#f0f921"
             ]
            ],
            "type": "heatmap"
           }
          ],
          "heatmapgl": [
           {
            "colorbar": {
             "outlinewidth": 0,
             "ticks": ""
            },
            "colorscale": [
             [
              0,
              "#0d0887"
             ],
             [
              0.1111111111111111,
              "#46039f"
             ],
             [
              0.2222222222222222,
              "#7201a8"
             ],
             [
              0.3333333333333333,
              "#9c179e"
             ],
             [
              0.4444444444444444,
              "#bd3786"
             ],
             [
              0.5555555555555556,
              "#d8576b"
             ],
             [
              0.6666666666666666,
              "#ed7953"
             ],
             [
              0.7777777777777778,
              "#fb9f3a"
             ],
             [
              0.8888888888888888,
              "#fdca26"
             ],
             [
              1,
              "#f0f921"
             ]
            ],
            "type": "heatmapgl"
           }
          ],
          "histogram": [
           {
            "marker": {
             "colorbar": {
              "outlinewidth": 0,
              "ticks": ""
             }
            },
            "type": "histogram"
           }
          ],
          "histogram2d": [
           {
            "colorbar": {
             "outlinewidth": 0,
             "ticks": ""
            },
            "colorscale": [
             [
              0,
              "#0d0887"
             ],
             [
              0.1111111111111111,
              "#46039f"
             ],
             [
              0.2222222222222222,
              "#7201a8"
             ],
             [
              0.3333333333333333,
              "#9c179e"
             ],
             [
              0.4444444444444444,
              "#bd3786"
             ],
             [
              0.5555555555555556,
              "#d8576b"
             ],
             [
              0.6666666666666666,
              "#ed7953"
             ],
             [
              0.7777777777777778,
              "#fb9f3a"
             ],
             [
              0.8888888888888888,
              "#fdca26"
             ],
             [
              1,
              "#f0f921"
             ]
            ],
            "type": "histogram2d"
           }
          ],
          "histogram2dcontour": [
           {
            "colorbar": {
             "outlinewidth": 0,
             "ticks": ""
            },
            "colorscale": [
             [
              0,
              "#0d0887"
             ],
             [
              0.1111111111111111,
              "#46039f"
             ],
             [
              0.2222222222222222,
              "#7201a8"
             ],
             [
              0.3333333333333333,
              "#9c179e"
             ],
             [
              0.4444444444444444,
              "#bd3786"
             ],
             [
              0.5555555555555556,
              "#d8576b"
             ],
             [
              0.6666666666666666,
              "#ed7953"
             ],
             [
              0.7777777777777778,
              "#fb9f3a"
             ],
             [
              0.8888888888888888,
              "#fdca26"
             ],
             [
              1,
              "#f0f921"
             ]
            ],
            "type": "histogram2dcontour"
           }
          ],
          "mesh3d": [
           {
            "colorbar": {
             "outlinewidth": 0,
             "ticks": ""
            },
            "type": "mesh3d"
           }
          ],
          "parcoords": [
           {
            "line": {
             "colorbar": {
              "outlinewidth": 0,
              "ticks": ""
             }
            },
            "type": "parcoords"
           }
          ],
          "pie": [
           {
            "automargin": true,
            "type": "pie"
           }
          ],
          "scatter": [
           {
            "marker": {
             "colorbar": {
              "outlinewidth": 0,
              "ticks": ""
             }
            },
            "type": "scatter"
           }
          ],
          "scatter3d": [
           {
            "line": {
             "colorbar": {
              "outlinewidth": 0,
              "ticks": ""
             }
            },
            "marker": {
             "colorbar": {
              "outlinewidth": 0,
              "ticks": ""
             }
            },
            "type": "scatter3d"
           }
          ],
          "scattercarpet": [
           {
            "marker": {
             "colorbar": {
              "outlinewidth": 0,
              "ticks": ""
             }
            },
            "type": "scattercarpet"
           }
          ],
          "scattergeo": [
           {
            "marker": {
             "colorbar": {
              "outlinewidth": 0,
              "ticks": ""
             }
            },
            "type": "scattergeo"
           }
          ],
          "scattergl": [
           {
            "marker": {
             "colorbar": {
              "outlinewidth": 0,
              "ticks": ""
             }
            },
            "type": "scattergl"
           }
          ],
          "scattermapbox": [
           {
            "marker": {
             "colorbar": {
              "outlinewidth": 0,
              "ticks": ""
             }
            },
            "type": "scattermapbox"
           }
          ],
          "scatterpolar": [
           {
            "marker": {
             "colorbar": {
              "outlinewidth": 0,
              "ticks": ""
             }
            },
            "type": "scatterpolar"
           }
          ],
          "scatterpolargl": [
           {
            "marker": {
             "colorbar": {
              "outlinewidth": 0,
              "ticks": ""
             }
            },
            "type": "scatterpolargl"
           }
          ],
          "scatterternary": [
           {
            "marker": {
             "colorbar": {
              "outlinewidth": 0,
              "ticks": ""
             }
            },
            "type": "scatterternary"
           }
          ],
          "surface": [
           {
            "colorbar": {
             "outlinewidth": 0,
             "ticks": ""
            },
            "colorscale": [
             [
              0,
              "#0d0887"
             ],
             [
              0.1111111111111111,
              "#46039f"
             ],
             [
              0.2222222222222222,
              "#7201a8"
             ],
             [
              0.3333333333333333,
              "#9c179e"
             ],
             [
              0.4444444444444444,
              "#bd3786"
             ],
             [
              0.5555555555555556,
              "#d8576b"
             ],
             [
              0.6666666666666666,
              "#ed7953"
             ],
             [
              0.7777777777777778,
              "#fb9f3a"
             ],
             [
              0.8888888888888888,
              "#fdca26"
             ],
             [
              1,
              "#f0f921"
             ]
            ],
            "type": "surface"
           }
          ],
          "table": [
           {
            "cells": {
             "fill": {
              "color": "#EBF0F8"
             },
             "line": {
              "color": "white"
             }
            },
            "header": {
             "fill": {
              "color": "#C8D4E3"
             },
             "line": {
              "color": "white"
             }
            },
            "type": "table"
           }
          ]
         },
         "layout": {
          "annotationdefaults": {
           "arrowcolor": "#2a3f5f",
           "arrowhead": 0,
           "arrowwidth": 1
          },
          "autotypenumbers": "strict",
          "coloraxis": {
           "colorbar": {
            "outlinewidth": 0,
            "ticks": ""
           }
          },
          "colorscale": {
           "diverging": [
            [
             0,
             "#8e0152"
            ],
            [
             0.1,
             "#c51b7d"
            ],
            [
             0.2,
             "#de77ae"
            ],
            [
             0.3,
             "#f1b6da"
            ],
            [
             0.4,
             "#fde0ef"
            ],
            [
             0.5,
             "#f7f7f7"
            ],
            [
             0.6,
             "#e6f5d0"
            ],
            [
             0.7,
             "#b8e186"
            ],
            [
             0.8,
             "#7fbc41"
            ],
            [
             0.9,
             "#4d9221"
            ],
            [
             1,
             "#276419"
            ]
           ],
           "sequential": [
            [
             0,
             "#0d0887"
            ],
            [
             0.1111111111111111,
             "#46039f"
            ],
            [
             0.2222222222222222,
             "#7201a8"
            ],
            [
             0.3333333333333333,
             "#9c179e"
            ],
            [
             0.4444444444444444,
             "#bd3786"
            ],
            [
             0.5555555555555556,
             "#d8576b"
            ],
            [
             0.6666666666666666,
             "#ed7953"
            ],
            [
             0.7777777777777778,
             "#fb9f3a"
            ],
            [
             0.8888888888888888,
             "#fdca26"
            ],
            [
             1,
             "#f0f921"
            ]
           ],
           "sequentialminus": [
            [
             0,
             "#0d0887"
            ],
            [
             0.1111111111111111,
             "#46039f"
            ],
            [
             0.2222222222222222,
             "#7201a8"
            ],
            [
             0.3333333333333333,
             "#9c179e"
            ],
            [
             0.4444444444444444,
             "#bd3786"
            ],
            [
             0.5555555555555556,
             "#d8576b"
            ],
            [
             0.6666666666666666,
             "#ed7953"
            ],
            [
             0.7777777777777778,
             "#fb9f3a"
            ],
            [
             0.8888888888888888,
             "#fdca26"
            ],
            [
             1,
             "#f0f921"
            ]
           ]
          },
          "colorway": [
           "#636efa",
           "#EF553B",
           "#00cc96",
           "#ab63fa",
           "#FFA15A",
           "#19d3f3",
           "#FF6692",
           "#B6E880",
           "#FF97FF",
           "#FECB52"
          ],
          "font": {
           "color": "#2a3f5f"
          },
          "geo": {
           "bgcolor": "white",
           "lakecolor": "white",
           "landcolor": "#E5ECF6",
           "showlakes": true,
           "showland": true,
           "subunitcolor": "white"
          },
          "hoverlabel": {
           "align": "left"
          },
          "hovermode": "closest",
          "mapbox": {
           "style": "light"
          },
          "paper_bgcolor": "white",
          "plot_bgcolor": "#E5ECF6",
          "polar": {
           "angularaxis": {
            "gridcolor": "white",
            "linecolor": "white",
            "ticks": ""
           },
           "bgcolor": "#E5ECF6",
           "radialaxis": {
            "gridcolor": "white",
            "linecolor": "white",
            "ticks": ""
           }
          },
          "scene": {
           "xaxis": {
            "backgroundcolor": "#E5ECF6",
            "gridcolor": "white",
            "gridwidth": 2,
            "linecolor": "white",
            "showbackground": true,
            "ticks": "",
            "zerolinecolor": "white"
           },
           "yaxis": {
            "backgroundcolor": "#E5ECF6",
            "gridcolor": "white",
            "gridwidth": 2,
            "linecolor": "white",
            "showbackground": true,
            "ticks": "",
            "zerolinecolor": "white"
           },
           "zaxis": {
            "backgroundcolor": "#E5ECF6",
            "gridcolor": "white",
            "gridwidth": 2,
            "linecolor": "white",
            "showbackground": true,
            "ticks": "",
            "zerolinecolor": "white"
           }
          },
          "shapedefaults": {
           "line": {
            "color": "#2a3f5f"
           }
          },
          "ternary": {
           "aaxis": {
            "gridcolor": "white",
            "linecolor": "white",
            "ticks": ""
           },
           "baxis": {
            "gridcolor": "white",
            "linecolor": "white",
            "ticks": ""
           },
           "bgcolor": "#E5ECF6",
           "caxis": {
            "gridcolor": "white",
            "linecolor": "white",
            "ticks": ""
           }
          },
          "title": {
           "x": 0.05
          },
          "xaxis": {
           "automargin": true,
           "gridcolor": "white",
           "linecolor": "white",
           "ticks": "",
           "title": {
            "standoff": 15
           },
           "zerolinecolor": "white",
           "zerolinewidth": 2
          },
          "yaxis": {
           "automargin": true,
           "gridcolor": "white",
           "linecolor": "white",
           "ticks": "",
           "title": {
            "standoff": 15
           },
           "zerolinecolor": "white",
           "zerolinewidth": 2
          }
         }
        },
        "title": {
         "font": {
          "color": "#4D5663"
         }
        },
        "xaxis": {
         "gridcolor": "#E1E5ED",
         "showgrid": true,
         "tickfont": {
          "color": "#4D5663"
         },
         "title": {
          "font": {
           "color": "#4D5663"
          },
          "text": ""
         },
         "zerolinecolor": "#E1E5ED"
        },
        "yaxis": {
         "gridcolor": "#E1E5ED",
         "showgrid": true,
         "tickfont": {
          "color": "#4D5663"
         },
         "title": {
          "font": {
           "color": "#4D5663"
          },
          "text": ""
         },
         "zerolinecolor": "#E1E5ED"
        }
       }
      },
      "text/html": [
       "<div>                            <div id=\"ce05d8c4-98b9-4cac-8647-30fc5d19e924\" class=\"plotly-graph-div\" style=\"height:525px; width:100%;\"></div>            <script type=\"text/javascript\">                require([\"plotly\"], function(Plotly) {                    window.PLOTLYENV=window.PLOTLYENV || {};\n",
       "                    window.PLOTLYENV.BASE_URL='https://plot.ly';                                    if (document.getElementById(\"ce05d8c4-98b9-4cac-8647-30fc5d19e924\")) {                    Plotly.newPlot(                        \"ce05d8c4-98b9-4cac-8647-30fc5d19e924\",                        [{\"boxpoints\": false, \"line\": {\"width\": 1.3}, \"marker\": {\"color\": \"rgba(255, 153, 51, 1.0)\"}, \"name\": \"A\", \"orientation\": \"v\", \"type\": \"box\", \"y\": [1.461893770697725, -2.031160136012203, 0.9383409670828389, -1.0813533287292119, 0.06490918815450783, 1.8950072332017274, -0.8714365596373268, -0.13074620114977334, -1.0923246928318198, -0.3760998942311332, -0.5361900499629562, 0.42029273811322426, 0.879026444738448, 0.17853057276926443, -1.4226047615565995, -0.38553936634836816, 0.9254705828347399, 0.8974413892643344, 1.3593724162723089, 0.41746771734852006, -0.1947229051061254, -0.4999893146137153, -0.4502113162411071, -1.1360014209107259, 0.1844178473890677, 1.5753255655453786, 0.4753674301421128, 1.635707798585372, -1.9187025770275, -0.19910344350673406, 2.285995703848697, -0.18915231953896097, 1.0665423877986695, -0.7269122934267687, 0.36224915062873836, -1.5625689349152296, -1.1362220420755846, -0.529376570887139, -0.1934547257057624, -1.9720439485780432, -0.2710830596477481, -0.7385696963294917, -0.29410090049820914, -0.22419206878488449, 0.1508245116866706, -0.6057299795009865, 0.3191505714649677, -0.1976198986566658, 1.093282680008958, -1.0799453836674373, -0.3616335539043888, 1.6107952178764182, -0.5891018790468924, 0.7666351833383529, 0.32222045304544167, -1.6872013582758036, -0.3720711616276398, 1.3420408631947918, 0.4239471624717882, 0.48424327553353297, -1.5961692749707352, 0.5882171437466279, 0.6566669461687532, -1.9603468546639706, 0.42870138393368024, -0.1978041090111149, 0.05723177511114498, 0.4475509991023478, 0.662730871880016, -1.796202287216889, 0.7165184267275085, 0.3326216988143618, -0.8140493568522115, -1.247832137911998, 0.9859507943329427, 1.1948398652848742, -2.145947615545814, 0.5339270311517821, 0.10249930114413236, -0.8916324021834575, 0.41078863879970284, -0.49795290561896394, -1.155769242450663, 0.781716927247144, 1.6136963240432758, -0.7802444642438957, -1.492354210417422, 0.2299947473973307, 0.50259957066577, -0.16700157611497873, 0.8226788892451177, 2.982546810969779, 3.0055258787254777, 1.3661389107738293, 0.5470135690673502, 0.5968793086096759, -0.14023490153269502, -0.8605446276038548, -1.5963739249397044, -1.444803862861764]}, {\"boxpoints\": false, \"line\": {\"width\": 1.3}, \"marker\": {\"color\": \"rgba(55, 128, 191, 1.0)\"}, \"name\": \"B\", \"orientation\": \"v\", \"type\": \"box\", \"y\": [0.034821286830913595, -0.18465032640783027, -0.14559546878046986, 0.5188969049323175, -0.13523853126955251, 0.4318092832469963, 0.4325114508880798, 0.8998324403091219, 0.9869125426600849, -0.8835232633714301, -2.3386192321621593, -1.6118761339264471, 0.10490498434779806, -0.11092067933578692, 0.1497009282397037, 0.21076101732022792, 0.39342478099064543, 0.09132770586791539, 0.2235968602504518, 0.5677210023540927, -1.0883412917672228, -1.8634393578585162, 2.071587906399981, -0.2801596751511832, 0.12974489483726634, -0.03866485905727695, -0.03705076808737536, 0.266357287604477, -0.7895322783647806, -0.1313370074749674, 0.29259171698821895, -0.9007171494773731, -0.44891096939266245, 1.008360713707377, 0.7022439971995453, -0.7388691932128125, -1.4161292923720754, 0.6474949831892831, 0.47941356849780564, -0.2226059661427326, 0.7618380699786111, -0.4477183007832323, -1.631693115173997, -0.09544522195089203, 0.38537878900500644, -1.6441145363155063, 0.21192444622315587, 0.4511506586037992, -0.48756326634889624, -0.21143097507909714, -0.5064990676682648, -1.0304321937806444, -0.019262704289807565, -1.604129921098689, -0.7383698476057221, 1.3744145867047832, -0.6875300541608018, -1.432387014408365, -1.0911982035031977, -0.13054703854233995, 1.1149311389889858, 0.9001591157267788, -0.027854177862134483, 1.2499369055465825, -1.2563150649919035, -1.090926431089866, -0.17154256161045614, 0.40402861851447225, -0.4517637786378383, -0.5959254526808988, -0.22125715901868098, 0.5929169086168804, -0.949141669608413, 1.1757531398322179, -2.0803217164995567, 1.4384986621172728, -2.855634131971656, 2.50215174769151, -0.6929526624471934, -1.6328247656936599, 0.2698539871691669, -0.07005116943214082, 1.6175284729997843, 0.320895211020274, 1.1316523527374969, 0.7552513179923331, -0.5942685588961929, -1.6287220322329163, -0.8798472555314089, -0.9907060380812681, 1.9345505655688178, -2.332218944909156, -1.056372116065171, 0.7409704824269928, -1.080315368386018, -0.8325915945468163, 1.9969983133617488, -1.0556709675869194, -0.4863793541163955, 1.0783741055559404]}, {\"boxpoints\": false, \"line\": {\"width\": 1.3}, \"marker\": {\"color\": \"rgba(50, 171, 96, 1.0)\"}, \"name\": \"C\", \"orientation\": \"v\", \"type\": \"box\", \"y\": [-1.3006439390419213, -1.5869428894916857, 1.6584156322277297, 1.1454895984758002, 0.26305874170738214, 0.18169075545795593, 2.049882895147626, 0.9751021242023927, 0.49763035924651966, -0.2699429415928433, -0.12043157616536791, 1.4374498713562214, 0.20900235766331843, 0.6556675674759445, 1.8973297280603958, 0.8427255482081416, 1.7082547812460323, 0.017750429306643205, 0.4500499325582488, -0.8538785358257017, 0.06917465193911768, -0.8457428228603481, -0.39300748236144395, -0.049818025916309176, 0.3420255676571834, 0.6466404435436525, -0.20063447291984013, -1.508460519468425, -1.0609201044304024, -0.12145840112153206, -0.20405058682302613, -1.881772150723473, 2.3835496250831536, 0.17966391898446107, -0.617124798099804, -1.6380122871760459, -0.4579325651942999, -0.8902809656395981, -1.225913121433058, 0.3381736947527816, -0.35181278122228776, 1.1708823544188276, 0.06242773220790924, 0.605154909058938, 1.194665184679022, 1.799703514124367, 1.0415031625574367, 0.5172321467735154, 1.2326986939789457, 0.5767693425208671, -0.0810318735326804, -1.181117253724347, 0.591798697179144, 0.023927778208549265, 1.3308313195178632, 1.7876580854721933, 0.2451964611789251, 1.2118584926223146, 0.9248978298938114, 0.6288037532284884, -0.9100452231862963, 1.220958319165513, -1.6651481255255152, -0.5539365894845161, 0.476772125380621, -0.29208337178506877, -0.19850216763491732, -0.3700241457675619, 0.06157123485305369, -0.4050632037003498, 0.21639500673184853, -0.46978851354341283, 0.40580983625952316, 0.1764522083787632, 0.38955028416042864, 0.9408047258772444, -0.18997999970519125, -1.9449951189881642, -1.1208996812792928, -0.08301743154608002, 0.7046389281930101, 0.6288921709972379, 0.6154250225584101, 0.6081757181318705, 0.11518836746403047, -0.07670629986561184, 0.9372166992044042, 0.15515784635335986, -0.5456248795256357, 1.5648090855472, 0.25847007703544206, 0.15517839738747133, 0.7837265744617542, -0.8105920661399413, -0.5514826145921592, -1.2759353061903793, 2.141008033228579, -0.34105574668218674, 1.2630246771691185, 0.5154608994903594]}, {\"boxpoints\": false, \"line\": {\"width\": 1.3}, \"marker\": {\"color\": \"rgba(128, 0, 128, 1.0)\"}, \"name\": \"D\", \"orientation\": \"v\", \"type\": \"box\", \"y\": [0.920800150226663, -1.31273310100431, -0.2506892666572051, -0.14472307540744628, -1.2671642900969546, -0.7208061556399158, -1.0978180728006743, 1.7102122683250764, 0.04282512146048713, -0.9056334644821414, -0.050215363787716745, 0.2284892428698987, -0.3414428231936035, 0.005451354144702166, -0.12508070732114435, -0.8798089672156296, 0.7449764381376779, 1.5493563424845054, 0.03306304488813176, 0.2146737740544726, 0.8651591037433622, 0.8125359794252041, -0.14569911963245671, -1.2458812204011198, 0.5834898622859467, 0.3100124177206263, 0.6272890177863465, -0.29748883022681855, -0.5612135998486016, -1.9551407722741936, 0.8886050149854016, -0.17185888595459797, 1.4666887549456646, 1.0881281001401026, -0.43424006988001335, 0.8057521728223583, -0.6940338012932591, -1.2896955806292065, -0.3596415442686988, 0.5149363316465175, -0.5301961460413503, -0.20401316513175657, -0.5396877882312896, 0.02562575012816123, 0.7618331667986569, 1.5094278940479409, 0.1545270842243974, 0.31791293745335153, -1.1215459801368062, -0.7317589899206769, 0.9081389449079212, 0.2637652289834318, 0.4683325836298606, -0.7138212114938386, 0.17289276195379755, -0.5633287591229841, 0.40064279577768613, -0.4251129861233925, 0.7413545596064026, -0.16076512298317275, 0.794455744262156, -1.6701165173213774, 0.7879498653508518, 1.0848592821401286, 1.524091492332574, -0.3462545381815603, -1.3096185877625999, -0.21566138689762632, -0.08197268678068677, 0.07742914487239234, -0.025368265087929606, -1.3432087948898332, -0.49084669754529275, -1.0072800160286641, -1.5470280154425398, 1.0161098110676825, 0.0643882130791756, -0.18467387945435096, 1.0371198404394766, 0.887929312910137, -0.3055252760885695, 0.8115488749915565, 1.5485055022421659, -1.1159776392689102, 1.0733571335849768, 1.672702413665626, 0.1932863446240364, -0.3836004921065508, 0.6620887056422244, 0.386748415432396, 0.12411791182120754, 1.119767331714733, -0.9831014734559389, 0.40407160429411626, -0.030106735843152228, 0.16912959026382893, 0.8779644568785554, -1.4129792359828843, 0.6302328966401511, -0.1536331124963864]}],                        {\"legend\": {\"bgcolor\": \"#F5F6F9\", \"font\": {\"color\": \"#4D5663\"}}, \"paper_bgcolor\": \"#F5F6F9\", \"plot_bgcolor\": \"#F5F6F9\", \"template\": {\"data\": {\"bar\": [{\"error_x\": {\"color\": \"#2a3f5f\"}, \"error_y\": {\"color\": \"#2a3f5f\"}, \"marker\": {\"line\": {\"color\": \"#E5ECF6\", \"width\": 0.5}}, \"type\": \"bar\"}], \"barpolar\": [{\"marker\": {\"line\": {\"color\": \"#E5ECF6\", \"width\": 0.5}}, \"type\": \"barpolar\"}], \"carpet\": [{\"aaxis\": {\"endlinecolor\": \"#2a3f5f\", \"gridcolor\": \"white\", \"linecolor\": \"white\", \"minorgridcolor\": \"white\", \"startlinecolor\": \"#2a3f5f\"}, \"baxis\": {\"endlinecolor\": \"#2a3f5f\", \"gridcolor\": \"white\", \"linecolor\": \"white\", \"minorgridcolor\": \"white\", \"startlinecolor\": \"#2a3f5f\"}, \"type\": \"carpet\"}], \"choropleth\": [{\"colorbar\": {\"outlinewidth\": 0, \"ticks\": \"\"}, \"type\": \"choropleth\"}], \"contour\": [{\"colorbar\": {\"outlinewidth\": 0, \"ticks\": \"\"}, \"colorscale\": [[0.0, \"#0d0887\"], [0.1111111111111111, \"#46039f\"], [0.2222222222222222, \"#7201a8\"], [0.3333333333333333, \"#9c179e\"], [0.4444444444444444, \"#bd3786\"], [0.5555555555555556, \"#d8576b\"], [0.6666666666666666, \"#ed7953\"], [0.7777777777777778, \"#fb9f3a\"], [0.8888888888888888, \"#fdca26\"], [1.0, \"#f0f921\"]], \"type\": \"contour\"}], \"contourcarpet\": [{\"colorbar\": {\"outlinewidth\": 0, \"ticks\": \"\"}, \"type\": \"contourcarpet\"}], \"heatmap\": [{\"colorbar\": {\"outlinewidth\": 0, \"ticks\": \"\"}, \"colorscale\": [[0.0, \"#0d0887\"], [0.1111111111111111, \"#46039f\"], [0.2222222222222222, \"#7201a8\"], [0.3333333333333333, \"#9c179e\"], [0.4444444444444444, \"#bd3786\"], [0.5555555555555556, \"#d8576b\"], [0.6666666666666666, \"#ed7953\"], [0.7777777777777778, \"#fb9f3a\"], [0.8888888888888888, \"#fdca26\"], [1.0, \"#f0f921\"]], \"type\": \"heatmap\"}], \"heatmapgl\": [{\"colorbar\": {\"outlinewidth\": 0, \"ticks\": \"\"}, \"colorscale\": [[0.0, \"#0d0887\"], [0.1111111111111111, \"#46039f\"], [0.2222222222222222, \"#7201a8\"], [0.3333333333333333, \"#9c179e\"], [0.4444444444444444, \"#bd3786\"], [0.5555555555555556, \"#d8576b\"], [0.6666666666666666, \"#ed7953\"], [0.7777777777777778, \"#fb9f3a\"], [0.8888888888888888, \"#fdca26\"], [1.0, \"#f0f921\"]], \"type\": \"heatmapgl\"}], \"histogram\": [{\"marker\": {\"colorbar\": {\"outlinewidth\": 0, \"ticks\": \"\"}}, \"type\": \"histogram\"}], \"histogram2d\": [{\"colorbar\": {\"outlinewidth\": 0, \"ticks\": \"\"}, \"colorscale\": [[0.0, \"#0d0887\"], [0.1111111111111111, \"#46039f\"], [0.2222222222222222, \"#7201a8\"], [0.3333333333333333, \"#9c179e\"], [0.4444444444444444, \"#bd3786\"], [0.5555555555555556, \"#d8576b\"], [0.6666666666666666, \"#ed7953\"], [0.7777777777777778, \"#fb9f3a\"], [0.8888888888888888, \"#fdca26\"], [1.0, \"#f0f921\"]], \"type\": \"histogram2d\"}], \"histogram2dcontour\": [{\"colorbar\": {\"outlinewidth\": 0, \"ticks\": \"\"}, \"colorscale\": [[0.0, \"#0d0887\"], [0.1111111111111111, \"#46039f\"], [0.2222222222222222, \"#7201a8\"], [0.3333333333333333, \"#9c179e\"], [0.4444444444444444, \"#bd3786\"], [0.5555555555555556, \"#d8576b\"], [0.6666666666666666, \"#ed7953\"], [0.7777777777777778, \"#fb9f3a\"], [0.8888888888888888, \"#fdca26\"], [1.0, \"#f0f921\"]], \"type\": \"histogram2dcontour\"}], \"mesh3d\": [{\"colorbar\": {\"outlinewidth\": 0, \"ticks\": \"\"}, \"type\": \"mesh3d\"}], \"parcoords\": [{\"line\": {\"colorbar\": {\"outlinewidth\": 0, \"ticks\": \"\"}}, \"type\": \"parcoords\"}], \"pie\": [{\"automargin\": true, \"type\": \"pie\"}], \"scatter\": [{\"marker\": {\"colorbar\": {\"outlinewidth\": 0, \"ticks\": \"\"}}, \"type\": \"scatter\"}], \"scatter3d\": [{\"line\": {\"colorbar\": {\"outlinewidth\": 0, \"ticks\": \"\"}}, \"marker\": {\"colorbar\": {\"outlinewidth\": 0, \"ticks\": \"\"}}, \"type\": \"scatter3d\"}], \"scattercarpet\": [{\"marker\": {\"colorbar\": {\"outlinewidth\": 0, \"ticks\": \"\"}}, \"type\": \"scattercarpet\"}], \"scattergeo\": [{\"marker\": {\"colorbar\": {\"outlinewidth\": 0, \"ticks\": \"\"}}, \"type\": \"scattergeo\"}], \"scattergl\": [{\"marker\": {\"colorbar\": {\"outlinewidth\": 0, \"ticks\": \"\"}}, \"type\": \"scattergl\"}], \"scattermapbox\": [{\"marker\": {\"colorbar\": {\"outlinewidth\": 0, \"ticks\": \"\"}}, \"type\": \"scattermapbox\"}], \"scatterpolar\": [{\"marker\": {\"colorbar\": {\"outlinewidth\": 0, \"ticks\": \"\"}}, \"type\": \"scatterpolar\"}], \"scatterpolargl\": [{\"marker\": {\"colorbar\": {\"outlinewidth\": 0, \"ticks\": \"\"}}, \"type\": \"scatterpolargl\"}], \"scatterternary\": [{\"marker\": {\"colorbar\": {\"outlinewidth\": 0, \"ticks\": \"\"}}, \"type\": \"scatterternary\"}], \"surface\": [{\"colorbar\": {\"outlinewidth\": 0, \"ticks\": \"\"}, \"colorscale\": [[0.0, \"#0d0887\"], [0.1111111111111111, \"#46039f\"], [0.2222222222222222, \"#7201a8\"], [0.3333333333333333, \"#9c179e\"], [0.4444444444444444, \"#bd3786\"], [0.5555555555555556, \"#d8576b\"], [0.6666666666666666, \"#ed7953\"], [0.7777777777777778, \"#fb9f3a\"], [0.8888888888888888, \"#fdca26\"], [1.0, \"#f0f921\"]], \"type\": \"surface\"}], \"table\": [{\"cells\": {\"fill\": {\"color\": \"#EBF0F8\"}, \"line\": {\"color\": \"white\"}}, \"header\": {\"fill\": {\"color\": \"#C8D4E3\"}, \"line\": {\"color\": \"white\"}}, \"type\": \"table\"}]}, \"layout\": {\"annotationdefaults\": {\"arrowcolor\": \"#2a3f5f\", \"arrowhead\": 0, \"arrowwidth\": 1}, \"autotypenumbers\": \"strict\", \"coloraxis\": {\"colorbar\": {\"outlinewidth\": 0, \"ticks\": \"\"}}, \"colorscale\": {\"diverging\": [[0, \"#8e0152\"], [0.1, \"#c51b7d\"], [0.2, \"#de77ae\"], [0.3, \"#f1b6da\"], [0.4, \"#fde0ef\"], [0.5, \"#f7f7f7\"], [0.6, \"#e6f5d0\"], [0.7, \"#b8e186\"], [0.8, \"#7fbc41\"], [0.9, \"#4d9221\"], [1, \"#276419\"]], \"sequential\": [[0.0, \"#0d0887\"], [0.1111111111111111, \"#46039f\"], [0.2222222222222222, \"#7201a8\"], [0.3333333333333333, \"#9c179e\"], [0.4444444444444444, \"#bd3786\"], [0.5555555555555556, \"#d8576b\"], [0.6666666666666666, \"#ed7953\"], [0.7777777777777778, \"#fb9f3a\"], [0.8888888888888888, \"#fdca26\"], [1.0, \"#f0f921\"]], \"sequentialminus\": [[0.0, \"#0d0887\"], [0.1111111111111111, \"#46039f\"], [0.2222222222222222, \"#7201a8\"], [0.3333333333333333, \"#9c179e\"], [0.4444444444444444, \"#bd3786\"], [0.5555555555555556, \"#d8576b\"], [0.6666666666666666, \"#ed7953\"], [0.7777777777777778, \"#fb9f3a\"], [0.8888888888888888, \"#fdca26\"], [1.0, \"#f0f921\"]]}, \"colorway\": [\"#636efa\", \"#EF553B\", \"#00cc96\", \"#ab63fa\", \"#FFA15A\", \"#19d3f3\", \"#FF6692\", \"#B6E880\", \"#FF97FF\", \"#FECB52\"], \"font\": {\"color\": \"#2a3f5f\"}, \"geo\": {\"bgcolor\": \"white\", \"lakecolor\": \"white\", \"landcolor\": \"#E5ECF6\", \"showlakes\": true, \"showland\": true, \"subunitcolor\": \"white\"}, \"hoverlabel\": {\"align\": \"left\"}, \"hovermode\": \"closest\", \"mapbox\": {\"style\": \"light\"}, \"paper_bgcolor\": \"white\", \"plot_bgcolor\": \"#E5ECF6\", \"polar\": {\"angularaxis\": {\"gridcolor\": \"white\", \"linecolor\": \"white\", \"ticks\": \"\"}, \"bgcolor\": \"#E5ECF6\", \"radialaxis\": {\"gridcolor\": \"white\", \"linecolor\": \"white\", \"ticks\": \"\"}}, \"scene\": {\"xaxis\": {\"backgroundcolor\": \"#E5ECF6\", \"gridcolor\": \"white\", \"gridwidth\": 2, \"linecolor\": \"white\", \"showbackground\": true, \"ticks\": \"\", \"zerolinecolor\": \"white\"}, \"yaxis\": {\"backgroundcolor\": \"#E5ECF6\", \"gridcolor\": \"white\", \"gridwidth\": 2, \"linecolor\": \"white\", \"showbackground\": true, \"ticks\": \"\", \"zerolinecolor\": \"white\"}, \"zaxis\": {\"backgroundcolor\": \"#E5ECF6\", \"gridcolor\": \"white\", \"gridwidth\": 2, \"linecolor\": \"white\", \"showbackground\": true, \"ticks\": \"\", \"zerolinecolor\": \"white\"}}, \"shapedefaults\": {\"line\": {\"color\": \"#2a3f5f\"}}, \"ternary\": {\"aaxis\": {\"gridcolor\": \"white\", \"linecolor\": \"white\", \"ticks\": \"\"}, \"baxis\": {\"gridcolor\": \"white\", \"linecolor\": \"white\", \"ticks\": \"\"}, \"bgcolor\": \"#E5ECF6\", \"caxis\": {\"gridcolor\": \"white\", \"linecolor\": \"white\", \"ticks\": \"\"}}, \"title\": {\"x\": 0.05}, \"xaxis\": {\"automargin\": true, \"gridcolor\": \"white\", \"linecolor\": \"white\", \"ticks\": \"\", \"title\": {\"standoff\": 15}, \"zerolinecolor\": \"white\", \"zerolinewidth\": 2}, \"yaxis\": {\"automargin\": true, \"gridcolor\": \"white\", \"linecolor\": \"white\", \"ticks\": \"\", \"title\": {\"standoff\": 15}, \"zerolinecolor\": \"white\", \"zerolinewidth\": 2}}}, \"title\": {\"font\": {\"color\": \"#4D5663\"}}, \"xaxis\": {\"gridcolor\": \"#E1E5ED\", \"showgrid\": true, \"tickfont\": {\"color\": \"#4D5663\"}, \"title\": {\"font\": {\"color\": \"#4D5663\"}, \"text\": \"\"}, \"zerolinecolor\": \"#E1E5ED\"}, \"yaxis\": {\"gridcolor\": \"#E1E5ED\", \"showgrid\": true, \"tickfont\": {\"color\": \"#4D5663\"}, \"title\": {\"font\": {\"color\": \"#4D5663\"}, \"text\": \"\"}, \"zerolinecolor\": \"#E1E5ED\"}},                        {\"showLink\": true, \"linkText\": \"Export to plot.ly\", \"plotlyServerURL\": \"https://plot.ly\", \"responsive\": true}                    ).then(function(){\n",
       "                            \n",
       "var gd = document.getElementById('ce05d8c4-98b9-4cac-8647-30fc5d19e924');\n",
       "var x = new MutationObserver(function (mutations, observer) {{\n",
       "        var display = window.getComputedStyle(gd).display;\n",
       "        if (!display || display === 'none') {{\n",
       "            console.log([gd, 'removed!']);\n",
       "            Plotly.purge(gd);\n",
       "            observer.disconnect();\n",
       "        }}\n",
       "}});\n",
       "\n",
       "// Listen for the removal of the full notebook cells\n",
       "var notebookContainer = gd.closest('#notebook-container');\n",
       "if (notebookContainer) {{\n",
       "    x.observe(notebookContainer, {childList: true});\n",
       "}}\n",
       "\n",
       "// Listen for the clearing of the current output cell\n",
       "var outputEl = gd.closest('.output');\n",
       "if (outputEl) {{\n",
       "    x.observe(outputEl, {childList: true});\n",
       "}}\n",
       "\n",
       "                        })                };                });            </script>        </div>"
      ]
     },
     "metadata": {},
     "output_type": "display_data"
    }
   ],
   "source": [
    "df.iplot(kind='box')"
   ]
  },
  {
   "cell_type": "markdown",
   "metadata": {},
   "source": [
    "## 3d Surface"
   ]
  },
  {
   "cell_type": "code",
   "execution_count": 16,
   "metadata": {},
   "outputs": [
    {
     "data": {
      "application/vnd.plotly.v1+json": {
       "config": {
        "linkText": "Export to plot.ly",
        "plotlyServerURL": "https://plot.ly",
        "showLink": true
       },
       "data": [
        {
         "colorscale": [
          [
           0,
           "rgb(165,0,38)"
          ],
          [
           0.1,
           "rgb(215,48,39)"
          ],
          [
           0.2,
           "rgb(244,109,67)"
          ],
          [
           0.3,
           "rgb(253,174,97)"
          ],
          [
           0.4,
           "rgb(254,224,144)"
          ],
          [
           0.5,
           "rgb(255,255,191)"
          ],
          [
           0.6,
           "rgb(224,243,248)"
          ],
          [
           0.7,
           "rgb(171,217,233)"
          ],
          [
           0.8,
           "rgb(116,173,209)"
          ],
          [
           0.9,
           "rgb(69,117,180)"
          ],
          [
           1,
           "rgb(49,54,149)"
          ]
         ],
         "type": "surface",
         "x": [
          0,
          1,
          2,
          3,
          4
         ],
         "y": [
          "x",
          "y",
          "z"
         ],
         "z": [
          [
           1,
           2,
           3,
           4,
           5
          ],
          [
           10,
           20,
           30,
           20,
           10
          ],
          [
           5,
           4,
           3,
           2,
           1
          ]
         ]
        }
       ],
       "layout": {
        "legend": {
         "bgcolor": "#F5F6F9",
         "font": {
          "color": "#4D5663"
         }
        },
        "paper_bgcolor": "#F5F6F9",
        "plot_bgcolor": "#F5F6F9",
        "template": {
         "data": {
          "bar": [
           {
            "error_x": {
             "color": "#2a3f5f"
            },
            "error_y": {
             "color": "#2a3f5f"
            },
            "marker": {
             "line": {
              "color": "#E5ECF6",
              "width": 0.5
             }
            },
            "type": "bar"
           }
          ],
          "barpolar": [
           {
            "marker": {
             "line": {
              "color": "#E5ECF6",
              "width": 0.5
             }
            },
            "type": "barpolar"
           }
          ],
          "carpet": [
           {
            "aaxis": {
             "endlinecolor": "#2a3f5f",
             "gridcolor": "white",
             "linecolor": "white",
             "minorgridcolor": "white",
             "startlinecolor": "#2a3f5f"
            },
            "baxis": {
             "endlinecolor": "#2a3f5f",
             "gridcolor": "white",
             "linecolor": "white",
             "minorgridcolor": "white",
             "startlinecolor": "#2a3f5f"
            },
            "type": "carpet"
           }
          ],
          "choropleth": [
           {
            "colorbar": {
             "outlinewidth": 0,
             "ticks": ""
            },
            "type": "choropleth"
           }
          ],
          "contour": [
           {
            "colorbar": {
             "outlinewidth": 0,
             "ticks": ""
            },
            "colorscale": [
             [
              0,
              "#0d0887"
             ],
             [
              0.1111111111111111,
              "#46039f"
             ],
             [
              0.2222222222222222,
              "#7201a8"
             ],
             [
              0.3333333333333333,
              "#9c179e"
             ],
             [
              0.4444444444444444,
              "#bd3786"
             ],
             [
              0.5555555555555556,
              "#d8576b"
             ],
             [
              0.6666666666666666,
              "#ed7953"
             ],
             [
              0.7777777777777778,
              "#fb9f3a"
             ],
             [
              0.8888888888888888,
              "#fdca26"
             ],
             [
              1,
              "#f0f921"
             ]
            ],
            "type": "contour"
           }
          ],
          "contourcarpet": [
           {
            "colorbar": {
             "outlinewidth": 0,
             "ticks": ""
            },
            "type": "contourcarpet"
           }
          ],
          "heatmap": [
           {
            "colorbar": {
             "outlinewidth": 0,
             "ticks": ""
            },
            "colorscale": [
             [
              0,
              "#0d0887"
             ],
             [
              0.1111111111111111,
              "#46039f"
             ],
             [
              0.2222222222222222,
              "#7201a8"
             ],
             [
              0.3333333333333333,
              "#9c179e"
             ],
             [
              0.4444444444444444,
              "#bd3786"
             ],
             [
              0.5555555555555556,
              "#d8576b"
             ],
             [
              0.6666666666666666,
              "#ed7953"
             ],
             [
              0.7777777777777778,
              "#fb9f3a"
             ],
             [
              0.8888888888888888,
              "#fdca26"
             ],
             [
              1,
              "#f0f921"
             ]
            ],
            "type": "heatmap"
           }
          ],
          "heatmapgl": [
           {
            "colorbar": {
             "outlinewidth": 0,
             "ticks": ""
            },
            "colorscale": [
             [
              0,
              "#0d0887"
             ],
             [
              0.1111111111111111,
              "#46039f"
             ],
             [
              0.2222222222222222,
              "#7201a8"
             ],
             [
              0.3333333333333333,
              "#9c179e"
             ],
             [
              0.4444444444444444,
              "#bd3786"
             ],
             [
              0.5555555555555556,
              "#d8576b"
             ],
             [
              0.6666666666666666,
              "#ed7953"
             ],
             [
              0.7777777777777778,
              "#fb9f3a"
             ],
             [
              0.8888888888888888,
              "#fdca26"
             ],
             [
              1,
              "#f0f921"
             ]
            ],
            "type": "heatmapgl"
           }
          ],
          "histogram": [
           {
            "marker": {
             "colorbar": {
              "outlinewidth": 0,
              "ticks": ""
             }
            },
            "type": "histogram"
           }
          ],
          "histogram2d": [
           {
            "colorbar": {
             "outlinewidth": 0,
             "ticks": ""
            },
            "colorscale": [
             [
              0,
              "#0d0887"
             ],
             [
              0.1111111111111111,
              "#46039f"
             ],
             [
              0.2222222222222222,
              "#7201a8"
             ],
             [
              0.3333333333333333,
              "#9c179e"
             ],
             [
              0.4444444444444444,
              "#bd3786"
             ],
             [
              0.5555555555555556,
              "#d8576b"
             ],
             [
              0.6666666666666666,
              "#ed7953"
             ],
             [
              0.7777777777777778,
              "#fb9f3a"
             ],
             [
              0.8888888888888888,
              "#fdca26"
             ],
             [
              1,
              "#f0f921"
             ]
            ],
            "type": "histogram2d"
           }
          ],
          "histogram2dcontour": [
           {
            "colorbar": {
             "outlinewidth": 0,
             "ticks": ""
            },
            "colorscale": [
             [
              0,
              "#0d0887"
             ],
             [
              0.1111111111111111,
              "#46039f"
             ],
             [
              0.2222222222222222,
              "#7201a8"
             ],
             [
              0.3333333333333333,
              "#9c179e"
             ],
             [
              0.4444444444444444,
              "#bd3786"
             ],
             [
              0.5555555555555556,
              "#d8576b"
             ],
             [
              0.6666666666666666,
              "#ed7953"
             ],
             [
              0.7777777777777778,
              "#fb9f3a"
             ],
             [
              0.8888888888888888,
              "#fdca26"
             ],
             [
              1,
              "#f0f921"
             ]
            ],
            "type": "histogram2dcontour"
           }
          ],
          "mesh3d": [
           {
            "colorbar": {
             "outlinewidth": 0,
             "ticks": ""
            },
            "type": "mesh3d"
           }
          ],
          "parcoords": [
           {
            "line": {
             "colorbar": {
              "outlinewidth": 0,
              "ticks": ""
             }
            },
            "type": "parcoords"
           }
          ],
          "pie": [
           {
            "automargin": true,
            "type": "pie"
           }
          ],
          "scatter": [
           {
            "marker": {
             "colorbar": {
              "outlinewidth": 0,
              "ticks": ""
             }
            },
            "type": "scatter"
           }
          ],
          "scatter3d": [
           {
            "line": {
             "colorbar": {
              "outlinewidth": 0,
              "ticks": ""
             }
            },
            "marker": {
             "colorbar": {
              "outlinewidth": 0,
              "ticks": ""
             }
            },
            "type": "scatter3d"
           }
          ],
          "scattercarpet": [
           {
            "marker": {
             "colorbar": {
              "outlinewidth": 0,
              "ticks": ""
             }
            },
            "type": "scattercarpet"
           }
          ],
          "scattergeo": [
           {
            "marker": {
             "colorbar": {
              "outlinewidth": 0,
              "ticks": ""
             }
            },
            "type": "scattergeo"
           }
          ],
          "scattergl": [
           {
            "marker": {
             "colorbar": {
              "outlinewidth": 0,
              "ticks": ""
             }
            },
            "type": "scattergl"
           }
          ],
          "scattermapbox": [
           {
            "marker": {
             "colorbar": {
              "outlinewidth": 0,
              "ticks": ""
             }
            },
            "type": "scattermapbox"
           }
          ],
          "scatterpolar": [
           {
            "marker": {
             "colorbar": {
              "outlinewidth": 0,
              "ticks": ""
             }
            },
            "type": "scatterpolar"
           }
          ],
          "scatterpolargl": [
           {
            "marker": {
             "colorbar": {
              "outlinewidth": 0,
              "ticks": ""
             }
            },
            "type": "scatterpolargl"
           }
          ],
          "scatterternary": [
           {
            "marker": {
             "colorbar": {
              "outlinewidth": 0,
              "ticks": ""
             }
            },
            "type": "scatterternary"
           }
          ],
          "surface": [
           {
            "colorbar": {
             "outlinewidth": 0,
             "ticks": ""
            },
            "colorscale": [
             [
              0,
              "#0d0887"
             ],
             [
              0.1111111111111111,
              "#46039f"
             ],
             [
              0.2222222222222222,
              "#7201a8"
             ],
             [
              0.3333333333333333,
              "#9c179e"
             ],
             [
              0.4444444444444444,
              "#bd3786"
             ],
             [
              0.5555555555555556,
              "#d8576b"
             ],
             [
              0.6666666666666666,
              "#ed7953"
             ],
             [
              0.7777777777777778,
              "#fb9f3a"
             ],
             [
              0.8888888888888888,
              "#fdca26"
             ],
             [
              1,
              "#f0f921"
             ]
            ],
            "type": "surface"
           }
          ],
          "table": [
           {
            "cells": {
             "fill": {
              "color": "#EBF0F8"
             },
             "line": {
              "color": "white"
             }
            },
            "header": {
             "fill": {
              "color": "#C8D4E3"
             },
             "line": {
              "color": "white"
             }
            },
            "type": "table"
           }
          ]
         },
         "layout": {
          "annotationdefaults": {
           "arrowcolor": "#2a3f5f",
           "arrowhead": 0,
           "arrowwidth": 1
          },
          "autotypenumbers": "strict",
          "coloraxis": {
           "colorbar": {
            "outlinewidth": 0,
            "ticks": ""
           }
          },
          "colorscale": {
           "diverging": [
            [
             0,
             "#8e0152"
            ],
            [
             0.1,
             "#c51b7d"
            ],
            [
             0.2,
             "#de77ae"
            ],
            [
             0.3,
             "#f1b6da"
            ],
            [
             0.4,
             "#fde0ef"
            ],
            [
             0.5,
             "#f7f7f7"
            ],
            [
             0.6,
             "#e6f5d0"
            ],
            [
             0.7,
             "#b8e186"
            ],
            [
             0.8,
             "#7fbc41"
            ],
            [
             0.9,
             "#4d9221"
            ],
            [
             1,
             "#276419"
            ]
           ],
           "sequential": [
            [
             0,
             "#0d0887"
            ],
            [
             0.1111111111111111,
             "#46039f"
            ],
            [
             0.2222222222222222,
             "#7201a8"
            ],
            [
             0.3333333333333333,
             "#9c179e"
            ],
            [
             0.4444444444444444,
             "#bd3786"
            ],
            [
             0.5555555555555556,
             "#d8576b"
            ],
            [
             0.6666666666666666,
             "#ed7953"
            ],
            [
             0.7777777777777778,
             "#fb9f3a"
            ],
            [
             0.8888888888888888,
             "#fdca26"
            ],
            [
             1,
             "#f0f921"
            ]
           ],
           "sequentialminus": [
            [
             0,
             "#0d0887"
            ],
            [
             0.1111111111111111,
             "#46039f"
            ],
            [
             0.2222222222222222,
             "#7201a8"
            ],
            [
             0.3333333333333333,
             "#9c179e"
            ],
            [
             0.4444444444444444,
             "#bd3786"
            ],
            [
             0.5555555555555556,
             "#d8576b"
            ],
            [
             0.6666666666666666,
             "#ed7953"
            ],
            [
             0.7777777777777778,
             "#fb9f3a"
            ],
            [
             0.8888888888888888,
             "#fdca26"
            ],
            [
             1,
             "#f0f921"
            ]
           ]
          },
          "colorway": [
           "#636efa",
           "#EF553B",
           "#00cc96",
           "#ab63fa",
           "#FFA15A",
           "#19d3f3",
           "#FF6692",
           "#B6E880",
           "#FF97FF",
           "#FECB52"
          ],
          "font": {
           "color": "#2a3f5f"
          },
          "geo": {
           "bgcolor": "white",
           "lakecolor": "white",
           "landcolor": "#E5ECF6",
           "showlakes": true,
           "showland": true,
           "subunitcolor": "white"
          },
          "hoverlabel": {
           "align": "left"
          },
          "hovermode": "closest",
          "mapbox": {
           "style": "light"
          },
          "paper_bgcolor": "white",
          "plot_bgcolor": "#E5ECF6",
          "polar": {
           "angularaxis": {
            "gridcolor": "white",
            "linecolor": "white",
            "ticks": ""
           },
           "bgcolor": "#E5ECF6",
           "radialaxis": {
            "gridcolor": "white",
            "linecolor": "white",
            "ticks": ""
           }
          },
          "scene": {
           "xaxis": {
            "backgroundcolor": "#E5ECF6",
            "gridcolor": "white",
            "gridwidth": 2,
            "linecolor": "white",
            "showbackground": true,
            "ticks": "",
            "zerolinecolor": "white"
           },
           "yaxis": {
            "backgroundcolor": "#E5ECF6",
            "gridcolor": "white",
            "gridwidth": 2,
            "linecolor": "white",
            "showbackground": true,
            "ticks": "",
            "zerolinecolor": "white"
           },
           "zaxis": {
            "backgroundcolor": "#E5ECF6",
            "gridcolor": "white",
            "gridwidth": 2,
            "linecolor": "white",
            "showbackground": true,
            "ticks": "",
            "zerolinecolor": "white"
           }
          },
          "shapedefaults": {
           "line": {
            "color": "#2a3f5f"
           }
          },
          "ternary": {
           "aaxis": {
            "gridcolor": "white",
            "linecolor": "white",
            "ticks": ""
           },
           "baxis": {
            "gridcolor": "white",
            "linecolor": "white",
            "ticks": ""
           },
           "bgcolor": "#E5ECF6",
           "caxis": {
            "gridcolor": "white",
            "linecolor": "white",
            "ticks": ""
           }
          },
          "title": {
           "x": 0.05
          },
          "xaxis": {
           "automargin": true,
           "gridcolor": "white",
           "linecolor": "white",
           "ticks": "",
           "title": {
            "standoff": 15
           },
           "zerolinecolor": "white",
           "zerolinewidth": 2
          },
          "yaxis": {
           "automargin": true,
           "gridcolor": "white",
           "linecolor": "white",
           "ticks": "",
           "title": {
            "standoff": 15
           },
           "zerolinecolor": "white",
           "zerolinewidth": 2
          }
         }
        },
        "title": {
         "font": {
          "color": "#4D5663"
         }
        },
        "xaxis": {
         "gridcolor": "#E1E5ED",
         "showgrid": true,
         "tickfont": {
          "color": "#4D5663"
         },
         "title": {
          "font": {
           "color": "#4D5663"
          },
          "text": ""
         },
         "zerolinecolor": "#E1E5ED"
        },
        "yaxis": {
         "gridcolor": "#E1E5ED",
         "showgrid": true,
         "tickfont": {
          "color": "#4D5663"
         },
         "title": {
          "font": {
           "color": "#4D5663"
          },
          "text": ""
         },
         "zerolinecolor": "#E1E5ED"
        }
       }
      },
      "text/html": [
       "<div>                            <div id=\"8c92fe6d-07df-43f0-9544-28ad652ce4ee\" class=\"plotly-graph-div\" style=\"height:525px; width:100%;\"></div>            <script type=\"text/javascript\">                require([\"plotly\"], function(Plotly) {                    window.PLOTLYENV=window.PLOTLYENV || {};\n",
       "                    window.PLOTLYENV.BASE_URL='https://plot.ly';                                    if (document.getElementById(\"8c92fe6d-07df-43f0-9544-28ad652ce4ee\")) {                    Plotly.newPlot(                        \"8c92fe6d-07df-43f0-9544-28ad652ce4ee\",                        [{\"colorscale\": [[0.0, \"rgb(165,0,38)\"], [0.1, \"rgb(215,48,39)\"], [0.2, \"rgb(244,109,67)\"], [0.3, \"rgb(253,174,97)\"], [0.4, \"rgb(254,224,144)\"], [0.5, \"rgb(255,255,191)\"], [0.6, \"rgb(224,243,248)\"], [0.7, \"rgb(171,217,233)\"], [0.8, \"rgb(116,173,209)\"], [0.9, \"rgb(69,117,180)\"], [1.0, \"rgb(49,54,149)\"]], \"type\": \"surface\", \"x\": [0, 1, 2, 3, 4], \"y\": [\"x\", \"y\", \"z\"], \"z\": [[1, 2, 3, 4, 5], [10, 20, 30, 20, 10], [5, 4, 3, 2, 1]]}],                        {\"legend\": {\"bgcolor\": \"#F5F6F9\", \"font\": {\"color\": \"#4D5663\"}}, \"paper_bgcolor\": \"#F5F6F9\", \"plot_bgcolor\": \"#F5F6F9\", \"template\": {\"data\": {\"bar\": [{\"error_x\": {\"color\": \"#2a3f5f\"}, \"error_y\": {\"color\": \"#2a3f5f\"}, \"marker\": {\"line\": {\"color\": \"#E5ECF6\", \"width\": 0.5}}, \"type\": \"bar\"}], \"barpolar\": [{\"marker\": {\"line\": {\"color\": \"#E5ECF6\", \"width\": 0.5}}, \"type\": \"barpolar\"}], \"carpet\": [{\"aaxis\": {\"endlinecolor\": \"#2a3f5f\", \"gridcolor\": \"white\", \"linecolor\": \"white\", \"minorgridcolor\": \"white\", \"startlinecolor\": \"#2a3f5f\"}, \"baxis\": {\"endlinecolor\": \"#2a3f5f\", \"gridcolor\": \"white\", \"linecolor\": \"white\", \"minorgridcolor\": \"white\", \"startlinecolor\": \"#2a3f5f\"}, \"type\": \"carpet\"}], \"choropleth\": [{\"colorbar\": {\"outlinewidth\": 0, \"ticks\": \"\"}, \"type\": \"choropleth\"}], \"contour\": [{\"colorbar\": {\"outlinewidth\": 0, \"ticks\": \"\"}, \"colorscale\": [[0.0, \"#0d0887\"], [0.1111111111111111, \"#46039f\"], [0.2222222222222222, \"#7201a8\"], [0.3333333333333333, \"#9c179e\"], [0.4444444444444444, \"#bd3786\"], [0.5555555555555556, \"#d8576b\"], [0.6666666666666666, \"#ed7953\"], [0.7777777777777778, \"#fb9f3a\"], [0.8888888888888888, \"#fdca26\"], [1.0, \"#f0f921\"]], \"type\": \"contour\"}], \"contourcarpet\": [{\"colorbar\": {\"outlinewidth\": 0, \"ticks\": \"\"}, \"type\": \"contourcarpet\"}], \"heatmap\": [{\"colorbar\": {\"outlinewidth\": 0, \"ticks\": \"\"}, \"colorscale\": [[0.0, \"#0d0887\"], [0.1111111111111111, \"#46039f\"], [0.2222222222222222, \"#7201a8\"], [0.3333333333333333, \"#9c179e\"], [0.4444444444444444, \"#bd3786\"], [0.5555555555555556, \"#d8576b\"], [0.6666666666666666, \"#ed7953\"], [0.7777777777777778, \"#fb9f3a\"], [0.8888888888888888, \"#fdca26\"], [1.0, \"#f0f921\"]], \"type\": \"heatmap\"}], \"heatmapgl\": [{\"colorbar\": {\"outlinewidth\": 0, \"ticks\": \"\"}, \"colorscale\": [[0.0, \"#0d0887\"], [0.1111111111111111, \"#46039f\"], [0.2222222222222222, \"#7201a8\"], [0.3333333333333333, \"#9c179e\"], [0.4444444444444444, \"#bd3786\"], [0.5555555555555556, \"#d8576b\"], [0.6666666666666666, \"#ed7953\"], [0.7777777777777778, \"#fb9f3a\"], [0.8888888888888888, \"#fdca26\"], [1.0, \"#f0f921\"]], \"type\": \"heatmapgl\"}], \"histogram\": [{\"marker\": {\"colorbar\": {\"outlinewidth\": 0, \"ticks\": \"\"}}, \"type\": \"histogram\"}], \"histogram2d\": [{\"colorbar\": {\"outlinewidth\": 0, \"ticks\": \"\"}, \"colorscale\": [[0.0, \"#0d0887\"], [0.1111111111111111, \"#46039f\"], [0.2222222222222222, \"#7201a8\"], [0.3333333333333333, \"#9c179e\"], [0.4444444444444444, \"#bd3786\"], [0.5555555555555556, \"#d8576b\"], [0.6666666666666666, \"#ed7953\"], [0.7777777777777778, \"#fb9f3a\"], [0.8888888888888888, \"#fdca26\"], [1.0, \"#f0f921\"]], \"type\": \"histogram2d\"}], \"histogram2dcontour\": [{\"colorbar\": {\"outlinewidth\": 0, \"ticks\": \"\"}, \"colorscale\": [[0.0, \"#0d0887\"], [0.1111111111111111, \"#46039f\"], [0.2222222222222222, \"#7201a8\"], [0.3333333333333333, \"#9c179e\"], [0.4444444444444444, \"#bd3786\"], [0.5555555555555556, \"#d8576b\"], [0.6666666666666666, \"#ed7953\"], [0.7777777777777778, \"#fb9f3a\"], [0.8888888888888888, \"#fdca26\"], [1.0, \"#f0f921\"]], \"type\": \"histogram2dcontour\"}], \"mesh3d\": [{\"colorbar\": {\"outlinewidth\": 0, \"ticks\": \"\"}, \"type\": \"mesh3d\"}], \"parcoords\": [{\"line\": {\"colorbar\": {\"outlinewidth\": 0, \"ticks\": \"\"}}, \"type\": \"parcoords\"}], \"pie\": [{\"automargin\": true, \"type\": \"pie\"}], \"scatter\": [{\"marker\": {\"colorbar\": {\"outlinewidth\": 0, \"ticks\": \"\"}}, \"type\": \"scatter\"}], \"scatter3d\": [{\"line\": {\"colorbar\": {\"outlinewidth\": 0, \"ticks\": \"\"}}, \"marker\": {\"colorbar\": {\"outlinewidth\": 0, \"ticks\": \"\"}}, \"type\": \"scatter3d\"}], \"scattercarpet\": [{\"marker\": {\"colorbar\": {\"outlinewidth\": 0, \"ticks\": \"\"}}, \"type\": \"scattercarpet\"}], \"scattergeo\": [{\"marker\": {\"colorbar\": {\"outlinewidth\": 0, \"ticks\": \"\"}}, \"type\": \"scattergeo\"}], \"scattergl\": [{\"marker\": {\"colorbar\": {\"outlinewidth\": 0, \"ticks\": \"\"}}, \"type\": \"scattergl\"}], \"scattermapbox\": [{\"marker\": {\"colorbar\": {\"outlinewidth\": 0, \"ticks\": \"\"}}, \"type\": \"scattermapbox\"}], \"scatterpolar\": [{\"marker\": {\"colorbar\": {\"outlinewidth\": 0, \"ticks\": \"\"}}, \"type\": \"scatterpolar\"}], \"scatterpolargl\": [{\"marker\": {\"colorbar\": {\"outlinewidth\": 0, \"ticks\": \"\"}}, \"type\": \"scatterpolargl\"}], \"scatterternary\": [{\"marker\": {\"colorbar\": {\"outlinewidth\": 0, \"ticks\": \"\"}}, \"type\": \"scatterternary\"}], \"surface\": [{\"colorbar\": {\"outlinewidth\": 0, \"ticks\": \"\"}, \"colorscale\": [[0.0, \"#0d0887\"], [0.1111111111111111, \"#46039f\"], [0.2222222222222222, \"#7201a8\"], [0.3333333333333333, \"#9c179e\"], [0.4444444444444444, \"#bd3786\"], [0.5555555555555556, \"#d8576b\"], [0.6666666666666666, \"#ed7953\"], [0.7777777777777778, \"#fb9f3a\"], [0.8888888888888888, \"#fdca26\"], [1.0, \"#f0f921\"]], \"type\": \"surface\"}], \"table\": [{\"cells\": {\"fill\": {\"color\": \"#EBF0F8\"}, \"line\": {\"color\": \"white\"}}, \"header\": {\"fill\": {\"color\": \"#C8D4E3\"}, \"line\": {\"color\": \"white\"}}, \"type\": \"table\"}]}, \"layout\": {\"annotationdefaults\": {\"arrowcolor\": \"#2a3f5f\", \"arrowhead\": 0, \"arrowwidth\": 1}, \"autotypenumbers\": \"strict\", \"coloraxis\": {\"colorbar\": {\"outlinewidth\": 0, \"ticks\": \"\"}}, \"colorscale\": {\"diverging\": [[0, \"#8e0152\"], [0.1, \"#c51b7d\"], [0.2, \"#de77ae\"], [0.3, \"#f1b6da\"], [0.4, \"#fde0ef\"], [0.5, \"#f7f7f7\"], [0.6, \"#e6f5d0\"], [0.7, \"#b8e186\"], [0.8, \"#7fbc41\"], [0.9, \"#4d9221\"], [1, \"#276419\"]], \"sequential\": [[0.0, \"#0d0887\"], [0.1111111111111111, \"#46039f\"], [0.2222222222222222, \"#7201a8\"], [0.3333333333333333, \"#9c179e\"], [0.4444444444444444, \"#bd3786\"], [0.5555555555555556, \"#d8576b\"], [0.6666666666666666, \"#ed7953\"], [0.7777777777777778, \"#fb9f3a\"], [0.8888888888888888, \"#fdca26\"], [1.0, \"#f0f921\"]], \"sequentialminus\": [[0.0, \"#0d0887\"], [0.1111111111111111, \"#46039f\"], [0.2222222222222222, \"#7201a8\"], [0.3333333333333333, \"#9c179e\"], [0.4444444444444444, \"#bd3786\"], [0.5555555555555556, \"#d8576b\"], [0.6666666666666666, \"#ed7953\"], [0.7777777777777778, \"#fb9f3a\"], [0.8888888888888888, \"#fdca26\"], [1.0, \"#f0f921\"]]}, \"colorway\": [\"#636efa\", \"#EF553B\", \"#00cc96\", \"#ab63fa\", \"#FFA15A\", \"#19d3f3\", \"#FF6692\", \"#B6E880\", \"#FF97FF\", \"#FECB52\"], \"font\": {\"color\": \"#2a3f5f\"}, \"geo\": {\"bgcolor\": \"white\", \"lakecolor\": \"white\", \"landcolor\": \"#E5ECF6\", \"showlakes\": true, \"showland\": true, \"subunitcolor\": \"white\"}, \"hoverlabel\": {\"align\": \"left\"}, \"hovermode\": \"closest\", \"mapbox\": {\"style\": \"light\"}, \"paper_bgcolor\": \"white\", \"plot_bgcolor\": \"#E5ECF6\", \"polar\": {\"angularaxis\": {\"gridcolor\": \"white\", \"linecolor\": \"white\", \"ticks\": \"\"}, \"bgcolor\": \"#E5ECF6\", \"radialaxis\": {\"gridcolor\": \"white\", \"linecolor\": \"white\", \"ticks\": \"\"}}, \"scene\": {\"xaxis\": {\"backgroundcolor\": \"#E5ECF6\", \"gridcolor\": \"white\", \"gridwidth\": 2, \"linecolor\": \"white\", \"showbackground\": true, \"ticks\": \"\", \"zerolinecolor\": \"white\"}, \"yaxis\": {\"backgroundcolor\": \"#E5ECF6\", \"gridcolor\": \"white\", \"gridwidth\": 2, \"linecolor\": \"white\", \"showbackground\": true, \"ticks\": \"\", \"zerolinecolor\": \"white\"}, \"zaxis\": {\"backgroundcolor\": \"#E5ECF6\", \"gridcolor\": \"white\", \"gridwidth\": 2, \"linecolor\": \"white\", \"showbackground\": true, \"ticks\": \"\", \"zerolinecolor\": \"white\"}}, \"shapedefaults\": {\"line\": {\"color\": \"#2a3f5f\"}}, \"ternary\": {\"aaxis\": {\"gridcolor\": \"white\", \"linecolor\": \"white\", \"ticks\": \"\"}, \"baxis\": {\"gridcolor\": \"white\", \"linecolor\": \"white\", \"ticks\": \"\"}, \"bgcolor\": \"#E5ECF6\", \"caxis\": {\"gridcolor\": \"white\", \"linecolor\": \"white\", \"ticks\": \"\"}}, \"title\": {\"x\": 0.05}, \"xaxis\": {\"automargin\": true, \"gridcolor\": \"white\", \"linecolor\": \"white\", \"ticks\": \"\", \"title\": {\"standoff\": 15}, \"zerolinecolor\": \"white\", \"zerolinewidth\": 2}, \"yaxis\": {\"automargin\": true, \"gridcolor\": \"white\", \"linecolor\": \"white\", \"ticks\": \"\", \"title\": {\"standoff\": 15}, \"zerolinecolor\": \"white\", \"zerolinewidth\": 2}}}, \"title\": {\"font\": {\"color\": \"#4D5663\"}}, \"xaxis\": {\"gridcolor\": \"#E1E5ED\", \"showgrid\": true, \"tickfont\": {\"color\": \"#4D5663\"}, \"title\": {\"font\": {\"color\": \"#4D5663\"}, \"text\": \"\"}, \"zerolinecolor\": \"#E1E5ED\"}, \"yaxis\": {\"gridcolor\": \"#E1E5ED\", \"showgrid\": true, \"tickfont\": {\"color\": \"#4D5663\"}, \"title\": {\"font\": {\"color\": \"#4D5663\"}, \"text\": \"\"}, \"zerolinecolor\": \"#E1E5ED\"}},                        {\"showLink\": true, \"linkText\": \"Export to plot.ly\", \"plotlyServerURL\": \"https://plot.ly\", \"responsive\": true}                    ).then(function(){\n",
       "                            \n",
       "var gd = document.getElementById('8c92fe6d-07df-43f0-9544-28ad652ce4ee');\n",
       "var x = new MutationObserver(function (mutations, observer) {{\n",
       "        var display = window.getComputedStyle(gd).display;\n",
       "        if (!display || display === 'none') {{\n",
       "            console.log([gd, 'removed!']);\n",
       "            Plotly.purge(gd);\n",
       "            observer.disconnect();\n",
       "        }}\n",
       "}});\n",
       "\n",
       "// Listen for the removal of the full notebook cells\n",
       "var notebookContainer = gd.closest('#notebook-container');\n",
       "if (notebookContainer) {{\n",
       "    x.observe(notebookContainer, {childList: true});\n",
       "}}\n",
       "\n",
       "// Listen for the clearing of the current output cell\n",
       "var outputEl = gd.closest('.output');\n",
       "if (outputEl) {{\n",
       "    x.observe(outputEl, {childList: true});\n",
       "}}\n",
       "\n",
       "                        })                };                });            </script>        </div>"
      ]
     },
     "metadata": {},
     "output_type": "display_data"
    }
   ],
   "source": [
    "df3 = pd.DataFrame({'x':[1,2,3,4,5],'y':[10,20,30,20,10],'z':[5,4,3,2,1]})\n",
    "df3.iplot(kind='surface',colorscale='rdylbu')"
   ]
  },
  {
   "cell_type": "markdown",
   "metadata": {},
   "source": [
    "## Spread"
   ]
  },
  {
   "cell_type": "code",
   "execution_count": 17,
   "metadata": {},
   "outputs": [
    {
     "name": "stderr",
     "output_type": "stream",
     "text": [
      "/home/harivinay/anaconda3/lib/python3.8/site-packages/cufflinks/plotlytools.py:849: FutureWarning:\n",
      "\n",
      "The pandas.np module is deprecated and will be removed from pandas in a future version. Import numpy directly instead\n",
      "\n",
      "/home/harivinay/anaconda3/lib/python3.8/site-packages/cufflinks/plotlytools.py:850: FutureWarning:\n",
      "\n",
      "The pandas.np module is deprecated and will be removed from pandas in a future version. Import numpy directly instead\n",
      "\n"
     ]
    },
    {
     "data": {
      "application/vnd.plotly.v1+json": {
       "config": {
        "linkText": "Export to plot.ly",
        "plotlyServerURL": "https://plot.ly",
        "showLink": true
       },
       "data": [
        {
         "line": {
          "color": "rgba(255, 153, 51, 1.0)",
          "dash": "solid",
          "shape": "linear",
          "width": 1.3
         },
         "mode": "lines",
         "name": "A",
         "text": "",
         "type": "scatter",
         "x": [
          0,
          1,
          2,
          3,
          4,
          5,
          6,
          7,
          8,
          9,
          10,
          11,
          12,
          13,
          14,
          15,
          16,
          17,
          18,
          19,
          20,
          21,
          22,
          23,
          24,
          25,
          26,
          27,
          28,
          29,
          30,
          31,
          32,
          33,
          34,
          35,
          36,
          37,
          38,
          39,
          40,
          41,
          42,
          43,
          44,
          45,
          46,
          47,
          48,
          49,
          50,
          51,
          52,
          53,
          54,
          55,
          56,
          57,
          58,
          59,
          60,
          61,
          62,
          63,
          64,
          65,
          66,
          67,
          68,
          69,
          70,
          71,
          72,
          73,
          74,
          75,
          76,
          77,
          78,
          79,
          80,
          81,
          82,
          83,
          84,
          85,
          86,
          87,
          88,
          89,
          90,
          91,
          92,
          93,
          94,
          95,
          96,
          97,
          98,
          99
         ],
         "y": [
          1.461893770697725,
          -2.031160136012203,
          0.9383409670828389,
          -1.0813533287292119,
          0.06490918815450783,
          1.8950072332017274,
          -0.8714365596373268,
          -0.13074620114977334,
          -1.0923246928318198,
          -0.3760998942311332,
          -0.5361900499629562,
          0.42029273811322426,
          0.879026444738448,
          0.17853057276926443,
          -1.4226047615565995,
          -0.38553936634836816,
          0.9254705828347399,
          0.8974413892643344,
          1.3593724162723089,
          0.41746771734852006,
          -0.1947229051061254,
          -0.4999893146137153,
          -0.4502113162411071,
          -1.1360014209107259,
          0.1844178473890677,
          1.5753255655453786,
          0.4753674301421128,
          1.635707798585372,
          -1.9187025770275,
          -0.19910344350673406,
          2.285995703848697,
          -0.18915231953896097,
          1.0665423877986695,
          -0.7269122934267687,
          0.36224915062873836,
          -1.5625689349152296,
          -1.1362220420755846,
          -0.529376570887139,
          -0.1934547257057624,
          -1.9720439485780432,
          -0.2710830596477481,
          -0.7385696963294917,
          -0.29410090049820914,
          -0.22419206878488449,
          0.1508245116866706,
          -0.6057299795009865,
          0.3191505714649677,
          -0.1976198986566658,
          1.093282680008958,
          -1.0799453836674373,
          -0.3616335539043888,
          1.6107952178764182,
          -0.5891018790468924,
          0.7666351833383529,
          0.32222045304544167,
          -1.6872013582758036,
          -0.3720711616276398,
          1.3420408631947918,
          0.4239471624717882,
          0.48424327553353297,
          -1.5961692749707352,
          0.5882171437466279,
          0.6566669461687532,
          -1.9603468546639706,
          0.42870138393368024,
          -0.1978041090111149,
          0.05723177511114498,
          0.4475509991023478,
          0.662730871880016,
          -1.796202287216889,
          0.7165184267275085,
          0.3326216988143618,
          -0.8140493568522115,
          -1.247832137911998,
          0.9859507943329427,
          1.1948398652848742,
          -2.145947615545814,
          0.5339270311517821,
          0.10249930114413236,
          -0.8916324021834575,
          0.41078863879970284,
          -0.49795290561896394,
          -1.155769242450663,
          0.781716927247144,
          1.6136963240432758,
          -0.7802444642438957,
          -1.492354210417422,
          0.2299947473973307,
          0.50259957066577,
          -0.16700157611497873,
          0.8226788892451177,
          2.982546810969779,
          3.0055258787254777,
          1.3661389107738293,
          0.5470135690673502,
          0.5968793086096759,
          -0.14023490153269502,
          -0.8605446276038548,
          -1.5963739249397044,
          -1.444803862861764
         ]
        },
        {
         "line": {
          "color": "rgba(55, 128, 191, 1.0)",
          "dash": "solid",
          "shape": "linear",
          "width": 1.3
         },
         "mode": "lines",
         "name": "B",
         "text": "",
         "type": "scatter",
         "x": [
          0,
          1,
          2,
          3,
          4,
          5,
          6,
          7,
          8,
          9,
          10,
          11,
          12,
          13,
          14,
          15,
          16,
          17,
          18,
          19,
          20,
          21,
          22,
          23,
          24,
          25,
          26,
          27,
          28,
          29,
          30,
          31,
          32,
          33,
          34,
          35,
          36,
          37,
          38,
          39,
          40,
          41,
          42,
          43,
          44,
          45,
          46,
          47,
          48,
          49,
          50,
          51,
          52,
          53,
          54,
          55,
          56,
          57,
          58,
          59,
          60,
          61,
          62,
          63,
          64,
          65,
          66,
          67,
          68,
          69,
          70,
          71,
          72,
          73,
          74,
          75,
          76,
          77,
          78,
          79,
          80,
          81,
          82,
          83,
          84,
          85,
          86,
          87,
          88,
          89,
          90,
          91,
          92,
          93,
          94,
          95,
          96,
          97,
          98,
          99
         ],
         "y": [
          0.034821286830913595,
          -0.18465032640783027,
          -0.14559546878046986,
          0.5188969049323175,
          -0.13523853126955251,
          0.4318092832469963,
          0.4325114508880798,
          0.8998324403091219,
          0.9869125426600849,
          -0.8835232633714301,
          -2.3386192321621593,
          -1.6118761339264471,
          0.10490498434779806,
          -0.11092067933578692,
          0.1497009282397037,
          0.21076101732022792,
          0.39342478099064543,
          0.09132770586791539,
          0.2235968602504518,
          0.5677210023540927,
          -1.0883412917672228,
          -1.8634393578585162,
          2.071587906399981,
          -0.2801596751511832,
          0.12974489483726634,
          -0.03866485905727695,
          -0.03705076808737536,
          0.266357287604477,
          -0.7895322783647806,
          -0.1313370074749674,
          0.29259171698821895,
          -0.9007171494773731,
          -0.44891096939266245,
          1.008360713707377,
          0.7022439971995453,
          -0.7388691932128125,
          -1.4161292923720754,
          0.6474949831892831,
          0.47941356849780564,
          -0.2226059661427326,
          0.7618380699786111,
          -0.4477183007832323,
          -1.631693115173997,
          -0.09544522195089203,
          0.38537878900500644,
          -1.6441145363155063,
          0.21192444622315587,
          0.4511506586037992,
          -0.48756326634889624,
          -0.21143097507909714,
          -0.5064990676682648,
          -1.0304321937806444,
          -0.019262704289807565,
          -1.604129921098689,
          -0.7383698476057221,
          1.3744145867047832,
          -0.6875300541608018,
          -1.432387014408365,
          -1.0911982035031977,
          -0.13054703854233995,
          1.1149311389889858,
          0.9001591157267788,
          -0.027854177862134483,
          1.2499369055465825,
          -1.2563150649919035,
          -1.090926431089866,
          -0.17154256161045614,
          0.40402861851447225,
          -0.4517637786378383,
          -0.5959254526808988,
          -0.22125715901868098,
          0.5929169086168804,
          -0.949141669608413,
          1.1757531398322179,
          -2.0803217164995567,
          1.4384986621172728,
          -2.855634131971656,
          2.50215174769151,
          -0.6929526624471934,
          -1.6328247656936599,
          0.2698539871691669,
          -0.07005116943214082,
          1.6175284729997843,
          0.320895211020274,
          1.1316523527374969,
          0.7552513179923331,
          -0.5942685588961929,
          -1.6287220322329163,
          -0.8798472555314089,
          -0.9907060380812681,
          1.9345505655688178,
          -2.332218944909156,
          -1.056372116065171,
          0.7409704824269928,
          -1.080315368386018,
          -0.8325915945468163,
          1.9969983133617488,
          -1.0556709675869194,
          -0.4863793541163955,
          1.0783741055559404
         ]
        },
        {
         "connectgaps": false,
         "fill": "tozeroy",
         "line": {
          "color": "green",
          "dash": "solid",
          "shape": "linear",
          "width": 0.5
         },
         "mode": "lines",
         "name": "Spread",
         "showlegend": false,
         "type": "scatter",
         "x": [
          0,
          1,
          2,
          3,
          4,
          5,
          6,
          7,
          8,
          9,
          10,
          11,
          12,
          13,
          14,
          15,
          16,
          17,
          18,
          19,
          20,
          21,
          22,
          23,
          24,
          25,
          26,
          27,
          28,
          29,
          30,
          31,
          32,
          33,
          34,
          35,
          36,
          37,
          38,
          39,
          40,
          41,
          42,
          43,
          44,
          45,
          46,
          47,
          48,
          49,
          50,
          51,
          52,
          53,
          54,
          55,
          56,
          57,
          58,
          59,
          60,
          61,
          62,
          63,
          64,
          65,
          66,
          67,
          68,
          69,
          70,
          71,
          72,
          73,
          74,
          75,
          76,
          77,
          78,
          79,
          80,
          81,
          82,
          83,
          84,
          85,
          86,
          87,
          88,
          89,
          90,
          91,
          92,
          93,
          94,
          95,
          96,
          97,
          98,
          99
         ],
         "xaxis": "x2",
         "y": [
          1.4270724838668114,
          "",
          1.0839364358633088,
          "",
          0.20014771942406034,
          1.463197949954731,
          "",
          "",
          "",
          0.5074233691402968,
          1.8024291821992031,
          2.0321688720396716,
          0.77412146039065,
          0.28945125210505135,
          "",
          "",
          0.5320458018440946,
          0.806113683396419,
          1.135775556021857,
          "",
          0.8936183866610974,
          1.363450043244801,
          "",
          "",
          0.05467295255180135,
          1.6139904246026555,
          0.5124181982294882,
          1.369350510980895,
          "",
          "",
          1.993403986860478,
          0.7115648299384122,
          1.515453357191332,
          "",
          "",
          "",
          0.2799072502964908,
          "",
          "",
          "",
          "",
          "",
          1.337592214675788,
          "",
          "",
          1.0383845568145198,
          0.10722612524181185,
          "",
          1.5808459463578541,
          "",
          0.14486551376387602,
          2.641227411657063,
          "",
          2.3707651044370417,
          1.0605903006511639,
          "",
          0.315458892533162,
          2.7744278776031566,
          1.5151453659749858,
          0.6147903140758729,
          "",
          "",
          0.6845211240308877,
          "",
          1.6850164489255837,
          0.8931223220787512,
          0.22877433672160113,
          0.04352238058787555,
          1.1144946505178543,
          "",
          0.9377755857461896,
          "",
          0.13509231275620148,
          "",
          3.0662725108324995,
          "",
          0.7096865164258421,
          "",
          0.7954519635913258,
          0.7411923635102023,
          0.14093465163053592,
          "",
          "",
          0.46082171622687,
          0.4820439713057789,
          "",
          "",
          1.858716779630247,
          1.382446826197179,
          0.8237044619662894,
          "",
          5.314765755878935,
          4.061897994790648,
          0.6251684283468365,
          1.6273289374533682,
          1.429470903156492,
          "",
          0.1951263399830646,
          "",
          ""
         ],
         "yaxis": "y2"
        },
        {
         "connectgaps": false,
         "fill": "tozeroy",
         "line": {
          "color": "red",
          "dash": "solid",
          "shape": "linear",
          "width": 0.5
         },
         "mode": "lines",
         "name": "Spread",
         "showlegend": false,
         "type": "scatter",
         "x": [
          0,
          1,
          2,
          3,
          4,
          5,
          6,
          7,
          8,
          9,
          10,
          11,
          12,
          13,
          14,
          15,
          16,
          17,
          18,
          19,
          20,
          21,
          22,
          23,
          24,
          25,
          26,
          27,
          28,
          29,
          30,
          31,
          32,
          33,
          34,
          35,
          36,
          37,
          38,
          39,
          40,
          41,
          42,
          43,
          44,
          45,
          46,
          47,
          48,
          49,
          50,
          51,
          52,
          53,
          54,
          55,
          56,
          57,
          58,
          59,
          60,
          61,
          62,
          63,
          64,
          65,
          66,
          67,
          68,
          69,
          70,
          71,
          72,
          73,
          74,
          75,
          76,
          77,
          78,
          79,
          80,
          81,
          82,
          83,
          84,
          85,
          86,
          87,
          88,
          89,
          90,
          91,
          92,
          93,
          94,
          95,
          96,
          97,
          98,
          99
         ],
         "xaxis": "x2",
         "y": [
          "",
          -1.8465098096043728,
          "",
          -1.6002502336615294,
          "",
          "",
          -1.3039480105254067,
          -1.0305786414588953,
          -2.0792372354919046,
          "",
          "",
          "",
          "",
          "",
          -1.5723056897963033,
          -0.5963003836685961,
          "",
          "",
          "",
          -0.15025328500557267,
          "",
          "",
          -2.521799222641088,
          -0.8558417457595426,
          "",
          "",
          "",
          "",
          -1.1291702986627192,
          -0.06776643603176666,
          "",
          "",
          "",
          -1.7352730071341456,
          -0.339994846570807,
          -0.8236997417024171,
          "",
          -1.176871554076422,
          -0.672868294203568,
          -1.7494379824353106,
          -1.0329211296263592,
          -0.29085139554625933,
          "",
          -0.12874684683399246,
          -0.23455427731833584,
          "",
          "",
          -0.648770557260465,
          "",
          -0.8685144085883402,
          "",
          "",
          -0.5698391747570848,
          "",
          "",
          -3.061615944980587,
          "",
          "",
          "",
          "",
          -2.711100413959721,
          -0.31194197198015083,
          "",
          -3.210283760210553,
          "",
          "",
          "",
          "",
          "",
          -1.2002768345359902,
          "",
          -0.2602952098025186,
          "",
          -2.423585277744216,
          "",
          -0.24365879683239866,
          "",
          -1.968224716539728,
          "",
          "",
          "",
          -0.42790173618682315,
          -2.7732977154504472,
          "",
          "",
          -1.5354957822362287,
          -0.898085651521229,
          "",
          "",
          "",
          -1.1118716763237,
          "",
          "",
          "",
          "",
          "",
          -2.1372332148944437,
          "",
          -1.109994570823309,
          -2.5231779684177047
         ],
         "yaxis": "y2"
        }
       ],
       "layout": {
        "hovermode": "x",
        "legend": {
         "bgcolor": "#F5F6F9",
         "font": {
          "color": "#4D5663"
         }
        },
        "paper_bgcolor": "#F5F6F9",
        "plot_bgcolor": "#F5F6F9",
        "template": {
         "data": {
          "bar": [
           {
            "error_x": {
             "color": "#2a3f5f"
            },
            "error_y": {
             "color": "#2a3f5f"
            },
            "marker": {
             "line": {
              "color": "#E5ECF6",
              "width": 0.5
             }
            },
            "type": "bar"
           }
          ],
          "barpolar": [
           {
            "marker": {
             "line": {
              "color": "#E5ECF6",
              "width": 0.5
             }
            },
            "type": "barpolar"
           }
          ],
          "carpet": [
           {
            "aaxis": {
             "endlinecolor": "#2a3f5f",
             "gridcolor": "white",
             "linecolor": "white",
             "minorgridcolor": "white",
             "startlinecolor": "#2a3f5f"
            },
            "baxis": {
             "endlinecolor": "#2a3f5f",
             "gridcolor": "white",
             "linecolor": "white",
             "minorgridcolor": "white",
             "startlinecolor": "#2a3f5f"
            },
            "type": "carpet"
           }
          ],
          "choropleth": [
           {
            "colorbar": {
             "outlinewidth": 0,
             "ticks": ""
            },
            "type": "choropleth"
           }
          ],
          "contour": [
           {
            "colorbar": {
             "outlinewidth": 0,
             "ticks": ""
            },
            "colorscale": [
             [
              0,
              "#0d0887"
             ],
             [
              0.1111111111111111,
              "#46039f"
             ],
             [
              0.2222222222222222,
              "#7201a8"
             ],
             [
              0.3333333333333333,
              "#9c179e"
             ],
             [
              0.4444444444444444,
              "#bd3786"
             ],
             [
              0.5555555555555556,
              "#d8576b"
             ],
             [
              0.6666666666666666,
              "#ed7953"
             ],
             [
              0.7777777777777778,
              "#fb9f3a"
             ],
             [
              0.8888888888888888,
              "#fdca26"
             ],
             [
              1,
              "#f0f921"
             ]
            ],
            "type": "contour"
           }
          ],
          "contourcarpet": [
           {
            "colorbar": {
             "outlinewidth": 0,
             "ticks": ""
            },
            "type": "contourcarpet"
           }
          ],
          "heatmap": [
           {
            "colorbar": {
             "outlinewidth": 0,
             "ticks": ""
            },
            "colorscale": [
             [
              0,
              "#0d0887"
             ],
             [
              0.1111111111111111,
              "#46039f"
             ],
             [
              0.2222222222222222,
              "#7201a8"
             ],
             [
              0.3333333333333333,
              "#9c179e"
             ],
             [
              0.4444444444444444,
              "#bd3786"
             ],
             [
              0.5555555555555556,
              "#d8576b"
             ],
             [
              0.6666666666666666,
              "#ed7953"
             ],
             [
              0.7777777777777778,
              "#fb9f3a"
             ],
             [
              0.8888888888888888,
              "#fdca26"
             ],
             [
              1,
              "#f0f921"
             ]
            ],
            "type": "heatmap"
           }
          ],
          "heatmapgl": [
           {
            "colorbar": {
             "outlinewidth": 0,
             "ticks": ""
            },
            "colorscale": [
             [
              0,
              "#0d0887"
             ],
             [
              0.1111111111111111,
              "#46039f"
             ],
             [
              0.2222222222222222,
              "#7201a8"
             ],
             [
              0.3333333333333333,
              "#9c179e"
             ],
             [
              0.4444444444444444,
              "#bd3786"
             ],
             [
              0.5555555555555556,
              "#d8576b"
             ],
             [
              0.6666666666666666,
              "#ed7953"
             ],
             [
              0.7777777777777778,
              "#fb9f3a"
             ],
             [
              0.8888888888888888,
              "#fdca26"
             ],
             [
              1,
              "#f0f921"
             ]
            ],
            "type": "heatmapgl"
           }
          ],
          "histogram": [
           {
            "marker": {
             "colorbar": {
              "outlinewidth": 0,
              "ticks": ""
             }
            },
            "type": "histogram"
           }
          ],
          "histogram2d": [
           {
            "colorbar": {
             "outlinewidth": 0,
             "ticks": ""
            },
            "colorscale": [
             [
              0,
              "#0d0887"
             ],
             [
              0.1111111111111111,
              "#46039f"
             ],
             [
              0.2222222222222222,
              "#7201a8"
             ],
             [
              0.3333333333333333,
              "#9c179e"
             ],
             [
              0.4444444444444444,
              "#bd3786"
             ],
             [
              0.5555555555555556,
              "#d8576b"
             ],
             [
              0.6666666666666666,
              "#ed7953"
             ],
             [
              0.7777777777777778,
              "#fb9f3a"
             ],
             [
              0.8888888888888888,
              "#fdca26"
             ],
             [
              1,
              "#f0f921"
             ]
            ],
            "type": "histogram2d"
           }
          ],
          "histogram2dcontour": [
           {
            "colorbar": {
             "outlinewidth": 0,
             "ticks": ""
            },
            "colorscale": [
             [
              0,
              "#0d0887"
             ],
             [
              0.1111111111111111,
              "#46039f"
             ],
             [
              0.2222222222222222,
              "#7201a8"
             ],
             [
              0.3333333333333333,
              "#9c179e"
             ],
             [
              0.4444444444444444,
              "#bd3786"
             ],
             [
              0.5555555555555556,
              "#d8576b"
             ],
             [
              0.6666666666666666,
              "#ed7953"
             ],
             [
              0.7777777777777778,
              "#fb9f3a"
             ],
             [
              0.8888888888888888,
              "#fdca26"
             ],
             [
              1,
              "#f0f921"
             ]
            ],
            "type": "histogram2dcontour"
           }
          ],
          "mesh3d": [
           {
            "colorbar": {
             "outlinewidth": 0,
             "ticks": ""
            },
            "type": "mesh3d"
           }
          ],
          "parcoords": [
           {
            "line": {
             "colorbar": {
              "outlinewidth": 0,
              "ticks": ""
             }
            },
            "type": "parcoords"
           }
          ],
          "pie": [
           {
            "automargin": true,
            "type": "pie"
           }
          ],
          "scatter": [
           {
            "marker": {
             "colorbar": {
              "outlinewidth": 0,
              "ticks": ""
             }
            },
            "type": "scatter"
           }
          ],
          "scatter3d": [
           {
            "line": {
             "colorbar": {
              "outlinewidth": 0,
              "ticks": ""
             }
            },
            "marker": {
             "colorbar": {
              "outlinewidth": 0,
              "ticks": ""
             }
            },
            "type": "scatter3d"
           }
          ],
          "scattercarpet": [
           {
            "marker": {
             "colorbar": {
              "outlinewidth": 0,
              "ticks": ""
             }
            },
            "type": "scattercarpet"
           }
          ],
          "scattergeo": [
           {
            "marker": {
             "colorbar": {
              "outlinewidth": 0,
              "ticks": ""
             }
            },
            "type": "scattergeo"
           }
          ],
          "scattergl": [
           {
            "marker": {
             "colorbar": {
              "outlinewidth": 0,
              "ticks": ""
             }
            },
            "type": "scattergl"
           }
          ],
          "scattermapbox": [
           {
            "marker": {
             "colorbar": {
              "outlinewidth": 0,
              "ticks": ""
             }
            },
            "type": "scattermapbox"
           }
          ],
          "scatterpolar": [
           {
            "marker": {
             "colorbar": {
              "outlinewidth": 0,
              "ticks": ""
             }
            },
            "type": "scatterpolar"
           }
          ],
          "scatterpolargl": [
           {
            "marker": {
             "colorbar": {
              "outlinewidth": 0,
              "ticks": ""
             }
            },
            "type": "scatterpolargl"
           }
          ],
          "scatterternary": [
           {
            "marker": {
             "colorbar": {
              "outlinewidth": 0,
              "ticks": ""
             }
            },
            "type": "scatterternary"
           }
          ],
          "surface": [
           {
            "colorbar": {
             "outlinewidth": 0,
             "ticks": ""
            },
            "colorscale": [
             [
              0,
              "#0d0887"
             ],
             [
              0.1111111111111111,
              "#46039f"
             ],
             [
              0.2222222222222222,
              "#7201a8"
             ],
             [
              0.3333333333333333,
              "#9c179e"
             ],
             [
              0.4444444444444444,
              "#bd3786"
             ],
             [
              0.5555555555555556,
              "#d8576b"
             ],
             [
              0.6666666666666666,
              "#ed7953"
             ],
             [
              0.7777777777777778,
              "#fb9f3a"
             ],
             [
              0.8888888888888888,
              "#fdca26"
             ],
             [
              1,
              "#f0f921"
             ]
            ],
            "type": "surface"
           }
          ],
          "table": [
           {
            "cells": {
             "fill": {
              "color": "#EBF0F8"
             },
             "line": {
              "color": "white"
             }
            },
            "header": {
             "fill": {
              "color": "#C8D4E3"
             },
             "line": {
              "color": "white"
             }
            },
            "type": "table"
           }
          ]
         },
         "layout": {
          "annotationdefaults": {
           "arrowcolor": "#2a3f5f",
           "arrowhead": 0,
           "arrowwidth": 1
          },
          "autotypenumbers": "strict",
          "coloraxis": {
           "colorbar": {
            "outlinewidth": 0,
            "ticks": ""
           }
          },
          "colorscale": {
           "diverging": [
            [
             0,
             "#8e0152"
            ],
            [
             0.1,
             "#c51b7d"
            ],
            [
             0.2,
             "#de77ae"
            ],
            [
             0.3,
             "#f1b6da"
            ],
            [
             0.4,
             "#fde0ef"
            ],
            [
             0.5,
             "#f7f7f7"
            ],
            [
             0.6,
             "#e6f5d0"
            ],
            [
             0.7,
             "#b8e186"
            ],
            [
             0.8,
             "#7fbc41"
            ],
            [
             0.9,
             "#4d9221"
            ],
            [
             1,
             "#276419"
            ]
           ],
           "sequential": [
            [
             0,
             "#0d0887"
            ],
            [
             0.1111111111111111,
             "#46039f"
            ],
            [
             0.2222222222222222,
             "#7201a8"
            ],
            [
             0.3333333333333333,
             "#9c179e"
            ],
            [
             0.4444444444444444,
             "#bd3786"
            ],
            [
             0.5555555555555556,
             "#d8576b"
            ],
            [
             0.6666666666666666,
             "#ed7953"
            ],
            [
             0.7777777777777778,
             "#fb9f3a"
            ],
            [
             0.8888888888888888,
             "#fdca26"
            ],
            [
             1,
             "#f0f921"
            ]
           ],
           "sequentialminus": [
            [
             0,
             "#0d0887"
            ],
            [
             0.1111111111111111,
             "#46039f"
            ],
            [
             0.2222222222222222,
             "#7201a8"
            ],
            [
             0.3333333333333333,
             "#9c179e"
            ],
            [
             0.4444444444444444,
             "#bd3786"
            ],
            [
             0.5555555555555556,
             "#d8576b"
            ],
            [
             0.6666666666666666,
             "#ed7953"
            ],
            [
             0.7777777777777778,
             "#fb9f3a"
            ],
            [
             0.8888888888888888,
             "#fdca26"
            ],
            [
             1,
             "#f0f921"
            ]
           ]
          },
          "colorway": [
           "#636efa",
           "#EF553B",
           "#00cc96",
           "#ab63fa",
           "#FFA15A",
           "#19d3f3",
           "#FF6692",
           "#B6E880",
           "#FF97FF",
           "#FECB52"
          ],
          "font": {
           "color": "#2a3f5f"
          },
          "geo": {
           "bgcolor": "white",
           "lakecolor": "white",
           "landcolor": "#E5ECF6",
           "showlakes": true,
           "showland": true,
           "subunitcolor": "white"
          },
          "hoverlabel": {
           "align": "left"
          },
          "hovermode": "closest",
          "mapbox": {
           "style": "light"
          },
          "paper_bgcolor": "white",
          "plot_bgcolor": "#E5ECF6",
          "polar": {
           "angularaxis": {
            "gridcolor": "white",
            "linecolor": "white",
            "ticks": ""
           },
           "bgcolor": "#E5ECF6",
           "radialaxis": {
            "gridcolor": "white",
            "linecolor": "white",
            "ticks": ""
           }
          },
          "scene": {
           "xaxis": {
            "backgroundcolor": "#E5ECF6",
            "gridcolor": "white",
            "gridwidth": 2,
            "linecolor": "white",
            "showbackground": true,
            "ticks": "",
            "zerolinecolor": "white"
           },
           "yaxis": {
            "backgroundcolor": "#E5ECF6",
            "gridcolor": "white",
            "gridwidth": 2,
            "linecolor": "white",
            "showbackground": true,
            "ticks": "",
            "zerolinecolor": "white"
           },
           "zaxis": {
            "backgroundcolor": "#E5ECF6",
            "gridcolor": "white",
            "gridwidth": 2,
            "linecolor": "white",
            "showbackground": true,
            "ticks": "",
            "zerolinecolor": "white"
           }
          },
          "shapedefaults": {
           "line": {
            "color": "#2a3f5f"
           }
          },
          "ternary": {
           "aaxis": {
            "gridcolor": "white",
            "linecolor": "white",
            "ticks": ""
           },
           "baxis": {
            "gridcolor": "white",
            "linecolor": "white",
            "ticks": ""
           },
           "bgcolor": "#E5ECF6",
           "caxis": {
            "gridcolor": "white",
            "linecolor": "white",
            "ticks": ""
           }
          },
          "title": {
           "x": 0.05
          },
          "xaxis": {
           "automargin": true,
           "gridcolor": "white",
           "linecolor": "white",
           "ticks": "",
           "title": {
            "standoff": 15
           },
           "zerolinecolor": "white",
           "zerolinewidth": 2
          },
          "yaxis": {
           "automargin": true,
           "gridcolor": "white",
           "linecolor": "white",
           "ticks": "",
           "title": {
            "standoff": 15
           },
           "zerolinecolor": "white",
           "zerolinewidth": 2
          }
         }
        },
        "title": {
         "font": {
          "color": "#4D5663"
         }
        },
        "xaxis": {
         "gridcolor": "#E1E5ED",
         "showgrid": true,
         "tickfont": {
          "color": "#4D5663"
         },
         "title": {
          "font": {
           "color": "#4D5663"
          },
          "text": ""
         },
         "zerolinecolor": "#E1E5ED"
        },
        "xaxis2": {
         "anchor": "y2",
         "gridcolor": "#E1E5ED",
         "showgrid": true,
         "showticklabels": false,
         "tickfont": {
          "color": "#4D5663"
         },
         "title": {
          "font": {
           "color": "#4D5663"
          },
          "text": ""
         },
         "zerolinecolor": "#E1E5ED"
        },
        "yaxis": {
         "domain": [
          0.3,
          1
         ],
         "gridcolor": "#E1E5ED",
         "showgrid": true,
         "tickfont": {
          "color": "#4D5663"
         },
         "title": {
          "font": {
           "color": "#4D5663"
          },
          "text": ""
         },
         "zerolinecolor": "#E1E5ED"
        },
        "yaxis2": {
         "domain": [
          0,
          0.25
         ],
         "gridcolor": "#E1E5ED",
         "showgrid": true,
         "tickfont": {
          "color": "#4D5663"
         },
         "title": {
          "font": {
           "color": "#4D5663"
          },
          "text": "Spread"
         },
         "zerolinecolor": "#E1E5ED"
        }
       }
      },
      "text/html": [
       "<div>                            <div id=\"90c092f9-d60e-4b1c-9ebc-98b8fdda86cd\" class=\"plotly-graph-div\" style=\"height:525px; width:100%;\"></div>            <script type=\"text/javascript\">                require([\"plotly\"], function(Plotly) {                    window.PLOTLYENV=window.PLOTLYENV || {};\n",
       "                    window.PLOTLYENV.BASE_URL='https://plot.ly';                                    if (document.getElementById(\"90c092f9-d60e-4b1c-9ebc-98b8fdda86cd\")) {                    Plotly.newPlot(                        \"90c092f9-d60e-4b1c-9ebc-98b8fdda86cd\",                        [{\"line\": {\"color\": \"rgba(255, 153, 51, 1.0)\", \"dash\": \"solid\", \"shape\": \"linear\", \"width\": 1.3}, \"mode\": \"lines\", \"name\": \"A\", \"text\": \"\", \"type\": \"scatter\", \"x\": [0, 1, 2, 3, 4, 5, 6, 7, 8, 9, 10, 11, 12, 13, 14, 15, 16, 17, 18, 19, 20, 21, 22, 23, 24, 25, 26, 27, 28, 29, 30, 31, 32, 33, 34, 35, 36, 37, 38, 39, 40, 41, 42, 43, 44, 45, 46, 47, 48, 49, 50, 51, 52, 53, 54, 55, 56, 57, 58, 59, 60, 61, 62, 63, 64, 65, 66, 67, 68, 69, 70, 71, 72, 73, 74, 75, 76, 77, 78, 79, 80, 81, 82, 83, 84, 85, 86, 87, 88, 89, 90, 91, 92, 93, 94, 95, 96, 97, 98, 99], \"y\": [1.461893770697725, -2.031160136012203, 0.9383409670828389, -1.0813533287292119, 0.06490918815450783, 1.8950072332017274, -0.8714365596373268, -0.13074620114977334, -1.0923246928318198, -0.3760998942311332, -0.5361900499629562, 0.42029273811322426, 0.879026444738448, 0.17853057276926443, -1.4226047615565995, -0.38553936634836816, 0.9254705828347399, 0.8974413892643344, 1.3593724162723089, 0.41746771734852006, -0.1947229051061254, -0.4999893146137153, -0.4502113162411071, -1.1360014209107259, 0.1844178473890677, 1.5753255655453786, 0.4753674301421128, 1.635707798585372, -1.9187025770275, -0.19910344350673406, 2.285995703848697, -0.18915231953896097, 1.0665423877986695, -0.7269122934267687, 0.36224915062873836, -1.5625689349152296, -1.1362220420755846, -0.529376570887139, -0.1934547257057624, -1.9720439485780432, -0.2710830596477481, -0.7385696963294917, -0.29410090049820914, -0.22419206878488449, 0.1508245116866706, -0.6057299795009865, 0.3191505714649677, -0.1976198986566658, 1.093282680008958, -1.0799453836674373, -0.3616335539043888, 1.6107952178764182, -0.5891018790468924, 0.7666351833383529, 0.32222045304544167, -1.6872013582758036, -0.3720711616276398, 1.3420408631947918, 0.4239471624717882, 0.48424327553353297, -1.5961692749707352, 0.5882171437466279, 0.6566669461687532, -1.9603468546639706, 0.42870138393368024, -0.1978041090111149, 0.05723177511114498, 0.4475509991023478, 0.662730871880016, -1.796202287216889, 0.7165184267275085, 0.3326216988143618, -0.8140493568522115, -1.247832137911998, 0.9859507943329427, 1.1948398652848742, -2.145947615545814, 0.5339270311517821, 0.10249930114413236, -0.8916324021834575, 0.41078863879970284, -0.49795290561896394, -1.155769242450663, 0.781716927247144, 1.6136963240432758, -0.7802444642438957, -1.492354210417422, 0.2299947473973307, 0.50259957066577, -0.16700157611497873, 0.8226788892451177, 2.982546810969779, 3.0055258787254777, 1.3661389107738293, 0.5470135690673502, 0.5968793086096759, -0.14023490153269502, -0.8605446276038548, -1.5963739249397044, -1.444803862861764]}, {\"line\": {\"color\": \"rgba(55, 128, 191, 1.0)\", \"dash\": \"solid\", \"shape\": \"linear\", \"width\": 1.3}, \"mode\": \"lines\", \"name\": \"B\", \"text\": \"\", \"type\": \"scatter\", \"x\": [0, 1, 2, 3, 4, 5, 6, 7, 8, 9, 10, 11, 12, 13, 14, 15, 16, 17, 18, 19, 20, 21, 22, 23, 24, 25, 26, 27, 28, 29, 30, 31, 32, 33, 34, 35, 36, 37, 38, 39, 40, 41, 42, 43, 44, 45, 46, 47, 48, 49, 50, 51, 52, 53, 54, 55, 56, 57, 58, 59, 60, 61, 62, 63, 64, 65, 66, 67, 68, 69, 70, 71, 72, 73, 74, 75, 76, 77, 78, 79, 80, 81, 82, 83, 84, 85, 86, 87, 88, 89, 90, 91, 92, 93, 94, 95, 96, 97, 98, 99], \"y\": [0.034821286830913595, -0.18465032640783027, -0.14559546878046986, 0.5188969049323175, -0.13523853126955251, 0.4318092832469963, 0.4325114508880798, 0.8998324403091219, 0.9869125426600849, -0.8835232633714301, -2.3386192321621593, -1.6118761339264471, 0.10490498434779806, -0.11092067933578692, 0.1497009282397037, 0.21076101732022792, 0.39342478099064543, 0.09132770586791539, 0.2235968602504518, 0.5677210023540927, -1.0883412917672228, -1.8634393578585162, 2.071587906399981, -0.2801596751511832, 0.12974489483726634, -0.03866485905727695, -0.03705076808737536, 0.266357287604477, -0.7895322783647806, -0.1313370074749674, 0.29259171698821895, -0.9007171494773731, -0.44891096939266245, 1.008360713707377, 0.7022439971995453, -0.7388691932128125, -1.4161292923720754, 0.6474949831892831, 0.47941356849780564, -0.2226059661427326, 0.7618380699786111, -0.4477183007832323, -1.631693115173997, -0.09544522195089203, 0.38537878900500644, -1.6441145363155063, 0.21192444622315587, 0.4511506586037992, -0.48756326634889624, -0.21143097507909714, -0.5064990676682648, -1.0304321937806444, -0.019262704289807565, -1.604129921098689, -0.7383698476057221, 1.3744145867047832, -0.6875300541608018, -1.432387014408365, -1.0911982035031977, -0.13054703854233995, 1.1149311389889858, 0.9001591157267788, -0.027854177862134483, 1.2499369055465825, -1.2563150649919035, -1.090926431089866, -0.17154256161045614, 0.40402861851447225, -0.4517637786378383, -0.5959254526808988, -0.22125715901868098, 0.5929169086168804, -0.949141669608413, 1.1757531398322179, -2.0803217164995567, 1.4384986621172728, -2.855634131971656, 2.50215174769151, -0.6929526624471934, -1.6328247656936599, 0.2698539871691669, -0.07005116943214082, 1.6175284729997843, 0.320895211020274, 1.1316523527374969, 0.7552513179923331, -0.5942685588961929, -1.6287220322329163, -0.8798472555314089, -0.9907060380812681, 1.9345505655688178, -2.332218944909156, -1.056372116065171, 0.7409704824269928, -1.080315368386018, -0.8325915945468163, 1.9969983133617488, -1.0556709675869194, -0.4863793541163955, 1.0783741055559404]}, {\"connectgaps\": false, \"fill\": \"tozeroy\", \"line\": {\"color\": \"green\", \"dash\": \"solid\", \"shape\": \"linear\", \"width\": 0.5}, \"mode\": \"lines\", \"name\": \"Spread\", \"showlegend\": false, \"type\": \"scatter\", \"x\": [0, 1, 2, 3, 4, 5, 6, 7, 8, 9, 10, 11, 12, 13, 14, 15, 16, 17, 18, 19, 20, 21, 22, 23, 24, 25, 26, 27, 28, 29, 30, 31, 32, 33, 34, 35, 36, 37, 38, 39, 40, 41, 42, 43, 44, 45, 46, 47, 48, 49, 50, 51, 52, 53, 54, 55, 56, 57, 58, 59, 60, 61, 62, 63, 64, 65, 66, 67, 68, 69, 70, 71, 72, 73, 74, 75, 76, 77, 78, 79, 80, 81, 82, 83, 84, 85, 86, 87, 88, 89, 90, 91, 92, 93, 94, 95, 96, 97, 98, 99], \"xaxis\": \"x2\", \"y\": [1.4270724838668114, \"\", 1.0839364358633088, \"\", 0.20014771942406034, 1.463197949954731, \"\", \"\", \"\", 0.5074233691402968, 1.8024291821992031, 2.0321688720396716, 0.77412146039065, 0.28945125210505135, \"\", \"\", 0.5320458018440946, 0.806113683396419, 1.135775556021857, \"\", 0.8936183866610974, 1.363450043244801, \"\", \"\", 0.05467295255180135, 1.6139904246026555, 0.5124181982294882, 1.369350510980895, \"\", \"\", 1.993403986860478, 0.7115648299384122, 1.515453357191332, \"\", \"\", \"\", 0.2799072502964908, \"\", \"\", \"\", \"\", \"\", 1.337592214675788, \"\", \"\", 1.0383845568145198, 0.10722612524181185, \"\", 1.5808459463578541, \"\", 0.14486551376387602, 2.641227411657063, \"\", 2.3707651044370417, 1.0605903006511639, \"\", 0.315458892533162, 2.7744278776031566, 1.5151453659749858, 0.6147903140758729, \"\", \"\", 0.6845211240308877, \"\", 1.6850164489255837, 0.8931223220787512, 0.22877433672160113, 0.04352238058787555, 1.1144946505178543, \"\", 0.9377755857461896, \"\", 0.13509231275620148, \"\", 3.0662725108324995, \"\", 0.7096865164258421, \"\", 0.7954519635913258, 0.7411923635102023, 0.14093465163053592, \"\", \"\", 0.46082171622687, 0.4820439713057789, \"\", \"\", 1.858716779630247, 1.382446826197179, 0.8237044619662894, \"\", 5.314765755878935, 4.061897994790648, 0.6251684283468365, 1.6273289374533682, 1.429470903156492, \"\", 0.1951263399830646, \"\", \"\"], \"yaxis\": \"y2\"}, {\"connectgaps\": false, \"fill\": \"tozeroy\", \"line\": {\"color\": \"red\", \"dash\": \"solid\", \"shape\": \"linear\", \"width\": 0.5}, \"mode\": \"lines\", \"name\": \"Spread\", \"showlegend\": false, \"type\": \"scatter\", \"x\": [0, 1, 2, 3, 4, 5, 6, 7, 8, 9, 10, 11, 12, 13, 14, 15, 16, 17, 18, 19, 20, 21, 22, 23, 24, 25, 26, 27, 28, 29, 30, 31, 32, 33, 34, 35, 36, 37, 38, 39, 40, 41, 42, 43, 44, 45, 46, 47, 48, 49, 50, 51, 52, 53, 54, 55, 56, 57, 58, 59, 60, 61, 62, 63, 64, 65, 66, 67, 68, 69, 70, 71, 72, 73, 74, 75, 76, 77, 78, 79, 80, 81, 82, 83, 84, 85, 86, 87, 88, 89, 90, 91, 92, 93, 94, 95, 96, 97, 98, 99], \"xaxis\": \"x2\", \"y\": [\"\", -1.8465098096043728, \"\", -1.6002502336615294, \"\", \"\", -1.3039480105254067, -1.0305786414588953, -2.0792372354919046, \"\", \"\", \"\", \"\", \"\", -1.5723056897963033, -0.5963003836685961, \"\", \"\", \"\", -0.15025328500557267, \"\", \"\", -2.521799222641088, -0.8558417457595426, \"\", \"\", \"\", \"\", -1.1291702986627192, -0.06776643603176666, \"\", \"\", \"\", -1.7352730071341456, -0.339994846570807, -0.8236997417024171, \"\", -1.176871554076422, -0.672868294203568, -1.7494379824353106, -1.0329211296263592, -0.29085139554625933, \"\", -0.12874684683399246, -0.23455427731833584, \"\", \"\", -0.648770557260465, \"\", -0.8685144085883402, \"\", \"\", -0.5698391747570848, \"\", \"\", -3.061615944980587, \"\", \"\", \"\", \"\", -2.711100413959721, -0.31194197198015083, \"\", -3.210283760210553, \"\", \"\", \"\", \"\", \"\", -1.2002768345359902, \"\", -0.2602952098025186, \"\", -2.423585277744216, \"\", -0.24365879683239866, \"\", -1.968224716539728, \"\", \"\", \"\", -0.42790173618682315, -2.7732977154504472, \"\", \"\", -1.5354957822362287, -0.898085651521229, \"\", \"\", \"\", -1.1118716763237, \"\", \"\", \"\", \"\", \"\", -2.1372332148944437, \"\", -1.109994570823309, -2.5231779684177047], \"yaxis\": \"y2\"}],                        {\"hovermode\": \"x\", \"legend\": {\"bgcolor\": \"#F5F6F9\", \"font\": {\"color\": \"#4D5663\"}}, \"paper_bgcolor\": \"#F5F6F9\", \"plot_bgcolor\": \"#F5F6F9\", \"template\": {\"data\": {\"bar\": [{\"error_x\": {\"color\": \"#2a3f5f\"}, \"error_y\": {\"color\": \"#2a3f5f\"}, \"marker\": {\"line\": {\"color\": \"#E5ECF6\", \"width\": 0.5}}, \"type\": \"bar\"}], \"barpolar\": [{\"marker\": {\"line\": {\"color\": \"#E5ECF6\", \"width\": 0.5}}, \"type\": \"barpolar\"}], \"carpet\": [{\"aaxis\": {\"endlinecolor\": \"#2a3f5f\", \"gridcolor\": \"white\", \"linecolor\": \"white\", \"minorgridcolor\": \"white\", \"startlinecolor\": \"#2a3f5f\"}, \"baxis\": {\"endlinecolor\": \"#2a3f5f\", \"gridcolor\": \"white\", \"linecolor\": \"white\", \"minorgridcolor\": \"white\", \"startlinecolor\": \"#2a3f5f\"}, \"type\": \"carpet\"}], \"choropleth\": [{\"colorbar\": {\"outlinewidth\": 0, \"ticks\": \"\"}, \"type\": \"choropleth\"}], \"contour\": [{\"colorbar\": {\"outlinewidth\": 0, \"ticks\": \"\"}, \"colorscale\": [[0.0, \"#0d0887\"], [0.1111111111111111, \"#46039f\"], [0.2222222222222222, \"#7201a8\"], [0.3333333333333333, \"#9c179e\"], [0.4444444444444444, \"#bd3786\"], [0.5555555555555556, \"#d8576b\"], [0.6666666666666666, \"#ed7953\"], [0.7777777777777778, \"#fb9f3a\"], [0.8888888888888888, \"#fdca26\"], [1.0, \"#f0f921\"]], \"type\": \"contour\"}], \"contourcarpet\": [{\"colorbar\": {\"outlinewidth\": 0, \"ticks\": \"\"}, \"type\": \"contourcarpet\"}], \"heatmap\": [{\"colorbar\": {\"outlinewidth\": 0, \"ticks\": \"\"}, \"colorscale\": [[0.0, \"#0d0887\"], [0.1111111111111111, \"#46039f\"], [0.2222222222222222, \"#7201a8\"], [0.3333333333333333, \"#9c179e\"], [0.4444444444444444, \"#bd3786\"], [0.5555555555555556, \"#d8576b\"], [0.6666666666666666, \"#ed7953\"], [0.7777777777777778, \"#fb9f3a\"], [0.8888888888888888, \"#fdca26\"], [1.0, \"#f0f921\"]], \"type\": \"heatmap\"}], \"heatmapgl\": [{\"colorbar\": {\"outlinewidth\": 0, \"ticks\": \"\"}, \"colorscale\": [[0.0, \"#0d0887\"], [0.1111111111111111, \"#46039f\"], [0.2222222222222222, \"#7201a8\"], [0.3333333333333333, \"#9c179e\"], [0.4444444444444444, \"#bd3786\"], [0.5555555555555556, \"#d8576b\"], [0.6666666666666666, \"#ed7953\"], [0.7777777777777778, \"#fb9f3a\"], [0.8888888888888888, \"#fdca26\"], [1.0, \"#f0f921\"]], \"type\": \"heatmapgl\"}], \"histogram\": [{\"marker\": {\"colorbar\": {\"outlinewidth\": 0, \"ticks\": \"\"}}, \"type\": \"histogram\"}], \"histogram2d\": [{\"colorbar\": {\"outlinewidth\": 0, \"ticks\": \"\"}, \"colorscale\": [[0.0, \"#0d0887\"], [0.1111111111111111, \"#46039f\"], [0.2222222222222222, \"#7201a8\"], [0.3333333333333333, \"#9c179e\"], [0.4444444444444444, \"#bd3786\"], [0.5555555555555556, \"#d8576b\"], [0.6666666666666666, \"#ed7953\"], [0.7777777777777778, \"#fb9f3a\"], [0.8888888888888888, \"#fdca26\"], [1.0, \"#f0f921\"]], \"type\": \"histogram2d\"}], \"histogram2dcontour\": [{\"colorbar\": {\"outlinewidth\": 0, \"ticks\": \"\"}, \"colorscale\": [[0.0, \"#0d0887\"], [0.1111111111111111, \"#46039f\"], [0.2222222222222222, \"#7201a8\"], [0.3333333333333333, \"#9c179e\"], [0.4444444444444444, \"#bd3786\"], [0.5555555555555556, \"#d8576b\"], [0.6666666666666666, \"#ed7953\"], [0.7777777777777778, \"#fb9f3a\"], [0.8888888888888888, \"#fdca26\"], [1.0, \"#f0f921\"]], \"type\": \"histogram2dcontour\"}], \"mesh3d\": [{\"colorbar\": {\"outlinewidth\": 0, \"ticks\": \"\"}, \"type\": \"mesh3d\"}], \"parcoords\": [{\"line\": {\"colorbar\": {\"outlinewidth\": 0, \"ticks\": \"\"}}, \"type\": \"parcoords\"}], \"pie\": [{\"automargin\": true, \"type\": \"pie\"}], \"scatter\": [{\"marker\": {\"colorbar\": {\"outlinewidth\": 0, \"ticks\": \"\"}}, \"type\": \"scatter\"}], \"scatter3d\": [{\"line\": {\"colorbar\": {\"outlinewidth\": 0, \"ticks\": \"\"}}, \"marker\": {\"colorbar\": {\"outlinewidth\": 0, \"ticks\": \"\"}}, \"type\": \"scatter3d\"}], \"scattercarpet\": [{\"marker\": {\"colorbar\": {\"outlinewidth\": 0, \"ticks\": \"\"}}, \"type\": \"scattercarpet\"}], \"scattergeo\": [{\"marker\": {\"colorbar\": {\"outlinewidth\": 0, \"ticks\": \"\"}}, \"type\": \"scattergeo\"}], \"scattergl\": [{\"marker\": {\"colorbar\": {\"outlinewidth\": 0, \"ticks\": \"\"}}, \"type\": \"scattergl\"}], \"scattermapbox\": [{\"marker\": {\"colorbar\": {\"outlinewidth\": 0, \"ticks\": \"\"}}, \"type\": \"scattermapbox\"}], \"scatterpolar\": [{\"marker\": {\"colorbar\": {\"outlinewidth\": 0, \"ticks\": \"\"}}, \"type\": \"scatterpolar\"}], \"scatterpolargl\": [{\"marker\": {\"colorbar\": {\"outlinewidth\": 0, \"ticks\": \"\"}}, \"type\": \"scatterpolargl\"}], \"scatterternary\": [{\"marker\": {\"colorbar\": {\"outlinewidth\": 0, \"ticks\": \"\"}}, \"type\": \"scatterternary\"}], \"surface\": [{\"colorbar\": {\"outlinewidth\": 0, \"ticks\": \"\"}, \"colorscale\": [[0.0, \"#0d0887\"], [0.1111111111111111, \"#46039f\"], [0.2222222222222222, \"#7201a8\"], [0.3333333333333333, \"#9c179e\"], [0.4444444444444444, \"#bd3786\"], [0.5555555555555556, \"#d8576b\"], [0.6666666666666666, \"#ed7953\"], [0.7777777777777778, \"#fb9f3a\"], [0.8888888888888888, \"#fdca26\"], [1.0, \"#f0f921\"]], \"type\": \"surface\"}], \"table\": [{\"cells\": {\"fill\": {\"color\": \"#EBF0F8\"}, \"line\": {\"color\": \"white\"}}, \"header\": {\"fill\": {\"color\": \"#C8D4E3\"}, \"line\": {\"color\": \"white\"}}, \"type\": \"table\"}]}, \"layout\": {\"annotationdefaults\": {\"arrowcolor\": \"#2a3f5f\", \"arrowhead\": 0, \"arrowwidth\": 1}, \"autotypenumbers\": \"strict\", \"coloraxis\": {\"colorbar\": {\"outlinewidth\": 0, \"ticks\": \"\"}}, \"colorscale\": {\"diverging\": [[0, \"#8e0152\"], [0.1, \"#c51b7d\"], [0.2, \"#de77ae\"], [0.3, \"#f1b6da\"], [0.4, \"#fde0ef\"], [0.5, \"#f7f7f7\"], [0.6, \"#e6f5d0\"], [0.7, \"#b8e186\"], [0.8, \"#7fbc41\"], [0.9, \"#4d9221\"], [1, \"#276419\"]], \"sequential\": [[0.0, \"#0d0887\"], [0.1111111111111111, \"#46039f\"], [0.2222222222222222, \"#7201a8\"], [0.3333333333333333, \"#9c179e\"], [0.4444444444444444, \"#bd3786\"], [0.5555555555555556, \"#d8576b\"], [0.6666666666666666, \"#ed7953\"], [0.7777777777777778, \"#fb9f3a\"], [0.8888888888888888, \"#fdca26\"], [1.0, \"#f0f921\"]], \"sequentialminus\": [[0.0, \"#0d0887\"], [0.1111111111111111, \"#46039f\"], [0.2222222222222222, \"#7201a8\"], [0.3333333333333333, \"#9c179e\"], [0.4444444444444444, \"#bd3786\"], [0.5555555555555556, \"#d8576b\"], [0.6666666666666666, \"#ed7953\"], [0.7777777777777778, \"#fb9f3a\"], [0.8888888888888888, \"#fdca26\"], [1.0, \"#f0f921\"]]}, \"colorway\": [\"#636efa\", \"#EF553B\", \"#00cc96\", \"#ab63fa\", \"#FFA15A\", \"#19d3f3\", \"#FF6692\", \"#B6E880\", \"#FF97FF\", \"#FECB52\"], \"font\": {\"color\": \"#2a3f5f\"}, \"geo\": {\"bgcolor\": \"white\", \"lakecolor\": \"white\", \"landcolor\": \"#E5ECF6\", \"showlakes\": true, \"showland\": true, \"subunitcolor\": \"white\"}, \"hoverlabel\": {\"align\": \"left\"}, \"hovermode\": \"closest\", \"mapbox\": {\"style\": \"light\"}, \"paper_bgcolor\": \"white\", \"plot_bgcolor\": \"#E5ECF6\", \"polar\": {\"angularaxis\": {\"gridcolor\": \"white\", \"linecolor\": \"white\", \"ticks\": \"\"}, \"bgcolor\": \"#E5ECF6\", \"radialaxis\": {\"gridcolor\": \"white\", \"linecolor\": \"white\", \"ticks\": \"\"}}, \"scene\": {\"xaxis\": {\"backgroundcolor\": \"#E5ECF6\", \"gridcolor\": \"white\", \"gridwidth\": 2, \"linecolor\": \"white\", \"showbackground\": true, \"ticks\": \"\", \"zerolinecolor\": \"white\"}, \"yaxis\": {\"backgroundcolor\": \"#E5ECF6\", \"gridcolor\": \"white\", \"gridwidth\": 2, \"linecolor\": \"white\", \"showbackground\": true, \"ticks\": \"\", \"zerolinecolor\": \"white\"}, \"zaxis\": {\"backgroundcolor\": \"#E5ECF6\", \"gridcolor\": \"white\", \"gridwidth\": 2, \"linecolor\": \"white\", \"showbackground\": true, \"ticks\": \"\", \"zerolinecolor\": \"white\"}}, \"shapedefaults\": {\"line\": {\"color\": \"#2a3f5f\"}}, \"ternary\": {\"aaxis\": {\"gridcolor\": \"white\", \"linecolor\": \"white\", \"ticks\": \"\"}, \"baxis\": {\"gridcolor\": \"white\", \"linecolor\": \"white\", \"ticks\": \"\"}, \"bgcolor\": \"#E5ECF6\", \"caxis\": {\"gridcolor\": \"white\", \"linecolor\": \"white\", \"ticks\": \"\"}}, \"title\": {\"x\": 0.05}, \"xaxis\": {\"automargin\": true, \"gridcolor\": \"white\", \"linecolor\": \"white\", \"ticks\": \"\", \"title\": {\"standoff\": 15}, \"zerolinecolor\": \"white\", \"zerolinewidth\": 2}, \"yaxis\": {\"automargin\": true, \"gridcolor\": \"white\", \"linecolor\": \"white\", \"ticks\": \"\", \"title\": {\"standoff\": 15}, \"zerolinecolor\": \"white\", \"zerolinewidth\": 2}}}, \"title\": {\"font\": {\"color\": \"#4D5663\"}}, \"xaxis\": {\"gridcolor\": \"#E1E5ED\", \"showgrid\": true, \"tickfont\": {\"color\": \"#4D5663\"}, \"title\": {\"font\": {\"color\": \"#4D5663\"}, \"text\": \"\"}, \"zerolinecolor\": \"#E1E5ED\"}, \"xaxis2\": {\"anchor\": \"y2\", \"gridcolor\": \"#E1E5ED\", \"showgrid\": true, \"showticklabels\": false, \"tickfont\": {\"color\": \"#4D5663\"}, \"title\": {\"font\": {\"color\": \"#4D5663\"}, \"text\": \"\"}, \"zerolinecolor\": \"#E1E5ED\"}, \"yaxis\": {\"domain\": [0.3, 1], \"gridcolor\": \"#E1E5ED\", \"showgrid\": true, \"tickfont\": {\"color\": \"#4D5663\"}, \"title\": {\"font\": {\"color\": \"#4D5663\"}, \"text\": \"\"}, \"zerolinecolor\": \"#E1E5ED\"}, \"yaxis2\": {\"domain\": [0, 0.25], \"gridcolor\": \"#E1E5ED\", \"showgrid\": true, \"tickfont\": {\"color\": \"#4D5663\"}, \"title\": {\"font\": {\"color\": \"#4D5663\"}, \"text\": \"Spread\"}, \"zerolinecolor\": \"#E1E5ED\"}},                        {\"showLink\": true, \"linkText\": \"Export to plot.ly\", \"plotlyServerURL\": \"https://plot.ly\", \"responsive\": true}                    ).then(function(){\n",
       "                            \n",
       "var gd = document.getElementById('90c092f9-d60e-4b1c-9ebc-98b8fdda86cd');\n",
       "var x = new MutationObserver(function (mutations, observer) {{\n",
       "        var display = window.getComputedStyle(gd).display;\n",
       "        if (!display || display === 'none') {{\n",
       "            console.log([gd, 'removed!']);\n",
       "            Plotly.purge(gd);\n",
       "            observer.disconnect();\n",
       "        }}\n",
       "}});\n",
       "\n",
       "// Listen for the removal of the full notebook cells\n",
       "var notebookContainer = gd.closest('#notebook-container');\n",
       "if (notebookContainer) {{\n",
       "    x.observe(notebookContainer, {childList: true});\n",
       "}}\n",
       "\n",
       "// Listen for the clearing of the current output cell\n",
       "var outputEl = gd.closest('.output');\n",
       "if (outputEl) {{\n",
       "    x.observe(outputEl, {childList: true});\n",
       "}}\n",
       "\n",
       "                        })                };                });            </script>        </div>"
      ]
     },
     "metadata": {},
     "output_type": "display_data"
    }
   ],
   "source": [
    "df[['A','B']].iplot(kind='spread')"
   ]
  },
  {
   "cell_type": "markdown",
   "metadata": {},
   "source": [
    "## histogram"
   ]
  },
  {
   "cell_type": "code",
   "execution_count": 18,
   "metadata": {},
   "outputs": [
    {
     "data": {
      "application/vnd.plotly.v1+json": {
       "config": {
        "linkText": "Export to plot.ly",
        "plotlyServerURL": "https://plot.ly",
        "showLink": true
       },
       "data": [
        {
         "histfunc": "count",
         "histnorm": "",
         "marker": {
          "color": "rgba(255, 153, 51, 1.0)",
          "line": {
           "color": "#4D5663",
           "width": 1.3
          }
         },
         "name": "A",
         "nbinsx": 25,
         "opacity": 0.8,
         "orientation": "v",
         "type": "histogram",
         "x": [
          1.461893770697725,
          -2.031160136012203,
          0.9383409670828389,
          -1.0813533287292119,
          0.06490918815450783,
          1.8950072332017274,
          -0.8714365596373268,
          -0.13074620114977334,
          -1.0923246928318198,
          -0.3760998942311332,
          -0.5361900499629562,
          0.42029273811322426,
          0.879026444738448,
          0.17853057276926443,
          -1.4226047615565995,
          -0.38553936634836816,
          0.9254705828347399,
          0.8974413892643344,
          1.3593724162723089,
          0.41746771734852006,
          -0.1947229051061254,
          -0.4999893146137153,
          -0.4502113162411071,
          -1.1360014209107259,
          0.1844178473890677,
          1.5753255655453786,
          0.4753674301421128,
          1.635707798585372,
          -1.9187025770275,
          -0.19910344350673406,
          2.285995703848697,
          -0.18915231953896097,
          1.0665423877986695,
          -0.7269122934267687,
          0.36224915062873836,
          -1.5625689349152296,
          -1.1362220420755846,
          -0.529376570887139,
          -0.1934547257057624,
          -1.9720439485780432,
          -0.2710830596477481,
          -0.7385696963294917,
          -0.29410090049820914,
          -0.22419206878488449,
          0.1508245116866706,
          -0.6057299795009865,
          0.3191505714649677,
          -0.1976198986566658,
          1.093282680008958,
          -1.0799453836674373,
          -0.3616335539043888,
          1.6107952178764182,
          -0.5891018790468924,
          0.7666351833383529,
          0.32222045304544167,
          -1.6872013582758036,
          -0.3720711616276398,
          1.3420408631947918,
          0.4239471624717882,
          0.48424327553353297,
          -1.5961692749707352,
          0.5882171437466279,
          0.6566669461687532,
          -1.9603468546639706,
          0.42870138393368024,
          -0.1978041090111149,
          0.05723177511114498,
          0.4475509991023478,
          0.662730871880016,
          -1.796202287216889,
          0.7165184267275085,
          0.3326216988143618,
          -0.8140493568522115,
          -1.247832137911998,
          0.9859507943329427,
          1.1948398652848742,
          -2.145947615545814,
          0.5339270311517821,
          0.10249930114413236,
          -0.8916324021834575,
          0.41078863879970284,
          -0.49795290561896394,
          -1.155769242450663,
          0.781716927247144,
          1.6136963240432758,
          -0.7802444642438957,
          -1.492354210417422,
          0.2299947473973307,
          0.50259957066577,
          -0.16700157611497873,
          0.8226788892451177,
          2.982546810969779,
          3.0055258787254777,
          1.3661389107738293,
          0.5470135690673502,
          0.5968793086096759,
          -0.14023490153269502,
          -0.8605446276038548,
          -1.5963739249397044,
          -1.444803862861764
         ]
        }
       ],
       "layout": {
        "barmode": "overlay",
        "legend": {
         "bgcolor": "#F5F6F9",
         "font": {
          "color": "#4D5663"
         }
        },
        "paper_bgcolor": "#F5F6F9",
        "plot_bgcolor": "#F5F6F9",
        "template": {
         "data": {
          "bar": [
           {
            "error_x": {
             "color": "#2a3f5f"
            },
            "error_y": {
             "color": "#2a3f5f"
            },
            "marker": {
             "line": {
              "color": "#E5ECF6",
              "width": 0.5
             }
            },
            "type": "bar"
           }
          ],
          "barpolar": [
           {
            "marker": {
             "line": {
              "color": "#E5ECF6",
              "width": 0.5
             }
            },
            "type": "barpolar"
           }
          ],
          "carpet": [
           {
            "aaxis": {
             "endlinecolor": "#2a3f5f",
             "gridcolor": "white",
             "linecolor": "white",
             "minorgridcolor": "white",
             "startlinecolor": "#2a3f5f"
            },
            "baxis": {
             "endlinecolor": "#2a3f5f",
             "gridcolor": "white",
             "linecolor": "white",
             "minorgridcolor": "white",
             "startlinecolor": "#2a3f5f"
            },
            "type": "carpet"
           }
          ],
          "choropleth": [
           {
            "colorbar": {
             "outlinewidth": 0,
             "ticks": ""
            },
            "type": "choropleth"
           }
          ],
          "contour": [
           {
            "colorbar": {
             "outlinewidth": 0,
             "ticks": ""
            },
            "colorscale": [
             [
              0,
              "#0d0887"
             ],
             [
              0.1111111111111111,
              "#46039f"
             ],
             [
              0.2222222222222222,
              "#7201a8"
             ],
             [
              0.3333333333333333,
              "#9c179e"
             ],
             [
              0.4444444444444444,
              "#bd3786"
             ],
             [
              0.5555555555555556,
              "#d8576b"
             ],
             [
              0.6666666666666666,
              "#ed7953"
             ],
             [
              0.7777777777777778,
              "#fb9f3a"
             ],
             [
              0.8888888888888888,
              "#fdca26"
             ],
             [
              1,
              "#f0f921"
             ]
            ],
            "type": "contour"
           }
          ],
          "contourcarpet": [
           {
            "colorbar": {
             "outlinewidth": 0,
             "ticks": ""
            },
            "type": "contourcarpet"
           }
          ],
          "heatmap": [
           {
            "colorbar": {
             "outlinewidth": 0,
             "ticks": ""
            },
            "colorscale": [
             [
              0,
              "#0d0887"
             ],
             [
              0.1111111111111111,
              "#46039f"
             ],
             [
              0.2222222222222222,
              "#7201a8"
             ],
             [
              0.3333333333333333,
              "#9c179e"
             ],
             [
              0.4444444444444444,
              "#bd3786"
             ],
             [
              0.5555555555555556,
              "#d8576b"
             ],
             [
              0.6666666666666666,
              "#ed7953"
             ],
             [
              0.7777777777777778,
              "#fb9f3a"
             ],
             [
              0.8888888888888888,
              "#fdca26"
             ],
             [
              1,
              "#f0f921"
             ]
            ],
            "type": "heatmap"
           }
          ],
          "heatmapgl": [
           {
            "colorbar": {
             "outlinewidth": 0,
             "ticks": ""
            },
            "colorscale": [
             [
              0,
              "#0d0887"
             ],
             [
              0.1111111111111111,
              "#46039f"
             ],
             [
              0.2222222222222222,
              "#7201a8"
             ],
             [
              0.3333333333333333,
              "#9c179e"
             ],
             [
              0.4444444444444444,
              "#bd3786"
             ],
             [
              0.5555555555555556,
              "#d8576b"
             ],
             [
              0.6666666666666666,
              "#ed7953"
             ],
             [
              0.7777777777777778,
              "#fb9f3a"
             ],
             [
              0.8888888888888888,
              "#fdca26"
             ],
             [
              1,
              "#f0f921"
             ]
            ],
            "type": "heatmapgl"
           }
          ],
          "histogram": [
           {
            "marker": {
             "colorbar": {
              "outlinewidth": 0,
              "ticks": ""
             }
            },
            "type": "histogram"
           }
          ],
          "histogram2d": [
           {
            "colorbar": {
             "outlinewidth": 0,
             "ticks": ""
            },
            "colorscale": [
             [
              0,
              "#0d0887"
             ],
             [
              0.1111111111111111,
              "#46039f"
             ],
             [
              0.2222222222222222,
              "#7201a8"
             ],
             [
              0.3333333333333333,
              "#9c179e"
             ],
             [
              0.4444444444444444,
              "#bd3786"
             ],
             [
              0.5555555555555556,
              "#d8576b"
             ],
             [
              0.6666666666666666,
              "#ed7953"
             ],
             [
              0.7777777777777778,
              "#fb9f3a"
             ],
             [
              0.8888888888888888,
              "#fdca26"
             ],
             [
              1,
              "#f0f921"
             ]
            ],
            "type": "histogram2d"
           }
          ],
          "histogram2dcontour": [
           {
            "colorbar": {
             "outlinewidth": 0,
             "ticks": ""
            },
            "colorscale": [
             [
              0,
              "#0d0887"
             ],
             [
              0.1111111111111111,
              "#46039f"
             ],
             [
              0.2222222222222222,
              "#7201a8"
             ],
             [
              0.3333333333333333,
              "#9c179e"
             ],
             [
              0.4444444444444444,
              "#bd3786"
             ],
             [
              0.5555555555555556,
              "#d8576b"
             ],
             [
              0.6666666666666666,
              "#ed7953"
             ],
             [
              0.7777777777777778,
              "#fb9f3a"
             ],
             [
              0.8888888888888888,
              "#fdca26"
             ],
             [
              1,
              "#f0f921"
             ]
            ],
            "type": "histogram2dcontour"
           }
          ],
          "mesh3d": [
           {
            "colorbar": {
             "outlinewidth": 0,
             "ticks": ""
            },
            "type": "mesh3d"
           }
          ],
          "parcoords": [
           {
            "line": {
             "colorbar": {
              "outlinewidth": 0,
              "ticks": ""
             }
            },
            "type": "parcoords"
           }
          ],
          "pie": [
           {
            "automargin": true,
            "type": "pie"
           }
          ],
          "scatter": [
           {
            "marker": {
             "colorbar": {
              "outlinewidth": 0,
              "ticks": ""
             }
            },
            "type": "scatter"
           }
          ],
          "scatter3d": [
           {
            "line": {
             "colorbar": {
              "outlinewidth": 0,
              "ticks": ""
             }
            },
            "marker": {
             "colorbar": {
              "outlinewidth": 0,
              "ticks": ""
             }
            },
            "type": "scatter3d"
           }
          ],
          "scattercarpet": [
           {
            "marker": {
             "colorbar": {
              "outlinewidth": 0,
              "ticks": ""
             }
            },
            "type": "scattercarpet"
           }
          ],
          "scattergeo": [
           {
            "marker": {
             "colorbar": {
              "outlinewidth": 0,
              "ticks": ""
             }
            },
            "type": "scattergeo"
           }
          ],
          "scattergl": [
           {
            "marker": {
             "colorbar": {
              "outlinewidth": 0,
              "ticks": ""
             }
            },
            "type": "scattergl"
           }
          ],
          "scattermapbox": [
           {
            "marker": {
             "colorbar": {
              "outlinewidth": 0,
              "ticks": ""
             }
            },
            "type": "scattermapbox"
           }
          ],
          "scatterpolar": [
           {
            "marker": {
             "colorbar": {
              "outlinewidth": 0,
              "ticks": ""
             }
            },
            "type": "scatterpolar"
           }
          ],
          "scatterpolargl": [
           {
            "marker": {
             "colorbar": {
              "outlinewidth": 0,
              "ticks": ""
             }
            },
            "type": "scatterpolargl"
           }
          ],
          "scatterternary": [
           {
            "marker": {
             "colorbar": {
              "outlinewidth": 0,
              "ticks": ""
             }
            },
            "type": "scatterternary"
           }
          ],
          "surface": [
           {
            "colorbar": {
             "outlinewidth": 0,
             "ticks": ""
            },
            "colorscale": [
             [
              0,
              "#0d0887"
             ],
             [
              0.1111111111111111,
              "#46039f"
             ],
             [
              0.2222222222222222,
              "#7201a8"
             ],
             [
              0.3333333333333333,
              "#9c179e"
             ],
             [
              0.4444444444444444,
              "#bd3786"
             ],
             [
              0.5555555555555556,
              "#d8576b"
             ],
             [
              0.6666666666666666,
              "#ed7953"
             ],
             [
              0.7777777777777778,
              "#fb9f3a"
             ],
             [
              0.8888888888888888,
              "#fdca26"
             ],
             [
              1,
              "#f0f921"
             ]
            ],
            "type": "surface"
           }
          ],
          "table": [
           {
            "cells": {
             "fill": {
              "color": "#EBF0F8"
             },
             "line": {
              "color": "white"
             }
            },
            "header": {
             "fill": {
              "color": "#C8D4E3"
             },
             "line": {
              "color": "white"
             }
            },
            "type": "table"
           }
          ]
         },
         "layout": {
          "annotationdefaults": {
           "arrowcolor": "#2a3f5f",
           "arrowhead": 0,
           "arrowwidth": 1
          },
          "autotypenumbers": "strict",
          "coloraxis": {
           "colorbar": {
            "outlinewidth": 0,
            "ticks": ""
           }
          },
          "colorscale": {
           "diverging": [
            [
             0,
             "#8e0152"
            ],
            [
             0.1,
             "#c51b7d"
            ],
            [
             0.2,
             "#de77ae"
            ],
            [
             0.3,
             "#f1b6da"
            ],
            [
             0.4,
             "#fde0ef"
            ],
            [
             0.5,
             "#f7f7f7"
            ],
            [
             0.6,
             "#e6f5d0"
            ],
            [
             0.7,
             "#b8e186"
            ],
            [
             0.8,
             "#7fbc41"
            ],
            [
             0.9,
             "#4d9221"
            ],
            [
             1,
             "#276419"
            ]
           ],
           "sequential": [
            [
             0,
             "#0d0887"
            ],
            [
             0.1111111111111111,
             "#46039f"
            ],
            [
             0.2222222222222222,
             "#7201a8"
            ],
            [
             0.3333333333333333,
             "#9c179e"
            ],
            [
             0.4444444444444444,
             "#bd3786"
            ],
            [
             0.5555555555555556,
             "#d8576b"
            ],
            [
             0.6666666666666666,
             "#ed7953"
            ],
            [
             0.7777777777777778,
             "#fb9f3a"
            ],
            [
             0.8888888888888888,
             "#fdca26"
            ],
            [
             1,
             "#f0f921"
            ]
           ],
           "sequentialminus": [
            [
             0,
             "#0d0887"
            ],
            [
             0.1111111111111111,
             "#46039f"
            ],
            [
             0.2222222222222222,
             "#7201a8"
            ],
            [
             0.3333333333333333,
             "#9c179e"
            ],
            [
             0.4444444444444444,
             "#bd3786"
            ],
            [
             0.5555555555555556,
             "#d8576b"
            ],
            [
             0.6666666666666666,
             "#ed7953"
            ],
            [
             0.7777777777777778,
             "#fb9f3a"
            ],
            [
             0.8888888888888888,
             "#fdca26"
            ],
            [
             1,
             "#f0f921"
            ]
           ]
          },
          "colorway": [
           "#636efa",
           "#EF553B",
           "#00cc96",
           "#ab63fa",
           "#FFA15A",
           "#19d3f3",
           "#FF6692",
           "#B6E880",
           "#FF97FF",
           "#FECB52"
          ],
          "font": {
           "color": "#2a3f5f"
          },
          "geo": {
           "bgcolor": "white",
           "lakecolor": "white",
           "landcolor": "#E5ECF6",
           "showlakes": true,
           "showland": true,
           "subunitcolor": "white"
          },
          "hoverlabel": {
           "align": "left"
          },
          "hovermode": "closest",
          "mapbox": {
           "style": "light"
          },
          "paper_bgcolor": "white",
          "plot_bgcolor": "#E5ECF6",
          "polar": {
           "angularaxis": {
            "gridcolor": "white",
            "linecolor": "white",
            "ticks": ""
           },
           "bgcolor": "#E5ECF6",
           "radialaxis": {
            "gridcolor": "white",
            "linecolor": "white",
            "ticks": ""
           }
          },
          "scene": {
           "xaxis": {
            "backgroundcolor": "#E5ECF6",
            "gridcolor": "white",
            "gridwidth": 2,
            "linecolor": "white",
            "showbackground": true,
            "ticks": "",
            "zerolinecolor": "white"
           },
           "yaxis": {
            "backgroundcolor": "#E5ECF6",
            "gridcolor": "white",
            "gridwidth": 2,
            "linecolor": "white",
            "showbackground": true,
            "ticks": "",
            "zerolinecolor": "white"
           },
           "zaxis": {
            "backgroundcolor": "#E5ECF6",
            "gridcolor": "white",
            "gridwidth": 2,
            "linecolor": "white",
            "showbackground": true,
            "ticks": "",
            "zerolinecolor": "white"
           }
          },
          "shapedefaults": {
           "line": {
            "color": "#2a3f5f"
           }
          },
          "ternary": {
           "aaxis": {
            "gridcolor": "white",
            "linecolor": "white",
            "ticks": ""
           },
           "baxis": {
            "gridcolor": "white",
            "linecolor": "white",
            "ticks": ""
           },
           "bgcolor": "#E5ECF6",
           "caxis": {
            "gridcolor": "white",
            "linecolor": "white",
            "ticks": ""
           }
          },
          "title": {
           "x": 0.05
          },
          "xaxis": {
           "automargin": true,
           "gridcolor": "white",
           "linecolor": "white",
           "ticks": "",
           "title": {
            "standoff": 15
           },
           "zerolinecolor": "white",
           "zerolinewidth": 2
          },
          "yaxis": {
           "automargin": true,
           "gridcolor": "white",
           "linecolor": "white",
           "ticks": "",
           "title": {
            "standoff": 15
           },
           "zerolinecolor": "white",
           "zerolinewidth": 2
          }
         }
        },
        "title": {
         "font": {
          "color": "#4D5663"
         }
        },
        "xaxis": {
         "gridcolor": "#E1E5ED",
         "showgrid": true,
         "tickfont": {
          "color": "#4D5663"
         },
         "title": {
          "font": {
           "color": "#4D5663"
          },
          "text": ""
         },
         "zerolinecolor": "#E1E5ED"
        },
        "yaxis": {
         "gridcolor": "#E1E5ED",
         "showgrid": true,
         "tickfont": {
          "color": "#4D5663"
         },
         "title": {
          "font": {
           "color": "#4D5663"
          },
          "text": ""
         },
         "zerolinecolor": "#E1E5ED"
        }
       }
      },
      "text/html": [
       "<div>                            <div id=\"1f814bc9-82f7-4f4f-b300-38cc81d18533\" class=\"plotly-graph-div\" style=\"height:525px; width:100%;\"></div>            <script type=\"text/javascript\">                require([\"plotly\"], function(Plotly) {                    window.PLOTLYENV=window.PLOTLYENV || {};\n",
       "                    window.PLOTLYENV.BASE_URL='https://plot.ly';                                    if (document.getElementById(\"1f814bc9-82f7-4f4f-b300-38cc81d18533\")) {                    Plotly.newPlot(                        \"1f814bc9-82f7-4f4f-b300-38cc81d18533\",                        [{\"histfunc\": \"count\", \"histnorm\": \"\", \"marker\": {\"color\": \"rgba(255, 153, 51, 1.0)\", \"line\": {\"color\": \"#4D5663\", \"width\": 1.3}}, \"name\": \"A\", \"nbinsx\": 25, \"opacity\": 0.8, \"orientation\": \"v\", \"type\": \"histogram\", \"x\": [1.461893770697725, -2.031160136012203, 0.9383409670828389, -1.0813533287292119, 0.06490918815450783, 1.8950072332017274, -0.8714365596373268, -0.13074620114977334, -1.0923246928318198, -0.3760998942311332, -0.5361900499629562, 0.42029273811322426, 0.879026444738448, 0.17853057276926443, -1.4226047615565995, -0.38553936634836816, 0.9254705828347399, 0.8974413892643344, 1.3593724162723089, 0.41746771734852006, -0.1947229051061254, -0.4999893146137153, -0.4502113162411071, -1.1360014209107259, 0.1844178473890677, 1.5753255655453786, 0.4753674301421128, 1.635707798585372, -1.9187025770275, -0.19910344350673406, 2.285995703848697, -0.18915231953896097, 1.0665423877986695, -0.7269122934267687, 0.36224915062873836, -1.5625689349152296, -1.1362220420755846, -0.529376570887139, -0.1934547257057624, -1.9720439485780432, -0.2710830596477481, -0.7385696963294917, -0.29410090049820914, -0.22419206878488449, 0.1508245116866706, -0.6057299795009865, 0.3191505714649677, -0.1976198986566658, 1.093282680008958, -1.0799453836674373, -0.3616335539043888, 1.6107952178764182, -0.5891018790468924, 0.7666351833383529, 0.32222045304544167, -1.6872013582758036, -0.3720711616276398, 1.3420408631947918, 0.4239471624717882, 0.48424327553353297, -1.5961692749707352, 0.5882171437466279, 0.6566669461687532, -1.9603468546639706, 0.42870138393368024, -0.1978041090111149, 0.05723177511114498, 0.4475509991023478, 0.662730871880016, -1.796202287216889, 0.7165184267275085, 0.3326216988143618, -0.8140493568522115, -1.247832137911998, 0.9859507943329427, 1.1948398652848742, -2.145947615545814, 0.5339270311517821, 0.10249930114413236, -0.8916324021834575, 0.41078863879970284, -0.49795290561896394, -1.155769242450663, 0.781716927247144, 1.6136963240432758, -0.7802444642438957, -1.492354210417422, 0.2299947473973307, 0.50259957066577, -0.16700157611497873, 0.8226788892451177, 2.982546810969779, 3.0055258787254777, 1.3661389107738293, 0.5470135690673502, 0.5968793086096759, -0.14023490153269502, -0.8605446276038548, -1.5963739249397044, -1.444803862861764]}],                        {\"barmode\": \"overlay\", \"legend\": {\"bgcolor\": \"#F5F6F9\", \"font\": {\"color\": \"#4D5663\"}}, \"paper_bgcolor\": \"#F5F6F9\", \"plot_bgcolor\": \"#F5F6F9\", \"template\": {\"data\": {\"bar\": [{\"error_x\": {\"color\": \"#2a3f5f\"}, \"error_y\": {\"color\": \"#2a3f5f\"}, \"marker\": {\"line\": {\"color\": \"#E5ECF6\", \"width\": 0.5}}, \"type\": \"bar\"}], \"barpolar\": [{\"marker\": {\"line\": {\"color\": \"#E5ECF6\", \"width\": 0.5}}, \"type\": \"barpolar\"}], \"carpet\": [{\"aaxis\": {\"endlinecolor\": \"#2a3f5f\", \"gridcolor\": \"white\", \"linecolor\": \"white\", \"minorgridcolor\": \"white\", \"startlinecolor\": \"#2a3f5f\"}, \"baxis\": {\"endlinecolor\": \"#2a3f5f\", \"gridcolor\": \"white\", \"linecolor\": \"white\", \"minorgridcolor\": \"white\", \"startlinecolor\": \"#2a3f5f\"}, \"type\": \"carpet\"}], \"choropleth\": [{\"colorbar\": {\"outlinewidth\": 0, \"ticks\": \"\"}, \"type\": \"choropleth\"}], \"contour\": [{\"colorbar\": {\"outlinewidth\": 0, \"ticks\": \"\"}, \"colorscale\": [[0.0, \"#0d0887\"], [0.1111111111111111, \"#46039f\"], [0.2222222222222222, \"#7201a8\"], [0.3333333333333333, \"#9c179e\"], [0.4444444444444444, \"#bd3786\"], [0.5555555555555556, \"#d8576b\"], [0.6666666666666666, \"#ed7953\"], [0.7777777777777778, \"#fb9f3a\"], [0.8888888888888888, \"#fdca26\"], [1.0, \"#f0f921\"]], \"type\": \"contour\"}], \"contourcarpet\": [{\"colorbar\": {\"outlinewidth\": 0, \"ticks\": \"\"}, \"type\": \"contourcarpet\"}], \"heatmap\": [{\"colorbar\": {\"outlinewidth\": 0, \"ticks\": \"\"}, \"colorscale\": [[0.0, \"#0d0887\"], [0.1111111111111111, \"#46039f\"], [0.2222222222222222, \"#7201a8\"], [0.3333333333333333, \"#9c179e\"], [0.4444444444444444, \"#bd3786\"], [0.5555555555555556, \"#d8576b\"], [0.6666666666666666, \"#ed7953\"], [0.7777777777777778, \"#fb9f3a\"], [0.8888888888888888, \"#fdca26\"], [1.0, \"#f0f921\"]], \"type\": \"heatmap\"}], \"heatmapgl\": [{\"colorbar\": {\"outlinewidth\": 0, \"ticks\": \"\"}, \"colorscale\": [[0.0, \"#0d0887\"], [0.1111111111111111, \"#46039f\"], [0.2222222222222222, \"#7201a8\"], [0.3333333333333333, \"#9c179e\"], [0.4444444444444444, \"#bd3786\"], [0.5555555555555556, \"#d8576b\"], [0.6666666666666666, \"#ed7953\"], [0.7777777777777778, \"#fb9f3a\"], [0.8888888888888888, \"#fdca26\"], [1.0, \"#f0f921\"]], \"type\": \"heatmapgl\"}], \"histogram\": [{\"marker\": {\"colorbar\": {\"outlinewidth\": 0, \"ticks\": \"\"}}, \"type\": \"histogram\"}], \"histogram2d\": [{\"colorbar\": {\"outlinewidth\": 0, \"ticks\": \"\"}, \"colorscale\": [[0.0, \"#0d0887\"], [0.1111111111111111, \"#46039f\"], [0.2222222222222222, \"#7201a8\"], [0.3333333333333333, \"#9c179e\"], [0.4444444444444444, \"#bd3786\"], [0.5555555555555556, \"#d8576b\"], [0.6666666666666666, \"#ed7953\"], [0.7777777777777778, \"#fb9f3a\"], [0.8888888888888888, \"#fdca26\"], [1.0, \"#f0f921\"]], \"type\": \"histogram2d\"}], \"histogram2dcontour\": [{\"colorbar\": {\"outlinewidth\": 0, \"ticks\": \"\"}, \"colorscale\": [[0.0, \"#0d0887\"], [0.1111111111111111, \"#46039f\"], [0.2222222222222222, \"#7201a8\"], [0.3333333333333333, \"#9c179e\"], [0.4444444444444444, \"#bd3786\"], [0.5555555555555556, \"#d8576b\"], [0.6666666666666666, \"#ed7953\"], [0.7777777777777778, \"#fb9f3a\"], [0.8888888888888888, \"#fdca26\"], [1.0, \"#f0f921\"]], \"type\": \"histogram2dcontour\"}], \"mesh3d\": [{\"colorbar\": {\"outlinewidth\": 0, \"ticks\": \"\"}, \"type\": \"mesh3d\"}], \"parcoords\": [{\"line\": {\"colorbar\": {\"outlinewidth\": 0, \"ticks\": \"\"}}, \"type\": \"parcoords\"}], \"pie\": [{\"automargin\": true, \"type\": \"pie\"}], \"scatter\": [{\"marker\": {\"colorbar\": {\"outlinewidth\": 0, \"ticks\": \"\"}}, \"type\": \"scatter\"}], \"scatter3d\": [{\"line\": {\"colorbar\": {\"outlinewidth\": 0, \"ticks\": \"\"}}, \"marker\": {\"colorbar\": {\"outlinewidth\": 0, \"ticks\": \"\"}}, \"type\": \"scatter3d\"}], \"scattercarpet\": [{\"marker\": {\"colorbar\": {\"outlinewidth\": 0, \"ticks\": \"\"}}, \"type\": \"scattercarpet\"}], \"scattergeo\": [{\"marker\": {\"colorbar\": {\"outlinewidth\": 0, \"ticks\": \"\"}}, \"type\": \"scattergeo\"}], \"scattergl\": [{\"marker\": {\"colorbar\": {\"outlinewidth\": 0, \"ticks\": \"\"}}, \"type\": \"scattergl\"}], \"scattermapbox\": [{\"marker\": {\"colorbar\": {\"outlinewidth\": 0, \"ticks\": \"\"}}, \"type\": \"scattermapbox\"}], \"scatterpolar\": [{\"marker\": {\"colorbar\": {\"outlinewidth\": 0, \"ticks\": \"\"}}, \"type\": \"scatterpolar\"}], \"scatterpolargl\": [{\"marker\": {\"colorbar\": {\"outlinewidth\": 0, \"ticks\": \"\"}}, \"type\": \"scatterpolargl\"}], \"scatterternary\": [{\"marker\": {\"colorbar\": {\"outlinewidth\": 0, \"ticks\": \"\"}}, \"type\": \"scatterternary\"}], \"surface\": [{\"colorbar\": {\"outlinewidth\": 0, \"ticks\": \"\"}, \"colorscale\": [[0.0, \"#0d0887\"], [0.1111111111111111, \"#46039f\"], [0.2222222222222222, \"#7201a8\"], [0.3333333333333333, \"#9c179e\"], [0.4444444444444444, \"#bd3786\"], [0.5555555555555556, \"#d8576b\"], [0.6666666666666666, \"#ed7953\"], [0.7777777777777778, \"#fb9f3a\"], [0.8888888888888888, \"#fdca26\"], [1.0, \"#f0f921\"]], \"type\": \"surface\"}], \"table\": [{\"cells\": {\"fill\": {\"color\": \"#EBF0F8\"}, \"line\": {\"color\": \"white\"}}, \"header\": {\"fill\": {\"color\": \"#C8D4E3\"}, \"line\": {\"color\": \"white\"}}, \"type\": \"table\"}]}, \"layout\": {\"annotationdefaults\": {\"arrowcolor\": \"#2a3f5f\", \"arrowhead\": 0, \"arrowwidth\": 1}, \"autotypenumbers\": \"strict\", \"coloraxis\": {\"colorbar\": {\"outlinewidth\": 0, \"ticks\": \"\"}}, \"colorscale\": {\"diverging\": [[0, \"#8e0152\"], [0.1, \"#c51b7d\"], [0.2, \"#de77ae\"], [0.3, \"#f1b6da\"], [0.4, \"#fde0ef\"], [0.5, \"#f7f7f7\"], [0.6, \"#e6f5d0\"], [0.7, \"#b8e186\"], [0.8, \"#7fbc41\"], [0.9, \"#4d9221\"], [1, \"#276419\"]], \"sequential\": [[0.0, \"#0d0887\"], [0.1111111111111111, \"#46039f\"], [0.2222222222222222, \"#7201a8\"], [0.3333333333333333, \"#9c179e\"], [0.4444444444444444, \"#bd3786\"], [0.5555555555555556, \"#d8576b\"], [0.6666666666666666, \"#ed7953\"], [0.7777777777777778, \"#fb9f3a\"], [0.8888888888888888, \"#fdca26\"], [1.0, \"#f0f921\"]], \"sequentialminus\": [[0.0, \"#0d0887\"], [0.1111111111111111, \"#46039f\"], [0.2222222222222222, \"#7201a8\"], [0.3333333333333333, \"#9c179e\"], [0.4444444444444444, \"#bd3786\"], [0.5555555555555556, \"#d8576b\"], [0.6666666666666666, \"#ed7953\"], [0.7777777777777778, \"#fb9f3a\"], [0.8888888888888888, \"#fdca26\"], [1.0, \"#f0f921\"]]}, \"colorway\": [\"#636efa\", \"#EF553B\", \"#00cc96\", \"#ab63fa\", \"#FFA15A\", \"#19d3f3\", \"#FF6692\", \"#B6E880\", \"#FF97FF\", \"#FECB52\"], \"font\": {\"color\": \"#2a3f5f\"}, \"geo\": {\"bgcolor\": \"white\", \"lakecolor\": \"white\", \"landcolor\": \"#E5ECF6\", \"showlakes\": true, \"showland\": true, \"subunitcolor\": \"white\"}, \"hoverlabel\": {\"align\": \"left\"}, \"hovermode\": \"closest\", \"mapbox\": {\"style\": \"light\"}, \"paper_bgcolor\": \"white\", \"plot_bgcolor\": \"#E5ECF6\", \"polar\": {\"angularaxis\": {\"gridcolor\": \"white\", \"linecolor\": \"white\", \"ticks\": \"\"}, \"bgcolor\": \"#E5ECF6\", \"radialaxis\": {\"gridcolor\": \"white\", \"linecolor\": \"white\", \"ticks\": \"\"}}, \"scene\": {\"xaxis\": {\"backgroundcolor\": \"#E5ECF6\", \"gridcolor\": \"white\", \"gridwidth\": 2, \"linecolor\": \"white\", \"showbackground\": true, \"ticks\": \"\", \"zerolinecolor\": \"white\"}, \"yaxis\": {\"backgroundcolor\": \"#E5ECF6\", \"gridcolor\": \"white\", \"gridwidth\": 2, \"linecolor\": \"white\", \"showbackground\": true, \"ticks\": \"\", \"zerolinecolor\": \"white\"}, \"zaxis\": {\"backgroundcolor\": \"#E5ECF6\", \"gridcolor\": \"white\", \"gridwidth\": 2, \"linecolor\": \"white\", \"showbackground\": true, \"ticks\": \"\", \"zerolinecolor\": \"white\"}}, \"shapedefaults\": {\"line\": {\"color\": \"#2a3f5f\"}}, \"ternary\": {\"aaxis\": {\"gridcolor\": \"white\", \"linecolor\": \"white\", \"ticks\": \"\"}, \"baxis\": {\"gridcolor\": \"white\", \"linecolor\": \"white\", \"ticks\": \"\"}, \"bgcolor\": \"#E5ECF6\", \"caxis\": {\"gridcolor\": \"white\", \"linecolor\": \"white\", \"ticks\": \"\"}}, \"title\": {\"x\": 0.05}, \"xaxis\": {\"automargin\": true, \"gridcolor\": \"white\", \"linecolor\": \"white\", \"ticks\": \"\", \"title\": {\"standoff\": 15}, \"zerolinecolor\": \"white\", \"zerolinewidth\": 2}, \"yaxis\": {\"automargin\": true, \"gridcolor\": \"white\", \"linecolor\": \"white\", \"ticks\": \"\", \"title\": {\"standoff\": 15}, \"zerolinecolor\": \"white\", \"zerolinewidth\": 2}}}, \"title\": {\"font\": {\"color\": \"#4D5663\"}}, \"xaxis\": {\"gridcolor\": \"#E1E5ED\", \"showgrid\": true, \"tickfont\": {\"color\": \"#4D5663\"}, \"title\": {\"font\": {\"color\": \"#4D5663\"}, \"text\": \"\"}, \"zerolinecolor\": \"#E1E5ED\"}, \"yaxis\": {\"gridcolor\": \"#E1E5ED\", \"showgrid\": true, \"tickfont\": {\"color\": \"#4D5663\"}, \"title\": {\"font\": {\"color\": \"#4D5663\"}, \"text\": \"\"}, \"zerolinecolor\": \"#E1E5ED\"}},                        {\"showLink\": true, \"linkText\": \"Export to plot.ly\", \"plotlyServerURL\": \"https://plot.ly\", \"responsive\": true}                    ).then(function(){\n",
       "                            \n",
       "var gd = document.getElementById('1f814bc9-82f7-4f4f-b300-38cc81d18533');\n",
       "var x = new MutationObserver(function (mutations, observer) {{\n",
       "        var display = window.getComputedStyle(gd).display;\n",
       "        if (!display || display === 'none') {{\n",
       "            console.log([gd, 'removed!']);\n",
       "            Plotly.purge(gd);\n",
       "            observer.disconnect();\n",
       "        }}\n",
       "}});\n",
       "\n",
       "// Listen for the removal of the full notebook cells\n",
       "var notebookContainer = gd.closest('#notebook-container');\n",
       "if (notebookContainer) {{\n",
       "    x.observe(notebookContainer, {childList: true});\n",
       "}}\n",
       "\n",
       "// Listen for the clearing of the current output cell\n",
       "var outputEl = gd.closest('.output');\n",
       "if (outputEl) {{\n",
       "    x.observe(outputEl, {childList: true});\n",
       "}}\n",
       "\n",
       "                        })                };                });            </script>        </div>"
      ]
     },
     "metadata": {},
     "output_type": "display_data"
    }
   ],
   "source": [
    "df['A'].iplot(kind='hist',bins=25)"
   ]
  },
  {
   "cell_type": "code",
   "execution_count": 19,
   "metadata": {},
   "outputs": [
    {
     "data": {
      "application/vnd.plotly.v1+json": {
       "config": {
        "linkText": "Export to plot.ly",
        "plotlyServerURL": "https://plot.ly",
        "showLink": true
       },
       "data": [
        {
         "marker": {
          "color": [
           "rgb(255, 153, 51)",
           "rgb(55, 128, 191)",
           "rgb(50, 171, 96)",
           "rgb(128, 0, 128)",
           "rgb(219, 64, 82)",
           "rgb(0, 128, 128)",
           "rgb(255, 255, 51)",
           "rgb(128, 128, 0)",
           "rgb(251, 128, 114)",
           "rgb(128, 177, 211)"
          ],
          "line": {
           "width": 1.3
          },
          "size": [
           26,
           20,
           95,
           83,
           63,
           61,
           104,
           79,
           68,
           50,
           54,
           90,
           61,
           72,
           100,
           76,
           96,
           57,
           67,
           37,
           58,
           37,
           47,
           55,
           64,
           71,
           52,
           22,
           32,
           54,
           52,
           13,
           112,
           61,
           42,
           19,
           46,
           36,
           28,
           64,
           48,
           83,
           58,
           70,
           84,
           98,
           80,
           68,
           85,
           70,
           55,
           29,
           70,
           57,
           87,
           98,
           62,
           84,
           78,
           71,
           35,
           85,
           18,
           44,
           67,
           50,
           52,
           48,
           58,
           47,
           61,
           46,
           66,
           61,
           65,
           78,
           52,
           12,
           31,
           55,
           73,
           71,
           71,
           70,
           59,
           55,
           78,
           60,
           44,
           93,
           62,
           60,
           75,
           38,
           44,
           27,
           106,
           49,
           86,
           68
          ],
          "symbol": "circle"
         },
         "mode": "markers",
         "text": "",
         "type": "scatter",
         "x": [
          1.461893770697725,
          -2.031160136012203,
          0.9383409670828389,
          -1.0813533287292119,
          0.06490918815450783,
          1.8950072332017274,
          -0.8714365596373268,
          -0.13074620114977334,
          -1.0923246928318198,
          -0.3760998942311332,
          -0.5361900499629562,
          0.42029273811322426,
          0.879026444738448,
          0.17853057276926443,
          -1.4226047615565995,
          -0.38553936634836816,
          0.9254705828347399,
          0.8974413892643344,
          1.3593724162723089,
          0.41746771734852006,
          -0.1947229051061254,
          -0.4999893146137153,
          -0.4502113162411071,
          -1.1360014209107259,
          0.1844178473890677,
          1.5753255655453786,
          0.4753674301421128,
          1.635707798585372,
          -1.9187025770275,
          -0.19910344350673406,
          2.285995703848697,
          -0.18915231953896097,
          1.0665423877986695,
          -0.7269122934267687,
          0.36224915062873836,
          -1.5625689349152296,
          -1.1362220420755846,
          -0.529376570887139,
          -0.1934547257057624,
          -1.9720439485780432,
          -0.2710830596477481,
          -0.7385696963294917,
          -0.29410090049820914,
          -0.22419206878488449,
          0.1508245116866706,
          -0.6057299795009865,
          0.3191505714649677,
          -0.1976198986566658,
          1.093282680008958,
          -1.0799453836674373,
          -0.3616335539043888,
          1.6107952178764182,
          -0.5891018790468924,
          0.7666351833383529,
          0.32222045304544167,
          -1.6872013582758036,
          -0.3720711616276398,
          1.3420408631947918,
          0.4239471624717882,
          0.48424327553353297,
          -1.5961692749707352,
          0.5882171437466279,
          0.6566669461687532,
          -1.9603468546639706,
          0.42870138393368024,
          -0.1978041090111149,
          0.05723177511114498,
          0.4475509991023478,
          0.662730871880016,
          -1.796202287216889,
          0.7165184267275085,
          0.3326216988143618,
          -0.8140493568522115,
          -1.247832137911998,
          0.9859507943329427,
          1.1948398652848742,
          -2.145947615545814,
          0.5339270311517821,
          0.10249930114413236,
          -0.8916324021834575,
          0.41078863879970284,
          -0.49795290561896394,
          -1.155769242450663,
          0.781716927247144,
          1.6136963240432758,
          -0.7802444642438957,
          -1.492354210417422,
          0.2299947473973307,
          0.50259957066577,
          -0.16700157611497873,
          0.8226788892451177,
          2.982546810969779,
          3.0055258787254777,
          1.3661389107738293,
          0.5470135690673502,
          0.5968793086096759,
          -0.14023490153269502,
          -0.8605446276038548,
          -1.5963739249397044,
          -1.444803862861764
         ],
         "y": [
          0.034821286830913595,
          -0.18465032640783027,
          -0.14559546878046986,
          0.5188969049323175,
          -0.13523853126955251,
          0.4318092832469963,
          0.4325114508880798,
          0.8998324403091219,
          0.9869125426600849,
          -0.8835232633714301,
          -2.3386192321621593,
          -1.6118761339264471,
          0.10490498434779806,
          -0.11092067933578692,
          0.1497009282397037,
          0.21076101732022792,
          0.39342478099064543,
          0.09132770586791539,
          0.2235968602504518,
          0.5677210023540927,
          -1.0883412917672228,
          -1.8634393578585162,
          2.071587906399981,
          -0.2801596751511832,
          0.12974489483726634,
          -0.03866485905727695,
          -0.03705076808737536,
          0.266357287604477,
          -0.7895322783647806,
          -0.1313370074749674,
          0.29259171698821895,
          -0.9007171494773731,
          -0.44891096939266245,
          1.008360713707377,
          0.7022439971995453,
          -0.7388691932128125,
          -1.4161292923720754,
          0.6474949831892831,
          0.47941356849780564,
          -0.2226059661427326,
          0.7618380699786111,
          -0.4477183007832323,
          -1.631693115173997,
          -0.09544522195089203,
          0.38537878900500644,
          -1.6441145363155063,
          0.21192444622315587,
          0.4511506586037992,
          -0.48756326634889624,
          -0.21143097507909714,
          -0.5064990676682648,
          -1.0304321937806444,
          -0.019262704289807565,
          -1.604129921098689,
          -0.7383698476057221,
          1.3744145867047832,
          -0.6875300541608018,
          -1.432387014408365,
          -1.0911982035031977,
          -0.13054703854233995,
          1.1149311389889858,
          0.9001591157267788,
          -0.027854177862134483,
          1.2499369055465825,
          -1.2563150649919035,
          -1.090926431089866,
          -0.17154256161045614,
          0.40402861851447225,
          -0.4517637786378383,
          -0.5959254526808988,
          -0.22125715901868098,
          0.5929169086168804,
          -0.949141669608413,
          1.1757531398322179,
          -2.0803217164995567,
          1.4384986621172728,
          -2.855634131971656,
          2.50215174769151,
          -0.6929526624471934,
          -1.6328247656936599,
          0.2698539871691669,
          -0.07005116943214082,
          1.6175284729997843,
          0.320895211020274,
          1.1316523527374969,
          0.7552513179923331,
          -0.5942685588961929,
          -1.6287220322329163,
          -0.8798472555314089,
          -0.9907060380812681,
          1.9345505655688178,
          -2.332218944909156,
          -1.056372116065171,
          0.7409704824269928,
          -1.080315368386018,
          -0.8325915945468163,
          1.9969983133617488,
          -1.0556709675869194,
          -0.4863793541163955,
          1.0783741055559404
         ]
        }
       ],
       "layout": {
        "legend": {
         "bgcolor": "#F5F6F9",
         "font": {
          "color": "#4D5663"
         }
        },
        "paper_bgcolor": "#F5F6F9",
        "plot_bgcolor": "#F5F6F9",
        "template": {
         "data": {
          "bar": [
           {
            "error_x": {
             "color": "#2a3f5f"
            },
            "error_y": {
             "color": "#2a3f5f"
            },
            "marker": {
             "line": {
              "color": "#E5ECF6",
              "width": 0.5
             }
            },
            "type": "bar"
           }
          ],
          "barpolar": [
           {
            "marker": {
             "line": {
              "color": "#E5ECF6",
              "width": 0.5
             }
            },
            "type": "barpolar"
           }
          ],
          "carpet": [
           {
            "aaxis": {
             "endlinecolor": "#2a3f5f",
             "gridcolor": "white",
             "linecolor": "white",
             "minorgridcolor": "white",
             "startlinecolor": "#2a3f5f"
            },
            "baxis": {
             "endlinecolor": "#2a3f5f",
             "gridcolor": "white",
             "linecolor": "white",
             "minorgridcolor": "white",
             "startlinecolor": "#2a3f5f"
            },
            "type": "carpet"
           }
          ],
          "choropleth": [
           {
            "colorbar": {
             "outlinewidth": 0,
             "ticks": ""
            },
            "type": "choropleth"
           }
          ],
          "contour": [
           {
            "colorbar": {
             "outlinewidth": 0,
             "ticks": ""
            },
            "colorscale": [
             [
              0,
              "#0d0887"
             ],
             [
              0.1111111111111111,
              "#46039f"
             ],
             [
              0.2222222222222222,
              "#7201a8"
             ],
             [
              0.3333333333333333,
              "#9c179e"
             ],
             [
              0.4444444444444444,
              "#bd3786"
             ],
             [
              0.5555555555555556,
              "#d8576b"
             ],
             [
              0.6666666666666666,
              "#ed7953"
             ],
             [
              0.7777777777777778,
              "#fb9f3a"
             ],
             [
              0.8888888888888888,
              "#fdca26"
             ],
             [
              1,
              "#f0f921"
             ]
            ],
            "type": "contour"
           }
          ],
          "contourcarpet": [
           {
            "colorbar": {
             "outlinewidth": 0,
             "ticks": ""
            },
            "type": "contourcarpet"
           }
          ],
          "heatmap": [
           {
            "colorbar": {
             "outlinewidth": 0,
             "ticks": ""
            },
            "colorscale": [
             [
              0,
              "#0d0887"
             ],
             [
              0.1111111111111111,
              "#46039f"
             ],
             [
              0.2222222222222222,
              "#7201a8"
             ],
             [
              0.3333333333333333,
              "#9c179e"
             ],
             [
              0.4444444444444444,
              "#bd3786"
             ],
             [
              0.5555555555555556,
              "#d8576b"
             ],
             [
              0.6666666666666666,
              "#ed7953"
             ],
             [
              0.7777777777777778,
              "#fb9f3a"
             ],
             [
              0.8888888888888888,
              "#fdca26"
             ],
             [
              1,
              "#f0f921"
             ]
            ],
            "type": "heatmap"
           }
          ],
          "heatmapgl": [
           {
            "colorbar": {
             "outlinewidth": 0,
             "ticks": ""
            },
            "colorscale": [
             [
              0,
              "#0d0887"
             ],
             [
              0.1111111111111111,
              "#46039f"
             ],
             [
              0.2222222222222222,
              "#7201a8"
             ],
             [
              0.3333333333333333,
              "#9c179e"
             ],
             [
              0.4444444444444444,
              "#bd3786"
             ],
             [
              0.5555555555555556,
              "#d8576b"
             ],
             [
              0.6666666666666666,
              "#ed7953"
             ],
             [
              0.7777777777777778,
              "#fb9f3a"
             ],
             [
              0.8888888888888888,
              "#fdca26"
             ],
             [
              1,
              "#f0f921"
             ]
            ],
            "type": "heatmapgl"
           }
          ],
          "histogram": [
           {
            "marker": {
             "colorbar": {
              "outlinewidth": 0,
              "ticks": ""
             }
            },
            "type": "histogram"
           }
          ],
          "histogram2d": [
           {
            "colorbar": {
             "outlinewidth": 0,
             "ticks": ""
            },
            "colorscale": [
             [
              0,
              "#0d0887"
             ],
             [
              0.1111111111111111,
              "#46039f"
             ],
             [
              0.2222222222222222,
              "#7201a8"
             ],
             [
              0.3333333333333333,
              "#9c179e"
             ],
             [
              0.4444444444444444,
              "#bd3786"
             ],
             [
              0.5555555555555556,
              "#d8576b"
             ],
             [
              0.6666666666666666,
              "#ed7953"
             ],
             [
              0.7777777777777778,
              "#fb9f3a"
             ],
             [
              0.8888888888888888,
              "#fdca26"
             ],
             [
              1,
              "#f0f921"
             ]
            ],
            "type": "histogram2d"
           }
          ],
          "histogram2dcontour": [
           {
            "colorbar": {
             "outlinewidth": 0,
             "ticks": ""
            },
            "colorscale": [
             [
              0,
              "#0d0887"
             ],
             [
              0.1111111111111111,
              "#46039f"
             ],
             [
              0.2222222222222222,
              "#7201a8"
             ],
             [
              0.3333333333333333,
              "#9c179e"
             ],
             [
              0.4444444444444444,
              "#bd3786"
             ],
             [
              0.5555555555555556,
              "#d8576b"
             ],
             [
              0.6666666666666666,
              "#ed7953"
             ],
             [
              0.7777777777777778,
              "#fb9f3a"
             ],
             [
              0.8888888888888888,
              "#fdca26"
             ],
             [
              1,
              "#f0f921"
             ]
            ],
            "type": "histogram2dcontour"
           }
          ],
          "mesh3d": [
           {
            "colorbar": {
             "outlinewidth": 0,
             "ticks": ""
            },
            "type": "mesh3d"
           }
          ],
          "parcoords": [
           {
            "line": {
             "colorbar": {
              "outlinewidth": 0,
              "ticks": ""
             }
            },
            "type": "parcoords"
           }
          ],
          "pie": [
           {
            "automargin": true,
            "type": "pie"
           }
          ],
          "scatter": [
           {
            "marker": {
             "colorbar": {
              "outlinewidth": 0,
              "ticks": ""
             }
            },
            "type": "scatter"
           }
          ],
          "scatter3d": [
           {
            "line": {
             "colorbar": {
              "outlinewidth": 0,
              "ticks": ""
             }
            },
            "marker": {
             "colorbar": {
              "outlinewidth": 0,
              "ticks": ""
             }
            },
            "type": "scatter3d"
           }
          ],
          "scattercarpet": [
           {
            "marker": {
             "colorbar": {
              "outlinewidth": 0,
              "ticks": ""
             }
            },
            "type": "scattercarpet"
           }
          ],
          "scattergeo": [
           {
            "marker": {
             "colorbar": {
              "outlinewidth": 0,
              "ticks": ""
             }
            },
            "type": "scattergeo"
           }
          ],
          "scattergl": [
           {
            "marker": {
             "colorbar": {
              "outlinewidth": 0,
              "ticks": ""
             }
            },
            "type": "scattergl"
           }
          ],
          "scattermapbox": [
           {
            "marker": {
             "colorbar": {
              "outlinewidth": 0,
              "ticks": ""
             }
            },
            "type": "scattermapbox"
           }
          ],
          "scatterpolar": [
           {
            "marker": {
             "colorbar": {
              "outlinewidth": 0,
              "ticks": ""
             }
            },
            "type": "scatterpolar"
           }
          ],
          "scatterpolargl": [
           {
            "marker": {
             "colorbar": {
              "outlinewidth": 0,
              "ticks": ""
             }
            },
            "type": "scatterpolargl"
           }
          ],
          "scatterternary": [
           {
            "marker": {
             "colorbar": {
              "outlinewidth": 0,
              "ticks": ""
             }
            },
            "type": "scatterternary"
           }
          ],
          "surface": [
           {
            "colorbar": {
             "outlinewidth": 0,
             "ticks": ""
            },
            "colorscale": [
             [
              0,
              "#0d0887"
             ],
             [
              0.1111111111111111,
              "#46039f"
             ],
             [
              0.2222222222222222,
              "#7201a8"
             ],
             [
              0.3333333333333333,
              "#9c179e"
             ],
             [
              0.4444444444444444,
              "#bd3786"
             ],
             [
              0.5555555555555556,
              "#d8576b"
             ],
             [
              0.6666666666666666,
              "#ed7953"
             ],
             [
              0.7777777777777778,
              "#fb9f3a"
             ],
             [
              0.8888888888888888,
              "#fdca26"
             ],
             [
              1,
              "#f0f921"
             ]
            ],
            "type": "surface"
           }
          ],
          "table": [
           {
            "cells": {
             "fill": {
              "color": "#EBF0F8"
             },
             "line": {
              "color": "white"
             }
            },
            "header": {
             "fill": {
              "color": "#C8D4E3"
             },
             "line": {
              "color": "white"
             }
            },
            "type": "table"
           }
          ]
         },
         "layout": {
          "annotationdefaults": {
           "arrowcolor": "#2a3f5f",
           "arrowhead": 0,
           "arrowwidth": 1
          },
          "autotypenumbers": "strict",
          "coloraxis": {
           "colorbar": {
            "outlinewidth": 0,
            "ticks": ""
           }
          },
          "colorscale": {
           "diverging": [
            [
             0,
             "#8e0152"
            ],
            [
             0.1,
             "#c51b7d"
            ],
            [
             0.2,
             "#de77ae"
            ],
            [
             0.3,
             "#f1b6da"
            ],
            [
             0.4,
             "#fde0ef"
            ],
            [
             0.5,
             "#f7f7f7"
            ],
            [
             0.6,
             "#e6f5d0"
            ],
            [
             0.7,
             "#b8e186"
            ],
            [
             0.8,
             "#7fbc41"
            ],
            [
             0.9,
             "#4d9221"
            ],
            [
             1,
             "#276419"
            ]
           ],
           "sequential": [
            [
             0,
             "#0d0887"
            ],
            [
             0.1111111111111111,
             "#46039f"
            ],
            [
             0.2222222222222222,
             "#7201a8"
            ],
            [
             0.3333333333333333,
             "#9c179e"
            ],
            [
             0.4444444444444444,
             "#bd3786"
            ],
            [
             0.5555555555555556,
             "#d8576b"
            ],
            [
             0.6666666666666666,
             "#ed7953"
            ],
            [
             0.7777777777777778,
             "#fb9f3a"
            ],
            [
             0.8888888888888888,
             "#fdca26"
            ],
            [
             1,
             "#f0f921"
            ]
           ],
           "sequentialminus": [
            [
             0,
             "#0d0887"
            ],
            [
             0.1111111111111111,
             "#46039f"
            ],
            [
             0.2222222222222222,
             "#7201a8"
            ],
            [
             0.3333333333333333,
             "#9c179e"
            ],
            [
             0.4444444444444444,
             "#bd3786"
            ],
            [
             0.5555555555555556,
             "#d8576b"
            ],
            [
             0.6666666666666666,
             "#ed7953"
            ],
            [
             0.7777777777777778,
             "#fb9f3a"
            ],
            [
             0.8888888888888888,
             "#fdca26"
            ],
            [
             1,
             "#f0f921"
            ]
           ]
          },
          "colorway": [
           "#636efa",
           "#EF553B",
           "#00cc96",
           "#ab63fa",
           "#FFA15A",
           "#19d3f3",
           "#FF6692",
           "#B6E880",
           "#FF97FF",
           "#FECB52"
          ],
          "font": {
           "color": "#2a3f5f"
          },
          "geo": {
           "bgcolor": "white",
           "lakecolor": "white",
           "landcolor": "#E5ECF6",
           "showlakes": true,
           "showland": true,
           "subunitcolor": "white"
          },
          "hoverlabel": {
           "align": "left"
          },
          "hovermode": "closest",
          "mapbox": {
           "style": "light"
          },
          "paper_bgcolor": "white",
          "plot_bgcolor": "#E5ECF6",
          "polar": {
           "angularaxis": {
            "gridcolor": "white",
            "linecolor": "white",
            "ticks": ""
           },
           "bgcolor": "#E5ECF6",
           "radialaxis": {
            "gridcolor": "white",
            "linecolor": "white",
            "ticks": ""
           }
          },
          "scene": {
           "xaxis": {
            "backgroundcolor": "#E5ECF6",
            "gridcolor": "white",
            "gridwidth": 2,
            "linecolor": "white",
            "showbackground": true,
            "ticks": "",
            "zerolinecolor": "white"
           },
           "yaxis": {
            "backgroundcolor": "#E5ECF6",
            "gridcolor": "white",
            "gridwidth": 2,
            "linecolor": "white",
            "showbackground": true,
            "ticks": "",
            "zerolinecolor": "white"
           },
           "zaxis": {
            "backgroundcolor": "#E5ECF6",
            "gridcolor": "white",
            "gridwidth": 2,
            "linecolor": "white",
            "showbackground": true,
            "ticks": "",
            "zerolinecolor": "white"
           }
          },
          "shapedefaults": {
           "line": {
            "color": "#2a3f5f"
           }
          },
          "ternary": {
           "aaxis": {
            "gridcolor": "white",
            "linecolor": "white",
            "ticks": ""
           },
           "baxis": {
            "gridcolor": "white",
            "linecolor": "white",
            "ticks": ""
           },
           "bgcolor": "#E5ECF6",
           "caxis": {
            "gridcolor": "white",
            "linecolor": "white",
            "ticks": ""
           }
          },
          "title": {
           "x": 0.05
          },
          "xaxis": {
           "automargin": true,
           "gridcolor": "white",
           "linecolor": "white",
           "ticks": "",
           "title": {
            "standoff": 15
           },
           "zerolinecolor": "white",
           "zerolinewidth": 2
          },
          "yaxis": {
           "automargin": true,
           "gridcolor": "white",
           "linecolor": "white",
           "ticks": "",
           "title": {
            "standoff": 15
           },
           "zerolinecolor": "white",
           "zerolinewidth": 2
          }
         }
        },
        "title": {
         "font": {
          "color": "#4D5663"
         }
        },
        "xaxis": {
         "gridcolor": "#E1E5ED",
         "showgrid": true,
         "tickfont": {
          "color": "#4D5663"
         },
         "title": {
          "font": {
           "color": "#4D5663"
          },
          "text": ""
         },
         "zerolinecolor": "#E1E5ED"
        },
        "yaxis": {
         "gridcolor": "#E1E5ED",
         "showgrid": true,
         "tickfont": {
          "color": "#4D5663"
         },
         "title": {
          "font": {
           "color": "#4D5663"
          },
          "text": ""
         },
         "zerolinecolor": "#E1E5ED"
        }
       }
      },
      "text/html": [
       "<div>                            <div id=\"76233d0e-ff6f-44cb-88e2-54109a0696b6\" class=\"plotly-graph-div\" style=\"height:525px; width:100%;\"></div>            <script type=\"text/javascript\">                require([\"plotly\"], function(Plotly) {                    window.PLOTLYENV=window.PLOTLYENV || {};\n",
       "                    window.PLOTLYENV.BASE_URL='https://plot.ly';                                    if (document.getElementById(\"76233d0e-ff6f-44cb-88e2-54109a0696b6\")) {                    Plotly.newPlot(                        \"76233d0e-ff6f-44cb-88e2-54109a0696b6\",                        [{\"marker\": {\"color\": [\"rgb(255, 153, 51)\", \"rgb(55, 128, 191)\", \"rgb(50, 171, 96)\", \"rgb(128, 0, 128)\", \"rgb(219, 64, 82)\", \"rgb(0, 128, 128)\", \"rgb(255, 255, 51)\", \"rgb(128, 128, 0)\", \"rgb(251, 128, 114)\", \"rgb(128, 177, 211)\"], \"line\": {\"width\": 1.3}, \"size\": [26, 20, 95, 83, 63, 61, 104, 79, 68, 50, 54, 90, 61, 72, 100, 76, 96, 57, 67, 37, 58, 37, 47, 55, 64, 71, 52, 22, 32, 54, 52, 13, 112, 61, 42, 19, 46, 36, 28, 64, 48, 83, 58, 70, 84, 98, 80, 68, 85, 70, 55, 29, 70, 57, 87, 98, 62, 84, 78, 71, 35, 85, 18, 44, 67, 50, 52, 48, 58, 47, 61, 46, 66, 61, 65, 78, 52, 12, 31, 55, 73, 71, 71, 70, 59, 55, 78, 60, 44, 93, 62, 60, 75, 38, 44, 27, 106, 49, 86, 68], \"symbol\": \"circle\"}, \"mode\": \"markers\", \"text\": \"\", \"type\": \"scatter\", \"x\": [1.461893770697725, -2.031160136012203, 0.9383409670828389, -1.0813533287292119, 0.06490918815450783, 1.8950072332017274, -0.8714365596373268, -0.13074620114977334, -1.0923246928318198, -0.3760998942311332, -0.5361900499629562, 0.42029273811322426, 0.879026444738448, 0.17853057276926443, -1.4226047615565995, -0.38553936634836816, 0.9254705828347399, 0.8974413892643344, 1.3593724162723089, 0.41746771734852006, -0.1947229051061254, -0.4999893146137153, -0.4502113162411071, -1.1360014209107259, 0.1844178473890677, 1.5753255655453786, 0.4753674301421128, 1.635707798585372, -1.9187025770275, -0.19910344350673406, 2.285995703848697, -0.18915231953896097, 1.0665423877986695, -0.7269122934267687, 0.36224915062873836, -1.5625689349152296, -1.1362220420755846, -0.529376570887139, -0.1934547257057624, -1.9720439485780432, -0.2710830596477481, -0.7385696963294917, -0.29410090049820914, -0.22419206878488449, 0.1508245116866706, -0.6057299795009865, 0.3191505714649677, -0.1976198986566658, 1.093282680008958, -1.0799453836674373, -0.3616335539043888, 1.6107952178764182, -0.5891018790468924, 0.7666351833383529, 0.32222045304544167, -1.6872013582758036, -0.3720711616276398, 1.3420408631947918, 0.4239471624717882, 0.48424327553353297, -1.5961692749707352, 0.5882171437466279, 0.6566669461687532, -1.9603468546639706, 0.42870138393368024, -0.1978041090111149, 0.05723177511114498, 0.4475509991023478, 0.662730871880016, -1.796202287216889, 0.7165184267275085, 0.3326216988143618, -0.8140493568522115, -1.247832137911998, 0.9859507943329427, 1.1948398652848742, -2.145947615545814, 0.5339270311517821, 0.10249930114413236, -0.8916324021834575, 0.41078863879970284, -0.49795290561896394, -1.155769242450663, 0.781716927247144, 1.6136963240432758, -0.7802444642438957, -1.492354210417422, 0.2299947473973307, 0.50259957066577, -0.16700157611497873, 0.8226788892451177, 2.982546810969779, 3.0055258787254777, 1.3661389107738293, 0.5470135690673502, 0.5968793086096759, -0.14023490153269502, -0.8605446276038548, -1.5963739249397044, -1.444803862861764], \"y\": [0.034821286830913595, -0.18465032640783027, -0.14559546878046986, 0.5188969049323175, -0.13523853126955251, 0.4318092832469963, 0.4325114508880798, 0.8998324403091219, 0.9869125426600849, -0.8835232633714301, -2.3386192321621593, -1.6118761339264471, 0.10490498434779806, -0.11092067933578692, 0.1497009282397037, 0.21076101732022792, 0.39342478099064543, 0.09132770586791539, 0.2235968602504518, 0.5677210023540927, -1.0883412917672228, -1.8634393578585162, 2.071587906399981, -0.2801596751511832, 0.12974489483726634, -0.03866485905727695, -0.03705076808737536, 0.266357287604477, -0.7895322783647806, -0.1313370074749674, 0.29259171698821895, -0.9007171494773731, -0.44891096939266245, 1.008360713707377, 0.7022439971995453, -0.7388691932128125, -1.4161292923720754, 0.6474949831892831, 0.47941356849780564, -0.2226059661427326, 0.7618380699786111, -0.4477183007832323, -1.631693115173997, -0.09544522195089203, 0.38537878900500644, -1.6441145363155063, 0.21192444622315587, 0.4511506586037992, -0.48756326634889624, -0.21143097507909714, -0.5064990676682648, -1.0304321937806444, -0.019262704289807565, -1.604129921098689, -0.7383698476057221, 1.3744145867047832, -0.6875300541608018, -1.432387014408365, -1.0911982035031977, -0.13054703854233995, 1.1149311389889858, 0.9001591157267788, -0.027854177862134483, 1.2499369055465825, -1.2563150649919035, -1.090926431089866, -0.17154256161045614, 0.40402861851447225, -0.4517637786378383, -0.5959254526808988, -0.22125715901868098, 0.5929169086168804, -0.949141669608413, 1.1757531398322179, -2.0803217164995567, 1.4384986621172728, -2.855634131971656, 2.50215174769151, -0.6929526624471934, -1.6328247656936599, 0.2698539871691669, -0.07005116943214082, 1.6175284729997843, 0.320895211020274, 1.1316523527374969, 0.7552513179923331, -0.5942685588961929, -1.6287220322329163, -0.8798472555314089, -0.9907060380812681, 1.9345505655688178, -2.332218944909156, -1.056372116065171, 0.7409704824269928, -1.080315368386018, -0.8325915945468163, 1.9969983133617488, -1.0556709675869194, -0.4863793541163955, 1.0783741055559404]}],                        {\"legend\": {\"bgcolor\": \"#F5F6F9\", \"font\": {\"color\": \"#4D5663\"}}, \"paper_bgcolor\": \"#F5F6F9\", \"plot_bgcolor\": \"#F5F6F9\", \"template\": {\"data\": {\"bar\": [{\"error_x\": {\"color\": \"#2a3f5f\"}, \"error_y\": {\"color\": \"#2a3f5f\"}, \"marker\": {\"line\": {\"color\": \"#E5ECF6\", \"width\": 0.5}}, \"type\": \"bar\"}], \"barpolar\": [{\"marker\": {\"line\": {\"color\": \"#E5ECF6\", \"width\": 0.5}}, \"type\": \"barpolar\"}], \"carpet\": [{\"aaxis\": {\"endlinecolor\": \"#2a3f5f\", \"gridcolor\": \"white\", \"linecolor\": \"white\", \"minorgridcolor\": \"white\", \"startlinecolor\": \"#2a3f5f\"}, \"baxis\": {\"endlinecolor\": \"#2a3f5f\", \"gridcolor\": \"white\", \"linecolor\": \"white\", \"minorgridcolor\": \"white\", \"startlinecolor\": \"#2a3f5f\"}, \"type\": \"carpet\"}], \"choropleth\": [{\"colorbar\": {\"outlinewidth\": 0, \"ticks\": \"\"}, \"type\": \"choropleth\"}], \"contour\": [{\"colorbar\": {\"outlinewidth\": 0, \"ticks\": \"\"}, \"colorscale\": [[0.0, \"#0d0887\"], [0.1111111111111111, \"#46039f\"], [0.2222222222222222, \"#7201a8\"], [0.3333333333333333, \"#9c179e\"], [0.4444444444444444, \"#bd3786\"], [0.5555555555555556, \"#d8576b\"], [0.6666666666666666, \"#ed7953\"], [0.7777777777777778, \"#fb9f3a\"], [0.8888888888888888, \"#fdca26\"], [1.0, \"#f0f921\"]], \"type\": \"contour\"}], \"contourcarpet\": [{\"colorbar\": {\"outlinewidth\": 0, \"ticks\": \"\"}, \"type\": \"contourcarpet\"}], \"heatmap\": [{\"colorbar\": {\"outlinewidth\": 0, \"ticks\": \"\"}, \"colorscale\": [[0.0, \"#0d0887\"], [0.1111111111111111, \"#46039f\"], [0.2222222222222222, \"#7201a8\"], [0.3333333333333333, \"#9c179e\"], [0.4444444444444444, \"#bd3786\"], [0.5555555555555556, \"#d8576b\"], [0.6666666666666666, \"#ed7953\"], [0.7777777777777778, \"#fb9f3a\"], [0.8888888888888888, \"#fdca26\"], [1.0, \"#f0f921\"]], \"type\": \"heatmap\"}], \"heatmapgl\": [{\"colorbar\": {\"outlinewidth\": 0, \"ticks\": \"\"}, \"colorscale\": [[0.0, \"#0d0887\"], [0.1111111111111111, \"#46039f\"], [0.2222222222222222, \"#7201a8\"], [0.3333333333333333, \"#9c179e\"], [0.4444444444444444, \"#bd3786\"], [0.5555555555555556, \"#d8576b\"], [0.6666666666666666, \"#ed7953\"], [0.7777777777777778, \"#fb9f3a\"], [0.8888888888888888, \"#fdca26\"], [1.0, \"#f0f921\"]], \"type\": \"heatmapgl\"}], \"histogram\": [{\"marker\": {\"colorbar\": {\"outlinewidth\": 0, \"ticks\": \"\"}}, \"type\": \"histogram\"}], \"histogram2d\": [{\"colorbar\": {\"outlinewidth\": 0, \"ticks\": \"\"}, \"colorscale\": [[0.0, \"#0d0887\"], [0.1111111111111111, \"#46039f\"], [0.2222222222222222, \"#7201a8\"], [0.3333333333333333, \"#9c179e\"], [0.4444444444444444, \"#bd3786\"], [0.5555555555555556, \"#d8576b\"], [0.6666666666666666, \"#ed7953\"], [0.7777777777777778, \"#fb9f3a\"], [0.8888888888888888, \"#fdca26\"], [1.0, \"#f0f921\"]], \"type\": \"histogram2d\"}], \"histogram2dcontour\": [{\"colorbar\": {\"outlinewidth\": 0, \"ticks\": \"\"}, \"colorscale\": [[0.0, \"#0d0887\"], [0.1111111111111111, \"#46039f\"], [0.2222222222222222, \"#7201a8\"], [0.3333333333333333, \"#9c179e\"], [0.4444444444444444, \"#bd3786\"], [0.5555555555555556, \"#d8576b\"], [0.6666666666666666, \"#ed7953\"], [0.7777777777777778, \"#fb9f3a\"], [0.8888888888888888, \"#fdca26\"], [1.0, \"#f0f921\"]], \"type\": \"histogram2dcontour\"}], \"mesh3d\": [{\"colorbar\": {\"outlinewidth\": 0, \"ticks\": \"\"}, \"type\": \"mesh3d\"}], \"parcoords\": [{\"line\": {\"colorbar\": {\"outlinewidth\": 0, \"ticks\": \"\"}}, \"type\": \"parcoords\"}], \"pie\": [{\"automargin\": true, \"type\": \"pie\"}], \"scatter\": [{\"marker\": {\"colorbar\": {\"outlinewidth\": 0, \"ticks\": \"\"}}, \"type\": \"scatter\"}], \"scatter3d\": [{\"line\": {\"colorbar\": {\"outlinewidth\": 0, \"ticks\": \"\"}}, \"marker\": {\"colorbar\": {\"outlinewidth\": 0, \"ticks\": \"\"}}, \"type\": \"scatter3d\"}], \"scattercarpet\": [{\"marker\": {\"colorbar\": {\"outlinewidth\": 0, \"ticks\": \"\"}}, \"type\": \"scattercarpet\"}], \"scattergeo\": [{\"marker\": {\"colorbar\": {\"outlinewidth\": 0, \"ticks\": \"\"}}, \"type\": \"scattergeo\"}], \"scattergl\": [{\"marker\": {\"colorbar\": {\"outlinewidth\": 0, \"ticks\": \"\"}}, \"type\": \"scattergl\"}], \"scattermapbox\": [{\"marker\": {\"colorbar\": {\"outlinewidth\": 0, \"ticks\": \"\"}}, \"type\": \"scattermapbox\"}], \"scatterpolar\": [{\"marker\": {\"colorbar\": {\"outlinewidth\": 0, \"ticks\": \"\"}}, \"type\": \"scatterpolar\"}], \"scatterpolargl\": [{\"marker\": {\"colorbar\": {\"outlinewidth\": 0, \"ticks\": \"\"}}, \"type\": \"scatterpolargl\"}], \"scatterternary\": [{\"marker\": {\"colorbar\": {\"outlinewidth\": 0, \"ticks\": \"\"}}, \"type\": \"scatterternary\"}], \"surface\": [{\"colorbar\": {\"outlinewidth\": 0, \"ticks\": \"\"}, \"colorscale\": [[0.0, \"#0d0887\"], [0.1111111111111111, \"#46039f\"], [0.2222222222222222, \"#7201a8\"], [0.3333333333333333, \"#9c179e\"], [0.4444444444444444, \"#bd3786\"], [0.5555555555555556, \"#d8576b\"], [0.6666666666666666, \"#ed7953\"], [0.7777777777777778, \"#fb9f3a\"], [0.8888888888888888, \"#fdca26\"], [1.0, \"#f0f921\"]], \"type\": \"surface\"}], \"table\": [{\"cells\": {\"fill\": {\"color\": \"#EBF0F8\"}, \"line\": {\"color\": \"white\"}}, \"header\": {\"fill\": {\"color\": \"#C8D4E3\"}, \"line\": {\"color\": \"white\"}}, \"type\": \"table\"}]}, \"layout\": {\"annotationdefaults\": {\"arrowcolor\": \"#2a3f5f\", \"arrowhead\": 0, \"arrowwidth\": 1}, \"autotypenumbers\": \"strict\", \"coloraxis\": {\"colorbar\": {\"outlinewidth\": 0, \"ticks\": \"\"}}, \"colorscale\": {\"diverging\": [[0, \"#8e0152\"], [0.1, \"#c51b7d\"], [0.2, \"#de77ae\"], [0.3, \"#f1b6da\"], [0.4, \"#fde0ef\"], [0.5, \"#f7f7f7\"], [0.6, \"#e6f5d0\"], [0.7, \"#b8e186\"], [0.8, \"#7fbc41\"], [0.9, \"#4d9221\"], [1, \"#276419\"]], \"sequential\": [[0.0, \"#0d0887\"], [0.1111111111111111, \"#46039f\"], [0.2222222222222222, \"#7201a8\"], [0.3333333333333333, \"#9c179e\"], [0.4444444444444444, \"#bd3786\"], [0.5555555555555556, \"#d8576b\"], [0.6666666666666666, \"#ed7953\"], [0.7777777777777778, \"#fb9f3a\"], [0.8888888888888888, \"#fdca26\"], [1.0, \"#f0f921\"]], \"sequentialminus\": [[0.0, \"#0d0887\"], [0.1111111111111111, \"#46039f\"], [0.2222222222222222, \"#7201a8\"], [0.3333333333333333, \"#9c179e\"], [0.4444444444444444, \"#bd3786\"], [0.5555555555555556, \"#d8576b\"], [0.6666666666666666, \"#ed7953\"], [0.7777777777777778, \"#fb9f3a\"], [0.8888888888888888, \"#fdca26\"], [1.0, \"#f0f921\"]]}, \"colorway\": [\"#636efa\", \"#EF553B\", \"#00cc96\", \"#ab63fa\", \"#FFA15A\", \"#19d3f3\", \"#FF6692\", \"#B6E880\", \"#FF97FF\", \"#FECB52\"], \"font\": {\"color\": \"#2a3f5f\"}, \"geo\": {\"bgcolor\": \"white\", \"lakecolor\": \"white\", \"landcolor\": \"#E5ECF6\", \"showlakes\": true, \"showland\": true, \"subunitcolor\": \"white\"}, \"hoverlabel\": {\"align\": \"left\"}, \"hovermode\": \"closest\", \"mapbox\": {\"style\": \"light\"}, \"paper_bgcolor\": \"white\", \"plot_bgcolor\": \"#E5ECF6\", \"polar\": {\"angularaxis\": {\"gridcolor\": \"white\", \"linecolor\": \"white\", \"ticks\": \"\"}, \"bgcolor\": \"#E5ECF6\", \"radialaxis\": {\"gridcolor\": \"white\", \"linecolor\": \"white\", \"ticks\": \"\"}}, \"scene\": {\"xaxis\": {\"backgroundcolor\": \"#E5ECF6\", \"gridcolor\": \"white\", \"gridwidth\": 2, \"linecolor\": \"white\", \"showbackground\": true, \"ticks\": \"\", \"zerolinecolor\": \"white\"}, \"yaxis\": {\"backgroundcolor\": \"#E5ECF6\", \"gridcolor\": \"white\", \"gridwidth\": 2, \"linecolor\": \"white\", \"showbackground\": true, \"ticks\": \"\", \"zerolinecolor\": \"white\"}, \"zaxis\": {\"backgroundcolor\": \"#E5ECF6\", \"gridcolor\": \"white\", \"gridwidth\": 2, \"linecolor\": \"white\", \"showbackground\": true, \"ticks\": \"\", \"zerolinecolor\": \"white\"}}, \"shapedefaults\": {\"line\": {\"color\": \"#2a3f5f\"}}, \"ternary\": {\"aaxis\": {\"gridcolor\": \"white\", \"linecolor\": \"white\", \"ticks\": \"\"}, \"baxis\": {\"gridcolor\": \"white\", \"linecolor\": \"white\", \"ticks\": \"\"}, \"bgcolor\": \"#E5ECF6\", \"caxis\": {\"gridcolor\": \"white\", \"linecolor\": \"white\", \"ticks\": \"\"}}, \"title\": {\"x\": 0.05}, \"xaxis\": {\"automargin\": true, \"gridcolor\": \"white\", \"linecolor\": \"white\", \"ticks\": \"\", \"title\": {\"standoff\": 15}, \"zerolinecolor\": \"white\", \"zerolinewidth\": 2}, \"yaxis\": {\"automargin\": true, \"gridcolor\": \"white\", \"linecolor\": \"white\", \"ticks\": \"\", \"title\": {\"standoff\": 15}, \"zerolinecolor\": \"white\", \"zerolinewidth\": 2}}}, \"title\": {\"font\": {\"color\": \"#4D5663\"}}, \"xaxis\": {\"gridcolor\": \"#E1E5ED\", \"showgrid\": true, \"tickfont\": {\"color\": \"#4D5663\"}, \"title\": {\"font\": {\"color\": \"#4D5663\"}, \"text\": \"\"}, \"zerolinecolor\": \"#E1E5ED\"}, \"yaxis\": {\"gridcolor\": \"#E1E5ED\", \"showgrid\": true, \"tickfont\": {\"color\": \"#4D5663\"}, \"title\": {\"font\": {\"color\": \"#4D5663\"}, \"text\": \"\"}, \"zerolinecolor\": \"#E1E5ED\"}},                        {\"showLink\": true, \"linkText\": \"Export to plot.ly\", \"plotlyServerURL\": \"https://plot.ly\", \"responsive\": true}                    ).then(function(){\n",
       "                            \n",
       "var gd = document.getElementById('76233d0e-ff6f-44cb-88e2-54109a0696b6');\n",
       "var x = new MutationObserver(function (mutations, observer) {{\n",
       "        var display = window.getComputedStyle(gd).display;\n",
       "        if (!display || display === 'none') {{\n",
       "            console.log([gd, 'removed!']);\n",
       "            Plotly.purge(gd);\n",
       "            observer.disconnect();\n",
       "        }}\n",
       "}});\n",
       "\n",
       "// Listen for the removal of the full notebook cells\n",
       "var notebookContainer = gd.closest('#notebook-container');\n",
       "if (notebookContainer) {{\n",
       "    x.observe(notebookContainer, {childList: true});\n",
       "}}\n",
       "\n",
       "// Listen for the clearing of the current output cell\n",
       "var outputEl = gd.closest('.output');\n",
       "if (outputEl) {{\n",
       "    x.observe(outputEl, {childList: true});\n",
       "}}\n",
       "\n",
       "                        })                };                });            </script>        </div>"
      ]
     },
     "metadata": {},
     "output_type": "display_data"
    }
   ],
   "source": [
    "df.iplot(kind='bubble',x='A',y='B',size='C')"
   ]
  },
  {
   "cell_type": "markdown",
   "metadata": {},
   "source": [
    "## scatter_matrix()\n",
    "\n",
    "Similar to sns.pairplot()"
   ]
  },
  {
   "cell_type": "code",
   "execution_count": 20,
   "metadata": {},
   "outputs": [
    {
     "data": {
      "application/vnd.plotly.v1+json": {
       "config": {
        "linkText": "Export to plot.ly",
        "plotlyServerURL": "https://plot.ly",
        "showLink": true
       },
       "data": [
        {
         "histfunc": "count",
         "histnorm": "",
         "marker": {
          "color": "rgba(255, 153, 51, 1.0)",
          "line": {
           "color": "#4D5663",
           "width": 1.3
          }
         },
         "name": "A",
         "nbinsx": 10,
         "opacity": 0.8,
         "orientation": "v",
         "type": "histogram",
         "x": [
          1.461893770697725,
          -2.031160136012203,
          0.9383409670828389,
          -1.0813533287292119,
          0.06490918815450783,
          1.8950072332017274,
          -0.8714365596373268,
          -0.13074620114977334,
          -1.0923246928318198,
          -0.3760998942311332,
          -0.5361900499629562,
          0.42029273811322426,
          0.879026444738448,
          0.17853057276926443,
          -1.4226047615565995,
          -0.38553936634836816,
          0.9254705828347399,
          0.8974413892643344,
          1.3593724162723089,
          0.41746771734852006,
          -0.1947229051061254,
          -0.4999893146137153,
          -0.4502113162411071,
          -1.1360014209107259,
          0.1844178473890677,
          1.5753255655453786,
          0.4753674301421128,
          1.635707798585372,
          -1.9187025770275,
          -0.19910344350673406,
          2.285995703848697,
          -0.18915231953896097,
          1.0665423877986695,
          -0.7269122934267687,
          0.36224915062873836,
          -1.5625689349152296,
          -1.1362220420755846,
          -0.529376570887139,
          -0.1934547257057624,
          -1.9720439485780432,
          -0.2710830596477481,
          -0.7385696963294917,
          -0.29410090049820914,
          -0.22419206878488449,
          0.1508245116866706,
          -0.6057299795009865,
          0.3191505714649677,
          -0.1976198986566658,
          1.093282680008958,
          -1.0799453836674373,
          -0.3616335539043888,
          1.6107952178764182,
          -0.5891018790468924,
          0.7666351833383529,
          0.32222045304544167,
          -1.6872013582758036,
          -0.3720711616276398,
          1.3420408631947918,
          0.4239471624717882,
          0.48424327553353297,
          -1.5961692749707352,
          0.5882171437466279,
          0.6566669461687532,
          -1.9603468546639706,
          0.42870138393368024,
          -0.1978041090111149,
          0.05723177511114498,
          0.4475509991023478,
          0.662730871880016,
          -1.796202287216889,
          0.7165184267275085,
          0.3326216988143618,
          -0.8140493568522115,
          -1.247832137911998,
          0.9859507943329427,
          1.1948398652848742,
          -2.145947615545814,
          0.5339270311517821,
          0.10249930114413236,
          -0.8916324021834575,
          0.41078863879970284,
          -0.49795290561896394,
          -1.155769242450663,
          0.781716927247144,
          1.6136963240432758,
          -0.7802444642438957,
          -1.492354210417422,
          0.2299947473973307,
          0.50259957066577,
          -0.16700157611497873,
          0.8226788892451177,
          2.982546810969779,
          3.0055258787254777,
          1.3661389107738293,
          0.5470135690673502,
          0.5968793086096759,
          -0.14023490153269502,
          -0.8605446276038548,
          -1.5963739249397044,
          -1.444803862861764
         ],
         "xaxis": "x",
         "yaxis": "y"
        },
        {
         "line": {
          "color": "rgba(128, 128, 128, 1.0)",
          "dash": "solid",
          "shape": "linear",
          "width": 1.3
         },
         "marker": {
          "size": 2,
          "symbol": "circle"
         },
         "mode": "markers",
         "name": "A",
         "text": "",
         "type": "scatter",
         "x": [
          0.034821286830913595,
          -0.18465032640783027,
          -0.14559546878046986,
          0.5188969049323175,
          -0.13523853126955251,
          0.4318092832469963,
          0.4325114508880798,
          0.8998324403091219,
          0.9869125426600849,
          -0.8835232633714301,
          -2.3386192321621593,
          -1.6118761339264471,
          0.10490498434779806,
          -0.11092067933578692,
          0.1497009282397037,
          0.21076101732022792,
          0.39342478099064543,
          0.09132770586791539,
          0.2235968602504518,
          0.5677210023540927,
          -1.0883412917672228,
          -1.8634393578585162,
          2.071587906399981,
          -0.2801596751511832,
          0.12974489483726634,
          -0.03866485905727695,
          -0.03705076808737536,
          0.266357287604477,
          -0.7895322783647806,
          -0.1313370074749674,
          0.29259171698821895,
          -0.9007171494773731,
          -0.44891096939266245,
          1.008360713707377,
          0.7022439971995453,
          -0.7388691932128125,
          -1.4161292923720754,
          0.6474949831892831,
          0.47941356849780564,
          -0.2226059661427326,
          0.7618380699786111,
          -0.4477183007832323,
          -1.631693115173997,
          -0.09544522195089203,
          0.38537878900500644,
          -1.6441145363155063,
          0.21192444622315587,
          0.4511506586037992,
          -0.48756326634889624,
          -0.21143097507909714,
          -0.5064990676682648,
          -1.0304321937806444,
          -0.019262704289807565,
          -1.604129921098689,
          -0.7383698476057221,
          1.3744145867047832,
          -0.6875300541608018,
          -1.432387014408365,
          -1.0911982035031977,
          -0.13054703854233995,
          1.1149311389889858,
          0.9001591157267788,
          -0.027854177862134483,
          1.2499369055465825,
          -1.2563150649919035,
          -1.090926431089866,
          -0.17154256161045614,
          0.40402861851447225,
          -0.4517637786378383,
          -0.5959254526808988,
          -0.22125715901868098,
          0.5929169086168804,
          -0.949141669608413,
          1.1757531398322179,
          -2.0803217164995567,
          1.4384986621172728,
          -2.855634131971656,
          2.50215174769151,
          -0.6929526624471934,
          -1.6328247656936599,
          0.2698539871691669,
          -0.07005116943214082,
          1.6175284729997843,
          0.320895211020274,
          1.1316523527374969,
          0.7552513179923331,
          -0.5942685588961929,
          -1.6287220322329163,
          -0.8798472555314089,
          -0.9907060380812681,
          1.9345505655688178,
          -2.332218944909156,
          -1.056372116065171,
          0.7409704824269928,
          -1.080315368386018,
          -0.8325915945468163,
          1.9969983133617488,
          -1.0556709675869194,
          -0.4863793541163955,
          1.0783741055559404
         ],
         "xaxis": "x2",
         "y": [
          1.461893770697725,
          -2.031160136012203,
          0.9383409670828389,
          -1.0813533287292119,
          0.06490918815450783,
          1.8950072332017274,
          -0.8714365596373268,
          -0.13074620114977334,
          -1.0923246928318198,
          -0.3760998942311332,
          -0.5361900499629562,
          0.42029273811322426,
          0.879026444738448,
          0.17853057276926443,
          -1.4226047615565995,
          -0.38553936634836816,
          0.9254705828347399,
          0.8974413892643344,
          1.3593724162723089,
          0.41746771734852006,
          -0.1947229051061254,
          -0.4999893146137153,
          -0.4502113162411071,
          -1.1360014209107259,
          0.1844178473890677,
          1.5753255655453786,
          0.4753674301421128,
          1.635707798585372,
          -1.9187025770275,
          -0.19910344350673406,
          2.285995703848697,
          -0.18915231953896097,
          1.0665423877986695,
          -0.7269122934267687,
          0.36224915062873836,
          -1.5625689349152296,
          -1.1362220420755846,
          -0.529376570887139,
          -0.1934547257057624,
          -1.9720439485780432,
          -0.2710830596477481,
          -0.7385696963294917,
          -0.29410090049820914,
          -0.22419206878488449,
          0.1508245116866706,
          -0.6057299795009865,
          0.3191505714649677,
          -0.1976198986566658,
          1.093282680008958,
          -1.0799453836674373,
          -0.3616335539043888,
          1.6107952178764182,
          -0.5891018790468924,
          0.7666351833383529,
          0.32222045304544167,
          -1.6872013582758036,
          -0.3720711616276398,
          1.3420408631947918,
          0.4239471624717882,
          0.48424327553353297,
          -1.5961692749707352,
          0.5882171437466279,
          0.6566669461687532,
          -1.9603468546639706,
          0.42870138393368024,
          -0.1978041090111149,
          0.05723177511114498,
          0.4475509991023478,
          0.662730871880016,
          -1.796202287216889,
          0.7165184267275085,
          0.3326216988143618,
          -0.8140493568522115,
          -1.247832137911998,
          0.9859507943329427,
          1.1948398652848742,
          -2.145947615545814,
          0.5339270311517821,
          0.10249930114413236,
          -0.8916324021834575,
          0.41078863879970284,
          -0.49795290561896394,
          -1.155769242450663,
          0.781716927247144,
          1.6136963240432758,
          -0.7802444642438957,
          -1.492354210417422,
          0.2299947473973307,
          0.50259957066577,
          -0.16700157611497873,
          0.8226788892451177,
          2.982546810969779,
          3.0055258787254777,
          1.3661389107738293,
          0.5470135690673502,
          0.5968793086096759,
          -0.14023490153269502,
          -0.8605446276038548,
          -1.5963739249397044,
          -1.444803862861764
         ],
         "yaxis": "y2"
        },
        {
         "line": {
          "color": "rgba(128, 128, 128, 1.0)",
          "dash": "solid",
          "shape": "linear",
          "width": 1.3
         },
         "marker": {
          "size": 2,
          "symbol": "circle"
         },
         "mode": "markers",
         "name": "A",
         "text": "",
         "type": "scatter",
         "x": [
          -1.3006439390419213,
          -1.5869428894916857,
          1.6584156322277297,
          1.1454895984758002,
          0.26305874170738214,
          0.18169075545795593,
          2.049882895147626,
          0.9751021242023927,
          0.49763035924651966,
          -0.2699429415928433,
          -0.12043157616536791,
          1.4374498713562214,
          0.20900235766331843,
          0.6556675674759445,
          1.8973297280603958,
          0.8427255482081416,
          1.7082547812460323,
          0.017750429306643205,
          0.4500499325582488,
          -0.8538785358257017,
          0.06917465193911768,
          -0.8457428228603481,
          -0.39300748236144395,
          -0.049818025916309176,
          0.3420255676571834,
          0.6466404435436525,
          -0.20063447291984013,
          -1.508460519468425,
          -1.0609201044304024,
          -0.12145840112153206,
          -0.20405058682302613,
          -1.881772150723473,
          2.3835496250831536,
          0.17966391898446107,
          -0.617124798099804,
          -1.6380122871760459,
          -0.4579325651942999,
          -0.8902809656395981,
          -1.225913121433058,
          0.3381736947527816,
          -0.35181278122228776,
          1.1708823544188276,
          0.06242773220790924,
          0.605154909058938,
          1.194665184679022,
          1.799703514124367,
          1.0415031625574367,
          0.5172321467735154,
          1.2326986939789457,
          0.5767693425208671,
          -0.0810318735326804,
          -1.181117253724347,
          0.591798697179144,
          0.023927778208549265,
          1.3308313195178632,
          1.7876580854721933,
          0.2451964611789251,
          1.2118584926223146,
          0.9248978298938114,
          0.6288037532284884,
          -0.9100452231862963,
          1.220958319165513,
          -1.6651481255255152,
          -0.5539365894845161,
          0.476772125380621,
          -0.29208337178506877,
          -0.19850216763491732,
          -0.3700241457675619,
          0.06157123485305369,
          -0.4050632037003498,
          0.21639500673184853,
          -0.46978851354341283,
          0.40580983625952316,
          0.1764522083787632,
          0.38955028416042864,
          0.9408047258772444,
          -0.18997999970519125,
          -1.9449951189881642,
          -1.1208996812792928,
          -0.08301743154608002,
          0.7046389281930101,
          0.6288921709972379,
          0.6154250225584101,
          0.6081757181318705,
          0.11518836746403047,
          -0.07670629986561184,
          0.9372166992044042,
          0.15515784635335986,
          -0.5456248795256357,
          1.5648090855472,
          0.25847007703544206,
          0.15517839738747133,
          0.7837265744617542,
          -0.8105920661399413,
          -0.5514826145921592,
          -1.2759353061903793,
          2.141008033228579,
          -0.34105574668218674,
          1.2630246771691185,
          0.5154608994903594
         ],
         "xaxis": "x3",
         "y": [
          1.461893770697725,
          -2.031160136012203,
          0.9383409670828389,
          -1.0813533287292119,
          0.06490918815450783,
          1.8950072332017274,
          -0.8714365596373268,
          -0.13074620114977334,
          -1.0923246928318198,
          -0.3760998942311332,
          -0.5361900499629562,
          0.42029273811322426,
          0.879026444738448,
          0.17853057276926443,
          -1.4226047615565995,
          -0.38553936634836816,
          0.9254705828347399,
          0.8974413892643344,
          1.3593724162723089,
          0.41746771734852006,
          -0.1947229051061254,
          -0.4999893146137153,
          -0.4502113162411071,
          -1.1360014209107259,
          0.1844178473890677,
          1.5753255655453786,
          0.4753674301421128,
          1.635707798585372,
          -1.9187025770275,
          -0.19910344350673406,
          2.285995703848697,
          -0.18915231953896097,
          1.0665423877986695,
          -0.7269122934267687,
          0.36224915062873836,
          -1.5625689349152296,
          -1.1362220420755846,
          -0.529376570887139,
          -0.1934547257057624,
          -1.9720439485780432,
          -0.2710830596477481,
          -0.7385696963294917,
          -0.29410090049820914,
          -0.22419206878488449,
          0.1508245116866706,
          -0.6057299795009865,
          0.3191505714649677,
          -0.1976198986566658,
          1.093282680008958,
          -1.0799453836674373,
          -0.3616335539043888,
          1.6107952178764182,
          -0.5891018790468924,
          0.7666351833383529,
          0.32222045304544167,
          -1.6872013582758036,
          -0.3720711616276398,
          1.3420408631947918,
          0.4239471624717882,
          0.48424327553353297,
          -1.5961692749707352,
          0.5882171437466279,
          0.6566669461687532,
          -1.9603468546639706,
          0.42870138393368024,
          -0.1978041090111149,
          0.05723177511114498,
          0.4475509991023478,
          0.662730871880016,
          -1.796202287216889,
          0.7165184267275085,
          0.3326216988143618,
          -0.8140493568522115,
          -1.247832137911998,
          0.9859507943329427,
          1.1948398652848742,
          -2.145947615545814,
          0.5339270311517821,
          0.10249930114413236,
          -0.8916324021834575,
          0.41078863879970284,
          -0.49795290561896394,
          -1.155769242450663,
          0.781716927247144,
          1.6136963240432758,
          -0.7802444642438957,
          -1.492354210417422,
          0.2299947473973307,
          0.50259957066577,
          -0.16700157611497873,
          0.8226788892451177,
          2.982546810969779,
          3.0055258787254777,
          1.3661389107738293,
          0.5470135690673502,
          0.5968793086096759,
          -0.14023490153269502,
          -0.8605446276038548,
          -1.5963739249397044,
          -1.444803862861764
         ],
         "yaxis": "y3"
        },
        {
         "line": {
          "color": "rgba(128, 128, 128, 1.0)",
          "dash": "solid",
          "shape": "linear",
          "width": 1.3
         },
         "marker": {
          "size": 2,
          "symbol": "circle"
         },
         "mode": "markers",
         "name": "A",
         "text": "",
         "type": "scatter",
         "x": [
          0.920800150226663,
          -1.31273310100431,
          -0.2506892666572051,
          -0.14472307540744628,
          -1.2671642900969546,
          -0.7208061556399158,
          -1.0978180728006743,
          1.7102122683250764,
          0.04282512146048713,
          -0.9056334644821414,
          -0.050215363787716745,
          0.2284892428698987,
          -0.3414428231936035,
          0.005451354144702166,
          -0.12508070732114435,
          -0.8798089672156296,
          0.7449764381376779,
          1.5493563424845054,
          0.03306304488813176,
          0.2146737740544726,
          0.8651591037433622,
          0.8125359794252041,
          -0.14569911963245671,
          -1.2458812204011198,
          0.5834898622859467,
          0.3100124177206263,
          0.6272890177863465,
          -0.29748883022681855,
          -0.5612135998486016,
          -1.9551407722741936,
          0.8886050149854016,
          -0.17185888595459797,
          1.4666887549456646,
          1.0881281001401026,
          -0.43424006988001335,
          0.8057521728223583,
          -0.6940338012932591,
          -1.2896955806292065,
          -0.3596415442686988,
          0.5149363316465175,
          -0.5301961460413503,
          -0.20401316513175657,
          -0.5396877882312896,
          0.02562575012816123,
          0.7618331667986569,
          1.5094278940479409,
          0.1545270842243974,
          0.31791293745335153,
          -1.1215459801368062,
          -0.7317589899206769,
          0.9081389449079212,
          0.2637652289834318,
          0.4683325836298606,
          -0.7138212114938386,
          0.17289276195379755,
          -0.5633287591229841,
          0.40064279577768613,
          -0.4251129861233925,
          0.7413545596064026,
          -0.16076512298317275,
          0.794455744262156,
          -1.6701165173213774,
          0.7879498653508518,
          1.0848592821401286,
          1.524091492332574,
          -0.3462545381815603,
          -1.3096185877625999,
          -0.21566138689762632,
          -0.08197268678068677,
          0.07742914487239234,
          -0.025368265087929606,
          -1.3432087948898332,
          -0.49084669754529275,
          -1.0072800160286641,
          -1.5470280154425398,
          1.0161098110676825,
          0.0643882130791756,
          -0.18467387945435096,
          1.0371198404394766,
          0.887929312910137,
          -0.3055252760885695,
          0.8115488749915565,
          1.5485055022421659,
          -1.1159776392689102,
          1.0733571335849768,
          1.672702413665626,
          0.1932863446240364,
          -0.3836004921065508,
          0.6620887056422244,
          0.386748415432396,
          0.12411791182120754,
          1.119767331714733,
          -0.9831014734559389,
          0.40407160429411626,
          -0.030106735843152228,
          0.16912959026382893,
          0.8779644568785554,
          -1.4129792359828843,
          0.6302328966401511,
          -0.1536331124963864
         ],
         "xaxis": "x4",
         "y": [
          1.461893770697725,
          -2.031160136012203,
          0.9383409670828389,
          -1.0813533287292119,
          0.06490918815450783,
          1.8950072332017274,
          -0.8714365596373268,
          -0.13074620114977334,
          -1.0923246928318198,
          -0.3760998942311332,
          -0.5361900499629562,
          0.42029273811322426,
          0.879026444738448,
          0.17853057276926443,
          -1.4226047615565995,
          -0.38553936634836816,
          0.9254705828347399,
          0.8974413892643344,
          1.3593724162723089,
          0.41746771734852006,
          -0.1947229051061254,
          -0.4999893146137153,
          -0.4502113162411071,
          -1.1360014209107259,
          0.1844178473890677,
          1.5753255655453786,
          0.4753674301421128,
          1.635707798585372,
          -1.9187025770275,
          -0.19910344350673406,
          2.285995703848697,
          -0.18915231953896097,
          1.0665423877986695,
          -0.7269122934267687,
          0.36224915062873836,
          -1.5625689349152296,
          -1.1362220420755846,
          -0.529376570887139,
          -0.1934547257057624,
          -1.9720439485780432,
          -0.2710830596477481,
          -0.7385696963294917,
          -0.29410090049820914,
          -0.22419206878488449,
          0.1508245116866706,
          -0.6057299795009865,
          0.3191505714649677,
          -0.1976198986566658,
          1.093282680008958,
          -1.0799453836674373,
          -0.3616335539043888,
          1.6107952178764182,
          -0.5891018790468924,
          0.7666351833383529,
          0.32222045304544167,
          -1.6872013582758036,
          -0.3720711616276398,
          1.3420408631947918,
          0.4239471624717882,
          0.48424327553353297,
          -1.5961692749707352,
          0.5882171437466279,
          0.6566669461687532,
          -1.9603468546639706,
          0.42870138393368024,
          -0.1978041090111149,
          0.05723177511114498,
          0.4475509991023478,
          0.662730871880016,
          -1.796202287216889,
          0.7165184267275085,
          0.3326216988143618,
          -0.8140493568522115,
          -1.247832137911998,
          0.9859507943329427,
          1.1948398652848742,
          -2.145947615545814,
          0.5339270311517821,
          0.10249930114413236,
          -0.8916324021834575,
          0.41078863879970284,
          -0.49795290561896394,
          -1.155769242450663,
          0.781716927247144,
          1.6136963240432758,
          -0.7802444642438957,
          -1.492354210417422,
          0.2299947473973307,
          0.50259957066577,
          -0.16700157611497873,
          0.8226788892451177,
          2.982546810969779,
          3.0055258787254777,
          1.3661389107738293,
          0.5470135690673502,
          0.5968793086096759,
          -0.14023490153269502,
          -0.8605446276038548,
          -1.5963739249397044,
          -1.444803862861764
         ],
         "yaxis": "y4"
        },
        {
         "line": {
          "color": "rgba(128, 128, 128, 1.0)",
          "dash": "solid",
          "shape": "linear",
          "width": 1.3
         },
         "marker": {
          "size": 2,
          "symbol": "circle"
         },
         "mode": "markers",
         "name": "B",
         "text": "",
         "type": "scatter",
         "x": [
          1.461893770697725,
          -2.031160136012203,
          0.9383409670828389,
          -1.0813533287292119,
          0.06490918815450783,
          1.8950072332017274,
          -0.8714365596373268,
          -0.13074620114977334,
          -1.0923246928318198,
          -0.3760998942311332,
          -0.5361900499629562,
          0.42029273811322426,
          0.879026444738448,
          0.17853057276926443,
          -1.4226047615565995,
          -0.38553936634836816,
          0.9254705828347399,
          0.8974413892643344,
          1.3593724162723089,
          0.41746771734852006,
          -0.1947229051061254,
          -0.4999893146137153,
          -0.4502113162411071,
          -1.1360014209107259,
          0.1844178473890677,
          1.5753255655453786,
          0.4753674301421128,
          1.635707798585372,
          -1.9187025770275,
          -0.19910344350673406,
          2.285995703848697,
          -0.18915231953896097,
          1.0665423877986695,
          -0.7269122934267687,
          0.36224915062873836,
          -1.5625689349152296,
          -1.1362220420755846,
          -0.529376570887139,
          -0.1934547257057624,
          -1.9720439485780432,
          -0.2710830596477481,
          -0.7385696963294917,
          -0.29410090049820914,
          -0.22419206878488449,
          0.1508245116866706,
          -0.6057299795009865,
          0.3191505714649677,
          -0.1976198986566658,
          1.093282680008958,
          -1.0799453836674373,
          -0.3616335539043888,
          1.6107952178764182,
          -0.5891018790468924,
          0.7666351833383529,
          0.32222045304544167,
          -1.6872013582758036,
          -0.3720711616276398,
          1.3420408631947918,
          0.4239471624717882,
          0.48424327553353297,
          -1.5961692749707352,
          0.5882171437466279,
          0.6566669461687532,
          -1.9603468546639706,
          0.42870138393368024,
          -0.1978041090111149,
          0.05723177511114498,
          0.4475509991023478,
          0.662730871880016,
          -1.796202287216889,
          0.7165184267275085,
          0.3326216988143618,
          -0.8140493568522115,
          -1.247832137911998,
          0.9859507943329427,
          1.1948398652848742,
          -2.145947615545814,
          0.5339270311517821,
          0.10249930114413236,
          -0.8916324021834575,
          0.41078863879970284,
          -0.49795290561896394,
          -1.155769242450663,
          0.781716927247144,
          1.6136963240432758,
          -0.7802444642438957,
          -1.492354210417422,
          0.2299947473973307,
          0.50259957066577,
          -0.16700157611497873,
          0.8226788892451177,
          2.982546810969779,
          3.0055258787254777,
          1.3661389107738293,
          0.5470135690673502,
          0.5968793086096759,
          -0.14023490153269502,
          -0.8605446276038548,
          -1.5963739249397044,
          -1.444803862861764
         ],
         "xaxis": "x5",
         "y": [
          0.034821286830913595,
          -0.18465032640783027,
          -0.14559546878046986,
          0.5188969049323175,
          -0.13523853126955251,
          0.4318092832469963,
          0.4325114508880798,
          0.8998324403091219,
          0.9869125426600849,
          -0.8835232633714301,
          -2.3386192321621593,
          -1.6118761339264471,
          0.10490498434779806,
          -0.11092067933578692,
          0.1497009282397037,
          0.21076101732022792,
          0.39342478099064543,
          0.09132770586791539,
          0.2235968602504518,
          0.5677210023540927,
          -1.0883412917672228,
          -1.8634393578585162,
          2.071587906399981,
          -0.2801596751511832,
          0.12974489483726634,
          -0.03866485905727695,
          -0.03705076808737536,
          0.266357287604477,
          -0.7895322783647806,
          -0.1313370074749674,
          0.29259171698821895,
          -0.9007171494773731,
          -0.44891096939266245,
          1.008360713707377,
          0.7022439971995453,
          -0.7388691932128125,
          -1.4161292923720754,
          0.6474949831892831,
          0.47941356849780564,
          -0.2226059661427326,
          0.7618380699786111,
          -0.4477183007832323,
          -1.631693115173997,
          -0.09544522195089203,
          0.38537878900500644,
          -1.6441145363155063,
          0.21192444622315587,
          0.4511506586037992,
          -0.48756326634889624,
          -0.21143097507909714,
          -0.5064990676682648,
          -1.0304321937806444,
          -0.019262704289807565,
          -1.604129921098689,
          -0.7383698476057221,
          1.3744145867047832,
          -0.6875300541608018,
          -1.432387014408365,
          -1.0911982035031977,
          -0.13054703854233995,
          1.1149311389889858,
          0.9001591157267788,
          -0.027854177862134483,
          1.2499369055465825,
          -1.2563150649919035,
          -1.090926431089866,
          -0.17154256161045614,
          0.40402861851447225,
          -0.4517637786378383,
          -0.5959254526808988,
          -0.22125715901868098,
          0.5929169086168804,
          -0.949141669608413,
          1.1757531398322179,
          -2.0803217164995567,
          1.4384986621172728,
          -2.855634131971656,
          2.50215174769151,
          -0.6929526624471934,
          -1.6328247656936599,
          0.2698539871691669,
          -0.07005116943214082,
          1.6175284729997843,
          0.320895211020274,
          1.1316523527374969,
          0.7552513179923331,
          -0.5942685588961929,
          -1.6287220322329163,
          -0.8798472555314089,
          -0.9907060380812681,
          1.9345505655688178,
          -2.332218944909156,
          -1.056372116065171,
          0.7409704824269928,
          -1.080315368386018,
          -0.8325915945468163,
          1.9969983133617488,
          -1.0556709675869194,
          -0.4863793541163955,
          1.0783741055559404
         ],
         "yaxis": "y5"
        },
        {
         "histfunc": "count",
         "histnorm": "",
         "marker": {
          "color": "rgba(55, 128, 191, 1.0)",
          "line": {
           "color": "#4D5663",
           "width": 1.3
          }
         },
         "name": "B",
         "nbinsx": 10,
         "opacity": 0.8,
         "orientation": "v",
         "type": "histogram",
         "x": [
          0.034821286830913595,
          -0.18465032640783027,
          -0.14559546878046986,
          0.5188969049323175,
          -0.13523853126955251,
          0.4318092832469963,
          0.4325114508880798,
          0.8998324403091219,
          0.9869125426600849,
          -0.8835232633714301,
          -2.3386192321621593,
          -1.6118761339264471,
          0.10490498434779806,
          -0.11092067933578692,
          0.1497009282397037,
          0.21076101732022792,
          0.39342478099064543,
          0.09132770586791539,
          0.2235968602504518,
          0.5677210023540927,
          -1.0883412917672228,
          -1.8634393578585162,
          2.071587906399981,
          -0.2801596751511832,
          0.12974489483726634,
          -0.03866485905727695,
          -0.03705076808737536,
          0.266357287604477,
          -0.7895322783647806,
          -0.1313370074749674,
          0.29259171698821895,
          -0.9007171494773731,
          -0.44891096939266245,
          1.008360713707377,
          0.7022439971995453,
          -0.7388691932128125,
          -1.4161292923720754,
          0.6474949831892831,
          0.47941356849780564,
          -0.2226059661427326,
          0.7618380699786111,
          -0.4477183007832323,
          -1.631693115173997,
          -0.09544522195089203,
          0.38537878900500644,
          -1.6441145363155063,
          0.21192444622315587,
          0.4511506586037992,
          -0.48756326634889624,
          -0.21143097507909714,
          -0.5064990676682648,
          -1.0304321937806444,
          -0.019262704289807565,
          -1.604129921098689,
          -0.7383698476057221,
          1.3744145867047832,
          -0.6875300541608018,
          -1.432387014408365,
          -1.0911982035031977,
          -0.13054703854233995,
          1.1149311389889858,
          0.9001591157267788,
          -0.027854177862134483,
          1.2499369055465825,
          -1.2563150649919035,
          -1.090926431089866,
          -0.17154256161045614,
          0.40402861851447225,
          -0.4517637786378383,
          -0.5959254526808988,
          -0.22125715901868098,
          0.5929169086168804,
          -0.949141669608413,
          1.1757531398322179,
          -2.0803217164995567,
          1.4384986621172728,
          -2.855634131971656,
          2.50215174769151,
          -0.6929526624471934,
          -1.6328247656936599,
          0.2698539871691669,
          -0.07005116943214082,
          1.6175284729997843,
          0.320895211020274,
          1.1316523527374969,
          0.7552513179923331,
          -0.5942685588961929,
          -1.6287220322329163,
          -0.8798472555314089,
          -0.9907060380812681,
          1.9345505655688178,
          -2.332218944909156,
          -1.056372116065171,
          0.7409704824269928,
          -1.080315368386018,
          -0.8325915945468163,
          1.9969983133617488,
          -1.0556709675869194,
          -0.4863793541163955,
          1.0783741055559404
         ],
         "xaxis": "x6",
         "yaxis": "y6"
        },
        {
         "line": {
          "color": "rgba(128, 128, 128, 1.0)",
          "dash": "solid",
          "shape": "linear",
          "width": 1.3
         },
         "marker": {
          "size": 2,
          "symbol": "circle"
         },
         "mode": "markers",
         "name": "B",
         "text": "",
         "type": "scatter",
         "x": [
          -1.3006439390419213,
          -1.5869428894916857,
          1.6584156322277297,
          1.1454895984758002,
          0.26305874170738214,
          0.18169075545795593,
          2.049882895147626,
          0.9751021242023927,
          0.49763035924651966,
          -0.2699429415928433,
          -0.12043157616536791,
          1.4374498713562214,
          0.20900235766331843,
          0.6556675674759445,
          1.8973297280603958,
          0.8427255482081416,
          1.7082547812460323,
          0.017750429306643205,
          0.4500499325582488,
          -0.8538785358257017,
          0.06917465193911768,
          -0.8457428228603481,
          -0.39300748236144395,
          -0.049818025916309176,
          0.3420255676571834,
          0.6466404435436525,
          -0.20063447291984013,
          -1.508460519468425,
          -1.0609201044304024,
          -0.12145840112153206,
          -0.20405058682302613,
          -1.881772150723473,
          2.3835496250831536,
          0.17966391898446107,
          -0.617124798099804,
          -1.6380122871760459,
          -0.4579325651942999,
          -0.8902809656395981,
          -1.225913121433058,
          0.3381736947527816,
          -0.35181278122228776,
          1.1708823544188276,
          0.06242773220790924,
          0.605154909058938,
          1.194665184679022,
          1.799703514124367,
          1.0415031625574367,
          0.5172321467735154,
          1.2326986939789457,
          0.5767693425208671,
          -0.0810318735326804,
          -1.181117253724347,
          0.591798697179144,
          0.023927778208549265,
          1.3308313195178632,
          1.7876580854721933,
          0.2451964611789251,
          1.2118584926223146,
          0.9248978298938114,
          0.6288037532284884,
          -0.9100452231862963,
          1.220958319165513,
          -1.6651481255255152,
          -0.5539365894845161,
          0.476772125380621,
          -0.29208337178506877,
          -0.19850216763491732,
          -0.3700241457675619,
          0.06157123485305369,
          -0.4050632037003498,
          0.21639500673184853,
          -0.46978851354341283,
          0.40580983625952316,
          0.1764522083787632,
          0.38955028416042864,
          0.9408047258772444,
          -0.18997999970519125,
          -1.9449951189881642,
          -1.1208996812792928,
          -0.08301743154608002,
          0.7046389281930101,
          0.6288921709972379,
          0.6154250225584101,
          0.6081757181318705,
          0.11518836746403047,
          -0.07670629986561184,
          0.9372166992044042,
          0.15515784635335986,
          -0.5456248795256357,
          1.5648090855472,
          0.25847007703544206,
          0.15517839738747133,
          0.7837265744617542,
          -0.8105920661399413,
          -0.5514826145921592,
          -1.2759353061903793,
          2.141008033228579,
          -0.34105574668218674,
          1.2630246771691185,
          0.5154608994903594
         ],
         "xaxis": "x7",
         "y": [
          0.034821286830913595,
          -0.18465032640783027,
          -0.14559546878046986,
          0.5188969049323175,
          -0.13523853126955251,
          0.4318092832469963,
          0.4325114508880798,
          0.8998324403091219,
          0.9869125426600849,
          -0.8835232633714301,
          -2.3386192321621593,
          -1.6118761339264471,
          0.10490498434779806,
          -0.11092067933578692,
          0.1497009282397037,
          0.21076101732022792,
          0.39342478099064543,
          0.09132770586791539,
          0.2235968602504518,
          0.5677210023540927,
          -1.0883412917672228,
          -1.8634393578585162,
          2.071587906399981,
          -0.2801596751511832,
          0.12974489483726634,
          -0.03866485905727695,
          -0.03705076808737536,
          0.266357287604477,
          -0.7895322783647806,
          -0.1313370074749674,
          0.29259171698821895,
          -0.9007171494773731,
          -0.44891096939266245,
          1.008360713707377,
          0.7022439971995453,
          -0.7388691932128125,
          -1.4161292923720754,
          0.6474949831892831,
          0.47941356849780564,
          -0.2226059661427326,
          0.7618380699786111,
          -0.4477183007832323,
          -1.631693115173997,
          -0.09544522195089203,
          0.38537878900500644,
          -1.6441145363155063,
          0.21192444622315587,
          0.4511506586037992,
          -0.48756326634889624,
          -0.21143097507909714,
          -0.5064990676682648,
          -1.0304321937806444,
          -0.019262704289807565,
          -1.604129921098689,
          -0.7383698476057221,
          1.3744145867047832,
          -0.6875300541608018,
          -1.432387014408365,
          -1.0911982035031977,
          -0.13054703854233995,
          1.1149311389889858,
          0.9001591157267788,
          -0.027854177862134483,
          1.2499369055465825,
          -1.2563150649919035,
          -1.090926431089866,
          -0.17154256161045614,
          0.40402861851447225,
          -0.4517637786378383,
          -0.5959254526808988,
          -0.22125715901868098,
          0.5929169086168804,
          -0.949141669608413,
          1.1757531398322179,
          -2.0803217164995567,
          1.4384986621172728,
          -2.855634131971656,
          2.50215174769151,
          -0.6929526624471934,
          -1.6328247656936599,
          0.2698539871691669,
          -0.07005116943214082,
          1.6175284729997843,
          0.320895211020274,
          1.1316523527374969,
          0.7552513179923331,
          -0.5942685588961929,
          -1.6287220322329163,
          -0.8798472555314089,
          -0.9907060380812681,
          1.9345505655688178,
          -2.332218944909156,
          -1.056372116065171,
          0.7409704824269928,
          -1.080315368386018,
          -0.8325915945468163,
          1.9969983133617488,
          -1.0556709675869194,
          -0.4863793541163955,
          1.0783741055559404
         ],
         "yaxis": "y7"
        },
        {
         "line": {
          "color": "rgba(128, 128, 128, 1.0)",
          "dash": "solid",
          "shape": "linear",
          "width": 1.3
         },
         "marker": {
          "size": 2,
          "symbol": "circle"
         },
         "mode": "markers",
         "name": "B",
         "text": "",
         "type": "scatter",
         "x": [
          0.920800150226663,
          -1.31273310100431,
          -0.2506892666572051,
          -0.14472307540744628,
          -1.2671642900969546,
          -0.7208061556399158,
          -1.0978180728006743,
          1.7102122683250764,
          0.04282512146048713,
          -0.9056334644821414,
          -0.050215363787716745,
          0.2284892428698987,
          -0.3414428231936035,
          0.005451354144702166,
          -0.12508070732114435,
          -0.8798089672156296,
          0.7449764381376779,
          1.5493563424845054,
          0.03306304488813176,
          0.2146737740544726,
          0.8651591037433622,
          0.8125359794252041,
          -0.14569911963245671,
          -1.2458812204011198,
          0.5834898622859467,
          0.3100124177206263,
          0.6272890177863465,
          -0.29748883022681855,
          -0.5612135998486016,
          -1.9551407722741936,
          0.8886050149854016,
          -0.17185888595459797,
          1.4666887549456646,
          1.0881281001401026,
          -0.43424006988001335,
          0.8057521728223583,
          -0.6940338012932591,
          -1.2896955806292065,
          -0.3596415442686988,
          0.5149363316465175,
          -0.5301961460413503,
          -0.20401316513175657,
          -0.5396877882312896,
          0.02562575012816123,
          0.7618331667986569,
          1.5094278940479409,
          0.1545270842243974,
          0.31791293745335153,
          -1.1215459801368062,
          -0.7317589899206769,
          0.9081389449079212,
          0.2637652289834318,
          0.4683325836298606,
          -0.7138212114938386,
          0.17289276195379755,
          -0.5633287591229841,
          0.40064279577768613,
          -0.4251129861233925,
          0.7413545596064026,
          -0.16076512298317275,
          0.794455744262156,
          -1.6701165173213774,
          0.7879498653508518,
          1.0848592821401286,
          1.524091492332574,
          -0.3462545381815603,
          -1.3096185877625999,
          -0.21566138689762632,
          -0.08197268678068677,
          0.07742914487239234,
          -0.025368265087929606,
          -1.3432087948898332,
          -0.49084669754529275,
          -1.0072800160286641,
          -1.5470280154425398,
          1.0161098110676825,
          0.0643882130791756,
          -0.18467387945435096,
          1.0371198404394766,
          0.887929312910137,
          -0.3055252760885695,
          0.8115488749915565,
          1.5485055022421659,
          -1.1159776392689102,
          1.0733571335849768,
          1.672702413665626,
          0.1932863446240364,
          -0.3836004921065508,
          0.6620887056422244,
          0.386748415432396,
          0.12411791182120754,
          1.119767331714733,
          -0.9831014734559389,
          0.40407160429411626,
          -0.030106735843152228,
          0.16912959026382893,
          0.8779644568785554,
          -1.4129792359828843,
          0.6302328966401511,
          -0.1536331124963864
         ],
         "xaxis": "x8",
         "y": [
          0.034821286830913595,
          -0.18465032640783027,
          -0.14559546878046986,
          0.5188969049323175,
          -0.13523853126955251,
          0.4318092832469963,
          0.4325114508880798,
          0.8998324403091219,
          0.9869125426600849,
          -0.8835232633714301,
          -2.3386192321621593,
          -1.6118761339264471,
          0.10490498434779806,
          -0.11092067933578692,
          0.1497009282397037,
          0.21076101732022792,
          0.39342478099064543,
          0.09132770586791539,
          0.2235968602504518,
          0.5677210023540927,
          -1.0883412917672228,
          -1.8634393578585162,
          2.071587906399981,
          -0.2801596751511832,
          0.12974489483726634,
          -0.03866485905727695,
          -0.03705076808737536,
          0.266357287604477,
          -0.7895322783647806,
          -0.1313370074749674,
          0.29259171698821895,
          -0.9007171494773731,
          -0.44891096939266245,
          1.008360713707377,
          0.7022439971995453,
          -0.7388691932128125,
          -1.4161292923720754,
          0.6474949831892831,
          0.47941356849780564,
          -0.2226059661427326,
          0.7618380699786111,
          -0.4477183007832323,
          -1.631693115173997,
          -0.09544522195089203,
          0.38537878900500644,
          -1.6441145363155063,
          0.21192444622315587,
          0.4511506586037992,
          -0.48756326634889624,
          -0.21143097507909714,
          -0.5064990676682648,
          -1.0304321937806444,
          -0.019262704289807565,
          -1.604129921098689,
          -0.7383698476057221,
          1.3744145867047832,
          -0.6875300541608018,
          -1.432387014408365,
          -1.0911982035031977,
          -0.13054703854233995,
          1.1149311389889858,
          0.9001591157267788,
          -0.027854177862134483,
          1.2499369055465825,
          -1.2563150649919035,
          -1.090926431089866,
          -0.17154256161045614,
          0.40402861851447225,
          -0.4517637786378383,
          -0.5959254526808988,
          -0.22125715901868098,
          0.5929169086168804,
          -0.949141669608413,
          1.1757531398322179,
          -2.0803217164995567,
          1.4384986621172728,
          -2.855634131971656,
          2.50215174769151,
          -0.6929526624471934,
          -1.6328247656936599,
          0.2698539871691669,
          -0.07005116943214082,
          1.6175284729997843,
          0.320895211020274,
          1.1316523527374969,
          0.7552513179923331,
          -0.5942685588961929,
          -1.6287220322329163,
          -0.8798472555314089,
          -0.9907060380812681,
          1.9345505655688178,
          -2.332218944909156,
          -1.056372116065171,
          0.7409704824269928,
          -1.080315368386018,
          -0.8325915945468163,
          1.9969983133617488,
          -1.0556709675869194,
          -0.4863793541163955,
          1.0783741055559404
         ],
         "yaxis": "y8"
        },
        {
         "line": {
          "color": "rgba(128, 128, 128, 1.0)",
          "dash": "solid",
          "shape": "linear",
          "width": 1.3
         },
         "marker": {
          "size": 2,
          "symbol": "circle"
         },
         "mode": "markers",
         "name": "C",
         "text": "",
         "type": "scatter",
         "x": [
          1.461893770697725,
          -2.031160136012203,
          0.9383409670828389,
          -1.0813533287292119,
          0.06490918815450783,
          1.8950072332017274,
          -0.8714365596373268,
          -0.13074620114977334,
          -1.0923246928318198,
          -0.3760998942311332,
          -0.5361900499629562,
          0.42029273811322426,
          0.879026444738448,
          0.17853057276926443,
          -1.4226047615565995,
          -0.38553936634836816,
          0.9254705828347399,
          0.8974413892643344,
          1.3593724162723089,
          0.41746771734852006,
          -0.1947229051061254,
          -0.4999893146137153,
          -0.4502113162411071,
          -1.1360014209107259,
          0.1844178473890677,
          1.5753255655453786,
          0.4753674301421128,
          1.635707798585372,
          -1.9187025770275,
          -0.19910344350673406,
          2.285995703848697,
          -0.18915231953896097,
          1.0665423877986695,
          -0.7269122934267687,
          0.36224915062873836,
          -1.5625689349152296,
          -1.1362220420755846,
          -0.529376570887139,
          -0.1934547257057624,
          -1.9720439485780432,
          -0.2710830596477481,
          -0.7385696963294917,
          -0.29410090049820914,
          -0.22419206878488449,
          0.1508245116866706,
          -0.6057299795009865,
          0.3191505714649677,
          -0.1976198986566658,
          1.093282680008958,
          -1.0799453836674373,
          -0.3616335539043888,
          1.6107952178764182,
          -0.5891018790468924,
          0.7666351833383529,
          0.32222045304544167,
          -1.6872013582758036,
          -0.3720711616276398,
          1.3420408631947918,
          0.4239471624717882,
          0.48424327553353297,
          -1.5961692749707352,
          0.5882171437466279,
          0.6566669461687532,
          -1.9603468546639706,
          0.42870138393368024,
          -0.1978041090111149,
          0.05723177511114498,
          0.4475509991023478,
          0.662730871880016,
          -1.796202287216889,
          0.7165184267275085,
          0.3326216988143618,
          -0.8140493568522115,
          -1.247832137911998,
          0.9859507943329427,
          1.1948398652848742,
          -2.145947615545814,
          0.5339270311517821,
          0.10249930114413236,
          -0.8916324021834575,
          0.41078863879970284,
          -0.49795290561896394,
          -1.155769242450663,
          0.781716927247144,
          1.6136963240432758,
          -0.7802444642438957,
          -1.492354210417422,
          0.2299947473973307,
          0.50259957066577,
          -0.16700157611497873,
          0.8226788892451177,
          2.982546810969779,
          3.0055258787254777,
          1.3661389107738293,
          0.5470135690673502,
          0.5968793086096759,
          -0.14023490153269502,
          -0.8605446276038548,
          -1.5963739249397044,
          -1.444803862861764
         ],
         "xaxis": "x9",
         "y": [
          -1.3006439390419213,
          -1.5869428894916857,
          1.6584156322277297,
          1.1454895984758002,
          0.26305874170738214,
          0.18169075545795593,
          2.049882895147626,
          0.9751021242023927,
          0.49763035924651966,
          -0.2699429415928433,
          -0.12043157616536791,
          1.4374498713562214,
          0.20900235766331843,
          0.6556675674759445,
          1.8973297280603958,
          0.8427255482081416,
          1.7082547812460323,
          0.017750429306643205,
          0.4500499325582488,
          -0.8538785358257017,
          0.06917465193911768,
          -0.8457428228603481,
          -0.39300748236144395,
          -0.049818025916309176,
          0.3420255676571834,
          0.6466404435436525,
          -0.20063447291984013,
          -1.508460519468425,
          -1.0609201044304024,
          -0.12145840112153206,
          -0.20405058682302613,
          -1.881772150723473,
          2.3835496250831536,
          0.17966391898446107,
          -0.617124798099804,
          -1.6380122871760459,
          -0.4579325651942999,
          -0.8902809656395981,
          -1.225913121433058,
          0.3381736947527816,
          -0.35181278122228776,
          1.1708823544188276,
          0.06242773220790924,
          0.605154909058938,
          1.194665184679022,
          1.799703514124367,
          1.0415031625574367,
          0.5172321467735154,
          1.2326986939789457,
          0.5767693425208671,
          -0.0810318735326804,
          -1.181117253724347,
          0.591798697179144,
          0.023927778208549265,
          1.3308313195178632,
          1.7876580854721933,
          0.2451964611789251,
          1.2118584926223146,
          0.9248978298938114,
          0.6288037532284884,
          -0.9100452231862963,
          1.220958319165513,
          -1.6651481255255152,
          -0.5539365894845161,
          0.476772125380621,
          -0.29208337178506877,
          -0.19850216763491732,
          -0.3700241457675619,
          0.06157123485305369,
          -0.4050632037003498,
          0.21639500673184853,
          -0.46978851354341283,
          0.40580983625952316,
          0.1764522083787632,
          0.38955028416042864,
          0.9408047258772444,
          -0.18997999970519125,
          -1.9449951189881642,
          -1.1208996812792928,
          -0.08301743154608002,
          0.7046389281930101,
          0.6288921709972379,
          0.6154250225584101,
          0.6081757181318705,
          0.11518836746403047,
          -0.07670629986561184,
          0.9372166992044042,
          0.15515784635335986,
          -0.5456248795256357,
          1.5648090855472,
          0.25847007703544206,
          0.15517839738747133,
          0.7837265744617542,
          -0.8105920661399413,
          -0.5514826145921592,
          -1.2759353061903793,
          2.141008033228579,
          -0.34105574668218674,
          1.2630246771691185,
          0.5154608994903594
         ],
         "yaxis": "y9"
        },
        {
         "line": {
          "color": "rgba(128, 128, 128, 1.0)",
          "dash": "solid",
          "shape": "linear",
          "width": 1.3
         },
         "marker": {
          "size": 2,
          "symbol": "circle"
         },
         "mode": "markers",
         "name": "C",
         "text": "",
         "type": "scatter",
         "x": [
          0.034821286830913595,
          -0.18465032640783027,
          -0.14559546878046986,
          0.5188969049323175,
          -0.13523853126955251,
          0.4318092832469963,
          0.4325114508880798,
          0.8998324403091219,
          0.9869125426600849,
          -0.8835232633714301,
          -2.3386192321621593,
          -1.6118761339264471,
          0.10490498434779806,
          -0.11092067933578692,
          0.1497009282397037,
          0.21076101732022792,
          0.39342478099064543,
          0.09132770586791539,
          0.2235968602504518,
          0.5677210023540927,
          -1.0883412917672228,
          -1.8634393578585162,
          2.071587906399981,
          -0.2801596751511832,
          0.12974489483726634,
          -0.03866485905727695,
          -0.03705076808737536,
          0.266357287604477,
          -0.7895322783647806,
          -0.1313370074749674,
          0.29259171698821895,
          -0.9007171494773731,
          -0.44891096939266245,
          1.008360713707377,
          0.7022439971995453,
          -0.7388691932128125,
          -1.4161292923720754,
          0.6474949831892831,
          0.47941356849780564,
          -0.2226059661427326,
          0.7618380699786111,
          -0.4477183007832323,
          -1.631693115173997,
          -0.09544522195089203,
          0.38537878900500644,
          -1.6441145363155063,
          0.21192444622315587,
          0.4511506586037992,
          -0.48756326634889624,
          -0.21143097507909714,
          -0.5064990676682648,
          -1.0304321937806444,
          -0.019262704289807565,
          -1.604129921098689,
          -0.7383698476057221,
          1.3744145867047832,
          -0.6875300541608018,
          -1.432387014408365,
          -1.0911982035031977,
          -0.13054703854233995,
          1.1149311389889858,
          0.9001591157267788,
          -0.027854177862134483,
          1.2499369055465825,
          -1.2563150649919035,
          -1.090926431089866,
          -0.17154256161045614,
          0.40402861851447225,
          -0.4517637786378383,
          -0.5959254526808988,
          -0.22125715901868098,
          0.5929169086168804,
          -0.949141669608413,
          1.1757531398322179,
          -2.0803217164995567,
          1.4384986621172728,
          -2.855634131971656,
          2.50215174769151,
          -0.6929526624471934,
          -1.6328247656936599,
          0.2698539871691669,
          -0.07005116943214082,
          1.6175284729997843,
          0.320895211020274,
          1.1316523527374969,
          0.7552513179923331,
          -0.5942685588961929,
          -1.6287220322329163,
          -0.8798472555314089,
          -0.9907060380812681,
          1.9345505655688178,
          -2.332218944909156,
          -1.056372116065171,
          0.7409704824269928,
          -1.080315368386018,
          -0.8325915945468163,
          1.9969983133617488,
          -1.0556709675869194,
          -0.4863793541163955,
          1.0783741055559404
         ],
         "xaxis": "x10",
         "y": [
          -1.3006439390419213,
          -1.5869428894916857,
          1.6584156322277297,
          1.1454895984758002,
          0.26305874170738214,
          0.18169075545795593,
          2.049882895147626,
          0.9751021242023927,
          0.49763035924651966,
          -0.2699429415928433,
          -0.12043157616536791,
          1.4374498713562214,
          0.20900235766331843,
          0.6556675674759445,
          1.8973297280603958,
          0.8427255482081416,
          1.7082547812460323,
          0.017750429306643205,
          0.4500499325582488,
          -0.8538785358257017,
          0.06917465193911768,
          -0.8457428228603481,
          -0.39300748236144395,
          -0.049818025916309176,
          0.3420255676571834,
          0.6466404435436525,
          -0.20063447291984013,
          -1.508460519468425,
          -1.0609201044304024,
          -0.12145840112153206,
          -0.20405058682302613,
          -1.881772150723473,
          2.3835496250831536,
          0.17966391898446107,
          -0.617124798099804,
          -1.6380122871760459,
          -0.4579325651942999,
          -0.8902809656395981,
          -1.225913121433058,
          0.3381736947527816,
          -0.35181278122228776,
          1.1708823544188276,
          0.06242773220790924,
          0.605154909058938,
          1.194665184679022,
          1.799703514124367,
          1.0415031625574367,
          0.5172321467735154,
          1.2326986939789457,
          0.5767693425208671,
          -0.0810318735326804,
          -1.181117253724347,
          0.591798697179144,
          0.023927778208549265,
          1.3308313195178632,
          1.7876580854721933,
          0.2451964611789251,
          1.2118584926223146,
          0.9248978298938114,
          0.6288037532284884,
          -0.9100452231862963,
          1.220958319165513,
          -1.6651481255255152,
          -0.5539365894845161,
          0.476772125380621,
          -0.29208337178506877,
          -0.19850216763491732,
          -0.3700241457675619,
          0.06157123485305369,
          -0.4050632037003498,
          0.21639500673184853,
          -0.46978851354341283,
          0.40580983625952316,
          0.1764522083787632,
          0.38955028416042864,
          0.9408047258772444,
          -0.18997999970519125,
          -1.9449951189881642,
          -1.1208996812792928,
          -0.08301743154608002,
          0.7046389281930101,
          0.6288921709972379,
          0.6154250225584101,
          0.6081757181318705,
          0.11518836746403047,
          -0.07670629986561184,
          0.9372166992044042,
          0.15515784635335986,
          -0.5456248795256357,
          1.5648090855472,
          0.25847007703544206,
          0.15517839738747133,
          0.7837265744617542,
          -0.8105920661399413,
          -0.5514826145921592,
          -1.2759353061903793,
          2.141008033228579,
          -0.34105574668218674,
          1.2630246771691185,
          0.5154608994903594
         ],
         "yaxis": "y10"
        },
        {
         "histfunc": "count",
         "histnorm": "",
         "marker": {
          "color": "rgba(50, 171, 96, 1.0)",
          "line": {
           "color": "#4D5663",
           "width": 1.3
          }
         },
         "name": "C",
         "nbinsx": 10,
         "opacity": 0.8,
         "orientation": "v",
         "type": "histogram",
         "x": [
          -1.3006439390419213,
          -1.5869428894916857,
          1.6584156322277297,
          1.1454895984758002,
          0.26305874170738214,
          0.18169075545795593,
          2.049882895147626,
          0.9751021242023927,
          0.49763035924651966,
          -0.2699429415928433,
          -0.12043157616536791,
          1.4374498713562214,
          0.20900235766331843,
          0.6556675674759445,
          1.8973297280603958,
          0.8427255482081416,
          1.7082547812460323,
          0.017750429306643205,
          0.4500499325582488,
          -0.8538785358257017,
          0.06917465193911768,
          -0.8457428228603481,
          -0.39300748236144395,
          -0.049818025916309176,
          0.3420255676571834,
          0.6466404435436525,
          -0.20063447291984013,
          -1.508460519468425,
          -1.0609201044304024,
          -0.12145840112153206,
          -0.20405058682302613,
          -1.881772150723473,
          2.3835496250831536,
          0.17966391898446107,
          -0.617124798099804,
          -1.6380122871760459,
          -0.4579325651942999,
          -0.8902809656395981,
          -1.225913121433058,
          0.3381736947527816,
          -0.35181278122228776,
          1.1708823544188276,
          0.06242773220790924,
          0.605154909058938,
          1.194665184679022,
          1.799703514124367,
          1.0415031625574367,
          0.5172321467735154,
          1.2326986939789457,
          0.5767693425208671,
          -0.0810318735326804,
          -1.181117253724347,
          0.591798697179144,
          0.023927778208549265,
          1.3308313195178632,
          1.7876580854721933,
          0.2451964611789251,
          1.2118584926223146,
          0.9248978298938114,
          0.6288037532284884,
          -0.9100452231862963,
          1.220958319165513,
          -1.6651481255255152,
          -0.5539365894845161,
          0.476772125380621,
          -0.29208337178506877,
          -0.19850216763491732,
          -0.3700241457675619,
          0.06157123485305369,
          -0.4050632037003498,
          0.21639500673184853,
          -0.46978851354341283,
          0.40580983625952316,
          0.1764522083787632,
          0.38955028416042864,
          0.9408047258772444,
          -0.18997999970519125,
          -1.9449951189881642,
          -1.1208996812792928,
          -0.08301743154608002,
          0.7046389281930101,
          0.6288921709972379,
          0.6154250225584101,
          0.6081757181318705,
          0.11518836746403047,
          -0.07670629986561184,
          0.9372166992044042,
          0.15515784635335986,
          -0.5456248795256357,
          1.5648090855472,
          0.25847007703544206,
          0.15517839738747133,
          0.7837265744617542,
          -0.8105920661399413,
          -0.5514826145921592,
          -1.2759353061903793,
          2.141008033228579,
          -0.34105574668218674,
          1.2630246771691185,
          0.5154608994903594
         ],
         "xaxis": "x11",
         "yaxis": "y11"
        },
        {
         "line": {
          "color": "rgba(128, 128, 128, 1.0)",
          "dash": "solid",
          "shape": "linear",
          "width": 1.3
         },
         "marker": {
          "size": 2,
          "symbol": "circle"
         },
         "mode": "markers",
         "name": "C",
         "text": "",
         "type": "scatter",
         "x": [
          0.920800150226663,
          -1.31273310100431,
          -0.2506892666572051,
          -0.14472307540744628,
          -1.2671642900969546,
          -0.7208061556399158,
          -1.0978180728006743,
          1.7102122683250764,
          0.04282512146048713,
          -0.9056334644821414,
          -0.050215363787716745,
          0.2284892428698987,
          -0.3414428231936035,
          0.005451354144702166,
          -0.12508070732114435,
          -0.8798089672156296,
          0.7449764381376779,
          1.5493563424845054,
          0.03306304488813176,
          0.2146737740544726,
          0.8651591037433622,
          0.8125359794252041,
          -0.14569911963245671,
          -1.2458812204011198,
          0.5834898622859467,
          0.3100124177206263,
          0.6272890177863465,
          -0.29748883022681855,
          -0.5612135998486016,
          -1.9551407722741936,
          0.8886050149854016,
          -0.17185888595459797,
          1.4666887549456646,
          1.0881281001401026,
          -0.43424006988001335,
          0.8057521728223583,
          -0.6940338012932591,
          -1.2896955806292065,
          -0.3596415442686988,
          0.5149363316465175,
          -0.5301961460413503,
          -0.20401316513175657,
          -0.5396877882312896,
          0.02562575012816123,
          0.7618331667986569,
          1.5094278940479409,
          0.1545270842243974,
          0.31791293745335153,
          -1.1215459801368062,
          -0.7317589899206769,
          0.9081389449079212,
          0.2637652289834318,
          0.4683325836298606,
          -0.7138212114938386,
          0.17289276195379755,
          -0.5633287591229841,
          0.40064279577768613,
          -0.4251129861233925,
          0.7413545596064026,
          -0.16076512298317275,
          0.794455744262156,
          -1.6701165173213774,
          0.7879498653508518,
          1.0848592821401286,
          1.524091492332574,
          -0.3462545381815603,
          -1.3096185877625999,
          -0.21566138689762632,
          -0.08197268678068677,
          0.07742914487239234,
          -0.025368265087929606,
          -1.3432087948898332,
          -0.49084669754529275,
          -1.0072800160286641,
          -1.5470280154425398,
          1.0161098110676825,
          0.0643882130791756,
          -0.18467387945435096,
          1.0371198404394766,
          0.887929312910137,
          -0.3055252760885695,
          0.8115488749915565,
          1.5485055022421659,
          -1.1159776392689102,
          1.0733571335849768,
          1.672702413665626,
          0.1932863446240364,
          -0.3836004921065508,
          0.6620887056422244,
          0.386748415432396,
          0.12411791182120754,
          1.119767331714733,
          -0.9831014734559389,
          0.40407160429411626,
          -0.030106735843152228,
          0.16912959026382893,
          0.8779644568785554,
          -1.4129792359828843,
          0.6302328966401511,
          -0.1536331124963864
         ],
         "xaxis": "x12",
         "y": [
          -1.3006439390419213,
          -1.5869428894916857,
          1.6584156322277297,
          1.1454895984758002,
          0.26305874170738214,
          0.18169075545795593,
          2.049882895147626,
          0.9751021242023927,
          0.49763035924651966,
          -0.2699429415928433,
          -0.12043157616536791,
          1.4374498713562214,
          0.20900235766331843,
          0.6556675674759445,
          1.8973297280603958,
          0.8427255482081416,
          1.7082547812460323,
          0.017750429306643205,
          0.4500499325582488,
          -0.8538785358257017,
          0.06917465193911768,
          -0.8457428228603481,
          -0.39300748236144395,
          -0.049818025916309176,
          0.3420255676571834,
          0.6466404435436525,
          -0.20063447291984013,
          -1.508460519468425,
          -1.0609201044304024,
          -0.12145840112153206,
          -0.20405058682302613,
          -1.881772150723473,
          2.3835496250831536,
          0.17966391898446107,
          -0.617124798099804,
          -1.6380122871760459,
          -0.4579325651942999,
          -0.8902809656395981,
          -1.225913121433058,
          0.3381736947527816,
          -0.35181278122228776,
          1.1708823544188276,
          0.06242773220790924,
          0.605154909058938,
          1.194665184679022,
          1.799703514124367,
          1.0415031625574367,
          0.5172321467735154,
          1.2326986939789457,
          0.5767693425208671,
          -0.0810318735326804,
          -1.181117253724347,
          0.591798697179144,
          0.023927778208549265,
          1.3308313195178632,
          1.7876580854721933,
          0.2451964611789251,
          1.2118584926223146,
          0.9248978298938114,
          0.6288037532284884,
          -0.9100452231862963,
          1.220958319165513,
          -1.6651481255255152,
          -0.5539365894845161,
          0.476772125380621,
          -0.29208337178506877,
          -0.19850216763491732,
          -0.3700241457675619,
          0.06157123485305369,
          -0.4050632037003498,
          0.21639500673184853,
          -0.46978851354341283,
          0.40580983625952316,
          0.1764522083787632,
          0.38955028416042864,
          0.9408047258772444,
          -0.18997999970519125,
          -1.9449951189881642,
          -1.1208996812792928,
          -0.08301743154608002,
          0.7046389281930101,
          0.6288921709972379,
          0.6154250225584101,
          0.6081757181318705,
          0.11518836746403047,
          -0.07670629986561184,
          0.9372166992044042,
          0.15515784635335986,
          -0.5456248795256357,
          1.5648090855472,
          0.25847007703544206,
          0.15517839738747133,
          0.7837265744617542,
          -0.8105920661399413,
          -0.5514826145921592,
          -1.2759353061903793,
          2.141008033228579,
          -0.34105574668218674,
          1.2630246771691185,
          0.5154608994903594
         ],
         "yaxis": "y12"
        },
        {
         "line": {
          "color": "rgba(128, 128, 128, 1.0)",
          "dash": "solid",
          "shape": "linear",
          "width": 1.3
         },
         "marker": {
          "size": 2,
          "symbol": "circle"
         },
         "mode": "markers",
         "name": "D",
         "text": "",
         "type": "scatter",
         "x": [
          1.461893770697725,
          -2.031160136012203,
          0.9383409670828389,
          -1.0813533287292119,
          0.06490918815450783,
          1.8950072332017274,
          -0.8714365596373268,
          -0.13074620114977334,
          -1.0923246928318198,
          -0.3760998942311332,
          -0.5361900499629562,
          0.42029273811322426,
          0.879026444738448,
          0.17853057276926443,
          -1.4226047615565995,
          -0.38553936634836816,
          0.9254705828347399,
          0.8974413892643344,
          1.3593724162723089,
          0.41746771734852006,
          -0.1947229051061254,
          -0.4999893146137153,
          -0.4502113162411071,
          -1.1360014209107259,
          0.1844178473890677,
          1.5753255655453786,
          0.4753674301421128,
          1.635707798585372,
          -1.9187025770275,
          -0.19910344350673406,
          2.285995703848697,
          -0.18915231953896097,
          1.0665423877986695,
          -0.7269122934267687,
          0.36224915062873836,
          -1.5625689349152296,
          -1.1362220420755846,
          -0.529376570887139,
          -0.1934547257057624,
          -1.9720439485780432,
          -0.2710830596477481,
          -0.7385696963294917,
          -0.29410090049820914,
          -0.22419206878488449,
          0.1508245116866706,
          -0.6057299795009865,
          0.3191505714649677,
          -0.1976198986566658,
          1.093282680008958,
          -1.0799453836674373,
          -0.3616335539043888,
          1.6107952178764182,
          -0.5891018790468924,
          0.7666351833383529,
          0.32222045304544167,
          -1.6872013582758036,
          -0.3720711616276398,
          1.3420408631947918,
          0.4239471624717882,
          0.48424327553353297,
          -1.5961692749707352,
          0.5882171437466279,
          0.6566669461687532,
          -1.9603468546639706,
          0.42870138393368024,
          -0.1978041090111149,
          0.05723177511114498,
          0.4475509991023478,
          0.662730871880016,
          -1.796202287216889,
          0.7165184267275085,
          0.3326216988143618,
          -0.8140493568522115,
          -1.247832137911998,
          0.9859507943329427,
          1.1948398652848742,
          -2.145947615545814,
          0.5339270311517821,
          0.10249930114413236,
          -0.8916324021834575,
          0.41078863879970284,
          -0.49795290561896394,
          -1.155769242450663,
          0.781716927247144,
          1.6136963240432758,
          -0.7802444642438957,
          -1.492354210417422,
          0.2299947473973307,
          0.50259957066577,
          -0.16700157611497873,
          0.8226788892451177,
          2.982546810969779,
          3.0055258787254777,
          1.3661389107738293,
          0.5470135690673502,
          0.5968793086096759,
          -0.14023490153269502,
          -0.8605446276038548,
          -1.5963739249397044,
          -1.444803862861764
         ],
         "xaxis": "x13",
         "y": [
          0.920800150226663,
          -1.31273310100431,
          -0.2506892666572051,
          -0.14472307540744628,
          -1.2671642900969546,
          -0.7208061556399158,
          -1.0978180728006743,
          1.7102122683250764,
          0.04282512146048713,
          -0.9056334644821414,
          -0.050215363787716745,
          0.2284892428698987,
          -0.3414428231936035,
          0.005451354144702166,
          -0.12508070732114435,
          -0.8798089672156296,
          0.7449764381376779,
          1.5493563424845054,
          0.03306304488813176,
          0.2146737740544726,
          0.8651591037433622,
          0.8125359794252041,
          -0.14569911963245671,
          -1.2458812204011198,
          0.5834898622859467,
          0.3100124177206263,
          0.6272890177863465,
          -0.29748883022681855,
          -0.5612135998486016,
          -1.9551407722741936,
          0.8886050149854016,
          -0.17185888595459797,
          1.4666887549456646,
          1.0881281001401026,
          -0.43424006988001335,
          0.8057521728223583,
          -0.6940338012932591,
          -1.2896955806292065,
          -0.3596415442686988,
          0.5149363316465175,
          -0.5301961460413503,
          -0.20401316513175657,
          -0.5396877882312896,
          0.02562575012816123,
          0.7618331667986569,
          1.5094278940479409,
          0.1545270842243974,
          0.31791293745335153,
          -1.1215459801368062,
          -0.7317589899206769,
          0.9081389449079212,
          0.2637652289834318,
          0.4683325836298606,
          -0.7138212114938386,
          0.17289276195379755,
          -0.5633287591229841,
          0.40064279577768613,
          -0.4251129861233925,
          0.7413545596064026,
          -0.16076512298317275,
          0.794455744262156,
          -1.6701165173213774,
          0.7879498653508518,
          1.0848592821401286,
          1.524091492332574,
          -0.3462545381815603,
          -1.3096185877625999,
          -0.21566138689762632,
          -0.08197268678068677,
          0.07742914487239234,
          -0.025368265087929606,
          -1.3432087948898332,
          -0.49084669754529275,
          -1.0072800160286641,
          -1.5470280154425398,
          1.0161098110676825,
          0.0643882130791756,
          -0.18467387945435096,
          1.0371198404394766,
          0.887929312910137,
          -0.3055252760885695,
          0.8115488749915565,
          1.5485055022421659,
          -1.1159776392689102,
          1.0733571335849768,
          1.672702413665626,
          0.1932863446240364,
          -0.3836004921065508,
          0.6620887056422244,
          0.386748415432396,
          0.12411791182120754,
          1.119767331714733,
          -0.9831014734559389,
          0.40407160429411626,
          -0.030106735843152228,
          0.16912959026382893,
          0.8779644568785554,
          -1.4129792359828843,
          0.6302328966401511,
          -0.1536331124963864
         ],
         "yaxis": "y13"
        },
        {
         "line": {
          "color": "rgba(128, 128, 128, 1.0)",
          "dash": "solid",
          "shape": "linear",
          "width": 1.3
         },
         "marker": {
          "size": 2,
          "symbol": "circle"
         },
         "mode": "markers",
         "name": "D",
         "text": "",
         "type": "scatter",
         "x": [
          0.034821286830913595,
          -0.18465032640783027,
          -0.14559546878046986,
          0.5188969049323175,
          -0.13523853126955251,
          0.4318092832469963,
          0.4325114508880798,
          0.8998324403091219,
          0.9869125426600849,
          -0.8835232633714301,
          -2.3386192321621593,
          -1.6118761339264471,
          0.10490498434779806,
          -0.11092067933578692,
          0.1497009282397037,
          0.21076101732022792,
          0.39342478099064543,
          0.09132770586791539,
          0.2235968602504518,
          0.5677210023540927,
          -1.0883412917672228,
          -1.8634393578585162,
          2.071587906399981,
          -0.2801596751511832,
          0.12974489483726634,
          -0.03866485905727695,
          -0.03705076808737536,
          0.266357287604477,
          -0.7895322783647806,
          -0.1313370074749674,
          0.29259171698821895,
          -0.9007171494773731,
          -0.44891096939266245,
          1.008360713707377,
          0.7022439971995453,
          -0.7388691932128125,
          -1.4161292923720754,
          0.6474949831892831,
          0.47941356849780564,
          -0.2226059661427326,
          0.7618380699786111,
          -0.4477183007832323,
          -1.631693115173997,
          -0.09544522195089203,
          0.38537878900500644,
          -1.6441145363155063,
          0.21192444622315587,
          0.4511506586037992,
          -0.48756326634889624,
          -0.21143097507909714,
          -0.5064990676682648,
          -1.0304321937806444,
          -0.019262704289807565,
          -1.604129921098689,
          -0.7383698476057221,
          1.3744145867047832,
          -0.6875300541608018,
          -1.432387014408365,
          -1.0911982035031977,
          -0.13054703854233995,
          1.1149311389889858,
          0.9001591157267788,
          -0.027854177862134483,
          1.2499369055465825,
          -1.2563150649919035,
          -1.090926431089866,
          -0.17154256161045614,
          0.40402861851447225,
          -0.4517637786378383,
          -0.5959254526808988,
          -0.22125715901868098,
          0.5929169086168804,
          -0.949141669608413,
          1.1757531398322179,
          -2.0803217164995567,
          1.4384986621172728,
          -2.855634131971656,
          2.50215174769151,
          -0.6929526624471934,
          -1.6328247656936599,
          0.2698539871691669,
          -0.07005116943214082,
          1.6175284729997843,
          0.320895211020274,
          1.1316523527374969,
          0.7552513179923331,
          -0.5942685588961929,
          -1.6287220322329163,
          -0.8798472555314089,
          -0.9907060380812681,
          1.9345505655688178,
          -2.332218944909156,
          -1.056372116065171,
          0.7409704824269928,
          -1.080315368386018,
          -0.8325915945468163,
          1.9969983133617488,
          -1.0556709675869194,
          -0.4863793541163955,
          1.0783741055559404
         ],
         "xaxis": "x14",
         "y": [
          0.920800150226663,
          -1.31273310100431,
          -0.2506892666572051,
          -0.14472307540744628,
          -1.2671642900969546,
          -0.7208061556399158,
          -1.0978180728006743,
          1.7102122683250764,
          0.04282512146048713,
          -0.9056334644821414,
          -0.050215363787716745,
          0.2284892428698987,
          -0.3414428231936035,
          0.005451354144702166,
          -0.12508070732114435,
          -0.8798089672156296,
          0.7449764381376779,
          1.5493563424845054,
          0.03306304488813176,
          0.2146737740544726,
          0.8651591037433622,
          0.8125359794252041,
          -0.14569911963245671,
          -1.2458812204011198,
          0.5834898622859467,
          0.3100124177206263,
          0.6272890177863465,
          -0.29748883022681855,
          -0.5612135998486016,
          -1.9551407722741936,
          0.8886050149854016,
          -0.17185888595459797,
          1.4666887549456646,
          1.0881281001401026,
          -0.43424006988001335,
          0.8057521728223583,
          -0.6940338012932591,
          -1.2896955806292065,
          -0.3596415442686988,
          0.5149363316465175,
          -0.5301961460413503,
          -0.20401316513175657,
          -0.5396877882312896,
          0.02562575012816123,
          0.7618331667986569,
          1.5094278940479409,
          0.1545270842243974,
          0.31791293745335153,
          -1.1215459801368062,
          -0.7317589899206769,
          0.9081389449079212,
          0.2637652289834318,
          0.4683325836298606,
          -0.7138212114938386,
          0.17289276195379755,
          -0.5633287591229841,
          0.40064279577768613,
          -0.4251129861233925,
          0.7413545596064026,
          -0.16076512298317275,
          0.794455744262156,
          -1.6701165173213774,
          0.7879498653508518,
          1.0848592821401286,
          1.524091492332574,
          -0.3462545381815603,
          -1.3096185877625999,
          -0.21566138689762632,
          -0.08197268678068677,
          0.07742914487239234,
          -0.025368265087929606,
          -1.3432087948898332,
          -0.49084669754529275,
          -1.0072800160286641,
          -1.5470280154425398,
          1.0161098110676825,
          0.0643882130791756,
          -0.18467387945435096,
          1.0371198404394766,
          0.887929312910137,
          -0.3055252760885695,
          0.8115488749915565,
          1.5485055022421659,
          -1.1159776392689102,
          1.0733571335849768,
          1.672702413665626,
          0.1932863446240364,
          -0.3836004921065508,
          0.6620887056422244,
          0.386748415432396,
          0.12411791182120754,
          1.119767331714733,
          -0.9831014734559389,
          0.40407160429411626,
          -0.030106735843152228,
          0.16912959026382893,
          0.8779644568785554,
          -1.4129792359828843,
          0.6302328966401511,
          -0.1536331124963864
         ],
         "yaxis": "y14"
        },
        {
         "line": {
          "color": "rgba(128, 128, 128, 1.0)",
          "dash": "solid",
          "shape": "linear",
          "width": 1.3
         },
         "marker": {
          "size": 2,
          "symbol": "circle"
         },
         "mode": "markers",
         "name": "D",
         "text": "",
         "type": "scatter",
         "x": [
          -1.3006439390419213,
          -1.5869428894916857,
          1.6584156322277297,
          1.1454895984758002,
          0.26305874170738214,
          0.18169075545795593,
          2.049882895147626,
          0.9751021242023927,
          0.49763035924651966,
          -0.2699429415928433,
          -0.12043157616536791,
          1.4374498713562214,
          0.20900235766331843,
          0.6556675674759445,
          1.8973297280603958,
          0.8427255482081416,
          1.7082547812460323,
          0.017750429306643205,
          0.4500499325582488,
          -0.8538785358257017,
          0.06917465193911768,
          -0.8457428228603481,
          -0.39300748236144395,
          -0.049818025916309176,
          0.3420255676571834,
          0.6466404435436525,
          -0.20063447291984013,
          -1.508460519468425,
          -1.0609201044304024,
          -0.12145840112153206,
          -0.20405058682302613,
          -1.881772150723473,
          2.3835496250831536,
          0.17966391898446107,
          -0.617124798099804,
          -1.6380122871760459,
          -0.4579325651942999,
          -0.8902809656395981,
          -1.225913121433058,
          0.3381736947527816,
          -0.35181278122228776,
          1.1708823544188276,
          0.06242773220790924,
          0.605154909058938,
          1.194665184679022,
          1.799703514124367,
          1.0415031625574367,
          0.5172321467735154,
          1.2326986939789457,
          0.5767693425208671,
          -0.0810318735326804,
          -1.181117253724347,
          0.591798697179144,
          0.023927778208549265,
          1.3308313195178632,
          1.7876580854721933,
          0.2451964611789251,
          1.2118584926223146,
          0.9248978298938114,
          0.6288037532284884,
          -0.9100452231862963,
          1.220958319165513,
          -1.6651481255255152,
          -0.5539365894845161,
          0.476772125380621,
          -0.29208337178506877,
          -0.19850216763491732,
          -0.3700241457675619,
          0.06157123485305369,
          -0.4050632037003498,
          0.21639500673184853,
          -0.46978851354341283,
          0.40580983625952316,
          0.1764522083787632,
          0.38955028416042864,
          0.9408047258772444,
          -0.18997999970519125,
          -1.9449951189881642,
          -1.1208996812792928,
          -0.08301743154608002,
          0.7046389281930101,
          0.6288921709972379,
          0.6154250225584101,
          0.6081757181318705,
          0.11518836746403047,
          -0.07670629986561184,
          0.9372166992044042,
          0.15515784635335986,
          -0.5456248795256357,
          1.5648090855472,
          0.25847007703544206,
          0.15517839738747133,
          0.7837265744617542,
          -0.8105920661399413,
          -0.5514826145921592,
          -1.2759353061903793,
          2.141008033228579,
          -0.34105574668218674,
          1.2630246771691185,
          0.5154608994903594
         ],
         "xaxis": "x15",
         "y": [
          0.920800150226663,
          -1.31273310100431,
          -0.2506892666572051,
          -0.14472307540744628,
          -1.2671642900969546,
          -0.7208061556399158,
          -1.0978180728006743,
          1.7102122683250764,
          0.04282512146048713,
          -0.9056334644821414,
          -0.050215363787716745,
          0.2284892428698987,
          -0.3414428231936035,
          0.005451354144702166,
          -0.12508070732114435,
          -0.8798089672156296,
          0.7449764381376779,
          1.5493563424845054,
          0.03306304488813176,
          0.2146737740544726,
          0.8651591037433622,
          0.8125359794252041,
          -0.14569911963245671,
          -1.2458812204011198,
          0.5834898622859467,
          0.3100124177206263,
          0.6272890177863465,
          -0.29748883022681855,
          -0.5612135998486016,
          -1.9551407722741936,
          0.8886050149854016,
          -0.17185888595459797,
          1.4666887549456646,
          1.0881281001401026,
          -0.43424006988001335,
          0.8057521728223583,
          -0.6940338012932591,
          -1.2896955806292065,
          -0.3596415442686988,
          0.5149363316465175,
          -0.5301961460413503,
          -0.20401316513175657,
          -0.5396877882312896,
          0.02562575012816123,
          0.7618331667986569,
          1.5094278940479409,
          0.1545270842243974,
          0.31791293745335153,
          -1.1215459801368062,
          -0.7317589899206769,
          0.9081389449079212,
          0.2637652289834318,
          0.4683325836298606,
          -0.7138212114938386,
          0.17289276195379755,
          -0.5633287591229841,
          0.40064279577768613,
          -0.4251129861233925,
          0.7413545596064026,
          -0.16076512298317275,
          0.794455744262156,
          -1.6701165173213774,
          0.7879498653508518,
          1.0848592821401286,
          1.524091492332574,
          -0.3462545381815603,
          -1.3096185877625999,
          -0.21566138689762632,
          -0.08197268678068677,
          0.07742914487239234,
          -0.025368265087929606,
          -1.3432087948898332,
          -0.49084669754529275,
          -1.0072800160286641,
          -1.5470280154425398,
          1.0161098110676825,
          0.0643882130791756,
          -0.18467387945435096,
          1.0371198404394766,
          0.887929312910137,
          -0.3055252760885695,
          0.8115488749915565,
          1.5485055022421659,
          -1.1159776392689102,
          1.0733571335849768,
          1.672702413665626,
          0.1932863446240364,
          -0.3836004921065508,
          0.6620887056422244,
          0.386748415432396,
          0.12411791182120754,
          1.119767331714733,
          -0.9831014734559389,
          0.40407160429411626,
          -0.030106735843152228,
          0.16912959026382893,
          0.8779644568785554,
          -1.4129792359828843,
          0.6302328966401511,
          -0.1536331124963864
         ],
         "yaxis": "y15"
        },
        {
         "histfunc": "count",
         "histnorm": "",
         "marker": {
          "color": "rgba(128, 0, 128, 1.0)",
          "line": {
           "color": "#4D5663",
           "width": 1.3
          }
         },
         "name": "D",
         "nbinsx": 10,
         "opacity": 0.8,
         "orientation": "v",
         "type": "histogram",
         "x": [
          0.920800150226663,
          -1.31273310100431,
          -0.2506892666572051,
          -0.14472307540744628,
          -1.2671642900969546,
          -0.7208061556399158,
          -1.0978180728006743,
          1.7102122683250764,
          0.04282512146048713,
          -0.9056334644821414,
          -0.050215363787716745,
          0.2284892428698987,
          -0.3414428231936035,
          0.005451354144702166,
          -0.12508070732114435,
          -0.8798089672156296,
          0.7449764381376779,
          1.5493563424845054,
          0.03306304488813176,
          0.2146737740544726,
          0.8651591037433622,
          0.8125359794252041,
          -0.14569911963245671,
          -1.2458812204011198,
          0.5834898622859467,
          0.3100124177206263,
          0.6272890177863465,
          -0.29748883022681855,
          -0.5612135998486016,
          -1.9551407722741936,
          0.8886050149854016,
          -0.17185888595459797,
          1.4666887549456646,
          1.0881281001401026,
          -0.43424006988001335,
          0.8057521728223583,
          -0.6940338012932591,
          -1.2896955806292065,
          -0.3596415442686988,
          0.5149363316465175,
          -0.5301961460413503,
          -0.20401316513175657,
          -0.5396877882312896,
          0.02562575012816123,
          0.7618331667986569,
          1.5094278940479409,
          0.1545270842243974,
          0.31791293745335153,
          -1.1215459801368062,
          -0.7317589899206769,
          0.9081389449079212,
          0.2637652289834318,
          0.4683325836298606,
          -0.7138212114938386,
          0.17289276195379755,
          -0.5633287591229841,
          0.40064279577768613,
          -0.4251129861233925,
          0.7413545596064026,
          -0.16076512298317275,
          0.794455744262156,
          -1.6701165173213774,
          0.7879498653508518,
          1.0848592821401286,
          1.524091492332574,
          -0.3462545381815603,
          -1.3096185877625999,
          -0.21566138689762632,
          -0.08197268678068677,
          0.07742914487239234,
          -0.025368265087929606,
          -1.3432087948898332,
          -0.49084669754529275,
          -1.0072800160286641,
          -1.5470280154425398,
          1.0161098110676825,
          0.0643882130791756,
          -0.18467387945435096,
          1.0371198404394766,
          0.887929312910137,
          -0.3055252760885695,
          0.8115488749915565,
          1.5485055022421659,
          -1.1159776392689102,
          1.0733571335849768,
          1.672702413665626,
          0.1932863446240364,
          -0.3836004921065508,
          0.6620887056422244,
          0.386748415432396,
          0.12411791182120754,
          1.119767331714733,
          -0.9831014734559389,
          0.40407160429411626,
          -0.030106735843152228,
          0.16912959026382893,
          0.8779644568785554,
          -1.4129792359828843,
          0.6302328966401511,
          -0.1536331124963864
         ],
         "xaxis": "x16",
         "yaxis": "y16"
        }
       ],
       "layout": {
        "bargap": 0.02,
        "legend": {
         "bgcolor": "#F5F6F9",
         "font": {
          "color": "#4D5663"
         }
        },
        "paper_bgcolor": "#F5F6F9",
        "plot_bgcolor": "#F5F6F9",
        "showlegend": false,
        "template": {
         "data": {
          "bar": [
           {
            "error_x": {
             "color": "#2a3f5f"
            },
            "error_y": {
             "color": "#2a3f5f"
            },
            "marker": {
             "line": {
              "color": "#E5ECF6",
              "width": 0.5
             }
            },
            "type": "bar"
           }
          ],
          "barpolar": [
           {
            "marker": {
             "line": {
              "color": "#E5ECF6",
              "width": 0.5
             }
            },
            "type": "barpolar"
           }
          ],
          "carpet": [
           {
            "aaxis": {
             "endlinecolor": "#2a3f5f",
             "gridcolor": "white",
             "linecolor": "white",
             "minorgridcolor": "white",
             "startlinecolor": "#2a3f5f"
            },
            "baxis": {
             "endlinecolor": "#2a3f5f",
             "gridcolor": "white",
             "linecolor": "white",
             "minorgridcolor": "white",
             "startlinecolor": "#2a3f5f"
            },
            "type": "carpet"
           }
          ],
          "choropleth": [
           {
            "colorbar": {
             "outlinewidth": 0,
             "ticks": ""
            },
            "type": "choropleth"
           }
          ],
          "contour": [
           {
            "colorbar": {
             "outlinewidth": 0,
             "ticks": ""
            },
            "colorscale": [
             [
              0,
              "#0d0887"
             ],
             [
              0.1111111111111111,
              "#46039f"
             ],
             [
              0.2222222222222222,
              "#7201a8"
             ],
             [
              0.3333333333333333,
              "#9c179e"
             ],
             [
              0.4444444444444444,
              "#bd3786"
             ],
             [
              0.5555555555555556,
              "#d8576b"
             ],
             [
              0.6666666666666666,
              "#ed7953"
             ],
             [
              0.7777777777777778,
              "#fb9f3a"
             ],
             [
              0.8888888888888888,
              "#fdca26"
             ],
             [
              1,
              "#f0f921"
             ]
            ],
            "type": "contour"
           }
          ],
          "contourcarpet": [
           {
            "colorbar": {
             "outlinewidth": 0,
             "ticks": ""
            },
            "type": "contourcarpet"
           }
          ],
          "heatmap": [
           {
            "colorbar": {
             "outlinewidth": 0,
             "ticks": ""
            },
            "colorscale": [
             [
              0,
              "#0d0887"
             ],
             [
              0.1111111111111111,
              "#46039f"
             ],
             [
              0.2222222222222222,
              "#7201a8"
             ],
             [
              0.3333333333333333,
              "#9c179e"
             ],
             [
              0.4444444444444444,
              "#bd3786"
             ],
             [
              0.5555555555555556,
              "#d8576b"
             ],
             [
              0.6666666666666666,
              "#ed7953"
             ],
             [
              0.7777777777777778,
              "#fb9f3a"
             ],
             [
              0.8888888888888888,
              "#fdca26"
             ],
             [
              1,
              "#f0f921"
             ]
            ],
            "type": "heatmap"
           }
          ],
          "heatmapgl": [
           {
            "colorbar": {
             "outlinewidth": 0,
             "ticks": ""
            },
            "colorscale": [
             [
              0,
              "#0d0887"
             ],
             [
              0.1111111111111111,
              "#46039f"
             ],
             [
              0.2222222222222222,
              "#7201a8"
             ],
             [
              0.3333333333333333,
              "#9c179e"
             ],
             [
              0.4444444444444444,
              "#bd3786"
             ],
             [
              0.5555555555555556,
              "#d8576b"
             ],
             [
              0.6666666666666666,
              "#ed7953"
             ],
             [
              0.7777777777777778,
              "#fb9f3a"
             ],
             [
              0.8888888888888888,
              "#fdca26"
             ],
             [
              1,
              "#f0f921"
             ]
            ],
            "type": "heatmapgl"
           }
          ],
          "histogram": [
           {
            "marker": {
             "colorbar": {
              "outlinewidth": 0,
              "ticks": ""
             }
            },
            "type": "histogram"
           }
          ],
          "histogram2d": [
           {
            "colorbar": {
             "outlinewidth": 0,
             "ticks": ""
            },
            "colorscale": [
             [
              0,
              "#0d0887"
             ],
             [
              0.1111111111111111,
              "#46039f"
             ],
             [
              0.2222222222222222,
              "#7201a8"
             ],
             [
              0.3333333333333333,
              "#9c179e"
             ],
             [
              0.4444444444444444,
              "#bd3786"
             ],
             [
              0.5555555555555556,
              "#d8576b"
             ],
             [
              0.6666666666666666,
              "#ed7953"
             ],
             [
              0.7777777777777778,
              "#fb9f3a"
             ],
             [
              0.8888888888888888,
              "#fdca26"
             ],
             [
              1,
              "#f0f921"
             ]
            ],
            "type": "histogram2d"
           }
          ],
          "histogram2dcontour": [
           {
            "colorbar": {
             "outlinewidth": 0,
             "ticks": ""
            },
            "colorscale": [
             [
              0,
              "#0d0887"
             ],
             [
              0.1111111111111111,
              "#46039f"
             ],
             [
              0.2222222222222222,
              "#7201a8"
             ],
             [
              0.3333333333333333,
              "#9c179e"
             ],
             [
              0.4444444444444444,
              "#bd3786"
             ],
             [
              0.5555555555555556,
              "#d8576b"
             ],
             [
              0.6666666666666666,
              "#ed7953"
             ],
             [
              0.7777777777777778,
              "#fb9f3a"
             ],
             [
              0.8888888888888888,
              "#fdca26"
             ],
             [
              1,
              "#f0f921"
             ]
            ],
            "type": "histogram2dcontour"
           }
          ],
          "mesh3d": [
           {
            "colorbar": {
             "outlinewidth": 0,
             "ticks": ""
            },
            "type": "mesh3d"
           }
          ],
          "parcoords": [
           {
            "line": {
             "colorbar": {
              "outlinewidth": 0,
              "ticks": ""
             }
            },
            "type": "parcoords"
           }
          ],
          "pie": [
           {
            "automargin": true,
            "type": "pie"
           }
          ],
          "scatter": [
           {
            "marker": {
             "colorbar": {
              "outlinewidth": 0,
              "ticks": ""
             }
            },
            "type": "scatter"
           }
          ],
          "scatter3d": [
           {
            "line": {
             "colorbar": {
              "outlinewidth": 0,
              "ticks": ""
             }
            },
            "marker": {
             "colorbar": {
              "outlinewidth": 0,
              "ticks": ""
             }
            },
            "type": "scatter3d"
           }
          ],
          "scattercarpet": [
           {
            "marker": {
             "colorbar": {
              "outlinewidth": 0,
              "ticks": ""
             }
            },
            "type": "scattercarpet"
           }
          ],
          "scattergeo": [
           {
            "marker": {
             "colorbar": {
              "outlinewidth": 0,
              "ticks": ""
             }
            },
            "type": "scattergeo"
           }
          ],
          "scattergl": [
           {
            "marker": {
             "colorbar": {
              "outlinewidth": 0,
              "ticks": ""
             }
            },
            "type": "scattergl"
           }
          ],
          "scattermapbox": [
           {
            "marker": {
             "colorbar": {
              "outlinewidth": 0,
              "ticks": ""
             }
            },
            "type": "scattermapbox"
           }
          ],
          "scatterpolar": [
           {
            "marker": {
             "colorbar": {
              "outlinewidth": 0,
              "ticks": ""
             }
            },
            "type": "scatterpolar"
           }
          ],
          "scatterpolargl": [
           {
            "marker": {
             "colorbar": {
              "outlinewidth": 0,
              "ticks": ""
             }
            },
            "type": "scatterpolargl"
           }
          ],
          "scatterternary": [
           {
            "marker": {
             "colorbar": {
              "outlinewidth": 0,
              "ticks": ""
             }
            },
            "type": "scatterternary"
           }
          ],
          "surface": [
           {
            "colorbar": {
             "outlinewidth": 0,
             "ticks": ""
            },
            "colorscale": [
             [
              0,
              "#0d0887"
             ],
             [
              0.1111111111111111,
              "#46039f"
             ],
             [
              0.2222222222222222,
              "#7201a8"
             ],
             [
              0.3333333333333333,
              "#9c179e"
             ],
             [
              0.4444444444444444,
              "#bd3786"
             ],
             [
              0.5555555555555556,
              "#d8576b"
             ],
             [
              0.6666666666666666,
              "#ed7953"
             ],
             [
              0.7777777777777778,
              "#fb9f3a"
             ],
             [
              0.8888888888888888,
              "#fdca26"
             ],
             [
              1,
              "#f0f921"
             ]
            ],
            "type": "surface"
           }
          ],
          "table": [
           {
            "cells": {
             "fill": {
              "color": "#EBF0F8"
             },
             "line": {
              "color": "white"
             }
            },
            "header": {
             "fill": {
              "color": "#C8D4E3"
             },
             "line": {
              "color": "white"
             }
            },
            "type": "table"
           }
          ]
         },
         "layout": {
          "annotationdefaults": {
           "arrowcolor": "#2a3f5f",
           "arrowhead": 0,
           "arrowwidth": 1
          },
          "autotypenumbers": "strict",
          "coloraxis": {
           "colorbar": {
            "outlinewidth": 0,
            "ticks": ""
           }
          },
          "colorscale": {
           "diverging": [
            [
             0,
             "#8e0152"
            ],
            [
             0.1,
             "#c51b7d"
            ],
            [
             0.2,
             "#de77ae"
            ],
            [
             0.3,
             "#f1b6da"
            ],
            [
             0.4,
             "#fde0ef"
            ],
            [
             0.5,
             "#f7f7f7"
            ],
            [
             0.6,
             "#e6f5d0"
            ],
            [
             0.7,
             "#b8e186"
            ],
            [
             0.8,
             "#7fbc41"
            ],
            [
             0.9,
             "#4d9221"
            ],
            [
             1,
             "#276419"
            ]
           ],
           "sequential": [
            [
             0,
             "#0d0887"
            ],
            [
             0.1111111111111111,
             "#46039f"
            ],
            [
             0.2222222222222222,
             "#7201a8"
            ],
            [
             0.3333333333333333,
             "#9c179e"
            ],
            [
             0.4444444444444444,
             "#bd3786"
            ],
            [
             0.5555555555555556,
             "#d8576b"
            ],
            [
             0.6666666666666666,
             "#ed7953"
            ],
            [
             0.7777777777777778,
             "#fb9f3a"
            ],
            [
             0.8888888888888888,
             "#fdca26"
            ],
            [
             1,
             "#f0f921"
            ]
           ],
           "sequentialminus": [
            [
             0,
             "#0d0887"
            ],
            [
             0.1111111111111111,
             "#46039f"
            ],
            [
             0.2222222222222222,
             "#7201a8"
            ],
            [
             0.3333333333333333,
             "#9c179e"
            ],
            [
             0.4444444444444444,
             "#bd3786"
            ],
            [
             0.5555555555555556,
             "#d8576b"
            ],
            [
             0.6666666666666666,
             "#ed7953"
            ],
            [
             0.7777777777777778,
             "#fb9f3a"
            ],
            [
             0.8888888888888888,
             "#fdca26"
            ],
            [
             1,
             "#f0f921"
            ]
           ]
          },
          "colorway": [
           "#636efa",
           "#EF553B",
           "#00cc96",
           "#ab63fa",
           "#FFA15A",
           "#19d3f3",
           "#FF6692",
           "#B6E880",
           "#FF97FF",
           "#FECB52"
          ],
          "font": {
           "color": "#2a3f5f"
          },
          "geo": {
           "bgcolor": "white",
           "lakecolor": "white",
           "landcolor": "#E5ECF6",
           "showlakes": true,
           "showland": true,
           "subunitcolor": "white"
          },
          "hoverlabel": {
           "align": "left"
          },
          "hovermode": "closest",
          "mapbox": {
           "style": "light"
          },
          "paper_bgcolor": "white",
          "plot_bgcolor": "#E5ECF6",
          "polar": {
           "angularaxis": {
            "gridcolor": "white",
            "linecolor": "white",
            "ticks": ""
           },
           "bgcolor": "#E5ECF6",
           "radialaxis": {
            "gridcolor": "white",
            "linecolor": "white",
            "ticks": ""
           }
          },
          "scene": {
           "xaxis": {
            "backgroundcolor": "#E5ECF6",
            "gridcolor": "white",
            "gridwidth": 2,
            "linecolor": "white",
            "showbackground": true,
            "ticks": "",
            "zerolinecolor": "white"
           },
           "yaxis": {
            "backgroundcolor": "#E5ECF6",
            "gridcolor": "white",
            "gridwidth": 2,
            "linecolor": "white",
            "showbackground": true,
            "ticks": "",
            "zerolinecolor": "white"
           },
           "zaxis": {
            "backgroundcolor": "#E5ECF6",
            "gridcolor": "white",
            "gridwidth": 2,
            "linecolor": "white",
            "showbackground": true,
            "ticks": "",
            "zerolinecolor": "white"
           }
          },
          "shapedefaults": {
           "line": {
            "color": "#2a3f5f"
           }
          },
          "ternary": {
           "aaxis": {
            "gridcolor": "white",
            "linecolor": "white",
            "ticks": ""
           },
           "baxis": {
            "gridcolor": "white",
            "linecolor": "white",
            "ticks": ""
           },
           "bgcolor": "#E5ECF6",
           "caxis": {
            "gridcolor": "white",
            "linecolor": "white",
            "ticks": ""
           }
          },
          "title": {
           "x": 0.05
          },
          "xaxis": {
           "automargin": true,
           "gridcolor": "white",
           "linecolor": "white",
           "ticks": "",
           "title": {
            "standoff": 15
           },
           "zerolinecolor": "white",
           "zerolinewidth": 2
          },
          "yaxis": {
           "automargin": true,
           "gridcolor": "white",
           "linecolor": "white",
           "ticks": "",
           "title": {
            "standoff": 15
           },
           "zerolinecolor": "white",
           "zerolinewidth": 2
          }
         }
        },
        "title": {
         "font": {
          "color": "#4D5663"
         }
        },
        "xaxis": {
         "anchor": "y",
         "domain": [
          0,
          0.2125
         ],
         "gridcolor": "#E1E5ED",
         "showgrid": false,
         "tickfont": {
          "color": "#4D5663"
         },
         "title": {
          "font": {
           "color": "#4D5663"
          },
          "text": ""
         },
         "zerolinecolor": "#E1E5ED"
        },
        "xaxis10": {
         "anchor": "y10",
         "domain": [
          0.2625,
          0.475
         ],
         "gridcolor": "#E1E5ED",
         "showgrid": false,
         "tickfont": {
          "color": "#4D5663"
         },
         "title": {
          "font": {
           "color": "#4D5663"
          },
          "text": ""
         },
         "zerolinecolor": "#E1E5ED"
        },
        "xaxis11": {
         "anchor": "y11",
         "domain": [
          0.525,
          0.7375
         ],
         "gridcolor": "#E1E5ED",
         "showgrid": false,
         "tickfont": {
          "color": "#4D5663"
         },
         "title": {
          "font": {
           "color": "#4D5663"
          },
          "text": ""
         },
         "zerolinecolor": "#E1E5ED"
        },
        "xaxis12": {
         "anchor": "y12",
         "domain": [
          0.7875,
          1
         ],
         "gridcolor": "#E1E5ED",
         "showgrid": false,
         "tickfont": {
          "color": "#4D5663"
         },
         "title": {
          "font": {
           "color": "#4D5663"
          },
          "text": ""
         },
         "zerolinecolor": "#E1E5ED"
        },
        "xaxis13": {
         "anchor": "y13",
         "domain": [
          0,
          0.2125
         ],
         "gridcolor": "#E1E5ED",
         "showgrid": false,
         "tickfont": {
          "color": "#4D5663"
         },
         "title": {
          "font": {
           "color": "#4D5663"
          },
          "text": ""
         },
         "zerolinecolor": "#E1E5ED"
        },
        "xaxis14": {
         "anchor": "y14",
         "domain": [
          0.2625,
          0.475
         ],
         "gridcolor": "#E1E5ED",
         "showgrid": false,
         "tickfont": {
          "color": "#4D5663"
         },
         "title": {
          "font": {
           "color": "#4D5663"
          },
          "text": ""
         },
         "zerolinecolor": "#E1E5ED"
        },
        "xaxis15": {
         "anchor": "y15",
         "domain": [
          0.525,
          0.7375
         ],
         "gridcolor": "#E1E5ED",
         "showgrid": false,
         "tickfont": {
          "color": "#4D5663"
         },
         "title": {
          "font": {
           "color": "#4D5663"
          },
          "text": ""
         },
         "zerolinecolor": "#E1E5ED"
        },
        "xaxis16": {
         "anchor": "y16",
         "domain": [
          0.7875,
          1
         ],
         "gridcolor": "#E1E5ED",
         "showgrid": false,
         "tickfont": {
          "color": "#4D5663"
         },
         "title": {
          "font": {
           "color": "#4D5663"
          },
          "text": ""
         },
         "zerolinecolor": "#E1E5ED"
        },
        "xaxis2": {
         "anchor": "y2",
         "domain": [
          0.2625,
          0.475
         ],
         "gridcolor": "#E1E5ED",
         "showgrid": false,
         "tickfont": {
          "color": "#4D5663"
         },
         "title": {
          "font": {
           "color": "#4D5663"
          },
          "text": ""
         },
         "zerolinecolor": "#E1E5ED"
        },
        "xaxis3": {
         "anchor": "y3",
         "domain": [
          0.525,
          0.7375
         ],
         "gridcolor": "#E1E5ED",
         "showgrid": false,
         "tickfont": {
          "color": "#4D5663"
         },
         "title": {
          "font": {
           "color": "#4D5663"
          },
          "text": ""
         },
         "zerolinecolor": "#E1E5ED"
        },
        "xaxis4": {
         "anchor": "y4",
         "domain": [
          0.7875,
          1
         ],
         "gridcolor": "#E1E5ED",
         "showgrid": false,
         "tickfont": {
          "color": "#4D5663"
         },
         "title": {
          "font": {
           "color": "#4D5663"
          },
          "text": ""
         },
         "zerolinecolor": "#E1E5ED"
        },
        "xaxis5": {
         "anchor": "y5",
         "domain": [
          0,
          0.2125
         ],
         "gridcolor": "#E1E5ED",
         "showgrid": false,
         "tickfont": {
          "color": "#4D5663"
         },
         "title": {
          "font": {
           "color": "#4D5663"
          },
          "text": ""
         },
         "zerolinecolor": "#E1E5ED"
        },
        "xaxis6": {
         "anchor": "y6",
         "domain": [
          0.2625,
          0.475
         ],
         "gridcolor": "#E1E5ED",
         "showgrid": false,
         "tickfont": {
          "color": "#4D5663"
         },
         "title": {
          "font": {
           "color": "#4D5663"
          },
          "text": ""
         },
         "zerolinecolor": "#E1E5ED"
        },
        "xaxis7": {
         "anchor": "y7",
         "domain": [
          0.525,
          0.7375
         ],
         "gridcolor": "#E1E5ED",
         "showgrid": false,
         "tickfont": {
          "color": "#4D5663"
         },
         "title": {
          "font": {
           "color": "#4D5663"
          },
          "text": ""
         },
         "zerolinecolor": "#E1E5ED"
        },
        "xaxis8": {
         "anchor": "y8",
         "domain": [
          0.7875,
          1
         ],
         "gridcolor": "#E1E5ED",
         "showgrid": false,
         "tickfont": {
          "color": "#4D5663"
         },
         "title": {
          "font": {
           "color": "#4D5663"
          },
          "text": ""
         },
         "zerolinecolor": "#E1E5ED"
        },
        "xaxis9": {
         "anchor": "y9",
         "domain": [
          0,
          0.2125
         ],
         "gridcolor": "#E1E5ED",
         "showgrid": false,
         "tickfont": {
          "color": "#4D5663"
         },
         "title": {
          "font": {
           "color": "#4D5663"
          },
          "text": ""
         },
         "zerolinecolor": "#E1E5ED"
        },
        "yaxis": {
         "anchor": "x",
         "domain": [
          0.8025,
          1
         ],
         "gridcolor": "#E1E5ED",
         "showgrid": false,
         "tickfont": {
          "color": "#4D5663"
         },
         "title": {
          "font": {
           "color": "#4D5663"
          },
          "text": ""
         },
         "zerolinecolor": "#E1E5ED"
        },
        "yaxis10": {
         "anchor": "x10",
         "domain": [
          0.2675,
          0.465
         ],
         "gridcolor": "#E1E5ED",
         "showgrid": false,
         "tickfont": {
          "color": "#4D5663"
         },
         "title": {
          "font": {
           "color": "#4D5663"
          },
          "text": ""
         },
         "zerolinecolor": "#E1E5ED"
        },
        "yaxis11": {
         "anchor": "x11",
         "domain": [
          0.2675,
          0.465
         ],
         "gridcolor": "#E1E5ED",
         "showgrid": false,
         "tickfont": {
          "color": "#4D5663"
         },
         "title": {
          "font": {
           "color": "#4D5663"
          },
          "text": ""
         },
         "zerolinecolor": "#E1E5ED"
        },
        "yaxis12": {
         "anchor": "x12",
         "domain": [
          0.2675,
          0.465
         ],
         "gridcolor": "#E1E5ED",
         "showgrid": false,
         "tickfont": {
          "color": "#4D5663"
         },
         "title": {
          "font": {
           "color": "#4D5663"
          },
          "text": ""
         },
         "zerolinecolor": "#E1E5ED"
        },
        "yaxis13": {
         "anchor": "x13",
         "domain": [
          0,
          0.1975
         ],
         "gridcolor": "#E1E5ED",
         "showgrid": false,
         "tickfont": {
          "color": "#4D5663"
         },
         "title": {
          "font": {
           "color": "#4D5663"
          },
          "text": ""
         },
         "zerolinecolor": "#E1E5ED"
        },
        "yaxis14": {
         "anchor": "x14",
         "domain": [
          0,
          0.1975
         ],
         "gridcolor": "#E1E5ED",
         "showgrid": false,
         "tickfont": {
          "color": "#4D5663"
         },
         "title": {
          "font": {
           "color": "#4D5663"
          },
          "text": ""
         },
         "zerolinecolor": "#E1E5ED"
        },
        "yaxis15": {
         "anchor": "x15",
         "domain": [
          0,
          0.1975
         ],
         "gridcolor": "#E1E5ED",
         "showgrid": false,
         "tickfont": {
          "color": "#4D5663"
         },
         "title": {
          "font": {
           "color": "#4D5663"
          },
          "text": ""
         },
         "zerolinecolor": "#E1E5ED"
        },
        "yaxis16": {
         "anchor": "x16",
         "domain": [
          0,
          0.1975
         ],
         "gridcolor": "#E1E5ED",
         "showgrid": false,
         "tickfont": {
          "color": "#4D5663"
         },
         "title": {
          "font": {
           "color": "#4D5663"
          },
          "text": ""
         },
         "zerolinecolor": "#E1E5ED"
        },
        "yaxis2": {
         "anchor": "x2",
         "domain": [
          0.8025,
          1
         ],
         "gridcolor": "#E1E5ED",
         "showgrid": false,
         "tickfont": {
          "color": "#4D5663"
         },
         "title": {
          "font": {
           "color": "#4D5663"
          },
          "text": ""
         },
         "zerolinecolor": "#E1E5ED"
        },
        "yaxis3": {
         "anchor": "x3",
         "domain": [
          0.8025,
          1
         ],
         "gridcolor": "#E1E5ED",
         "showgrid": false,
         "tickfont": {
          "color": "#4D5663"
         },
         "title": {
          "font": {
           "color": "#4D5663"
          },
          "text": ""
         },
         "zerolinecolor": "#E1E5ED"
        },
        "yaxis4": {
         "anchor": "x4",
         "domain": [
          0.8025,
          1
         ],
         "gridcolor": "#E1E5ED",
         "showgrid": false,
         "tickfont": {
          "color": "#4D5663"
         },
         "title": {
          "font": {
           "color": "#4D5663"
          },
          "text": ""
         },
         "zerolinecolor": "#E1E5ED"
        },
        "yaxis5": {
         "anchor": "x5",
         "domain": [
          0.535,
          0.7325
         ],
         "gridcolor": "#E1E5ED",
         "showgrid": false,
         "tickfont": {
          "color": "#4D5663"
         },
         "title": {
          "font": {
           "color": "#4D5663"
          },
          "text": ""
         },
         "zerolinecolor": "#E1E5ED"
        },
        "yaxis6": {
         "anchor": "x6",
         "domain": [
          0.535,
          0.7325
         ],
         "gridcolor": "#E1E5ED",
         "showgrid": false,
         "tickfont": {
          "color": "#4D5663"
         },
         "title": {
          "font": {
           "color": "#4D5663"
          },
          "text": ""
         },
         "zerolinecolor": "#E1E5ED"
        },
        "yaxis7": {
         "anchor": "x7",
         "domain": [
          0.535,
          0.7325
         ],
         "gridcolor": "#E1E5ED",
         "showgrid": false,
         "tickfont": {
          "color": "#4D5663"
         },
         "title": {
          "font": {
           "color": "#4D5663"
          },
          "text": ""
         },
         "zerolinecolor": "#E1E5ED"
        },
        "yaxis8": {
         "anchor": "x8",
         "domain": [
          0.535,
          0.7325
         ],
         "gridcolor": "#E1E5ED",
         "showgrid": false,
         "tickfont": {
          "color": "#4D5663"
         },
         "title": {
          "font": {
           "color": "#4D5663"
          },
          "text": ""
         },
         "zerolinecolor": "#E1E5ED"
        },
        "yaxis9": {
         "anchor": "x9",
         "domain": [
          0.2675,
          0.465
         ],
         "gridcolor": "#E1E5ED",
         "showgrid": false,
         "tickfont": {
          "color": "#4D5663"
         },
         "title": {
          "font": {
           "color": "#4D5663"
          },
          "text": ""
         },
         "zerolinecolor": "#E1E5ED"
        }
       }
      },
      "text/html": [
       "<div>                            <div id=\"c2219145-1c01-4000-8831-ea359877435e\" class=\"plotly-graph-div\" style=\"height:525px; width:100%;\"></div>            <script type=\"text/javascript\">                require([\"plotly\"], function(Plotly) {                    window.PLOTLYENV=window.PLOTLYENV || {};\n",
       "                    window.PLOTLYENV.BASE_URL='https://plot.ly';                                    if (document.getElementById(\"c2219145-1c01-4000-8831-ea359877435e\")) {                    Plotly.newPlot(                        \"c2219145-1c01-4000-8831-ea359877435e\",                        [{\"histfunc\": \"count\", \"histnorm\": \"\", \"marker\": {\"color\": \"rgba(255, 153, 51, 1.0)\", \"line\": {\"color\": \"#4D5663\", \"width\": 1.3}}, \"name\": \"A\", \"nbinsx\": 10, \"opacity\": 0.8, \"orientation\": \"v\", \"type\": \"histogram\", \"x\": [1.461893770697725, -2.031160136012203, 0.9383409670828389, -1.0813533287292119, 0.06490918815450783, 1.8950072332017274, -0.8714365596373268, -0.13074620114977334, -1.0923246928318198, -0.3760998942311332, -0.5361900499629562, 0.42029273811322426, 0.879026444738448, 0.17853057276926443, -1.4226047615565995, -0.38553936634836816, 0.9254705828347399, 0.8974413892643344, 1.3593724162723089, 0.41746771734852006, -0.1947229051061254, -0.4999893146137153, -0.4502113162411071, -1.1360014209107259, 0.1844178473890677, 1.5753255655453786, 0.4753674301421128, 1.635707798585372, -1.9187025770275, -0.19910344350673406, 2.285995703848697, -0.18915231953896097, 1.0665423877986695, -0.7269122934267687, 0.36224915062873836, -1.5625689349152296, -1.1362220420755846, -0.529376570887139, -0.1934547257057624, -1.9720439485780432, -0.2710830596477481, -0.7385696963294917, -0.29410090049820914, -0.22419206878488449, 0.1508245116866706, -0.6057299795009865, 0.3191505714649677, -0.1976198986566658, 1.093282680008958, -1.0799453836674373, -0.3616335539043888, 1.6107952178764182, -0.5891018790468924, 0.7666351833383529, 0.32222045304544167, -1.6872013582758036, -0.3720711616276398, 1.3420408631947918, 0.4239471624717882, 0.48424327553353297, -1.5961692749707352, 0.5882171437466279, 0.6566669461687532, -1.9603468546639706, 0.42870138393368024, -0.1978041090111149, 0.05723177511114498, 0.4475509991023478, 0.662730871880016, -1.796202287216889, 0.7165184267275085, 0.3326216988143618, -0.8140493568522115, -1.247832137911998, 0.9859507943329427, 1.1948398652848742, -2.145947615545814, 0.5339270311517821, 0.10249930114413236, -0.8916324021834575, 0.41078863879970284, -0.49795290561896394, -1.155769242450663, 0.781716927247144, 1.6136963240432758, -0.7802444642438957, -1.492354210417422, 0.2299947473973307, 0.50259957066577, -0.16700157611497873, 0.8226788892451177, 2.982546810969779, 3.0055258787254777, 1.3661389107738293, 0.5470135690673502, 0.5968793086096759, -0.14023490153269502, -0.8605446276038548, -1.5963739249397044, -1.444803862861764], \"xaxis\": \"x\", \"yaxis\": \"y\"}, {\"line\": {\"color\": \"rgba(128, 128, 128, 1.0)\", \"dash\": \"solid\", \"shape\": \"linear\", \"width\": 1.3}, \"marker\": {\"size\": 2, \"symbol\": \"circle\"}, \"mode\": \"markers\", \"name\": \"A\", \"text\": \"\", \"type\": \"scatter\", \"x\": [0.034821286830913595, -0.18465032640783027, -0.14559546878046986, 0.5188969049323175, -0.13523853126955251, 0.4318092832469963, 0.4325114508880798, 0.8998324403091219, 0.9869125426600849, -0.8835232633714301, -2.3386192321621593, -1.6118761339264471, 0.10490498434779806, -0.11092067933578692, 0.1497009282397037, 0.21076101732022792, 0.39342478099064543, 0.09132770586791539, 0.2235968602504518, 0.5677210023540927, -1.0883412917672228, -1.8634393578585162, 2.071587906399981, -0.2801596751511832, 0.12974489483726634, -0.03866485905727695, -0.03705076808737536, 0.266357287604477, -0.7895322783647806, -0.1313370074749674, 0.29259171698821895, -0.9007171494773731, -0.44891096939266245, 1.008360713707377, 0.7022439971995453, -0.7388691932128125, -1.4161292923720754, 0.6474949831892831, 0.47941356849780564, -0.2226059661427326, 0.7618380699786111, -0.4477183007832323, -1.631693115173997, -0.09544522195089203, 0.38537878900500644, -1.6441145363155063, 0.21192444622315587, 0.4511506586037992, -0.48756326634889624, -0.21143097507909714, -0.5064990676682648, -1.0304321937806444, -0.019262704289807565, -1.604129921098689, -0.7383698476057221, 1.3744145867047832, -0.6875300541608018, -1.432387014408365, -1.0911982035031977, -0.13054703854233995, 1.1149311389889858, 0.9001591157267788, -0.027854177862134483, 1.2499369055465825, -1.2563150649919035, -1.090926431089866, -0.17154256161045614, 0.40402861851447225, -0.4517637786378383, -0.5959254526808988, -0.22125715901868098, 0.5929169086168804, -0.949141669608413, 1.1757531398322179, -2.0803217164995567, 1.4384986621172728, -2.855634131971656, 2.50215174769151, -0.6929526624471934, -1.6328247656936599, 0.2698539871691669, -0.07005116943214082, 1.6175284729997843, 0.320895211020274, 1.1316523527374969, 0.7552513179923331, -0.5942685588961929, -1.6287220322329163, -0.8798472555314089, -0.9907060380812681, 1.9345505655688178, -2.332218944909156, -1.056372116065171, 0.7409704824269928, -1.080315368386018, -0.8325915945468163, 1.9969983133617488, -1.0556709675869194, -0.4863793541163955, 1.0783741055559404], \"xaxis\": \"x2\", \"y\": [1.461893770697725, -2.031160136012203, 0.9383409670828389, -1.0813533287292119, 0.06490918815450783, 1.8950072332017274, -0.8714365596373268, -0.13074620114977334, -1.0923246928318198, -0.3760998942311332, -0.5361900499629562, 0.42029273811322426, 0.879026444738448, 0.17853057276926443, -1.4226047615565995, -0.38553936634836816, 0.9254705828347399, 0.8974413892643344, 1.3593724162723089, 0.41746771734852006, -0.1947229051061254, -0.4999893146137153, -0.4502113162411071, -1.1360014209107259, 0.1844178473890677, 1.5753255655453786, 0.4753674301421128, 1.635707798585372, -1.9187025770275, -0.19910344350673406, 2.285995703848697, -0.18915231953896097, 1.0665423877986695, -0.7269122934267687, 0.36224915062873836, -1.5625689349152296, -1.1362220420755846, -0.529376570887139, -0.1934547257057624, -1.9720439485780432, -0.2710830596477481, -0.7385696963294917, -0.29410090049820914, -0.22419206878488449, 0.1508245116866706, -0.6057299795009865, 0.3191505714649677, -0.1976198986566658, 1.093282680008958, -1.0799453836674373, -0.3616335539043888, 1.6107952178764182, -0.5891018790468924, 0.7666351833383529, 0.32222045304544167, -1.6872013582758036, -0.3720711616276398, 1.3420408631947918, 0.4239471624717882, 0.48424327553353297, -1.5961692749707352, 0.5882171437466279, 0.6566669461687532, -1.9603468546639706, 0.42870138393368024, -0.1978041090111149, 0.05723177511114498, 0.4475509991023478, 0.662730871880016, -1.796202287216889, 0.7165184267275085, 0.3326216988143618, -0.8140493568522115, -1.247832137911998, 0.9859507943329427, 1.1948398652848742, -2.145947615545814, 0.5339270311517821, 0.10249930114413236, -0.8916324021834575, 0.41078863879970284, -0.49795290561896394, -1.155769242450663, 0.781716927247144, 1.6136963240432758, -0.7802444642438957, -1.492354210417422, 0.2299947473973307, 0.50259957066577, -0.16700157611497873, 0.8226788892451177, 2.982546810969779, 3.0055258787254777, 1.3661389107738293, 0.5470135690673502, 0.5968793086096759, -0.14023490153269502, -0.8605446276038548, -1.5963739249397044, -1.444803862861764], \"yaxis\": \"y2\"}, {\"line\": {\"color\": \"rgba(128, 128, 128, 1.0)\", \"dash\": \"solid\", \"shape\": \"linear\", \"width\": 1.3}, \"marker\": {\"size\": 2, \"symbol\": \"circle\"}, \"mode\": \"markers\", \"name\": \"A\", \"text\": \"\", \"type\": \"scatter\", \"x\": [-1.3006439390419213, -1.5869428894916857, 1.6584156322277297, 1.1454895984758002, 0.26305874170738214, 0.18169075545795593, 2.049882895147626, 0.9751021242023927, 0.49763035924651966, -0.2699429415928433, -0.12043157616536791, 1.4374498713562214, 0.20900235766331843, 0.6556675674759445, 1.8973297280603958, 0.8427255482081416, 1.7082547812460323, 0.017750429306643205, 0.4500499325582488, -0.8538785358257017, 0.06917465193911768, -0.8457428228603481, -0.39300748236144395, -0.049818025916309176, 0.3420255676571834, 0.6466404435436525, -0.20063447291984013, -1.508460519468425, -1.0609201044304024, -0.12145840112153206, -0.20405058682302613, -1.881772150723473, 2.3835496250831536, 0.17966391898446107, -0.617124798099804, -1.6380122871760459, -0.4579325651942999, -0.8902809656395981, -1.225913121433058, 0.3381736947527816, -0.35181278122228776, 1.1708823544188276, 0.06242773220790924, 0.605154909058938, 1.194665184679022, 1.799703514124367, 1.0415031625574367, 0.5172321467735154, 1.2326986939789457, 0.5767693425208671, -0.0810318735326804, -1.181117253724347, 0.591798697179144, 0.023927778208549265, 1.3308313195178632, 1.7876580854721933, 0.2451964611789251, 1.2118584926223146, 0.9248978298938114, 0.6288037532284884, -0.9100452231862963, 1.220958319165513, -1.6651481255255152, -0.5539365894845161, 0.476772125380621, -0.29208337178506877, -0.19850216763491732, -0.3700241457675619, 0.06157123485305369, -0.4050632037003498, 0.21639500673184853, -0.46978851354341283, 0.40580983625952316, 0.1764522083787632, 0.38955028416042864, 0.9408047258772444, -0.18997999970519125, -1.9449951189881642, -1.1208996812792928, -0.08301743154608002, 0.7046389281930101, 0.6288921709972379, 0.6154250225584101, 0.6081757181318705, 0.11518836746403047, -0.07670629986561184, 0.9372166992044042, 0.15515784635335986, -0.5456248795256357, 1.5648090855472, 0.25847007703544206, 0.15517839738747133, 0.7837265744617542, -0.8105920661399413, -0.5514826145921592, -1.2759353061903793, 2.141008033228579, -0.34105574668218674, 1.2630246771691185, 0.5154608994903594], \"xaxis\": \"x3\", \"y\": [1.461893770697725, -2.031160136012203, 0.9383409670828389, -1.0813533287292119, 0.06490918815450783, 1.8950072332017274, -0.8714365596373268, -0.13074620114977334, -1.0923246928318198, -0.3760998942311332, -0.5361900499629562, 0.42029273811322426, 0.879026444738448, 0.17853057276926443, -1.4226047615565995, -0.38553936634836816, 0.9254705828347399, 0.8974413892643344, 1.3593724162723089, 0.41746771734852006, -0.1947229051061254, -0.4999893146137153, -0.4502113162411071, -1.1360014209107259, 0.1844178473890677, 1.5753255655453786, 0.4753674301421128, 1.635707798585372, -1.9187025770275, -0.19910344350673406, 2.285995703848697, -0.18915231953896097, 1.0665423877986695, -0.7269122934267687, 0.36224915062873836, -1.5625689349152296, -1.1362220420755846, -0.529376570887139, -0.1934547257057624, -1.9720439485780432, -0.2710830596477481, -0.7385696963294917, -0.29410090049820914, -0.22419206878488449, 0.1508245116866706, -0.6057299795009865, 0.3191505714649677, -0.1976198986566658, 1.093282680008958, -1.0799453836674373, -0.3616335539043888, 1.6107952178764182, -0.5891018790468924, 0.7666351833383529, 0.32222045304544167, -1.6872013582758036, -0.3720711616276398, 1.3420408631947918, 0.4239471624717882, 0.48424327553353297, -1.5961692749707352, 0.5882171437466279, 0.6566669461687532, -1.9603468546639706, 0.42870138393368024, -0.1978041090111149, 0.05723177511114498, 0.4475509991023478, 0.662730871880016, -1.796202287216889, 0.7165184267275085, 0.3326216988143618, -0.8140493568522115, -1.247832137911998, 0.9859507943329427, 1.1948398652848742, -2.145947615545814, 0.5339270311517821, 0.10249930114413236, -0.8916324021834575, 0.41078863879970284, -0.49795290561896394, -1.155769242450663, 0.781716927247144, 1.6136963240432758, -0.7802444642438957, -1.492354210417422, 0.2299947473973307, 0.50259957066577, -0.16700157611497873, 0.8226788892451177, 2.982546810969779, 3.0055258787254777, 1.3661389107738293, 0.5470135690673502, 0.5968793086096759, -0.14023490153269502, -0.8605446276038548, -1.5963739249397044, -1.444803862861764], \"yaxis\": \"y3\"}, {\"line\": {\"color\": \"rgba(128, 128, 128, 1.0)\", \"dash\": \"solid\", \"shape\": \"linear\", \"width\": 1.3}, \"marker\": {\"size\": 2, \"symbol\": \"circle\"}, \"mode\": \"markers\", \"name\": \"A\", \"text\": \"\", \"type\": \"scatter\", \"x\": [0.920800150226663, -1.31273310100431, -0.2506892666572051, -0.14472307540744628, -1.2671642900969546, -0.7208061556399158, -1.0978180728006743, 1.7102122683250764, 0.04282512146048713, -0.9056334644821414, -0.050215363787716745, 0.2284892428698987, -0.3414428231936035, 0.005451354144702166, -0.12508070732114435, -0.8798089672156296, 0.7449764381376779, 1.5493563424845054, 0.03306304488813176, 0.2146737740544726, 0.8651591037433622, 0.8125359794252041, -0.14569911963245671, -1.2458812204011198, 0.5834898622859467, 0.3100124177206263, 0.6272890177863465, -0.29748883022681855, -0.5612135998486016, -1.9551407722741936, 0.8886050149854016, -0.17185888595459797, 1.4666887549456646, 1.0881281001401026, -0.43424006988001335, 0.8057521728223583, -0.6940338012932591, -1.2896955806292065, -0.3596415442686988, 0.5149363316465175, -0.5301961460413503, -0.20401316513175657, -0.5396877882312896, 0.02562575012816123, 0.7618331667986569, 1.5094278940479409, 0.1545270842243974, 0.31791293745335153, -1.1215459801368062, -0.7317589899206769, 0.9081389449079212, 0.2637652289834318, 0.4683325836298606, -0.7138212114938386, 0.17289276195379755, -0.5633287591229841, 0.40064279577768613, -0.4251129861233925, 0.7413545596064026, -0.16076512298317275, 0.794455744262156, -1.6701165173213774, 0.7879498653508518, 1.0848592821401286, 1.524091492332574, -0.3462545381815603, -1.3096185877625999, -0.21566138689762632, -0.08197268678068677, 0.07742914487239234, -0.025368265087929606, -1.3432087948898332, -0.49084669754529275, -1.0072800160286641, -1.5470280154425398, 1.0161098110676825, 0.0643882130791756, -0.18467387945435096, 1.0371198404394766, 0.887929312910137, -0.3055252760885695, 0.8115488749915565, 1.5485055022421659, -1.1159776392689102, 1.0733571335849768, 1.672702413665626, 0.1932863446240364, -0.3836004921065508, 0.6620887056422244, 0.386748415432396, 0.12411791182120754, 1.119767331714733, -0.9831014734559389, 0.40407160429411626, -0.030106735843152228, 0.16912959026382893, 0.8779644568785554, -1.4129792359828843, 0.6302328966401511, -0.1536331124963864], \"xaxis\": \"x4\", \"y\": [1.461893770697725, -2.031160136012203, 0.9383409670828389, -1.0813533287292119, 0.06490918815450783, 1.8950072332017274, -0.8714365596373268, -0.13074620114977334, -1.0923246928318198, -0.3760998942311332, -0.5361900499629562, 0.42029273811322426, 0.879026444738448, 0.17853057276926443, -1.4226047615565995, -0.38553936634836816, 0.9254705828347399, 0.8974413892643344, 1.3593724162723089, 0.41746771734852006, -0.1947229051061254, -0.4999893146137153, -0.4502113162411071, -1.1360014209107259, 0.1844178473890677, 1.5753255655453786, 0.4753674301421128, 1.635707798585372, -1.9187025770275, -0.19910344350673406, 2.285995703848697, -0.18915231953896097, 1.0665423877986695, -0.7269122934267687, 0.36224915062873836, -1.5625689349152296, -1.1362220420755846, -0.529376570887139, -0.1934547257057624, -1.9720439485780432, -0.2710830596477481, -0.7385696963294917, -0.29410090049820914, -0.22419206878488449, 0.1508245116866706, -0.6057299795009865, 0.3191505714649677, -0.1976198986566658, 1.093282680008958, -1.0799453836674373, -0.3616335539043888, 1.6107952178764182, -0.5891018790468924, 0.7666351833383529, 0.32222045304544167, -1.6872013582758036, -0.3720711616276398, 1.3420408631947918, 0.4239471624717882, 0.48424327553353297, -1.5961692749707352, 0.5882171437466279, 0.6566669461687532, -1.9603468546639706, 0.42870138393368024, -0.1978041090111149, 0.05723177511114498, 0.4475509991023478, 0.662730871880016, -1.796202287216889, 0.7165184267275085, 0.3326216988143618, -0.8140493568522115, -1.247832137911998, 0.9859507943329427, 1.1948398652848742, -2.145947615545814, 0.5339270311517821, 0.10249930114413236, -0.8916324021834575, 0.41078863879970284, -0.49795290561896394, -1.155769242450663, 0.781716927247144, 1.6136963240432758, -0.7802444642438957, -1.492354210417422, 0.2299947473973307, 0.50259957066577, -0.16700157611497873, 0.8226788892451177, 2.982546810969779, 3.0055258787254777, 1.3661389107738293, 0.5470135690673502, 0.5968793086096759, -0.14023490153269502, -0.8605446276038548, -1.5963739249397044, -1.444803862861764], \"yaxis\": \"y4\"}, {\"line\": {\"color\": \"rgba(128, 128, 128, 1.0)\", \"dash\": \"solid\", \"shape\": \"linear\", \"width\": 1.3}, \"marker\": {\"size\": 2, \"symbol\": \"circle\"}, \"mode\": \"markers\", \"name\": \"B\", \"text\": \"\", \"type\": \"scatter\", \"x\": [1.461893770697725, -2.031160136012203, 0.9383409670828389, -1.0813533287292119, 0.06490918815450783, 1.8950072332017274, -0.8714365596373268, -0.13074620114977334, -1.0923246928318198, -0.3760998942311332, -0.5361900499629562, 0.42029273811322426, 0.879026444738448, 0.17853057276926443, -1.4226047615565995, -0.38553936634836816, 0.9254705828347399, 0.8974413892643344, 1.3593724162723089, 0.41746771734852006, -0.1947229051061254, -0.4999893146137153, -0.4502113162411071, -1.1360014209107259, 0.1844178473890677, 1.5753255655453786, 0.4753674301421128, 1.635707798585372, -1.9187025770275, -0.19910344350673406, 2.285995703848697, -0.18915231953896097, 1.0665423877986695, -0.7269122934267687, 0.36224915062873836, -1.5625689349152296, -1.1362220420755846, -0.529376570887139, -0.1934547257057624, -1.9720439485780432, -0.2710830596477481, -0.7385696963294917, -0.29410090049820914, -0.22419206878488449, 0.1508245116866706, -0.6057299795009865, 0.3191505714649677, -0.1976198986566658, 1.093282680008958, -1.0799453836674373, -0.3616335539043888, 1.6107952178764182, -0.5891018790468924, 0.7666351833383529, 0.32222045304544167, -1.6872013582758036, -0.3720711616276398, 1.3420408631947918, 0.4239471624717882, 0.48424327553353297, -1.5961692749707352, 0.5882171437466279, 0.6566669461687532, -1.9603468546639706, 0.42870138393368024, -0.1978041090111149, 0.05723177511114498, 0.4475509991023478, 0.662730871880016, -1.796202287216889, 0.7165184267275085, 0.3326216988143618, -0.8140493568522115, -1.247832137911998, 0.9859507943329427, 1.1948398652848742, -2.145947615545814, 0.5339270311517821, 0.10249930114413236, -0.8916324021834575, 0.41078863879970284, -0.49795290561896394, -1.155769242450663, 0.781716927247144, 1.6136963240432758, -0.7802444642438957, -1.492354210417422, 0.2299947473973307, 0.50259957066577, -0.16700157611497873, 0.8226788892451177, 2.982546810969779, 3.0055258787254777, 1.3661389107738293, 0.5470135690673502, 0.5968793086096759, -0.14023490153269502, -0.8605446276038548, -1.5963739249397044, -1.444803862861764], \"xaxis\": \"x5\", \"y\": [0.034821286830913595, -0.18465032640783027, -0.14559546878046986, 0.5188969049323175, -0.13523853126955251, 0.4318092832469963, 0.4325114508880798, 0.8998324403091219, 0.9869125426600849, -0.8835232633714301, -2.3386192321621593, -1.6118761339264471, 0.10490498434779806, -0.11092067933578692, 0.1497009282397037, 0.21076101732022792, 0.39342478099064543, 0.09132770586791539, 0.2235968602504518, 0.5677210023540927, -1.0883412917672228, -1.8634393578585162, 2.071587906399981, -0.2801596751511832, 0.12974489483726634, -0.03866485905727695, -0.03705076808737536, 0.266357287604477, -0.7895322783647806, -0.1313370074749674, 0.29259171698821895, -0.9007171494773731, -0.44891096939266245, 1.008360713707377, 0.7022439971995453, -0.7388691932128125, -1.4161292923720754, 0.6474949831892831, 0.47941356849780564, -0.2226059661427326, 0.7618380699786111, -0.4477183007832323, -1.631693115173997, -0.09544522195089203, 0.38537878900500644, -1.6441145363155063, 0.21192444622315587, 0.4511506586037992, -0.48756326634889624, -0.21143097507909714, -0.5064990676682648, -1.0304321937806444, -0.019262704289807565, -1.604129921098689, -0.7383698476057221, 1.3744145867047832, -0.6875300541608018, -1.432387014408365, -1.0911982035031977, -0.13054703854233995, 1.1149311389889858, 0.9001591157267788, -0.027854177862134483, 1.2499369055465825, -1.2563150649919035, -1.090926431089866, -0.17154256161045614, 0.40402861851447225, -0.4517637786378383, -0.5959254526808988, -0.22125715901868098, 0.5929169086168804, -0.949141669608413, 1.1757531398322179, -2.0803217164995567, 1.4384986621172728, -2.855634131971656, 2.50215174769151, -0.6929526624471934, -1.6328247656936599, 0.2698539871691669, -0.07005116943214082, 1.6175284729997843, 0.320895211020274, 1.1316523527374969, 0.7552513179923331, -0.5942685588961929, -1.6287220322329163, -0.8798472555314089, -0.9907060380812681, 1.9345505655688178, -2.332218944909156, -1.056372116065171, 0.7409704824269928, -1.080315368386018, -0.8325915945468163, 1.9969983133617488, -1.0556709675869194, -0.4863793541163955, 1.0783741055559404], \"yaxis\": \"y5\"}, {\"histfunc\": \"count\", \"histnorm\": \"\", \"marker\": {\"color\": \"rgba(55, 128, 191, 1.0)\", \"line\": {\"color\": \"#4D5663\", \"width\": 1.3}}, \"name\": \"B\", \"nbinsx\": 10, \"opacity\": 0.8, \"orientation\": \"v\", \"type\": \"histogram\", \"x\": [0.034821286830913595, -0.18465032640783027, -0.14559546878046986, 0.5188969049323175, -0.13523853126955251, 0.4318092832469963, 0.4325114508880798, 0.8998324403091219, 0.9869125426600849, -0.8835232633714301, -2.3386192321621593, -1.6118761339264471, 0.10490498434779806, -0.11092067933578692, 0.1497009282397037, 0.21076101732022792, 0.39342478099064543, 0.09132770586791539, 0.2235968602504518, 0.5677210023540927, -1.0883412917672228, -1.8634393578585162, 2.071587906399981, -0.2801596751511832, 0.12974489483726634, -0.03866485905727695, -0.03705076808737536, 0.266357287604477, -0.7895322783647806, -0.1313370074749674, 0.29259171698821895, -0.9007171494773731, -0.44891096939266245, 1.008360713707377, 0.7022439971995453, -0.7388691932128125, -1.4161292923720754, 0.6474949831892831, 0.47941356849780564, -0.2226059661427326, 0.7618380699786111, -0.4477183007832323, -1.631693115173997, -0.09544522195089203, 0.38537878900500644, -1.6441145363155063, 0.21192444622315587, 0.4511506586037992, -0.48756326634889624, -0.21143097507909714, -0.5064990676682648, -1.0304321937806444, -0.019262704289807565, -1.604129921098689, -0.7383698476057221, 1.3744145867047832, -0.6875300541608018, -1.432387014408365, -1.0911982035031977, -0.13054703854233995, 1.1149311389889858, 0.9001591157267788, -0.027854177862134483, 1.2499369055465825, -1.2563150649919035, -1.090926431089866, -0.17154256161045614, 0.40402861851447225, -0.4517637786378383, -0.5959254526808988, -0.22125715901868098, 0.5929169086168804, -0.949141669608413, 1.1757531398322179, -2.0803217164995567, 1.4384986621172728, -2.855634131971656, 2.50215174769151, -0.6929526624471934, -1.6328247656936599, 0.2698539871691669, -0.07005116943214082, 1.6175284729997843, 0.320895211020274, 1.1316523527374969, 0.7552513179923331, -0.5942685588961929, -1.6287220322329163, -0.8798472555314089, -0.9907060380812681, 1.9345505655688178, -2.332218944909156, -1.056372116065171, 0.7409704824269928, -1.080315368386018, -0.8325915945468163, 1.9969983133617488, -1.0556709675869194, -0.4863793541163955, 1.0783741055559404], \"xaxis\": \"x6\", \"yaxis\": \"y6\"}, {\"line\": {\"color\": \"rgba(128, 128, 128, 1.0)\", \"dash\": \"solid\", \"shape\": \"linear\", \"width\": 1.3}, \"marker\": {\"size\": 2, \"symbol\": \"circle\"}, \"mode\": \"markers\", \"name\": \"B\", \"text\": \"\", \"type\": \"scatter\", \"x\": [-1.3006439390419213, -1.5869428894916857, 1.6584156322277297, 1.1454895984758002, 0.26305874170738214, 0.18169075545795593, 2.049882895147626, 0.9751021242023927, 0.49763035924651966, -0.2699429415928433, -0.12043157616536791, 1.4374498713562214, 0.20900235766331843, 0.6556675674759445, 1.8973297280603958, 0.8427255482081416, 1.7082547812460323, 0.017750429306643205, 0.4500499325582488, -0.8538785358257017, 0.06917465193911768, -0.8457428228603481, -0.39300748236144395, -0.049818025916309176, 0.3420255676571834, 0.6466404435436525, -0.20063447291984013, -1.508460519468425, -1.0609201044304024, -0.12145840112153206, -0.20405058682302613, -1.881772150723473, 2.3835496250831536, 0.17966391898446107, -0.617124798099804, -1.6380122871760459, -0.4579325651942999, -0.8902809656395981, -1.225913121433058, 0.3381736947527816, -0.35181278122228776, 1.1708823544188276, 0.06242773220790924, 0.605154909058938, 1.194665184679022, 1.799703514124367, 1.0415031625574367, 0.5172321467735154, 1.2326986939789457, 0.5767693425208671, -0.0810318735326804, -1.181117253724347, 0.591798697179144, 0.023927778208549265, 1.3308313195178632, 1.7876580854721933, 0.2451964611789251, 1.2118584926223146, 0.9248978298938114, 0.6288037532284884, -0.9100452231862963, 1.220958319165513, -1.6651481255255152, -0.5539365894845161, 0.476772125380621, -0.29208337178506877, -0.19850216763491732, -0.3700241457675619, 0.06157123485305369, -0.4050632037003498, 0.21639500673184853, -0.46978851354341283, 0.40580983625952316, 0.1764522083787632, 0.38955028416042864, 0.9408047258772444, -0.18997999970519125, -1.9449951189881642, -1.1208996812792928, -0.08301743154608002, 0.7046389281930101, 0.6288921709972379, 0.6154250225584101, 0.6081757181318705, 0.11518836746403047, -0.07670629986561184, 0.9372166992044042, 0.15515784635335986, -0.5456248795256357, 1.5648090855472, 0.25847007703544206, 0.15517839738747133, 0.7837265744617542, -0.8105920661399413, -0.5514826145921592, -1.2759353061903793, 2.141008033228579, -0.34105574668218674, 1.2630246771691185, 0.5154608994903594], \"xaxis\": \"x7\", \"y\": [0.034821286830913595, -0.18465032640783027, -0.14559546878046986, 0.5188969049323175, -0.13523853126955251, 0.4318092832469963, 0.4325114508880798, 0.8998324403091219, 0.9869125426600849, -0.8835232633714301, -2.3386192321621593, -1.6118761339264471, 0.10490498434779806, -0.11092067933578692, 0.1497009282397037, 0.21076101732022792, 0.39342478099064543, 0.09132770586791539, 0.2235968602504518, 0.5677210023540927, -1.0883412917672228, -1.8634393578585162, 2.071587906399981, -0.2801596751511832, 0.12974489483726634, -0.03866485905727695, -0.03705076808737536, 0.266357287604477, -0.7895322783647806, -0.1313370074749674, 0.29259171698821895, -0.9007171494773731, -0.44891096939266245, 1.008360713707377, 0.7022439971995453, -0.7388691932128125, -1.4161292923720754, 0.6474949831892831, 0.47941356849780564, -0.2226059661427326, 0.7618380699786111, -0.4477183007832323, -1.631693115173997, -0.09544522195089203, 0.38537878900500644, -1.6441145363155063, 0.21192444622315587, 0.4511506586037992, -0.48756326634889624, -0.21143097507909714, -0.5064990676682648, -1.0304321937806444, -0.019262704289807565, -1.604129921098689, -0.7383698476057221, 1.3744145867047832, -0.6875300541608018, -1.432387014408365, -1.0911982035031977, -0.13054703854233995, 1.1149311389889858, 0.9001591157267788, -0.027854177862134483, 1.2499369055465825, -1.2563150649919035, -1.090926431089866, -0.17154256161045614, 0.40402861851447225, -0.4517637786378383, -0.5959254526808988, -0.22125715901868098, 0.5929169086168804, -0.949141669608413, 1.1757531398322179, -2.0803217164995567, 1.4384986621172728, -2.855634131971656, 2.50215174769151, -0.6929526624471934, -1.6328247656936599, 0.2698539871691669, -0.07005116943214082, 1.6175284729997843, 0.320895211020274, 1.1316523527374969, 0.7552513179923331, -0.5942685588961929, -1.6287220322329163, -0.8798472555314089, -0.9907060380812681, 1.9345505655688178, -2.332218944909156, -1.056372116065171, 0.7409704824269928, -1.080315368386018, -0.8325915945468163, 1.9969983133617488, -1.0556709675869194, -0.4863793541163955, 1.0783741055559404], \"yaxis\": \"y7\"}, {\"line\": {\"color\": \"rgba(128, 128, 128, 1.0)\", \"dash\": \"solid\", \"shape\": \"linear\", \"width\": 1.3}, \"marker\": {\"size\": 2, \"symbol\": \"circle\"}, \"mode\": \"markers\", \"name\": \"B\", \"text\": \"\", \"type\": \"scatter\", \"x\": [0.920800150226663, -1.31273310100431, -0.2506892666572051, -0.14472307540744628, -1.2671642900969546, -0.7208061556399158, -1.0978180728006743, 1.7102122683250764, 0.04282512146048713, -0.9056334644821414, -0.050215363787716745, 0.2284892428698987, -0.3414428231936035, 0.005451354144702166, -0.12508070732114435, -0.8798089672156296, 0.7449764381376779, 1.5493563424845054, 0.03306304488813176, 0.2146737740544726, 0.8651591037433622, 0.8125359794252041, -0.14569911963245671, -1.2458812204011198, 0.5834898622859467, 0.3100124177206263, 0.6272890177863465, -0.29748883022681855, -0.5612135998486016, -1.9551407722741936, 0.8886050149854016, -0.17185888595459797, 1.4666887549456646, 1.0881281001401026, -0.43424006988001335, 0.8057521728223583, -0.6940338012932591, -1.2896955806292065, -0.3596415442686988, 0.5149363316465175, -0.5301961460413503, -0.20401316513175657, -0.5396877882312896, 0.02562575012816123, 0.7618331667986569, 1.5094278940479409, 0.1545270842243974, 0.31791293745335153, -1.1215459801368062, -0.7317589899206769, 0.9081389449079212, 0.2637652289834318, 0.4683325836298606, -0.7138212114938386, 0.17289276195379755, -0.5633287591229841, 0.40064279577768613, -0.4251129861233925, 0.7413545596064026, -0.16076512298317275, 0.794455744262156, -1.6701165173213774, 0.7879498653508518, 1.0848592821401286, 1.524091492332574, -0.3462545381815603, -1.3096185877625999, -0.21566138689762632, -0.08197268678068677, 0.07742914487239234, -0.025368265087929606, -1.3432087948898332, -0.49084669754529275, -1.0072800160286641, -1.5470280154425398, 1.0161098110676825, 0.0643882130791756, -0.18467387945435096, 1.0371198404394766, 0.887929312910137, -0.3055252760885695, 0.8115488749915565, 1.5485055022421659, -1.1159776392689102, 1.0733571335849768, 1.672702413665626, 0.1932863446240364, -0.3836004921065508, 0.6620887056422244, 0.386748415432396, 0.12411791182120754, 1.119767331714733, -0.9831014734559389, 0.40407160429411626, -0.030106735843152228, 0.16912959026382893, 0.8779644568785554, -1.4129792359828843, 0.6302328966401511, -0.1536331124963864], \"xaxis\": \"x8\", \"y\": [0.034821286830913595, -0.18465032640783027, -0.14559546878046986, 0.5188969049323175, -0.13523853126955251, 0.4318092832469963, 0.4325114508880798, 0.8998324403091219, 0.9869125426600849, -0.8835232633714301, -2.3386192321621593, -1.6118761339264471, 0.10490498434779806, -0.11092067933578692, 0.1497009282397037, 0.21076101732022792, 0.39342478099064543, 0.09132770586791539, 0.2235968602504518, 0.5677210023540927, -1.0883412917672228, -1.8634393578585162, 2.071587906399981, -0.2801596751511832, 0.12974489483726634, -0.03866485905727695, -0.03705076808737536, 0.266357287604477, -0.7895322783647806, -0.1313370074749674, 0.29259171698821895, -0.9007171494773731, -0.44891096939266245, 1.008360713707377, 0.7022439971995453, -0.7388691932128125, -1.4161292923720754, 0.6474949831892831, 0.47941356849780564, -0.2226059661427326, 0.7618380699786111, -0.4477183007832323, -1.631693115173997, -0.09544522195089203, 0.38537878900500644, -1.6441145363155063, 0.21192444622315587, 0.4511506586037992, -0.48756326634889624, -0.21143097507909714, -0.5064990676682648, -1.0304321937806444, -0.019262704289807565, -1.604129921098689, -0.7383698476057221, 1.3744145867047832, -0.6875300541608018, -1.432387014408365, -1.0911982035031977, -0.13054703854233995, 1.1149311389889858, 0.9001591157267788, -0.027854177862134483, 1.2499369055465825, -1.2563150649919035, -1.090926431089866, -0.17154256161045614, 0.40402861851447225, -0.4517637786378383, -0.5959254526808988, -0.22125715901868098, 0.5929169086168804, -0.949141669608413, 1.1757531398322179, -2.0803217164995567, 1.4384986621172728, -2.855634131971656, 2.50215174769151, -0.6929526624471934, -1.6328247656936599, 0.2698539871691669, -0.07005116943214082, 1.6175284729997843, 0.320895211020274, 1.1316523527374969, 0.7552513179923331, -0.5942685588961929, -1.6287220322329163, -0.8798472555314089, -0.9907060380812681, 1.9345505655688178, -2.332218944909156, -1.056372116065171, 0.7409704824269928, -1.080315368386018, -0.8325915945468163, 1.9969983133617488, -1.0556709675869194, -0.4863793541163955, 1.0783741055559404], \"yaxis\": \"y8\"}, {\"line\": {\"color\": \"rgba(128, 128, 128, 1.0)\", \"dash\": \"solid\", \"shape\": \"linear\", \"width\": 1.3}, \"marker\": {\"size\": 2, \"symbol\": \"circle\"}, \"mode\": \"markers\", \"name\": \"C\", \"text\": \"\", \"type\": \"scatter\", \"x\": [1.461893770697725, -2.031160136012203, 0.9383409670828389, -1.0813533287292119, 0.06490918815450783, 1.8950072332017274, -0.8714365596373268, -0.13074620114977334, -1.0923246928318198, -0.3760998942311332, -0.5361900499629562, 0.42029273811322426, 0.879026444738448, 0.17853057276926443, -1.4226047615565995, -0.38553936634836816, 0.9254705828347399, 0.8974413892643344, 1.3593724162723089, 0.41746771734852006, -0.1947229051061254, -0.4999893146137153, -0.4502113162411071, -1.1360014209107259, 0.1844178473890677, 1.5753255655453786, 0.4753674301421128, 1.635707798585372, -1.9187025770275, -0.19910344350673406, 2.285995703848697, -0.18915231953896097, 1.0665423877986695, -0.7269122934267687, 0.36224915062873836, -1.5625689349152296, -1.1362220420755846, -0.529376570887139, -0.1934547257057624, -1.9720439485780432, -0.2710830596477481, -0.7385696963294917, -0.29410090049820914, -0.22419206878488449, 0.1508245116866706, -0.6057299795009865, 0.3191505714649677, -0.1976198986566658, 1.093282680008958, -1.0799453836674373, -0.3616335539043888, 1.6107952178764182, -0.5891018790468924, 0.7666351833383529, 0.32222045304544167, -1.6872013582758036, -0.3720711616276398, 1.3420408631947918, 0.4239471624717882, 0.48424327553353297, -1.5961692749707352, 0.5882171437466279, 0.6566669461687532, -1.9603468546639706, 0.42870138393368024, -0.1978041090111149, 0.05723177511114498, 0.4475509991023478, 0.662730871880016, -1.796202287216889, 0.7165184267275085, 0.3326216988143618, -0.8140493568522115, -1.247832137911998, 0.9859507943329427, 1.1948398652848742, -2.145947615545814, 0.5339270311517821, 0.10249930114413236, -0.8916324021834575, 0.41078863879970284, -0.49795290561896394, -1.155769242450663, 0.781716927247144, 1.6136963240432758, -0.7802444642438957, -1.492354210417422, 0.2299947473973307, 0.50259957066577, -0.16700157611497873, 0.8226788892451177, 2.982546810969779, 3.0055258787254777, 1.3661389107738293, 0.5470135690673502, 0.5968793086096759, -0.14023490153269502, -0.8605446276038548, -1.5963739249397044, -1.444803862861764], \"xaxis\": \"x9\", \"y\": [-1.3006439390419213, -1.5869428894916857, 1.6584156322277297, 1.1454895984758002, 0.26305874170738214, 0.18169075545795593, 2.049882895147626, 0.9751021242023927, 0.49763035924651966, -0.2699429415928433, -0.12043157616536791, 1.4374498713562214, 0.20900235766331843, 0.6556675674759445, 1.8973297280603958, 0.8427255482081416, 1.7082547812460323, 0.017750429306643205, 0.4500499325582488, -0.8538785358257017, 0.06917465193911768, -0.8457428228603481, -0.39300748236144395, -0.049818025916309176, 0.3420255676571834, 0.6466404435436525, -0.20063447291984013, -1.508460519468425, -1.0609201044304024, -0.12145840112153206, -0.20405058682302613, -1.881772150723473, 2.3835496250831536, 0.17966391898446107, -0.617124798099804, -1.6380122871760459, -0.4579325651942999, -0.8902809656395981, -1.225913121433058, 0.3381736947527816, -0.35181278122228776, 1.1708823544188276, 0.06242773220790924, 0.605154909058938, 1.194665184679022, 1.799703514124367, 1.0415031625574367, 0.5172321467735154, 1.2326986939789457, 0.5767693425208671, -0.0810318735326804, -1.181117253724347, 0.591798697179144, 0.023927778208549265, 1.3308313195178632, 1.7876580854721933, 0.2451964611789251, 1.2118584926223146, 0.9248978298938114, 0.6288037532284884, -0.9100452231862963, 1.220958319165513, -1.6651481255255152, -0.5539365894845161, 0.476772125380621, -0.29208337178506877, -0.19850216763491732, -0.3700241457675619, 0.06157123485305369, -0.4050632037003498, 0.21639500673184853, -0.46978851354341283, 0.40580983625952316, 0.1764522083787632, 0.38955028416042864, 0.9408047258772444, -0.18997999970519125, -1.9449951189881642, -1.1208996812792928, -0.08301743154608002, 0.7046389281930101, 0.6288921709972379, 0.6154250225584101, 0.6081757181318705, 0.11518836746403047, -0.07670629986561184, 0.9372166992044042, 0.15515784635335986, -0.5456248795256357, 1.5648090855472, 0.25847007703544206, 0.15517839738747133, 0.7837265744617542, -0.8105920661399413, -0.5514826145921592, -1.2759353061903793, 2.141008033228579, -0.34105574668218674, 1.2630246771691185, 0.5154608994903594], \"yaxis\": \"y9\"}, {\"line\": {\"color\": \"rgba(128, 128, 128, 1.0)\", \"dash\": \"solid\", \"shape\": \"linear\", \"width\": 1.3}, \"marker\": {\"size\": 2, \"symbol\": \"circle\"}, \"mode\": \"markers\", \"name\": \"C\", \"text\": \"\", \"type\": \"scatter\", \"x\": [0.034821286830913595, -0.18465032640783027, -0.14559546878046986, 0.5188969049323175, -0.13523853126955251, 0.4318092832469963, 0.4325114508880798, 0.8998324403091219, 0.9869125426600849, -0.8835232633714301, -2.3386192321621593, -1.6118761339264471, 0.10490498434779806, -0.11092067933578692, 0.1497009282397037, 0.21076101732022792, 0.39342478099064543, 0.09132770586791539, 0.2235968602504518, 0.5677210023540927, -1.0883412917672228, -1.8634393578585162, 2.071587906399981, -0.2801596751511832, 0.12974489483726634, -0.03866485905727695, -0.03705076808737536, 0.266357287604477, -0.7895322783647806, -0.1313370074749674, 0.29259171698821895, -0.9007171494773731, -0.44891096939266245, 1.008360713707377, 0.7022439971995453, -0.7388691932128125, -1.4161292923720754, 0.6474949831892831, 0.47941356849780564, -0.2226059661427326, 0.7618380699786111, -0.4477183007832323, -1.631693115173997, -0.09544522195089203, 0.38537878900500644, -1.6441145363155063, 0.21192444622315587, 0.4511506586037992, -0.48756326634889624, -0.21143097507909714, -0.5064990676682648, -1.0304321937806444, -0.019262704289807565, -1.604129921098689, -0.7383698476057221, 1.3744145867047832, -0.6875300541608018, -1.432387014408365, -1.0911982035031977, -0.13054703854233995, 1.1149311389889858, 0.9001591157267788, -0.027854177862134483, 1.2499369055465825, -1.2563150649919035, -1.090926431089866, -0.17154256161045614, 0.40402861851447225, -0.4517637786378383, -0.5959254526808988, -0.22125715901868098, 0.5929169086168804, -0.949141669608413, 1.1757531398322179, -2.0803217164995567, 1.4384986621172728, -2.855634131971656, 2.50215174769151, -0.6929526624471934, -1.6328247656936599, 0.2698539871691669, -0.07005116943214082, 1.6175284729997843, 0.320895211020274, 1.1316523527374969, 0.7552513179923331, -0.5942685588961929, -1.6287220322329163, -0.8798472555314089, -0.9907060380812681, 1.9345505655688178, -2.332218944909156, -1.056372116065171, 0.7409704824269928, -1.080315368386018, -0.8325915945468163, 1.9969983133617488, -1.0556709675869194, -0.4863793541163955, 1.0783741055559404], \"xaxis\": \"x10\", \"y\": [-1.3006439390419213, -1.5869428894916857, 1.6584156322277297, 1.1454895984758002, 0.26305874170738214, 0.18169075545795593, 2.049882895147626, 0.9751021242023927, 0.49763035924651966, -0.2699429415928433, -0.12043157616536791, 1.4374498713562214, 0.20900235766331843, 0.6556675674759445, 1.8973297280603958, 0.8427255482081416, 1.7082547812460323, 0.017750429306643205, 0.4500499325582488, -0.8538785358257017, 0.06917465193911768, -0.8457428228603481, -0.39300748236144395, -0.049818025916309176, 0.3420255676571834, 0.6466404435436525, -0.20063447291984013, -1.508460519468425, -1.0609201044304024, -0.12145840112153206, -0.20405058682302613, -1.881772150723473, 2.3835496250831536, 0.17966391898446107, -0.617124798099804, -1.6380122871760459, -0.4579325651942999, -0.8902809656395981, -1.225913121433058, 0.3381736947527816, -0.35181278122228776, 1.1708823544188276, 0.06242773220790924, 0.605154909058938, 1.194665184679022, 1.799703514124367, 1.0415031625574367, 0.5172321467735154, 1.2326986939789457, 0.5767693425208671, -0.0810318735326804, -1.181117253724347, 0.591798697179144, 0.023927778208549265, 1.3308313195178632, 1.7876580854721933, 0.2451964611789251, 1.2118584926223146, 0.9248978298938114, 0.6288037532284884, -0.9100452231862963, 1.220958319165513, -1.6651481255255152, -0.5539365894845161, 0.476772125380621, -0.29208337178506877, -0.19850216763491732, -0.3700241457675619, 0.06157123485305369, -0.4050632037003498, 0.21639500673184853, -0.46978851354341283, 0.40580983625952316, 0.1764522083787632, 0.38955028416042864, 0.9408047258772444, -0.18997999970519125, -1.9449951189881642, -1.1208996812792928, -0.08301743154608002, 0.7046389281930101, 0.6288921709972379, 0.6154250225584101, 0.6081757181318705, 0.11518836746403047, -0.07670629986561184, 0.9372166992044042, 0.15515784635335986, -0.5456248795256357, 1.5648090855472, 0.25847007703544206, 0.15517839738747133, 0.7837265744617542, -0.8105920661399413, -0.5514826145921592, -1.2759353061903793, 2.141008033228579, -0.34105574668218674, 1.2630246771691185, 0.5154608994903594], \"yaxis\": \"y10\"}, {\"histfunc\": \"count\", \"histnorm\": \"\", \"marker\": {\"color\": \"rgba(50, 171, 96, 1.0)\", \"line\": {\"color\": \"#4D5663\", \"width\": 1.3}}, \"name\": \"C\", \"nbinsx\": 10, \"opacity\": 0.8, \"orientation\": \"v\", \"type\": \"histogram\", \"x\": [-1.3006439390419213, -1.5869428894916857, 1.6584156322277297, 1.1454895984758002, 0.26305874170738214, 0.18169075545795593, 2.049882895147626, 0.9751021242023927, 0.49763035924651966, -0.2699429415928433, -0.12043157616536791, 1.4374498713562214, 0.20900235766331843, 0.6556675674759445, 1.8973297280603958, 0.8427255482081416, 1.7082547812460323, 0.017750429306643205, 0.4500499325582488, -0.8538785358257017, 0.06917465193911768, -0.8457428228603481, -0.39300748236144395, -0.049818025916309176, 0.3420255676571834, 0.6466404435436525, -0.20063447291984013, -1.508460519468425, -1.0609201044304024, -0.12145840112153206, -0.20405058682302613, -1.881772150723473, 2.3835496250831536, 0.17966391898446107, -0.617124798099804, -1.6380122871760459, -0.4579325651942999, -0.8902809656395981, -1.225913121433058, 0.3381736947527816, -0.35181278122228776, 1.1708823544188276, 0.06242773220790924, 0.605154909058938, 1.194665184679022, 1.799703514124367, 1.0415031625574367, 0.5172321467735154, 1.2326986939789457, 0.5767693425208671, -0.0810318735326804, -1.181117253724347, 0.591798697179144, 0.023927778208549265, 1.3308313195178632, 1.7876580854721933, 0.2451964611789251, 1.2118584926223146, 0.9248978298938114, 0.6288037532284884, -0.9100452231862963, 1.220958319165513, -1.6651481255255152, -0.5539365894845161, 0.476772125380621, -0.29208337178506877, -0.19850216763491732, -0.3700241457675619, 0.06157123485305369, -0.4050632037003498, 0.21639500673184853, -0.46978851354341283, 0.40580983625952316, 0.1764522083787632, 0.38955028416042864, 0.9408047258772444, -0.18997999970519125, -1.9449951189881642, -1.1208996812792928, -0.08301743154608002, 0.7046389281930101, 0.6288921709972379, 0.6154250225584101, 0.6081757181318705, 0.11518836746403047, -0.07670629986561184, 0.9372166992044042, 0.15515784635335986, -0.5456248795256357, 1.5648090855472, 0.25847007703544206, 0.15517839738747133, 0.7837265744617542, -0.8105920661399413, -0.5514826145921592, -1.2759353061903793, 2.141008033228579, -0.34105574668218674, 1.2630246771691185, 0.5154608994903594], \"xaxis\": \"x11\", \"yaxis\": \"y11\"}, {\"line\": {\"color\": \"rgba(128, 128, 128, 1.0)\", \"dash\": \"solid\", \"shape\": \"linear\", \"width\": 1.3}, \"marker\": {\"size\": 2, \"symbol\": \"circle\"}, \"mode\": \"markers\", \"name\": \"C\", \"text\": \"\", \"type\": \"scatter\", \"x\": [0.920800150226663, -1.31273310100431, -0.2506892666572051, -0.14472307540744628, -1.2671642900969546, -0.7208061556399158, -1.0978180728006743, 1.7102122683250764, 0.04282512146048713, -0.9056334644821414, -0.050215363787716745, 0.2284892428698987, -0.3414428231936035, 0.005451354144702166, -0.12508070732114435, -0.8798089672156296, 0.7449764381376779, 1.5493563424845054, 0.03306304488813176, 0.2146737740544726, 0.8651591037433622, 0.8125359794252041, -0.14569911963245671, -1.2458812204011198, 0.5834898622859467, 0.3100124177206263, 0.6272890177863465, -0.29748883022681855, -0.5612135998486016, -1.9551407722741936, 0.8886050149854016, -0.17185888595459797, 1.4666887549456646, 1.0881281001401026, -0.43424006988001335, 0.8057521728223583, -0.6940338012932591, -1.2896955806292065, -0.3596415442686988, 0.5149363316465175, -0.5301961460413503, -0.20401316513175657, -0.5396877882312896, 0.02562575012816123, 0.7618331667986569, 1.5094278940479409, 0.1545270842243974, 0.31791293745335153, -1.1215459801368062, -0.7317589899206769, 0.9081389449079212, 0.2637652289834318, 0.4683325836298606, -0.7138212114938386, 0.17289276195379755, -0.5633287591229841, 0.40064279577768613, -0.4251129861233925, 0.7413545596064026, -0.16076512298317275, 0.794455744262156, -1.6701165173213774, 0.7879498653508518, 1.0848592821401286, 1.524091492332574, -0.3462545381815603, -1.3096185877625999, -0.21566138689762632, -0.08197268678068677, 0.07742914487239234, -0.025368265087929606, -1.3432087948898332, -0.49084669754529275, -1.0072800160286641, -1.5470280154425398, 1.0161098110676825, 0.0643882130791756, -0.18467387945435096, 1.0371198404394766, 0.887929312910137, -0.3055252760885695, 0.8115488749915565, 1.5485055022421659, -1.1159776392689102, 1.0733571335849768, 1.672702413665626, 0.1932863446240364, -0.3836004921065508, 0.6620887056422244, 0.386748415432396, 0.12411791182120754, 1.119767331714733, -0.9831014734559389, 0.40407160429411626, -0.030106735843152228, 0.16912959026382893, 0.8779644568785554, -1.4129792359828843, 0.6302328966401511, -0.1536331124963864], \"xaxis\": \"x12\", \"y\": [-1.3006439390419213, -1.5869428894916857, 1.6584156322277297, 1.1454895984758002, 0.26305874170738214, 0.18169075545795593, 2.049882895147626, 0.9751021242023927, 0.49763035924651966, -0.2699429415928433, -0.12043157616536791, 1.4374498713562214, 0.20900235766331843, 0.6556675674759445, 1.8973297280603958, 0.8427255482081416, 1.7082547812460323, 0.017750429306643205, 0.4500499325582488, -0.8538785358257017, 0.06917465193911768, -0.8457428228603481, -0.39300748236144395, -0.049818025916309176, 0.3420255676571834, 0.6466404435436525, -0.20063447291984013, -1.508460519468425, -1.0609201044304024, -0.12145840112153206, -0.20405058682302613, -1.881772150723473, 2.3835496250831536, 0.17966391898446107, -0.617124798099804, -1.6380122871760459, -0.4579325651942999, -0.8902809656395981, -1.225913121433058, 0.3381736947527816, -0.35181278122228776, 1.1708823544188276, 0.06242773220790924, 0.605154909058938, 1.194665184679022, 1.799703514124367, 1.0415031625574367, 0.5172321467735154, 1.2326986939789457, 0.5767693425208671, -0.0810318735326804, -1.181117253724347, 0.591798697179144, 0.023927778208549265, 1.3308313195178632, 1.7876580854721933, 0.2451964611789251, 1.2118584926223146, 0.9248978298938114, 0.6288037532284884, -0.9100452231862963, 1.220958319165513, -1.6651481255255152, -0.5539365894845161, 0.476772125380621, -0.29208337178506877, -0.19850216763491732, -0.3700241457675619, 0.06157123485305369, -0.4050632037003498, 0.21639500673184853, -0.46978851354341283, 0.40580983625952316, 0.1764522083787632, 0.38955028416042864, 0.9408047258772444, -0.18997999970519125, -1.9449951189881642, -1.1208996812792928, -0.08301743154608002, 0.7046389281930101, 0.6288921709972379, 0.6154250225584101, 0.6081757181318705, 0.11518836746403047, -0.07670629986561184, 0.9372166992044042, 0.15515784635335986, -0.5456248795256357, 1.5648090855472, 0.25847007703544206, 0.15517839738747133, 0.7837265744617542, -0.8105920661399413, -0.5514826145921592, -1.2759353061903793, 2.141008033228579, -0.34105574668218674, 1.2630246771691185, 0.5154608994903594], \"yaxis\": \"y12\"}, {\"line\": {\"color\": \"rgba(128, 128, 128, 1.0)\", \"dash\": \"solid\", \"shape\": \"linear\", \"width\": 1.3}, \"marker\": {\"size\": 2, \"symbol\": \"circle\"}, \"mode\": \"markers\", \"name\": \"D\", \"text\": \"\", \"type\": \"scatter\", \"x\": [1.461893770697725, -2.031160136012203, 0.9383409670828389, -1.0813533287292119, 0.06490918815450783, 1.8950072332017274, -0.8714365596373268, -0.13074620114977334, -1.0923246928318198, -0.3760998942311332, -0.5361900499629562, 0.42029273811322426, 0.879026444738448, 0.17853057276926443, -1.4226047615565995, -0.38553936634836816, 0.9254705828347399, 0.8974413892643344, 1.3593724162723089, 0.41746771734852006, -0.1947229051061254, -0.4999893146137153, -0.4502113162411071, -1.1360014209107259, 0.1844178473890677, 1.5753255655453786, 0.4753674301421128, 1.635707798585372, -1.9187025770275, -0.19910344350673406, 2.285995703848697, -0.18915231953896097, 1.0665423877986695, -0.7269122934267687, 0.36224915062873836, -1.5625689349152296, -1.1362220420755846, -0.529376570887139, -0.1934547257057624, -1.9720439485780432, -0.2710830596477481, -0.7385696963294917, -0.29410090049820914, -0.22419206878488449, 0.1508245116866706, -0.6057299795009865, 0.3191505714649677, -0.1976198986566658, 1.093282680008958, -1.0799453836674373, -0.3616335539043888, 1.6107952178764182, -0.5891018790468924, 0.7666351833383529, 0.32222045304544167, -1.6872013582758036, -0.3720711616276398, 1.3420408631947918, 0.4239471624717882, 0.48424327553353297, -1.5961692749707352, 0.5882171437466279, 0.6566669461687532, -1.9603468546639706, 0.42870138393368024, -0.1978041090111149, 0.05723177511114498, 0.4475509991023478, 0.662730871880016, -1.796202287216889, 0.7165184267275085, 0.3326216988143618, -0.8140493568522115, -1.247832137911998, 0.9859507943329427, 1.1948398652848742, -2.145947615545814, 0.5339270311517821, 0.10249930114413236, -0.8916324021834575, 0.41078863879970284, -0.49795290561896394, -1.155769242450663, 0.781716927247144, 1.6136963240432758, -0.7802444642438957, -1.492354210417422, 0.2299947473973307, 0.50259957066577, -0.16700157611497873, 0.8226788892451177, 2.982546810969779, 3.0055258787254777, 1.3661389107738293, 0.5470135690673502, 0.5968793086096759, -0.14023490153269502, -0.8605446276038548, -1.5963739249397044, -1.444803862861764], \"xaxis\": \"x13\", \"y\": [0.920800150226663, -1.31273310100431, -0.2506892666572051, -0.14472307540744628, -1.2671642900969546, -0.7208061556399158, -1.0978180728006743, 1.7102122683250764, 0.04282512146048713, -0.9056334644821414, -0.050215363787716745, 0.2284892428698987, -0.3414428231936035, 0.005451354144702166, -0.12508070732114435, -0.8798089672156296, 0.7449764381376779, 1.5493563424845054, 0.03306304488813176, 0.2146737740544726, 0.8651591037433622, 0.8125359794252041, -0.14569911963245671, -1.2458812204011198, 0.5834898622859467, 0.3100124177206263, 0.6272890177863465, -0.29748883022681855, -0.5612135998486016, -1.9551407722741936, 0.8886050149854016, -0.17185888595459797, 1.4666887549456646, 1.0881281001401026, -0.43424006988001335, 0.8057521728223583, -0.6940338012932591, -1.2896955806292065, -0.3596415442686988, 0.5149363316465175, -0.5301961460413503, -0.20401316513175657, -0.5396877882312896, 0.02562575012816123, 0.7618331667986569, 1.5094278940479409, 0.1545270842243974, 0.31791293745335153, -1.1215459801368062, -0.7317589899206769, 0.9081389449079212, 0.2637652289834318, 0.4683325836298606, -0.7138212114938386, 0.17289276195379755, -0.5633287591229841, 0.40064279577768613, -0.4251129861233925, 0.7413545596064026, -0.16076512298317275, 0.794455744262156, -1.6701165173213774, 0.7879498653508518, 1.0848592821401286, 1.524091492332574, -0.3462545381815603, -1.3096185877625999, -0.21566138689762632, -0.08197268678068677, 0.07742914487239234, -0.025368265087929606, -1.3432087948898332, -0.49084669754529275, -1.0072800160286641, -1.5470280154425398, 1.0161098110676825, 0.0643882130791756, -0.18467387945435096, 1.0371198404394766, 0.887929312910137, -0.3055252760885695, 0.8115488749915565, 1.5485055022421659, -1.1159776392689102, 1.0733571335849768, 1.672702413665626, 0.1932863446240364, -0.3836004921065508, 0.6620887056422244, 0.386748415432396, 0.12411791182120754, 1.119767331714733, -0.9831014734559389, 0.40407160429411626, -0.030106735843152228, 0.16912959026382893, 0.8779644568785554, -1.4129792359828843, 0.6302328966401511, -0.1536331124963864], \"yaxis\": \"y13\"}, {\"line\": {\"color\": \"rgba(128, 128, 128, 1.0)\", \"dash\": \"solid\", \"shape\": \"linear\", \"width\": 1.3}, \"marker\": {\"size\": 2, \"symbol\": \"circle\"}, \"mode\": \"markers\", \"name\": \"D\", \"text\": \"\", \"type\": \"scatter\", \"x\": [0.034821286830913595, -0.18465032640783027, -0.14559546878046986, 0.5188969049323175, -0.13523853126955251, 0.4318092832469963, 0.4325114508880798, 0.8998324403091219, 0.9869125426600849, -0.8835232633714301, -2.3386192321621593, -1.6118761339264471, 0.10490498434779806, -0.11092067933578692, 0.1497009282397037, 0.21076101732022792, 0.39342478099064543, 0.09132770586791539, 0.2235968602504518, 0.5677210023540927, -1.0883412917672228, -1.8634393578585162, 2.071587906399981, -0.2801596751511832, 0.12974489483726634, -0.03866485905727695, -0.03705076808737536, 0.266357287604477, -0.7895322783647806, -0.1313370074749674, 0.29259171698821895, -0.9007171494773731, -0.44891096939266245, 1.008360713707377, 0.7022439971995453, -0.7388691932128125, -1.4161292923720754, 0.6474949831892831, 0.47941356849780564, -0.2226059661427326, 0.7618380699786111, -0.4477183007832323, -1.631693115173997, -0.09544522195089203, 0.38537878900500644, -1.6441145363155063, 0.21192444622315587, 0.4511506586037992, -0.48756326634889624, -0.21143097507909714, -0.5064990676682648, -1.0304321937806444, -0.019262704289807565, -1.604129921098689, -0.7383698476057221, 1.3744145867047832, -0.6875300541608018, -1.432387014408365, -1.0911982035031977, -0.13054703854233995, 1.1149311389889858, 0.9001591157267788, -0.027854177862134483, 1.2499369055465825, -1.2563150649919035, -1.090926431089866, -0.17154256161045614, 0.40402861851447225, -0.4517637786378383, -0.5959254526808988, -0.22125715901868098, 0.5929169086168804, -0.949141669608413, 1.1757531398322179, -2.0803217164995567, 1.4384986621172728, -2.855634131971656, 2.50215174769151, -0.6929526624471934, -1.6328247656936599, 0.2698539871691669, -0.07005116943214082, 1.6175284729997843, 0.320895211020274, 1.1316523527374969, 0.7552513179923331, -0.5942685588961929, -1.6287220322329163, -0.8798472555314089, -0.9907060380812681, 1.9345505655688178, -2.332218944909156, -1.056372116065171, 0.7409704824269928, -1.080315368386018, -0.8325915945468163, 1.9969983133617488, -1.0556709675869194, -0.4863793541163955, 1.0783741055559404], \"xaxis\": \"x14\", \"y\": [0.920800150226663, -1.31273310100431, -0.2506892666572051, -0.14472307540744628, -1.2671642900969546, -0.7208061556399158, -1.0978180728006743, 1.7102122683250764, 0.04282512146048713, -0.9056334644821414, -0.050215363787716745, 0.2284892428698987, -0.3414428231936035, 0.005451354144702166, -0.12508070732114435, -0.8798089672156296, 0.7449764381376779, 1.5493563424845054, 0.03306304488813176, 0.2146737740544726, 0.8651591037433622, 0.8125359794252041, -0.14569911963245671, -1.2458812204011198, 0.5834898622859467, 0.3100124177206263, 0.6272890177863465, -0.29748883022681855, -0.5612135998486016, -1.9551407722741936, 0.8886050149854016, -0.17185888595459797, 1.4666887549456646, 1.0881281001401026, -0.43424006988001335, 0.8057521728223583, -0.6940338012932591, -1.2896955806292065, -0.3596415442686988, 0.5149363316465175, -0.5301961460413503, -0.20401316513175657, -0.5396877882312896, 0.02562575012816123, 0.7618331667986569, 1.5094278940479409, 0.1545270842243974, 0.31791293745335153, -1.1215459801368062, -0.7317589899206769, 0.9081389449079212, 0.2637652289834318, 0.4683325836298606, -0.7138212114938386, 0.17289276195379755, -0.5633287591229841, 0.40064279577768613, -0.4251129861233925, 0.7413545596064026, -0.16076512298317275, 0.794455744262156, -1.6701165173213774, 0.7879498653508518, 1.0848592821401286, 1.524091492332574, -0.3462545381815603, -1.3096185877625999, -0.21566138689762632, -0.08197268678068677, 0.07742914487239234, -0.025368265087929606, -1.3432087948898332, -0.49084669754529275, -1.0072800160286641, -1.5470280154425398, 1.0161098110676825, 0.0643882130791756, -0.18467387945435096, 1.0371198404394766, 0.887929312910137, -0.3055252760885695, 0.8115488749915565, 1.5485055022421659, -1.1159776392689102, 1.0733571335849768, 1.672702413665626, 0.1932863446240364, -0.3836004921065508, 0.6620887056422244, 0.386748415432396, 0.12411791182120754, 1.119767331714733, -0.9831014734559389, 0.40407160429411626, -0.030106735843152228, 0.16912959026382893, 0.8779644568785554, -1.4129792359828843, 0.6302328966401511, -0.1536331124963864], \"yaxis\": \"y14\"}, {\"line\": {\"color\": \"rgba(128, 128, 128, 1.0)\", \"dash\": \"solid\", \"shape\": \"linear\", \"width\": 1.3}, \"marker\": {\"size\": 2, \"symbol\": \"circle\"}, \"mode\": \"markers\", \"name\": \"D\", \"text\": \"\", \"type\": \"scatter\", \"x\": [-1.3006439390419213, -1.5869428894916857, 1.6584156322277297, 1.1454895984758002, 0.26305874170738214, 0.18169075545795593, 2.049882895147626, 0.9751021242023927, 0.49763035924651966, -0.2699429415928433, -0.12043157616536791, 1.4374498713562214, 0.20900235766331843, 0.6556675674759445, 1.8973297280603958, 0.8427255482081416, 1.7082547812460323, 0.017750429306643205, 0.4500499325582488, -0.8538785358257017, 0.06917465193911768, -0.8457428228603481, -0.39300748236144395, -0.049818025916309176, 0.3420255676571834, 0.6466404435436525, -0.20063447291984013, -1.508460519468425, -1.0609201044304024, -0.12145840112153206, -0.20405058682302613, -1.881772150723473, 2.3835496250831536, 0.17966391898446107, -0.617124798099804, -1.6380122871760459, -0.4579325651942999, -0.8902809656395981, -1.225913121433058, 0.3381736947527816, -0.35181278122228776, 1.1708823544188276, 0.06242773220790924, 0.605154909058938, 1.194665184679022, 1.799703514124367, 1.0415031625574367, 0.5172321467735154, 1.2326986939789457, 0.5767693425208671, -0.0810318735326804, -1.181117253724347, 0.591798697179144, 0.023927778208549265, 1.3308313195178632, 1.7876580854721933, 0.2451964611789251, 1.2118584926223146, 0.9248978298938114, 0.6288037532284884, -0.9100452231862963, 1.220958319165513, -1.6651481255255152, -0.5539365894845161, 0.476772125380621, -0.29208337178506877, -0.19850216763491732, -0.3700241457675619, 0.06157123485305369, -0.4050632037003498, 0.21639500673184853, -0.46978851354341283, 0.40580983625952316, 0.1764522083787632, 0.38955028416042864, 0.9408047258772444, -0.18997999970519125, -1.9449951189881642, -1.1208996812792928, -0.08301743154608002, 0.7046389281930101, 0.6288921709972379, 0.6154250225584101, 0.6081757181318705, 0.11518836746403047, -0.07670629986561184, 0.9372166992044042, 0.15515784635335986, -0.5456248795256357, 1.5648090855472, 0.25847007703544206, 0.15517839738747133, 0.7837265744617542, -0.8105920661399413, -0.5514826145921592, -1.2759353061903793, 2.141008033228579, -0.34105574668218674, 1.2630246771691185, 0.5154608994903594], \"xaxis\": \"x15\", \"y\": [0.920800150226663, -1.31273310100431, -0.2506892666572051, -0.14472307540744628, -1.2671642900969546, -0.7208061556399158, -1.0978180728006743, 1.7102122683250764, 0.04282512146048713, -0.9056334644821414, -0.050215363787716745, 0.2284892428698987, -0.3414428231936035, 0.005451354144702166, -0.12508070732114435, -0.8798089672156296, 0.7449764381376779, 1.5493563424845054, 0.03306304488813176, 0.2146737740544726, 0.8651591037433622, 0.8125359794252041, -0.14569911963245671, -1.2458812204011198, 0.5834898622859467, 0.3100124177206263, 0.6272890177863465, -0.29748883022681855, -0.5612135998486016, -1.9551407722741936, 0.8886050149854016, -0.17185888595459797, 1.4666887549456646, 1.0881281001401026, -0.43424006988001335, 0.8057521728223583, -0.6940338012932591, -1.2896955806292065, -0.3596415442686988, 0.5149363316465175, -0.5301961460413503, -0.20401316513175657, -0.5396877882312896, 0.02562575012816123, 0.7618331667986569, 1.5094278940479409, 0.1545270842243974, 0.31791293745335153, -1.1215459801368062, -0.7317589899206769, 0.9081389449079212, 0.2637652289834318, 0.4683325836298606, -0.7138212114938386, 0.17289276195379755, -0.5633287591229841, 0.40064279577768613, -0.4251129861233925, 0.7413545596064026, -0.16076512298317275, 0.794455744262156, -1.6701165173213774, 0.7879498653508518, 1.0848592821401286, 1.524091492332574, -0.3462545381815603, -1.3096185877625999, -0.21566138689762632, -0.08197268678068677, 0.07742914487239234, -0.025368265087929606, -1.3432087948898332, -0.49084669754529275, -1.0072800160286641, -1.5470280154425398, 1.0161098110676825, 0.0643882130791756, -0.18467387945435096, 1.0371198404394766, 0.887929312910137, -0.3055252760885695, 0.8115488749915565, 1.5485055022421659, -1.1159776392689102, 1.0733571335849768, 1.672702413665626, 0.1932863446240364, -0.3836004921065508, 0.6620887056422244, 0.386748415432396, 0.12411791182120754, 1.119767331714733, -0.9831014734559389, 0.40407160429411626, -0.030106735843152228, 0.16912959026382893, 0.8779644568785554, -1.4129792359828843, 0.6302328966401511, -0.1536331124963864], \"yaxis\": \"y15\"}, {\"histfunc\": \"count\", \"histnorm\": \"\", \"marker\": {\"color\": \"rgba(128, 0, 128, 1.0)\", \"line\": {\"color\": \"#4D5663\", \"width\": 1.3}}, \"name\": \"D\", \"nbinsx\": 10, \"opacity\": 0.8, \"orientation\": \"v\", \"type\": \"histogram\", \"x\": [0.920800150226663, -1.31273310100431, -0.2506892666572051, -0.14472307540744628, -1.2671642900969546, -0.7208061556399158, -1.0978180728006743, 1.7102122683250764, 0.04282512146048713, -0.9056334644821414, -0.050215363787716745, 0.2284892428698987, -0.3414428231936035, 0.005451354144702166, -0.12508070732114435, -0.8798089672156296, 0.7449764381376779, 1.5493563424845054, 0.03306304488813176, 0.2146737740544726, 0.8651591037433622, 0.8125359794252041, -0.14569911963245671, -1.2458812204011198, 0.5834898622859467, 0.3100124177206263, 0.6272890177863465, -0.29748883022681855, -0.5612135998486016, -1.9551407722741936, 0.8886050149854016, -0.17185888595459797, 1.4666887549456646, 1.0881281001401026, -0.43424006988001335, 0.8057521728223583, -0.6940338012932591, -1.2896955806292065, -0.3596415442686988, 0.5149363316465175, -0.5301961460413503, -0.20401316513175657, -0.5396877882312896, 0.02562575012816123, 0.7618331667986569, 1.5094278940479409, 0.1545270842243974, 0.31791293745335153, -1.1215459801368062, -0.7317589899206769, 0.9081389449079212, 0.2637652289834318, 0.4683325836298606, -0.7138212114938386, 0.17289276195379755, -0.5633287591229841, 0.40064279577768613, -0.4251129861233925, 0.7413545596064026, -0.16076512298317275, 0.794455744262156, -1.6701165173213774, 0.7879498653508518, 1.0848592821401286, 1.524091492332574, -0.3462545381815603, -1.3096185877625999, -0.21566138689762632, -0.08197268678068677, 0.07742914487239234, -0.025368265087929606, -1.3432087948898332, -0.49084669754529275, -1.0072800160286641, -1.5470280154425398, 1.0161098110676825, 0.0643882130791756, -0.18467387945435096, 1.0371198404394766, 0.887929312910137, -0.3055252760885695, 0.8115488749915565, 1.5485055022421659, -1.1159776392689102, 1.0733571335849768, 1.672702413665626, 0.1932863446240364, -0.3836004921065508, 0.6620887056422244, 0.386748415432396, 0.12411791182120754, 1.119767331714733, -0.9831014734559389, 0.40407160429411626, -0.030106735843152228, 0.16912959026382893, 0.8779644568785554, -1.4129792359828843, 0.6302328966401511, -0.1536331124963864], \"xaxis\": \"x16\", \"yaxis\": \"y16\"}],                        {\"bargap\": 0.02, \"legend\": {\"bgcolor\": \"#F5F6F9\", \"font\": {\"color\": \"#4D5663\"}}, \"paper_bgcolor\": \"#F5F6F9\", \"plot_bgcolor\": \"#F5F6F9\", \"showlegend\": false, \"template\": {\"data\": {\"bar\": [{\"error_x\": {\"color\": \"#2a3f5f\"}, \"error_y\": {\"color\": \"#2a3f5f\"}, \"marker\": {\"line\": {\"color\": \"#E5ECF6\", \"width\": 0.5}}, \"type\": \"bar\"}], \"barpolar\": [{\"marker\": {\"line\": {\"color\": \"#E5ECF6\", \"width\": 0.5}}, \"type\": \"barpolar\"}], \"carpet\": [{\"aaxis\": {\"endlinecolor\": \"#2a3f5f\", \"gridcolor\": \"white\", \"linecolor\": \"white\", \"minorgridcolor\": \"white\", \"startlinecolor\": \"#2a3f5f\"}, \"baxis\": {\"endlinecolor\": \"#2a3f5f\", \"gridcolor\": \"white\", \"linecolor\": \"white\", \"minorgridcolor\": \"white\", \"startlinecolor\": \"#2a3f5f\"}, \"type\": \"carpet\"}], \"choropleth\": [{\"colorbar\": {\"outlinewidth\": 0, \"ticks\": \"\"}, \"type\": \"choropleth\"}], \"contour\": [{\"colorbar\": {\"outlinewidth\": 0, \"ticks\": \"\"}, \"colorscale\": [[0.0, \"#0d0887\"], [0.1111111111111111, \"#46039f\"], [0.2222222222222222, \"#7201a8\"], [0.3333333333333333, \"#9c179e\"], [0.4444444444444444, \"#bd3786\"], [0.5555555555555556, \"#d8576b\"], [0.6666666666666666, \"#ed7953\"], [0.7777777777777778, \"#fb9f3a\"], [0.8888888888888888, \"#fdca26\"], [1.0, \"#f0f921\"]], \"type\": \"contour\"}], \"contourcarpet\": [{\"colorbar\": {\"outlinewidth\": 0, \"ticks\": \"\"}, \"type\": \"contourcarpet\"}], \"heatmap\": [{\"colorbar\": {\"outlinewidth\": 0, \"ticks\": \"\"}, \"colorscale\": [[0.0, \"#0d0887\"], [0.1111111111111111, \"#46039f\"], [0.2222222222222222, \"#7201a8\"], [0.3333333333333333, \"#9c179e\"], [0.4444444444444444, \"#bd3786\"], [0.5555555555555556, \"#d8576b\"], [0.6666666666666666, \"#ed7953\"], [0.7777777777777778, \"#fb9f3a\"], [0.8888888888888888, \"#fdca26\"], [1.0, \"#f0f921\"]], \"type\": \"heatmap\"}], \"heatmapgl\": [{\"colorbar\": {\"outlinewidth\": 0, \"ticks\": \"\"}, \"colorscale\": [[0.0, \"#0d0887\"], [0.1111111111111111, \"#46039f\"], [0.2222222222222222, \"#7201a8\"], [0.3333333333333333, \"#9c179e\"], [0.4444444444444444, \"#bd3786\"], [0.5555555555555556, \"#d8576b\"], [0.6666666666666666, \"#ed7953\"], [0.7777777777777778, \"#fb9f3a\"], [0.8888888888888888, \"#fdca26\"], [1.0, \"#f0f921\"]], \"type\": \"heatmapgl\"}], \"histogram\": [{\"marker\": {\"colorbar\": {\"outlinewidth\": 0, \"ticks\": \"\"}}, \"type\": \"histogram\"}], \"histogram2d\": [{\"colorbar\": {\"outlinewidth\": 0, \"ticks\": \"\"}, \"colorscale\": [[0.0, \"#0d0887\"], [0.1111111111111111, \"#46039f\"], [0.2222222222222222, \"#7201a8\"], [0.3333333333333333, \"#9c179e\"], [0.4444444444444444, \"#bd3786\"], [0.5555555555555556, \"#d8576b\"], [0.6666666666666666, \"#ed7953\"], [0.7777777777777778, \"#fb9f3a\"], [0.8888888888888888, \"#fdca26\"], [1.0, \"#f0f921\"]], \"type\": \"histogram2d\"}], \"histogram2dcontour\": [{\"colorbar\": {\"outlinewidth\": 0, \"ticks\": \"\"}, \"colorscale\": [[0.0, \"#0d0887\"], [0.1111111111111111, \"#46039f\"], [0.2222222222222222, \"#7201a8\"], [0.3333333333333333, \"#9c179e\"], [0.4444444444444444, \"#bd3786\"], [0.5555555555555556, \"#d8576b\"], [0.6666666666666666, \"#ed7953\"], [0.7777777777777778, \"#fb9f3a\"], [0.8888888888888888, \"#fdca26\"], [1.0, \"#f0f921\"]], \"type\": \"histogram2dcontour\"}], \"mesh3d\": [{\"colorbar\": {\"outlinewidth\": 0, \"ticks\": \"\"}, \"type\": \"mesh3d\"}], \"parcoords\": [{\"line\": {\"colorbar\": {\"outlinewidth\": 0, \"ticks\": \"\"}}, \"type\": \"parcoords\"}], \"pie\": [{\"automargin\": true, \"type\": \"pie\"}], \"scatter\": [{\"marker\": {\"colorbar\": {\"outlinewidth\": 0, \"ticks\": \"\"}}, \"type\": \"scatter\"}], \"scatter3d\": [{\"line\": {\"colorbar\": {\"outlinewidth\": 0, \"ticks\": \"\"}}, \"marker\": {\"colorbar\": {\"outlinewidth\": 0, \"ticks\": \"\"}}, \"type\": \"scatter3d\"}], \"scattercarpet\": [{\"marker\": {\"colorbar\": {\"outlinewidth\": 0, \"ticks\": \"\"}}, \"type\": \"scattercarpet\"}], \"scattergeo\": [{\"marker\": {\"colorbar\": {\"outlinewidth\": 0, \"ticks\": \"\"}}, \"type\": \"scattergeo\"}], \"scattergl\": [{\"marker\": {\"colorbar\": {\"outlinewidth\": 0, \"ticks\": \"\"}}, \"type\": \"scattergl\"}], \"scattermapbox\": [{\"marker\": {\"colorbar\": {\"outlinewidth\": 0, \"ticks\": \"\"}}, \"type\": \"scattermapbox\"}], \"scatterpolar\": [{\"marker\": {\"colorbar\": {\"outlinewidth\": 0, \"ticks\": \"\"}}, \"type\": \"scatterpolar\"}], \"scatterpolargl\": [{\"marker\": {\"colorbar\": {\"outlinewidth\": 0, \"ticks\": \"\"}}, \"type\": \"scatterpolargl\"}], \"scatterternary\": [{\"marker\": {\"colorbar\": {\"outlinewidth\": 0, \"ticks\": \"\"}}, \"type\": \"scatterternary\"}], \"surface\": [{\"colorbar\": {\"outlinewidth\": 0, \"ticks\": \"\"}, \"colorscale\": [[0.0, \"#0d0887\"], [0.1111111111111111, \"#46039f\"], [0.2222222222222222, \"#7201a8\"], [0.3333333333333333, \"#9c179e\"], [0.4444444444444444, \"#bd3786\"], [0.5555555555555556, \"#d8576b\"], [0.6666666666666666, \"#ed7953\"], [0.7777777777777778, \"#fb9f3a\"], [0.8888888888888888, \"#fdca26\"], [1.0, \"#f0f921\"]], \"type\": \"surface\"}], \"table\": [{\"cells\": {\"fill\": {\"color\": \"#EBF0F8\"}, \"line\": {\"color\": \"white\"}}, \"header\": {\"fill\": {\"color\": \"#C8D4E3\"}, \"line\": {\"color\": \"white\"}}, \"type\": \"table\"}]}, \"layout\": {\"annotationdefaults\": {\"arrowcolor\": \"#2a3f5f\", \"arrowhead\": 0, \"arrowwidth\": 1}, \"autotypenumbers\": \"strict\", \"coloraxis\": {\"colorbar\": {\"outlinewidth\": 0, \"ticks\": \"\"}}, \"colorscale\": {\"diverging\": [[0, \"#8e0152\"], [0.1, \"#c51b7d\"], [0.2, \"#de77ae\"], [0.3, \"#f1b6da\"], [0.4, \"#fde0ef\"], [0.5, \"#f7f7f7\"], [0.6, \"#e6f5d0\"], [0.7, \"#b8e186\"], [0.8, \"#7fbc41\"], [0.9, \"#4d9221\"], [1, \"#276419\"]], \"sequential\": [[0.0, \"#0d0887\"], [0.1111111111111111, \"#46039f\"], [0.2222222222222222, \"#7201a8\"], [0.3333333333333333, \"#9c179e\"], [0.4444444444444444, \"#bd3786\"], [0.5555555555555556, \"#d8576b\"], [0.6666666666666666, \"#ed7953\"], [0.7777777777777778, \"#fb9f3a\"], [0.8888888888888888, \"#fdca26\"], [1.0, \"#f0f921\"]], \"sequentialminus\": [[0.0, \"#0d0887\"], [0.1111111111111111, \"#46039f\"], [0.2222222222222222, \"#7201a8\"], [0.3333333333333333, \"#9c179e\"], [0.4444444444444444, \"#bd3786\"], [0.5555555555555556, \"#d8576b\"], [0.6666666666666666, \"#ed7953\"], [0.7777777777777778, \"#fb9f3a\"], [0.8888888888888888, \"#fdca26\"], [1.0, \"#f0f921\"]]}, \"colorway\": [\"#636efa\", \"#EF553B\", \"#00cc96\", \"#ab63fa\", \"#FFA15A\", \"#19d3f3\", \"#FF6692\", \"#B6E880\", \"#FF97FF\", \"#FECB52\"], \"font\": {\"color\": \"#2a3f5f\"}, \"geo\": {\"bgcolor\": \"white\", \"lakecolor\": \"white\", \"landcolor\": \"#E5ECF6\", \"showlakes\": true, \"showland\": true, \"subunitcolor\": \"white\"}, \"hoverlabel\": {\"align\": \"left\"}, \"hovermode\": \"closest\", \"mapbox\": {\"style\": \"light\"}, \"paper_bgcolor\": \"white\", \"plot_bgcolor\": \"#E5ECF6\", \"polar\": {\"angularaxis\": {\"gridcolor\": \"white\", \"linecolor\": \"white\", \"ticks\": \"\"}, \"bgcolor\": \"#E5ECF6\", \"radialaxis\": {\"gridcolor\": \"white\", \"linecolor\": \"white\", \"ticks\": \"\"}}, \"scene\": {\"xaxis\": {\"backgroundcolor\": \"#E5ECF6\", \"gridcolor\": \"white\", \"gridwidth\": 2, \"linecolor\": \"white\", \"showbackground\": true, \"ticks\": \"\", \"zerolinecolor\": \"white\"}, \"yaxis\": {\"backgroundcolor\": \"#E5ECF6\", \"gridcolor\": \"white\", \"gridwidth\": 2, \"linecolor\": \"white\", \"showbackground\": true, \"ticks\": \"\", \"zerolinecolor\": \"white\"}, \"zaxis\": {\"backgroundcolor\": \"#E5ECF6\", \"gridcolor\": \"white\", \"gridwidth\": 2, \"linecolor\": \"white\", \"showbackground\": true, \"ticks\": \"\", \"zerolinecolor\": \"white\"}}, \"shapedefaults\": {\"line\": {\"color\": \"#2a3f5f\"}}, \"ternary\": {\"aaxis\": {\"gridcolor\": \"white\", \"linecolor\": \"white\", \"ticks\": \"\"}, \"baxis\": {\"gridcolor\": \"white\", \"linecolor\": \"white\", \"ticks\": \"\"}, \"bgcolor\": \"#E5ECF6\", \"caxis\": {\"gridcolor\": \"white\", \"linecolor\": \"white\", \"ticks\": \"\"}}, \"title\": {\"x\": 0.05}, \"xaxis\": {\"automargin\": true, \"gridcolor\": \"white\", \"linecolor\": \"white\", \"ticks\": \"\", \"title\": {\"standoff\": 15}, \"zerolinecolor\": \"white\", \"zerolinewidth\": 2}, \"yaxis\": {\"automargin\": true, \"gridcolor\": \"white\", \"linecolor\": \"white\", \"ticks\": \"\", \"title\": {\"standoff\": 15}, \"zerolinecolor\": \"white\", \"zerolinewidth\": 2}}}, \"title\": {\"font\": {\"color\": \"#4D5663\"}}, \"xaxis\": {\"anchor\": \"y\", \"domain\": [0.0, 0.2125], \"gridcolor\": \"#E1E5ED\", \"showgrid\": false, \"tickfont\": {\"color\": \"#4D5663\"}, \"title\": {\"font\": {\"color\": \"#4D5663\"}, \"text\": \"\"}, \"zerolinecolor\": \"#E1E5ED\"}, \"xaxis10\": {\"anchor\": \"y10\", \"domain\": [0.2625, 0.475], \"gridcolor\": \"#E1E5ED\", \"showgrid\": false, \"tickfont\": {\"color\": \"#4D5663\"}, \"title\": {\"font\": {\"color\": \"#4D5663\"}, \"text\": \"\"}, \"zerolinecolor\": \"#E1E5ED\"}, \"xaxis11\": {\"anchor\": \"y11\", \"domain\": [0.525, 0.7375], \"gridcolor\": \"#E1E5ED\", \"showgrid\": false, \"tickfont\": {\"color\": \"#4D5663\"}, \"title\": {\"font\": {\"color\": \"#4D5663\"}, \"text\": \"\"}, \"zerolinecolor\": \"#E1E5ED\"}, \"xaxis12\": {\"anchor\": \"y12\", \"domain\": [0.7875, 1.0], \"gridcolor\": \"#E1E5ED\", \"showgrid\": false, \"tickfont\": {\"color\": \"#4D5663\"}, \"title\": {\"font\": {\"color\": \"#4D5663\"}, \"text\": \"\"}, \"zerolinecolor\": \"#E1E5ED\"}, \"xaxis13\": {\"anchor\": \"y13\", \"domain\": [0.0, 0.2125], \"gridcolor\": \"#E1E5ED\", \"showgrid\": false, \"tickfont\": {\"color\": \"#4D5663\"}, \"title\": {\"font\": {\"color\": \"#4D5663\"}, \"text\": \"\"}, \"zerolinecolor\": \"#E1E5ED\"}, \"xaxis14\": {\"anchor\": \"y14\", \"domain\": [0.2625, 0.475], \"gridcolor\": \"#E1E5ED\", \"showgrid\": false, \"tickfont\": {\"color\": \"#4D5663\"}, \"title\": {\"font\": {\"color\": \"#4D5663\"}, \"text\": \"\"}, \"zerolinecolor\": \"#E1E5ED\"}, \"xaxis15\": {\"anchor\": \"y15\", \"domain\": [0.525, 0.7375], \"gridcolor\": \"#E1E5ED\", \"showgrid\": false, \"tickfont\": {\"color\": \"#4D5663\"}, \"title\": {\"font\": {\"color\": \"#4D5663\"}, \"text\": \"\"}, \"zerolinecolor\": \"#E1E5ED\"}, \"xaxis16\": {\"anchor\": \"y16\", \"domain\": [0.7875, 1.0], \"gridcolor\": \"#E1E5ED\", \"showgrid\": false, \"tickfont\": {\"color\": \"#4D5663\"}, \"title\": {\"font\": {\"color\": \"#4D5663\"}, \"text\": \"\"}, \"zerolinecolor\": \"#E1E5ED\"}, \"xaxis2\": {\"anchor\": \"y2\", \"domain\": [0.2625, 0.475], \"gridcolor\": \"#E1E5ED\", \"showgrid\": false, \"tickfont\": {\"color\": \"#4D5663\"}, \"title\": {\"font\": {\"color\": \"#4D5663\"}, \"text\": \"\"}, \"zerolinecolor\": \"#E1E5ED\"}, \"xaxis3\": {\"anchor\": \"y3\", \"domain\": [0.525, 0.7375], \"gridcolor\": \"#E1E5ED\", \"showgrid\": false, \"tickfont\": {\"color\": \"#4D5663\"}, \"title\": {\"font\": {\"color\": \"#4D5663\"}, \"text\": \"\"}, \"zerolinecolor\": \"#E1E5ED\"}, \"xaxis4\": {\"anchor\": \"y4\", \"domain\": [0.7875, 1.0], \"gridcolor\": \"#E1E5ED\", \"showgrid\": false, \"tickfont\": {\"color\": \"#4D5663\"}, \"title\": {\"font\": {\"color\": \"#4D5663\"}, \"text\": \"\"}, \"zerolinecolor\": \"#E1E5ED\"}, \"xaxis5\": {\"anchor\": \"y5\", \"domain\": [0.0, 0.2125], \"gridcolor\": \"#E1E5ED\", \"showgrid\": false, \"tickfont\": {\"color\": \"#4D5663\"}, \"title\": {\"font\": {\"color\": \"#4D5663\"}, \"text\": \"\"}, \"zerolinecolor\": \"#E1E5ED\"}, \"xaxis6\": {\"anchor\": \"y6\", \"domain\": [0.2625, 0.475], \"gridcolor\": \"#E1E5ED\", \"showgrid\": false, \"tickfont\": {\"color\": \"#4D5663\"}, \"title\": {\"font\": {\"color\": \"#4D5663\"}, \"text\": \"\"}, \"zerolinecolor\": \"#E1E5ED\"}, \"xaxis7\": {\"anchor\": \"y7\", \"domain\": [0.525, 0.7375], \"gridcolor\": \"#E1E5ED\", \"showgrid\": false, \"tickfont\": {\"color\": \"#4D5663\"}, \"title\": {\"font\": {\"color\": \"#4D5663\"}, \"text\": \"\"}, \"zerolinecolor\": \"#E1E5ED\"}, \"xaxis8\": {\"anchor\": \"y8\", \"domain\": [0.7875, 1.0], \"gridcolor\": \"#E1E5ED\", \"showgrid\": false, \"tickfont\": {\"color\": \"#4D5663\"}, \"title\": {\"font\": {\"color\": \"#4D5663\"}, \"text\": \"\"}, \"zerolinecolor\": \"#E1E5ED\"}, \"xaxis9\": {\"anchor\": \"y9\", \"domain\": [0.0, 0.2125], \"gridcolor\": \"#E1E5ED\", \"showgrid\": false, \"tickfont\": {\"color\": \"#4D5663\"}, \"title\": {\"font\": {\"color\": \"#4D5663\"}, \"text\": \"\"}, \"zerolinecolor\": \"#E1E5ED\"}, \"yaxis\": {\"anchor\": \"x\", \"domain\": [0.8025, 1.0], \"gridcolor\": \"#E1E5ED\", \"showgrid\": false, \"tickfont\": {\"color\": \"#4D5663\"}, \"title\": {\"font\": {\"color\": \"#4D5663\"}, \"text\": \"\"}, \"zerolinecolor\": \"#E1E5ED\"}, \"yaxis10\": {\"anchor\": \"x10\", \"domain\": [0.2675, 0.465], \"gridcolor\": \"#E1E5ED\", \"showgrid\": false, \"tickfont\": {\"color\": \"#4D5663\"}, \"title\": {\"font\": {\"color\": \"#4D5663\"}, \"text\": \"\"}, \"zerolinecolor\": \"#E1E5ED\"}, \"yaxis11\": {\"anchor\": \"x11\", \"domain\": [0.2675, 0.465], \"gridcolor\": \"#E1E5ED\", \"showgrid\": false, \"tickfont\": {\"color\": \"#4D5663\"}, \"title\": {\"font\": {\"color\": \"#4D5663\"}, \"text\": \"\"}, \"zerolinecolor\": \"#E1E5ED\"}, \"yaxis12\": {\"anchor\": \"x12\", \"domain\": [0.2675, 0.465], \"gridcolor\": \"#E1E5ED\", \"showgrid\": false, \"tickfont\": {\"color\": \"#4D5663\"}, \"title\": {\"font\": {\"color\": \"#4D5663\"}, \"text\": \"\"}, \"zerolinecolor\": \"#E1E5ED\"}, \"yaxis13\": {\"anchor\": \"x13\", \"domain\": [0.0, 0.1975], \"gridcolor\": \"#E1E5ED\", \"showgrid\": false, \"tickfont\": {\"color\": \"#4D5663\"}, \"title\": {\"font\": {\"color\": \"#4D5663\"}, \"text\": \"\"}, \"zerolinecolor\": \"#E1E5ED\"}, \"yaxis14\": {\"anchor\": \"x14\", \"domain\": [0.0, 0.1975], \"gridcolor\": \"#E1E5ED\", \"showgrid\": false, \"tickfont\": {\"color\": \"#4D5663\"}, \"title\": {\"font\": {\"color\": \"#4D5663\"}, \"text\": \"\"}, \"zerolinecolor\": \"#E1E5ED\"}, \"yaxis15\": {\"anchor\": \"x15\", \"domain\": [0.0, 0.1975], \"gridcolor\": \"#E1E5ED\", \"showgrid\": false, \"tickfont\": {\"color\": \"#4D5663\"}, \"title\": {\"font\": {\"color\": \"#4D5663\"}, \"text\": \"\"}, \"zerolinecolor\": \"#E1E5ED\"}, \"yaxis16\": {\"anchor\": \"x16\", \"domain\": [0.0, 0.1975], \"gridcolor\": \"#E1E5ED\", \"showgrid\": false, \"tickfont\": {\"color\": \"#4D5663\"}, \"title\": {\"font\": {\"color\": \"#4D5663\"}, \"text\": \"\"}, \"zerolinecolor\": \"#E1E5ED\"}, \"yaxis2\": {\"anchor\": \"x2\", \"domain\": [0.8025, 1.0], \"gridcolor\": \"#E1E5ED\", \"showgrid\": false, \"tickfont\": {\"color\": \"#4D5663\"}, \"title\": {\"font\": {\"color\": \"#4D5663\"}, \"text\": \"\"}, \"zerolinecolor\": \"#E1E5ED\"}, \"yaxis3\": {\"anchor\": \"x3\", \"domain\": [0.8025, 1.0], \"gridcolor\": \"#E1E5ED\", \"showgrid\": false, \"tickfont\": {\"color\": \"#4D5663\"}, \"title\": {\"font\": {\"color\": \"#4D5663\"}, \"text\": \"\"}, \"zerolinecolor\": \"#E1E5ED\"}, \"yaxis4\": {\"anchor\": \"x4\", \"domain\": [0.8025, 1.0], \"gridcolor\": \"#E1E5ED\", \"showgrid\": false, \"tickfont\": {\"color\": \"#4D5663\"}, \"title\": {\"font\": {\"color\": \"#4D5663\"}, \"text\": \"\"}, \"zerolinecolor\": \"#E1E5ED\"}, \"yaxis5\": {\"anchor\": \"x5\", \"domain\": [0.535, 0.7325], \"gridcolor\": \"#E1E5ED\", \"showgrid\": false, \"tickfont\": {\"color\": \"#4D5663\"}, \"title\": {\"font\": {\"color\": \"#4D5663\"}, \"text\": \"\"}, \"zerolinecolor\": \"#E1E5ED\"}, \"yaxis6\": {\"anchor\": \"x6\", \"domain\": [0.535, 0.7325], \"gridcolor\": \"#E1E5ED\", \"showgrid\": false, \"tickfont\": {\"color\": \"#4D5663\"}, \"title\": {\"font\": {\"color\": \"#4D5663\"}, \"text\": \"\"}, \"zerolinecolor\": \"#E1E5ED\"}, \"yaxis7\": {\"anchor\": \"x7\", \"domain\": [0.535, 0.7325], \"gridcolor\": \"#E1E5ED\", \"showgrid\": false, \"tickfont\": {\"color\": \"#4D5663\"}, \"title\": {\"font\": {\"color\": \"#4D5663\"}, \"text\": \"\"}, \"zerolinecolor\": \"#E1E5ED\"}, \"yaxis8\": {\"anchor\": \"x8\", \"domain\": [0.535, 0.7325], \"gridcolor\": \"#E1E5ED\", \"showgrid\": false, \"tickfont\": {\"color\": \"#4D5663\"}, \"title\": {\"font\": {\"color\": \"#4D5663\"}, \"text\": \"\"}, \"zerolinecolor\": \"#E1E5ED\"}, \"yaxis9\": {\"anchor\": \"x9\", \"domain\": [0.2675, 0.465], \"gridcolor\": \"#E1E5ED\", \"showgrid\": false, \"tickfont\": {\"color\": \"#4D5663\"}, \"title\": {\"font\": {\"color\": \"#4D5663\"}, \"text\": \"\"}, \"zerolinecolor\": \"#E1E5ED\"}},                        {\"showLink\": true, \"linkText\": \"Export to plot.ly\", \"plotlyServerURL\": \"https://plot.ly\", \"responsive\": true}                    ).then(function(){\n",
       "                            \n",
       "var gd = document.getElementById('c2219145-1c01-4000-8831-ea359877435e');\n",
       "var x = new MutationObserver(function (mutations, observer) {{\n",
       "        var display = window.getComputedStyle(gd).display;\n",
       "        if (!display || display === 'none') {{\n",
       "            console.log([gd, 'removed!']);\n",
       "            Plotly.purge(gd);\n",
       "            observer.disconnect();\n",
       "        }}\n",
       "}});\n",
       "\n",
       "// Listen for the removal of the full notebook cells\n",
       "var notebookContainer = gd.closest('#notebook-container');\n",
       "if (notebookContainer) {{\n",
       "    x.observe(notebookContainer, {childList: true});\n",
       "}}\n",
       "\n",
       "// Listen for the clearing of the current output cell\n",
       "var outputEl = gd.closest('.output');\n",
       "if (outputEl) {{\n",
       "    x.observe(outputEl, {childList: true});\n",
       "}}\n",
       "\n",
       "                        })                };                });            </script>        </div>"
      ]
     },
     "metadata": {},
     "output_type": "display_data"
    }
   ],
   "source": [
    "df.scatter_matrix()"
   ]
  }
 ],
 "metadata": {
  "kernelspec": {
   "display_name": "Python 3",
   "language": "python",
   "name": "python3"
  },
  "language_info": {
   "codemirror_mode": {
    "name": "ipython",
    "version": 3
   },
   "file_extension": ".py",
   "mimetype": "text/x-python",
   "name": "python",
   "nbconvert_exporter": "python",
   "pygments_lexer": "ipython3",
   "version": "3.8.5"
  }
 },
 "nbformat": 4,
 "nbformat_minor": 1
}
